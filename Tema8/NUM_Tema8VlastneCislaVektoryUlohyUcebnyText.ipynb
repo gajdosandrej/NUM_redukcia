{
 "cells": [
  {
   "cell_type": "markdown",
   "metadata": {},
   "source": [
    "**Autor:** Andrej Gajdoš  <br> \n",
    "_[Ústav matematických vied](https://www.upjs.sk/prirodovedecka-fakulta/ustav/umv/), [Prírodovedecká fakulta](https://www.upjs.sk/prirodovedecka-fakulta/), Univerzita Pavla Jozefa Šafárika v Košiciach,_ <br> \n",
    "email: [andrej.gajdos@upjs.sk](mailto:andrej.gajdos@upjs.sk)\n",
    "*** \n",
    "\n",
    "**_Tento materiál vznikol za podpory grantu VVGS-2022-2412._**\n",
    "\n",
    "***\n",
    "\n",
    "**<font size=6 color=gold> NUM: Téma 8 - Vlastné čísla a vlastné vektory matíc: úlohy k učebnému textu </font>** "
   ]
  },
  {
   "cell_type": "markdown",
   "metadata": {},
   "source": [
    "--- \n",
    "\n",
    "**1. K Vami zvolenej matici vypočítajte v Python-e čísla podmienenosti jej vlastných hodnôt. Nájdite tiež príklad matice, ktorá má i zle podmienené vlastné čísla (overte v Python-e).**"
   ]
  },
  {
   "cell_type": "code",
   "execution_count": null,
   "metadata": {},
   "outputs": [],
   "source": []
  },
  {
   "cell_type": "markdown",
   "metadata": {},
   "source": [
    "**2. Uvažujte maticu $\\mathbf{A}=\\begin{pmatrix}-4&14&0\\\\-5&13&0\\\\-1&0&2\\end{pmatrix}$, ktorej vlastné hodnoty sú $\\lambda_1=6$, $\\lambda_2=3$, $\\lambda_3=2$. Vezmite štartovací vektor $\\mathbf{x}_0=(1,1,1)'$ a vykonajte v Python-e  postupne 11 iterácií mocninnej metódy pre nájdenie aproximácie vlastného vektora prislúchajúceho dominantnému vlastnému číslu matice $\\mathbf{A}$. Dopočítajte tiež aproximáciu dominantného vlastného čísla. Porovnajte získané aproximácie s presnými hodnotami (pokiaľ možno).**"
   ]
  },
  {
   "cell_type": "code",
   "execution_count": null,
   "metadata": {},
   "outputs": [],
   "source": []
  },
  {
   "cell_type": "markdown",
   "metadata": {},
   "source": [
    "**3. Vymyslite maticu s násobným dominantným vlastným číslom a odkrokovaním v Pythone overte konvergenciu mocninovej metódy k príslušnému vlastnému vektoru i vlastnému číslu.**"
   ]
  },
  {
   "cell_type": "code",
   "execution_count": null,
   "metadata": {},
   "outputs": [],
   "source": []
  },
  {
   "cell_type": "markdown",
   "metadata": {},
   "source": [
    "**4. Uvažujte maticu $\\mathbf{A}=\\begin{pmatrix}0&0&1\\\\1&0&0\\\\0&1&0\\end{pmatrix}$, ktorej vlastné čísla sú $\\lambda_1=1$, $\\lambda_2=\\dfrac{1}{2}+\\dfrac{\\sqrt{3}}{2}i$, $\\lambda_3=\\dfrac{1}{2}-\\dfrac{\\sqrt{3}}{2}i$ (dominantné vlastné číslo nie je určené jednoznačne). Krokovaním výpočtov v Python-e preskúmajte konvergenciu mocninnej metódy.**"
   ]
  },
  {
   "cell_type": "code",
   "execution_count": null,
   "metadata": {},
   "outputs": [],
   "source": []
  },
  {
   "cell_type": "markdown",
   "metadata": {},
   "source": [
    "**5. Aké <font color=red> konkrétne </font> otázky máte k náplni študijných materiálov, ktoré by ste chceli na hodine prediskutovať?**"
   ]
  },
  {
   "cell_type": "code",
   "execution_count": null,
   "metadata": {},
   "outputs": [],
   "source": []
  }
 ],
 "metadata": {
  "kernelspec": {
   "display_name": "Python 3",
   "language": "python",
   "name": "python3"
  },
  "language_info": {
   "codemirror_mode": {
    "name": "ipython",
    "version": 3
   },
   "file_extension": ".py",
   "mimetype": "text/x-python",
   "name": "python",
   "nbconvert_exporter": "python",
   "pygments_lexer": "ipython3",
   "version": "3.7.3"
  },
  "varInspector": {
   "cols": {
    "lenName": 16,
    "lenType": 16,
    "lenVar": 40
   },
   "kernels_config": {
    "python": {
     "delete_cmd_postfix": "",
     "delete_cmd_prefix": "del ",
     "library": "var_list.py",
     "varRefreshCmd": "print(var_dic_list())"
    },
    "r": {
     "delete_cmd_postfix": ") ",
     "delete_cmd_prefix": "rm(",
     "library": "var_list.r",
     "varRefreshCmd": "cat(var_dic_list()) "
    }
   },
   "types_to_exclude": [
    "module",
    "function",
    "builtin_function_or_method",
    "instance",
    "_Feature"
   ],
   "window_display": false
  }
 },
 "nbformat": 4,
 "nbformat_minor": 2
}
