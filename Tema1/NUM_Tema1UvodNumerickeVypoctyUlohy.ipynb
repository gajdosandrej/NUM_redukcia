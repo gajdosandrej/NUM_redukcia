{
 "cells": [
  {
   "cell_type": "markdown",
   "metadata": {},
   "source": [
    "**Autor:** Andrej Gajdoš  <br> \n",
    "_[Ústav matematických vied](https://www.upjs.sk/prirodovedecka-fakulta/ustav/umv/), [Prírodovedecká fakulta](https://www.upjs.sk/prirodovedecka-fakulta/), Univerzita Pavla Jozefa Šafárika v Košiciach,_ <br> \n",
    "email: [andrej.gajdos@upjs.sk](mailto:andrej.gajdos@upjs.sk)\n",
    "*** \n",
    "\n",
    "**_Tento materiál vznikol za podpory grantu VVGS-2022-2412._**\n",
    "\n",
    "***\n",
    "\n",
    "**<font size=6 color=gold> NUM: Téma 1 - Úvod do numerických výpočtov: úlohy </font>** "
   ]
  },
  {
   "cell_type": "code",
   "execution_count": null,
   "metadata": {},
   "outputs": [],
   "source": [
    "# nacitanie potrebnych balikov v Python-e \n",
    "import math \n",
    "import numpy as np \n",
    "import sympy as sym \n",
    "import scipy as sci \n",
    "from decimal import Decimal\n",
    "from matplotlib import pyplot as plt"
   ]
  },
  {
   "cell_type": "markdown",
   "metadata": {},
   "source": [
    "---\n",
    "\n",
    "**1. Určte absolútnu a relatívnu chybu aproximácie čísla $p$ číslom $p^*$:** \n",
    "\n",
    "$$\\text{a) } p=\\pi,\\,p^*=22/7;\\qquad \\text{b) } p=\\pi,\\,p^*=3.1416;\\qquad \\text{c) } p=e,\\,p^*=2.718;\\qquad \\text{d) } p=\\sqrt{2},\\,p^*=1.414;$$\n",
    "\n",
    "$$\\text{e) } p=e^{10},\\,p^*=22000;\\qquad \\text{f) } p=10^{\\pi},\\,p^*=1400;\\qquad \\clubsuit\\,\\text{g) } p=8!,\\,p^*=39900;\\qquad \\text{h) } p=9!,\\,p^*=\\sqrt{18\\pi}(9/e)^9.$$"
   ]
  },
  {
   "cell_type": "code",
   "execution_count": null,
   "metadata": {},
   "outputs": [],
   "source": []
  },
  {
   "attachments": {
    "u1.PNG": {
     "image/png": "[encoded data removed]"
    }
   },
   "cell_type": "markdown",
   "metadata": {},
   "source": [
    "--- \n",
    "\n",
    "**$\\clubsuit$ 2. Nasledujúce strojové čísla s pohyblivou rádovou čiarkou sú zadané v 64-bitovom formáte s dvojnásobnou presnosťou. Nájdite ekvivalenty v desiatkovej sústave k týmto číslam (vyriešte c) ):** \n",
    "\n",
    "![u1.PNG](attachment:u1.PNG) \n"
   ]
  },
  {
   "cell_type": "code",
   "execution_count": null,
   "metadata": {},
   "outputs": [],
   "source": []
  },
  {
   "cell_type": "markdown",
   "metadata": {},
   "source": [
    "---\n",
    "\n",
    "**$\\clubsuit$ 3. Určte najbližšie menšie i väčšie dekadické číslo k číslam s pohyblivou rádovou čiarkou v predchádzajúcej úlohe.** \n"
   ]
  },
  {
   "cell_type": "code",
   "execution_count": null,
   "metadata": {},
   "outputs": [],
   "source": []
  },
  {
   "cell_type": "markdown",
   "metadata": {},
   "source": [
    "---\n",
    "\n",
    "**$\\clubsuit$ 4. Koľko operácií násobenia a sčítania je potrebných na výpočet sumy $\\displaystyle\\sum\\limits_{i=1}^{n}\\sum\\limits_{j=1}^{i}a_jb_j$ ? Zmeňte tvar uvedenej sumy tak, aby sa zredukoval celkový počet operácií. Porovnajte obidva prístupy z časového hľadiska v Pythone.** \n"
   ]
  },
  {
   "cell_type": "code",
   "execution_count": null,
   "metadata": {},
   "outputs": [],
   "source": []
  },
  {
   "cell_type": "markdown",
   "metadata": {},
   "source": [
    "--- \n",
    "\n",
    "**5. Vytvorte program, ktorý dostane na vstupe prirodzené číslo $n\\ge1$, ďalej čísla $x_0,x_1,\\ldots,x_n$ a tiež číslo $x$ a na výstupe vráti hodnotu súčinu $(x-x_0)(x-x_1)\\ldots(x-x_n)$.** \n"
   ]
  },
  {
   "cell_type": "code",
   "execution_count": null,
   "metadata": {},
   "outputs": [],
   "source": []
  },
  {
   "cell_type": "markdown",
   "metadata": {},
   "source": [
    "--- \n",
    "\n",
    "**6. Predpokladajte, že platí** \n",
    "\n",
    "$$\\dfrac{1-2x}{1-x+x^2}+\\dfrac{2x-4x^3}{1-x^2+x^4}+\\dfrac{4x^3-8x^7}{1-x^4+x^8}+\\ldots=\\dfrac{1+2x}{1+x+x^2},$$ \n",
    "\n",
    "pre $x<1$ a vezmime $x=0.25$. Napíšte program, ktorý určí počet členov na pravej strane uvedenej rovnosti, potrebných na to, aby sa pravá strana nelíšila od ľavej o viac ako $10^{-6}$. \n",
    "\n",
    "<font color=purple> EXTRA: Dokážte platnosť zadanej rovnosti. V prípade exaktnej argumentácie môžete získať jeden bonusový bod.  </font> "
   ]
  },
  {
   "cell_type": "code",
   "execution_count": null,
   "metadata": {},
   "outputs": [],
   "source": []
  },
  {
   "cell_type": "markdown",
   "metadata": {},
   "source": [
    "--- \n",
    "\n",
    "**7. Predpokladajte, že pre $x\\to0$ platí $F_1(x)=L_1+\\mathcal{O}(x^{\\alpha})$ a $F_2(x)=L_2+\\mathcal{O}(x^{\\beta})$. Ďalej nech $c_1$, $c_2$ sú nenulové konštanty a definujme $F(x)=c_1F_1(x)+c_2F_2(x)$, $G(x)=F_1(c_1x)+F_2(c_2x)$. Dokážte, že ak $\\gamma=\\mathrm{min}\\,\\{\\alpha,\\beta\\}$, potom**\n",
    "\n",
    "**$\\clubsuit$ a) $F(x)=c_1L_1+c_2L_2+\\mathcal{O}(x^\\gamma)$,**\n",
    "\n",
    "**b) $G(x)=L_1+L_2+\\mathcal{O}(x^\\gamma)$.**"
   ]
  },
  {
   "cell_type": "code",
   "execution_count": null,
   "metadata": {},
   "outputs": [],
   "source": []
  },
  {
   "cell_type": "markdown",
   "metadata": {},
   "source": [
    "---\n",
    "\n",
    "**$\\clubsuit$ 8. Postupnosť $\\{F_n\\}$ definovaná vzťahom $F_0=1$, $F_1=1$ a $F_{n+2}=F_n+F_{n+1}$ pre $n\\in\\{0,1,2,\\ldots\\}$ sa nazýva Fibonacciho postupnost. Tento vzor sa prirodzene vyskytuje u mnohých botanických druhov, najmä u tých s okvetnými lístkami alebo šupinami usporiadanými vo forme logaritmickej špirály. Uvažujte postupnosť $\\{x_n\\}$, kde $x_n=F_{n+1}/F_n$. Za predpokladu, že limita $\\lim\\limits_{n\\to\\infty}=x$ existuje, ukážte, že $x=\\left(1+\\sqrt{5}\\right)/2$. Toto číslo sa nazýva [zlatý rez](https://www.quark.sk/zlaty-rez-je-len-jedno-konkretne-cislo/).** "
   ]
  },
  {
   "cell_type": "code",
   "execution_count": null,
   "metadata": {},
   "outputs": [],
   "source": []
  },
  {
   "cell_type": "markdown",
   "metadata": {},
   "source": [
    "--- \n",
    "\n",
    "**$\\clubsuit$ 9. Fibonacciho postupnosť tiež vyhovuje nasledovnej rovnici** \n",
    "\n",
    "$$F_n\\equiv\\tilde{F}_n=\\dfrac{1}{\\sqrt{5}}\\left[\\left(\\dfrac{1+\\sqrt{5}}{2}\\right)^n-\\left(\\dfrac{1-\\sqrt{5}}{2}\\right)^n\\right].$$\n",
    "\n",
    "**a) Naprogramujte procedúru pre výpočet $F_{100}$. (podľa predošlej úlohy)**\n",
    "\n",
    "**b) Využite Python s pôvodnými nastaveniami na výpočet $\\tilde{F}_{100}$.** \n",
    "\n",
    "**c) Prečo je výsledok z časti a) presnejší ako výsledok z časti b) ?** \n",
    "\n",
    "**d) Prečo sa výsledok z časti b) získa rýchlejšie ako výsledok z časti a) ? Skúste porovnať aj výpočtové časy.** \n"
   ]
  },
  {
   "cell_type": "code",
   "execution_count": null,
   "metadata": {},
   "outputs": [],
   "source": []
  },
  {
   "cell_type": "markdown",
   "metadata": {},
   "source": [
    "---\n",
    "\n",
    "**10. Harmonický rad $1+\\frac{1}{2}+\\frac{1}{3}+\\frac{1}{4}+\\ldots$ diverguje ale postupnosť $\\gamma_n=1+\\frac{1}{2}+\\ldots+\\frac{1}{n}-\\ln n$ konverguje, keďže postupnosť $\\{\\gamma_n\\}$ je ohraničená a nerastúca (zdôvodnite!). Táto postupnosť má limitu $\\gamma= 0.5772156649\\ldots$, ktorá sa nazýva Eulerova konštanta.** \n",
    "\n",
    "**a) Použite Python na určenie hodnoty $n$ pre $\\gamma_n$ tak, aby odchýlka od $\\gamma$ nebola väčšia než $10^{-2}$.** \n",
    "\n",
    "**b) Použite Python na určenie hodnoty $n$ pre $\\gamma_n$ tak, aby odchýlka od $\\gamma$ nebola väčšia než $10^{-3}$.** \n",
    "\n",
    "**c) Podarí sa Vám určiť $n$ aj pre odchýlku menšiu než $10^{-4}$ ?**"
   ]
  },
  {
   "cell_type": "code",
   "execution_count": null,
   "metadata": {},
   "outputs": [],
   "source": []
  },
  {
   "cell_type": "markdown",
   "metadata": {},
   "source": [
    "--- \n",
    "\n",
    "**$\\clubsuit$ 11. Ukážte, že číslo podmienenosti pre súčin funkcií $f(x)\\cdot g(x)$ spĺňa vzťah $C_{fg}\\le C_f+C_g$.** \n"
   ]
  },
  {
   "cell_type": "code",
   "execution_count": null,
   "metadata": {},
   "outputs": [],
   "source": []
  },
  {
   "cell_type": "markdown",
   "metadata": {},
   "source": [
    "--- \n",
    "\n",
    "**$\\clubsuit$ 12. Využite zaokrúhľovanie na 4 cifry a klasický vzorec s diskriminantom pre výpočet koreňov kvadratickej rovnice $x^2+62.1x+1=0$. Určte relatívnu chybu koreňov a pokúste sa spresniť výpočet toho menej presného (podobne ako v Príklade 21 v učebnom texte).** "
   ]
  },
  {
   "cell_type": "code",
   "execution_count": null,
   "metadata": {},
   "outputs": [],
   "source": []
  },
  {
   "cell_type": "markdown",
   "metadata": {},
   "source": [
    "--- \n",
    "\n",
    "**13. V niektorých situáciách sa strate platných cifier možno vyhnúť vhodným preusporiadaním členov počítanej funkcie (podobne ako v Príklade 22 v učebnom texte). Urobte niečo podobné v nasledujúcich prípadoch, v niektorých prípadoch použite trigonometrické identity. Vo všetkých prípadoch okrem b) predpokladajte, že $x$ je blízko $0$.** \n",
    "\n",
    "$$\\text{a) } \\dfrac{1-\\cos x}{x^2};\\quad \\text{b) } \\log(x+1)-\\log(x),\\, x \\text{ veľké };\\quad \\text{c) } \\sin (a+x)-\\sin (a);\\quad \\text{d) } \\sqrt[3]{1+x}-1; \\quad \\text{e) } \\dfrac{\\sqrt{4+x}-2}{x}.$$ \n"
   ]
  },
  {
   "cell_type": "code",
   "execution_count": null,
   "metadata": {},
   "outputs": [],
   "source": []
  },
  {
   "cell_type": "markdown",
   "metadata": {},
   "source": [
    "--- \n",
    "\n",
    "**$\\clubsuit$ 14. S využitím softvéru (experimentálne) nájdite také tri čísla $a,b,c$, pre ktoré bude platiť $(a+b)+c\\neq a+(b+c)$.**"
   ]
  },
  {
   "cell_type": "code",
   "execution_count": null,
   "metadata": {},
   "outputs": [],
   "source": []
  },
  {
   "cell_type": "markdown",
   "metadata": {},
   "source": [
    "--- \n",
    "\n",
    "**15. Pre ktoré $k\\in\\mathbb{N}$, je možné čísla v tvare $5+2^{-k}$, reprezentovať presne (bez zaokrúhľovacej chyby) v systéme s pohyblivou rádovou čiarkou a dvojnásobnou presnosťou?** \n"
   ]
  },
  {
   "cell_type": "code",
   "execution_count": null,
   "metadata": {},
   "outputs": [],
   "source": []
  },
  {
   "cell_type": "markdown",
   "metadata": {},
   "source": [
    "---\n",
    "\n",
    "**16. Urobte nasledujúce výpočty \"mechanicky\" (\"ručne\") podľa štandardov IEEE v dvojnásobnej presnosti (v strojovej aritmetike) a následne ich overte v softvéri:** \n",
    "\n",
    "$$\\text{a) } \\left(1 + \\left(2^{−51} + 2^{−53} \\right)\\right) − 1;\\quad \\text{b) } \\left(1 + \\left(2^{−51} + 2^{−52} + 2^{−53} \\right)\\right) − 1;\\quad \\text{c) } \\left(1 + \\left(2^{−51} + 2^{−52} + 2^{−54} \\right)\\right) − 1;\\quad \\text{d) } \\left(1 + \\left(2^{−51} + 2^{−52} + 2^{−60} \\right)\\right) − 1.$$ "
   ]
  },
  {
   "cell_type": "code",
   "execution_count": null,
   "metadata": {},
   "outputs": [],
   "source": []
  },
  {
   "cell_type": "markdown",
   "metadata": {},
   "source": [
    "--- \n",
    "\n",
    "**17. Vykonajte nasledujúce operácie \"mechanicky\" (\"ručne\") podľa štandardov IEEE v dvojnásobnej presnosti (v strojovej aritmetike) s využitím zaokrúhlenia k najbližšiemu a následne ich overte v softvéri:** \n",
    "\n",
    "$$\\text{a) }  (4.3 - 3.3) - 1;\\quad \\text{b) } (4.4 - 3.4) - 1;\\quad \\text{c) } (4.9 - 3.9) - 1;\\quad \\text{d) } (8.3 - 7.3) - 1; \\quad \\text{e) }  (8.4 - 7.4) - 1; \\quad \\text{f) }  (8.8 - 7.8) - 1.$$ "
   ]
  },
  {
   "cell_type": "code",
   "execution_count": null,
   "metadata": {},
   "outputs": [],
   "source": []
  },
  {
   "cell_type": "markdown",
   "metadata": {},
   "source": [
    "--- \n",
    "\n",
    "**18. Nájdite $fl(x)$ podľa štandardov IEEE v dvojnásobnej presnosti, nájdite tiež presné vyjadrenie rozdielu $fl(x)-x$ pre dané reálne čísla $x$ a overte, že zaokrúhľovacia chyba nepresahuje hodnotu $\\frac{1}{2}\\varepsilon_m$.** \n",
    "\n",
    "$$\\text{a) } x = 2.75;\\qquad \\text{b) } x = 2.7;\\qquad \\text{c) } x = 10/3.$$ "
   ]
  },
  {
   "cell_type": "code",
   "execution_count": null,
   "metadata": {},
   "outputs": [],
   "source": []
  },
  {
   "cell_type": "markdown",
   "metadata": {},
   "source": [
    "--- \n",
    "\n",
    "**$\\clubsuit$ 19. Využitím Python-u vyčíslite nasledujúce výrazy, v aritmetike s dvojnásobnou presnosťou pre $x = 10^{−1},\\ldots,10^{−14}$. Potom aplikujte alternatívne formy uvedených výrazov, ktoré netrpia odčítaním takmer rovnakých čísel, zopakujte výpočet a vytvorte tabuľku výsledkov. Uveďte počty správnych číslic v pôvodnych výrazoch pre každé $x$.** \n",
    "\n",
    "$$\\text{a) } \\dfrac{1-\\mathrm{sec}\\,x}{\\mathrm{tan}^2x};\\qquad\\qquad \\text{b) } \\dfrac{1-(1-x)^3}{x}.$$ "
   ]
  },
  {
   "cell_type": "code",
   "execution_count": null,
   "metadata": {},
   "outputs": [],
   "source": []
  },
  {
   "cell_type": "markdown",
   "metadata": {},
   "source": [
    "--- \n",
    "\n",
    "**$\\clubsuit$ 20. Pomocou Python-u vyčíslite výraz $a+\\sqrt{a^2+b^2}$ na štyri platné číslice, pričom $a = -12345678987654321$, $b = 123$.**"
   ]
  },
  {
   "cell_type": "code",
   "execution_count": null,
   "metadata": {},
   "outputs": [],
   "source": []
  },
  {
   "attachments": {
    "code1.PNG": {
     "image/png": "[encoded data removed]"
    }
   },
   "cell_type": "markdown",
   "metadata": {},
   "source": [
    "--- \n",
    "\n",
    "**21. Vo filme Office Space z roku 1999 postava vytvorí program, ktorý berie zlomky centov, ktoré sú skrátené v bankových transakciách a vkladá ich na svoj vlastný účet. O tento nápad sa pokúšali v minulosti a teraz banky hľadajú niečo podobné. V rámci tejto úlohy vytvoríte simuláciu programu, aby ste videli, ako dlho trvá stať sa milionárom.** \n",
    "\n",
    "**Predpoklady:** \n",
    "\n",
    "- Predpokladajte, že máte prístup k 50 000 bankovým účtom. \n",
    "\n",
    "- Predpokladajte, že zostatky na účte sú rovnomerne rozdelené medzi 100 a 100 000 USD. \n",
    "\n",
    "- Predpokladajte, že ročná úroková sadzba na účtoch je 5 % a úroky sa denne pripisujú a pripočítavajú na účty, s výnimkou toho, že sa orezávajú zlomky centov. \n",
    "\n",
    "- Predpokladajte, že na Vašom nelegálnom účte je na začiatku zostatok 0 USD. \n",
    "\n",
    "**Úlohy:** \n",
    "\n",
    "a) Vysvetlite, na čo slúži nasledujúci kód: \n",
    "\n",
    "![code1.PNG](attachment:code1.PNG) \n",
    "\n",
    "b) Mechanicky resp. \"ručne\" (bez počítača) napíšte matematické kroky potrebné na zvýšenie zostatkov na účtoch o (5/365) % za deň, zaokrúhlite zostatky účtov na najbližší cent a pridajte skrátenú (\"zanedbanú\") sumu na účet s názvom „nelegálny“. \n",
    "\n",
    "c) Pomocou cyklu `while` opakujte svoj kód, kým sa na nelegálnom účte nenazbiera 1 000 000 USD. Ako dlho to potrvá? "
   ]
  },
  {
   "cell_type": "code",
   "execution_count": null,
   "metadata": {},
   "outputs": [],
   "source": []
  },
  {
   "cell_type": "markdown",
   "metadata": {},
   "source": [
    "--- \n",
    "\n",
    "**22. Vo vojne v Perzskom zálive v roku 1991 zlyhal protiraketový obranný systém Patriot kvôli chybe pri zaokrúhľovaní. Problémy pramenili z počítača, ktorý vykonával výpočty sledovania s vnútornými hodinami, ktorých celočíselné hodnoty v desatinách sekundy boli prevedené na sekundy vynásobením 24-bitovou binárnou aproximáciou na $1/10$:** \n",
    "\n",
    "$$(0.1)_{10}\\approx(0.00011001100110011001100)_{2}.$$ \n",
    "\n",
    "**a) Preveďte vyššie uvedené binárne číslo na zlomok \"ručne\" (spoločné menovatele môžu pomôcť).**\n",
    "\n",
    "**b) Vyššie uvedená aproximácia $1/10$ sa jednoznačne nerovná $1/10$. Aká je absolútna chyba v tejto hodnote?**\n",
    "\n",
    "**c) Aká je časová chyba v sekundách po 100 hodinách prevádzky?** \n",
    "\n",
    "**d) Počas vojny v roku 1991 sa strela Scud pohybovala rýchlosťou približne 5 Mach (3750 mph). Nájdite vzdialenosť, ktorú by strela Scud prekonala počas časovej chyby vypočítanej v (c).** \n"
   ]
  },
  {
   "cell_type": "code",
   "execution_count": null,
   "metadata": {},
   "outputs": [],
   "source": []
  },
  {
   "cell_type": "markdown",
   "metadata": {},
   "source": [
    "--- \n",
    "\n",
    "**23. V dekadickom 3-miestnom počítači pomocou čiastočných súčtov odhadnite súčet radu $\\displaystyle\\sum\\limits_{n=0}^{\\infty}(0.9)^n$.**"
   ]
  },
  {
   "cell_type": "code",
   "execution_count": null,
   "metadata": {},
   "outputs": [],
   "source": []
  },
  {
   "cell_type": "markdown",
   "metadata": {},
   "source": [
    "--- \n",
    "\n",
    "**$\\clubsuit$ 24. Určte výpočtovú zložitosť iteračného a rekurzívneho algoritmu na generovanie Fibonacciho čísel. Porovnajte výpočtové časy oboch implementácií.** "
   ]
  },
  {
   "cell_type": "code",
   "execution_count": null,
   "metadata": {},
   "outputs": [],
   "source": [
    "def my_fib_iter(n):\n",
    "    \n",
    "    out = [1, 1]\n",
    "    \n",
    "    for i in range(2, n):\n",
    "        out.append(out[i - 1] + out[i - 2])\n",
    "        \n",
    "    return out"
   ]
  },
  {
   "cell_type": "code",
   "execution_count": null,
   "metadata": {},
   "outputs": [],
   "source": [
    "def my_fib_rec(n):\n",
    "    \n",
    "    if n < 2:\n",
    "        out = 1\n",
    "    else:\n",
    "        out = my_fib_rec(n-1) + my_fib_rec(n-2)\n",
    "        \n",
    "    return out"
   ]
  },
  {
   "cell_type": "code",
   "execution_count": null,
   "metadata": {},
   "outputs": [],
   "source": []
  },
  {
   "cell_type": "markdown",
   "metadata": {},
   "source": [
    "--- \n",
    "\n",
    "**$\\clubsuit$ 25.  Relatívna približná chyba (*relative approximate error*) $\\epsilon_a=\\dfrac{x_n-x_{n-1}}{x_n}$ na konci iterácie pre nájdenie koreňa rovnice je $0.004\\%$. Najmenší počet platných číslic, ktorým môžeme v riešení dôverovať, je:**\n",
    "\n",
    "A) $2$; \n",
    "\n",
    "B) $3$;\n",
    "\n",
    "C) $4$; \n",
    "\n",
    "D) $5$."
   ]
  },
  {
   "cell_type": "code",
   "execution_count": null,
   "metadata": {},
   "outputs": [],
   "source": []
  },
  {
   "cell_type": "markdown",
   "metadata": {},
   "source": [
    "--- \n",
    "\n",
    "**26. Uvažujte normalizovaný dekadický systém s dvoma číslicami v tvare $f=\\pm d_1.d_2\\times10^e$, pričom pre exponent $e$ platí $e\\in[-2,0]$. Koľko rôznych čísel je môžné reprezentovať v uvedenom systéme? Aké je ich rozdelenie na reálnej osi? Aké sú limity pretečenia a podtečenia?**"
   ]
  },
  {
   "cell_type": "code",
   "execution_count": null,
   "metadata": {},
   "outputs": [],
   "source": []
  },
  {
   "cell_type": "markdown",
   "metadata": {},
   "source": [
    "--- \n",
    "\n",
    "**$\\clubsuit$ 27. Uvažujte binárny systém s dvoma číslicami v tvare $f=\\pm d_1.d_2\\times2^e$, pričom pre exponent $e$ platí $e\\in[-1,1]$. Koľko rôznych čísel je môžné reprezentovať v uvedenom systéme? Aké je ich rozdelenie na reálnej osi? Aké sú limity pretečenia a podtečenia?**"
   ]
  },
  {
   "cell_type": "code",
   "execution_count": null,
   "metadata": {},
   "outputs": [],
   "source": []
  }
 ],
 "metadata": {
  "kernelspec": {
   "display_name": "Python 3",
   "language": "python",
   "name": "python3"
  },
  "language_info": {
   "codemirror_mode": {
    "name": "ipython",
    "version": 3
   },
   "file_extension": ".py",
   "mimetype": "text/x-python",
   "name": "python",
   "nbconvert_exporter": "python",
   "pygments_lexer": "ipython3",
   "version": "3.7.3"
  },
  "varInspector": {
   "cols": {
    "lenName": 16,
    "lenType": 16,
    "lenVar": 40
   },
   "kernels_config": {
    "python": {
     "delete_cmd_postfix": "",
     "delete_cmd_prefix": "del ",
     "library": "var_list.py",
     "varRefreshCmd": "print(var_dic_list())"
    },
    "r": {
     "delete_cmd_postfix": ") ",
     "delete_cmd_prefix": "rm(",
     "library": "var_list.r",
     "varRefreshCmd": "cat(var_dic_list()) "
    }
   },
   "types_to_exclude": [
    "module",
    "function",
    "builtin_function_or_method",
    "instance",
    "_Feature"
   ],
   "window_display": false
  }
 },
 "nbformat": 4,
 "nbformat_minor": 2
}
