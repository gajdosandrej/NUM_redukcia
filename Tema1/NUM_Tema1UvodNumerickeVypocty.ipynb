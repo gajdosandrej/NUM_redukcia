{
 "cells": [
  {
   "cell_type": "markdown",
   "metadata": {},
   "source": [
    "**Autor:** Andrej Gajdoš  <br> \n",
    "_[Ústav matematických vied](https://www.upjs.sk/prirodovedecka-fakulta/ustav/umv/), [Prírodovedecká fakulta](https://www.upjs.sk/prirodovedecka-fakulta/), Univerzita Pavla Jozefa Šafárika v Košiciach,_ <br> \n",
    "email: [andrej.gajdos@upjs.sk](mailto:andrej.gajdos@upjs.sk)\n",
    "*** \n",
    "\n",
    "**_Tento materiál vznikol za podpory grantu VVGS-2022-2412._**\n",
    "\n",
    "***\n",
    "\n",
    "**<font size=6 color=gold> NUM: Téma 1 - Úvod do numerických výpočtov </font>** "
   ]
  },
  {
   "cell_type": "markdown",
   "metadata": {},
   "source": [
    "--- \n",
    "\n",
    "<a id=table_of_contents></a>\n",
    "##  Obsah \n",
    "\n",
    "* [Úvod](#uvod)\n",
    "\n",
    "\n",
    "* [Numerika, symbolika, analytika](#analyticke_vs_numericke) \n",
    "\n",
    "\n",
    "* [Chyby numerických výpočtov](#chyby) \n",
    "\n",
    "\n",
    "* [Reprezentácia čísel v počítači](#repre) \n",
    "\n",
    "\n",
    "* [Podmienenosť úloh a stabilita algoritmov](#podm_stab) \n",
    "\n",
    "\n",
    "* [Algoritmická (výpočtová/časová) zložitosť](#zlozitost) \n",
    "\n",
    "\n",
    "* [Použité zdroje](#zdroje) \n",
    "\n",
    "\n",
    "**Pre návrat na obsah stlačte klávesu <font color=brown>Home</font>.** \n",
    "\n",
    "--- "
   ]
  },
  {
   "cell_type": "code",
   "execution_count": 1,
   "metadata": {},
   "outputs": [],
   "source": [
    "# nacitanie potrebnych balikov v Python-e \n",
    "import math \n",
    "import numpy as np \n",
    "import sympy as sym \n",
    "import scipy as sci \n",
    "from decimal import Decimal\n",
    "from matplotlib import pyplot as plt"
   ]
  },
  {
   "cell_type": "markdown",
   "metadata": {},
   "source": [
    "***\n",
    "<a id=uvod></a>\n",
    " # <font color=brown> Úvod </font> "
   ]
  },
  {
   "attachments": {
    "t6.PNG": {
     "image/png": "[encoded data removed]"
    }
   },
   "cell_type": "markdown",
   "metadata": {},
   "source": [
    "--- \n",
    "\n",
    "#### <font color=blue> Príklad 0 (Nekomutatívne sčítanie?!) </font> \n",
    "\n",
    "Uvažujme nasledujúci konečný súčet (sčítanie od najväčšieho člena po najmenšieho): \n",
    "\n",
    "$$S(n)=1+\\dfrac{1}{2}+\\ldots+\\dfrac{1}{n-1}+\\dfrac{1}{n}$$ \n",
    "\n",
    "a taktiež súčet rovnakých členov ale v opačnom poradí (od najmenšieho člena po najväčšieho) \n",
    "\n",
    "$$s(n)=\\dfrac{1}{n}+\\dfrac{1}{n-1}+\\ldots\\dfrac{1}{2}+1.$$ \n",
    "\n",
    "Podľa \"zvyčajných\" pravidiel aritmetiky platí $S(n)=s(n)$. To sa však nemusí nevyhnutne stať, keď sú súčty vypočítané pomocou počítača. Ak vypočítame $s(n)$, $S(n)$ a následne vypočítame rozdiel $S(n)−s(n)$, získame hodnoty uvedené v tabuľke nižšie. Je zrejmé, že pre väčšie hodnoty $n$ sa tieto dva súčty líšia. Prvou otázkou je, prečo sa to deje? No sú tu i ďalšie otázky. Napr., za predpokladu, že oba súčty sú nesprávne resp. nepresné, je možné určiť, ktorý súčet je bližšie k presnému výsledku? \n",
    "\n",
    "![t6.PNG](attachment:t6.PNG) \n"
   ]
  },
  {
   "cell_type": "code",
   "execution_count": 19,
   "metadata": {},
   "outputs": [],
   "source": [
    "def Sn(n):\n",
    "    res = 0 \n",
    "    for k in range(1,n+1): \n",
    "        res += 1/(k) \n",
    "    return(res)\n",
    "\n",
    "def sn(n): \n",
    "    res = 0 \n",
    "    for k in reversed(range(1,n+1)): \n",
    "        res += (1/k) \n",
    "    return(res)"
   ]
  },
  {
   "cell_type": "code",
   "execution_count": 22,
   "metadata": {},
   "outputs": [
    {
     "name": "stdout",
     "output_type": "stream",
     "text": [
      "2.9289682539682538\n",
      "2.9289682539682538\n"
     ]
    }
   ],
   "source": [
    "# na prvy pohlad ziaden rozdiel\n",
    "print(Sn(10)) \n",
    "print(sn(10))"
   ]
  },
  {
   "cell_type": "code",
   "execution_count": 20,
   "metadata": {},
   "outputs": [
    {
     "name": "stdout",
     "output_type": "stream",
     "text": [
      "4.499205338329423\n",
      "4.499205338329425\n"
     ]
    }
   ],
   "source": [
    "# vsimnite si rozdiel v poslednej vypisanej cifre \n",
    "print(Sn(1000)) \n",
    "print(sn(1000))"
   ]
  },
  {
   "cell_type": "code",
   "execution_count": 23,
   "metadata": {},
   "outputs": [
    {
     "name": "stdout",
     "output_type": "stream",
     "text": [
      "7.485470860550343\n",
      "7.485470860550341\n"
     ]
    }
   ],
   "source": [
    "# vsimnite si rozdiel v poslednej vypisanej cifre \n",
    "print(Sn(100000)) \n",
    "print(sn(100000))"
   ]
  },
  {
   "cell_type": "code",
   "execution_count": 25,
   "metadata": {},
   "outputs": [
    {
     "name": "stdout",
     "output_type": "stream",
     "text": [
      "16.695311365857272\n",
      "16.695311365859965\n"
     ]
    }
   ],
   "source": [
    "# vsimnite si rozdiel v niekolkych poslednych vypisanych cifrach  \n",
    "print(Sn(10000000)) \n",
    "print(sn(10000000))"
   ]
  },
  {
   "cell_type": "code",
   "execution_count": 27,
   "metadata": {},
   "outputs": [
    {
     "data": {
      "text/plain": [
       "[0.0,\n",
       " -8.881784197001252e-16,\n",
       " 2.6645352591003757e-15,\n",
       " -3.730349362740526e-14,\n",
       " -7.283063041541027e-14,\n",
       " -7.833733661755105e-13]"
      ]
     },
     "execution_count": 27,
     "metadata": {},
     "output_type": "execute_result"
    }
   ],
   "source": [
    "# vypis rozdielov ako vyssie v tabulke \n",
    "[Sn(n)-sn(n) for n in [10,100,1000,10000,100000,1000000]]"
   ]
  },
  {
   "cell_type": "markdown",
   "metadata": {},
   "source": [
    "--- "
   ]
  },
  {
   "cell_type": "markdown",
   "metadata": {},
   "source": [
    "**_Numerická matematika_** - zjednodušene vzaté, sa zaoberá procesmi, ktoré umožňujú riešiť matematické problémy pomocou štyroch aritmetických operácií (sčítanie, odčítanie, násobenie a delenie) s využitím počítača. Cieľom je vytvoriť efektívne algoritmy na riešenie najrôznejších matematických problémov. \n",
    "\n",
    "Formulácia úloh a spôsob ich riešenia je v dnešnej dobe závislý od skutočnosti, že pracujeme s počítačom. To si vyžaduje, aby sme zadali do počítača konečný počet číselných údajov a postup, tzv. _algoritmus_, prostredníctvom ktorého po konečnom počte krokov dostaneme na výstupe výsledok. \n",
    "\n",
    "V praxi prebieha celý postup obvykle podľa nasledujúceho diagramu: "
   ]
  },
  {
   "attachments": {
    "rsz_schema.png": {
     "image/png": "[encoded data removed]"
    }
   },
   "cell_type": "markdown",
   "metadata": {},
   "source": [
    "![rsz_schema.png](attachment:rsz_schema.png)"
   ]
  },
  {
   "cell_type": "markdown",
   "metadata": {},
   "source": [
    "**_Reálny problém_** - ide o zadanú úlohu z najrôznejších odborov (fyzika, technika, chémia, biológia, medicína, humanitné odbory a pod.), ktorú chceme riešiť pomocou matematických prostriedkov.\n",
    "\n",
    "**_Matematický model_** - skúmanú skutočnosť popíšeme pomocou vhodného vierohodného matematického modelu. Obvykle čím je model presnejší, tým je zložitejší. Takýmto modelom môže byť napr. systém lineárnych alebo nelineárnych rovníc, obyčajné diferenciálne rovnice, parciálne diferenciálne rovnice, integrálne rovnice, graf, tabuľka atď.\n",
    "\n",
    "**_Numerická úloha_** - matematický model nemožno väčšinou riešiť priamo pomocou aritmetických operácií, je nutné vykonať jeho „digitalizáciu“. Tak dostaneme úlohu, ktorú je možné riešiť pomocou aritmetických operácií. Môže to byť napr. sústava lineárnych algebraických rovníc. Vstupom aj výstupom numerickej úlohy sú čísla.\n",
    "\n",
    "**_Numerický algoritmus_** - numerickú úlohu možno riešiť rôznymi spôsobmi. Numerickým algoritmom rozumieme postup riešenia numerickej úlohy. Presný popis krokov (akcií, ktoré môže realizovať počítač), ktoré vedú k vyriešeniu numerickej úlohy, nazývame numerický algoritmus. Je to teda jednoznačný funkčný opis vzťahov medzi konečným počtom vstupných a konečným počtom výstupných hodnôt."
   ]
  },
  {
   "cell_type": "markdown",
   "metadata": {},
   "source": [
    "***\n",
    "<a id=analyticke_vs_numericke></a>\n",
    " # <font color=brown> Numerika, symbolika, analytika </font> "
   ]
  },
  {
   "cell_type": "markdown",
   "metadata": {},
   "source": [
    "## Numerické výpočty vs symbolické výpočty"
   ]
  },
  {
   "cell_type": "markdown",
   "metadata": {},
   "source": [
    "**_Numerické výpočty_** - zahrňujú priamo čísla; ide o manipuláciu s číslami za účelom výsledku v podobe numerickej (číselnej) hodnoty. \n",
    "\n",
    "**_Symbolické výpočty_** - symboly reprezentujú čísla; jedná sa o manipuláciu so symbolmi podľa matematických pravidiel za účelom výsledku v symbolickom tvare. "
   ]
  },
  {
   "cell_type": "markdown",
   "metadata": {},
   "source": [
    "--- \n",
    "\n",
    "#### <font color=blue> Príklad 1 (Numerický vs symbolický výpočet) </font> \n",
    "\n",
    "Numerický: $$\\dfrac{(17.36)^2-1}{17.36+1}=16.36$$ \n",
    "\n",
    "Symbolický: $$\\dfrac{x^2-1}{x+1}=x-1$$\n",
    "\n"
   ]
  },
  {
   "cell_type": "code",
   "execution_count": 4,
   "metadata": {},
   "outputs": [
    {
     "name": "stdout",
     "output_type": "stream",
     "text": [
      "16.36\n"
     ]
    }
   ],
   "source": [
    "# numericky vypocet \n",
    "print(((17.36)**2 - 1) / (17.36 + 1)) "
   ]
  },
  {
   "cell_type": "code",
   "execution_count": 5,
   "metadata": {},
   "outputs": [
    {
     "data": {
      "text/latex": [
       "$\\displaystyle x - 1$"
      ],
      "text/plain": [
       "x - 1"
      ]
     },
     "execution_count": 5,
     "metadata": {},
     "output_type": "execute_result"
    }
   ],
   "source": [
    "# symbolicky vypocet \n",
    "x = sym.Symbol('x') \n",
    "sym.cancel((x**2 - 1) / (x + 1))"
   ]
  },
  {
   "cell_type": "markdown",
   "metadata": {},
   "source": [
    "--- "
   ]
  },
  {
   "cell_type": "markdown",
   "metadata": {},
   "source": [
    "<font color=orange> Vymyslite vlastný príklad na numerický a symbolický výpočet (môžete využiť Python). </font> "
   ]
  },
  {
   "cell_type": "code",
   "execution_count": null,
   "metadata": {},
   "outputs": [],
   "source": []
  },
  {
   "cell_type": "markdown",
   "metadata": {},
   "source": [
    "## Analytické riešenie vs numerické riešenie"
   ]
  },
  {
   "cell_type": "markdown",
   "metadata": {},
   "source": [
    "Každý študent strednej školy pozná vzorec pre výpočet koreňov kvadratickej rovnice. Väčšina maturantov by si mohla (krátko po maturite) spomenúť na postup riešenia kubickej rovnice. Niektorí si možno spomenú na postup riešenia rovnice štvrtého stupňa a na postup riešenia reciprokých (recipročných) rovníc do stupňa 8 resp. 9. Ako ale vyzerá postup riešenia rovníc stupňa päť a viac? Takýto explicitný postup (vzorec) neexistuje. Nie preto, že nebol objavený, ale proto, že bolo dokázané, že existovat nemôže. To však nič nemení na situácii, že nájsť korene algebraických rovnic stupňa 5 a viac niekdy potrebujeme. Príkladom môže byť situácia, kedy potrebujeme určiť tzv. vlastné čísla matice. \n",
    "\n",
    "Zrejme poznáte pojmy určitý a neurčitý integrál. Pri výpočte $\\displaystyle\\int_{0}^{\\pi/2}\\cos x\\,\\mathrm{d}x$ najskôr nájdeme primitívnu funkciu k funkcii kosínus, dosadíme do nej hornú a dolnú hranicu, vzájomne odčítame a tento rozdiel prehlásime za výsledok. K niektorým funkciám však primitívne funkcie neexistujú. Takým príkladom je funkcia $f(x)=e^{-x^2}$, pričom ide o jednu zo základných funkcií používaných v teórii pravdepodobnosti, kde výpočet určitého integrálu z tejto funkcie umožňuje nájsť požadované pravdepodobnosti. V tomto prípade však nie je možné určiť hodnotu integrálu pomocou primitívnej funkcie. \n",
    "\n",
    "V lineárnej algebre sa častokrát využíva na riešenie sústav lineárnych rovníc Gaussova eliminačná metóda alebo Cramerovo pravidlo - najčastejšie však pre sústavy troch rovníc s troma neznámymi. Je ale možné aplikovať uvedené prístupy aj na sústavy sto (tisíc) rovníc so sto (tisíc) premennými, pričom ich koeficienty sa môžu vzájomne rádovo líšiť? \n",
    "\n",
    "Postupy riešenia matematických problémov, s ktorými ste sa stretli najmä v kurzoch matematickej analýzy alebo (lineárnej) algebry nazývame **_analytické_**. Niekedy sa však ukazuje ako vhodný, dokonca nevyhnutný iný prístup riešenia problému, tzv. **_numerický_**. Keď si napríklad vezmeme definíciu integrálu vrátane geometrickej interpretácie určitého integrálu, tak môžeme miesto hľadania primitívnej funkcie k funkcii $f(x)=e^{-x^2}$ skúsiť približne určiť obsah plochy medzi grafom funkcie a osou $x$ na danom intervale. Zrejme ho neurčíme úplne presne ale to mnohokrát ani nie je nevyhnutné. Podobne je to pri spomínaných rovniciach stupňa päť a viac. Tu si môžeme napr. uvedomiť, že hľadať ich riešenia znamená hľadať body, v ktorých príslušné polynómy nadobúdajú nulovú hodnotu. To je možné realizovať niekoľkými spôsobmi - napr. vykresliť si zodpovedajúci graf a hľadané body odhadnúť s istou toleranciou (presnosťou).  \n",
    "\n",
    "**_Analytické riešenie_** (alebo aj symbolické) - ide o exaktnú numerickú alebo symbolickú reprezentáciu riešenia; používajú sa špeciálne znaky (označenia) ako napr. $\\pi$, $e$ či $\\mathrm{tan}(83)$ alebo zlomky ... \n",
    "\n",
    "**_Numerické riešenie_** - jedná sa o výpočtovú reprezentáciu riešenia tzn. výhradne numerický tvar. "
   ]
  },
  {
   "attachments": {
    "t1.PNG": {
     "image/png": "[encoded data removed]"
    }
   },
   "cell_type": "markdown",
   "metadata": {},
   "source": [
    "--- \n",
    "\n",
    "#### <font color=blue> Príklad 2 (Analytický/symbolický vs numerický tvar) </font> \n",
    "\n",
    "![t1.PNG](attachment:t1.PNG) \n"
   ]
  },
  {
   "cell_type": "code",
   "execution_count": 2,
   "metadata": {},
   "outputs": [
    {
     "name": "stdout",
     "output_type": "stream",
     "text": [
      "1/4\n",
      "1/3\n",
      "pi\n",
      "tan(83)\n"
     ]
    }
   ],
   "source": [
    "# analyticky (symbolicky) tvar \n",
    "a_sym = sym.Rational(1, 4)\n",
    "print(a_sym) \n",
    "b_sym = sym.Rational(1, 3)\n",
    "print(b_sym) \n",
    "c_sym = sym.pi \n",
    "print(c_sym) \n",
    "d_sym = sym.tan(83) \n",
    "print(d_sym)"
   ]
  },
  {
   "cell_type": "code",
   "execution_count": 7,
   "metadata": {},
   "outputs": [
    {
     "name": "stdout",
     "output_type": "stream",
     "text": [
      "0.25\n",
      "0.3333333333333333\n",
      "3.141592653589793\n",
      "3.880596310384246\n"
     ]
    }
   ],
   "source": [
    "# numericky tvar \n",
    "a_num = 0.25 \n",
    "print(a_num)\n",
    "b_num = 1/3 \n",
    "print(b_num) \n",
    "c_num = math.pi \n",
    "print(c_num)\n",
    "d_num = math.tan(83) \n",
    "print(d_num)"
   ]
  },
  {
   "cell_type": "markdown",
   "metadata": {},
   "source": [
    "--- "
   ]
  },
  {
   "cell_type": "markdown",
   "metadata": {},
   "source": [
    "<font color=orange> Vymyslite vlastný príklad na numerický a anyltický tvar zápisu (môžete využiť Python). </font> "
   ]
  },
  {
   "cell_type": "code",
   "execution_count": null,
   "metadata": {},
   "outputs": [],
   "source": []
  },
  {
   "cell_type": "markdown",
   "metadata": {},
   "source": [
    "## Numerický výpočet a aproximácia"
   ]
  },
  {
   "cell_type": "markdown",
   "metadata": {},
   "source": [
    "**_Numerická aproximácia_** - potrebná kvôli konkrétnym krokom pri numerických kalkuláciách. Celkový proces je **_numerický výpočet_**."
   ]
  },
  {
   "cell_type": "markdown",
   "metadata": {},
   "source": [
    "--- \n",
    "\n",
    "#### <font color=blue> Príklad 3  </font> \n",
    "\n",
    "Symbolický výpočet - numerické riešenie: \n",
    "\n",
    "$$\\frac{1}{2}+\\frac{1}{3}+\\frac{1}{4}-1=\\frac{1}{12}=0.083333333\\ldots$$\n",
    "\n",
    "Numerický výpočet - numerická aproximácia: \n",
    "\n",
    "$$0.500+0.333+0.250-1.000=0.083$$ "
   ]
  },
  {
   "cell_type": "code",
   "execution_count": 8,
   "metadata": {},
   "outputs": [
    {
     "name": "stdout",
     "output_type": "stream",
     "text": [
      "1/12\n",
      "0.0833333333333333\n",
      "0.083\n"
     ]
    }
   ],
   "source": [
    "# symbolicky vypocet - numericke riesenie \n",
    "r1 = sym.Rational(1, 2) + sym.Rational(1, 3) + sym.Rational(1, 4) - 1 \n",
    "print(r1) \n",
    "print(r1.evalf())\n",
    "print(r1.evalf(2))"
   ]
  },
  {
   "cell_type": "code",
   "execution_count": 9,
   "metadata": {},
   "outputs": [
    {
     "name": "stdout",
     "output_type": "stream",
     "text": [
      "0.08299999999999996\n",
      "0.083\n",
      "0.083\n"
     ]
    }
   ],
   "source": [
    "# numericky vypocet - numericka aproximacia \n",
    "r2 = 0.500 + 0.333 + 0.250 - 1.000 \n",
    "print(r2) \n",
    "print(round(r2,3))\n",
    "\n",
    "r3 = Decimal('0.500') + Decimal('0.333') + Decimal('0.250') - Decimal('1.000') \n",
    "print(r3) "
   ]
  },
  {
   "cell_type": "markdown",
   "metadata": {},
   "source": [
    "--- "
   ]
  },
  {
   "cell_type": "markdown",
   "metadata": {},
   "source": [
    "## Numerický, numerická, numerické ... "
   ]
  },
  {
   "cell_type": "markdown",
   "metadata": {},
   "source": [
    "**_Numerická matematika_** - obor veľmi starý (napr. aproximácia čísla $\\pi$) ale i veľmi mladý (súvisí s príchodom počítačov). Jej úlohou je previesť matematický problém (napr. aproximácia čísla $\\pi$) na problém numerický. \n",
    "\n",
    "**_Metóda_** - všeobecný (matematický) koncept popisujúci proces nájdenia riešenia. \n",
    "\n",
    "**_Numerická metóda_** - postup riešenia numerického problému (úlohy). Napr. [\"metóda vyčerpania\"](https://www.pbs.org/wgbh/nova/archimedes/pi.html) (zhusťovacia/exhausivna metóda) pre určenie hodnoty čísla $\\pi$ ([applet](https://www.geogebra.org/m/XV5ZE2PA#material/JDzH7wfz)): \n",
    "\n",
    "- nájdi dĺžku obvodu polygónu vpísaného do kruhu s polomerom $1/2$; \n",
    "- nájdi dĺžku obvodu polygónu opísaného kruhu s polomerom $1/2$; \n",
    "- hodnota čísla $\\pi$ je medzi týmito dvoma číslami. \n",
    "\n",
    "**_Algoritmus_** - detailný popis vykonania metódy. \n",
    "\n",
    "**_Algoritmus numerickej metódy_** - presný popis krokov realizujúci numerickú metódu. Je možné ho vyjadriť ako postupnosť akcií/krokov (realizovateľných na počítači), ktoré k danému (presne špecifikovanému konečnému) súboru vstupných čísel jednoznačne priradia odpovedajúci (presne špecifikovaný konečný) súbor výstupných čísel. \n",
    "\n",
    "- v prípade vyššie uvedenej metódy vyčerpania by to napr. znamenalo doplnenie detailov - tzn. ako presne nájsť obvod vpísaného a opísaného polygónu atď. \n",
    "\n",
    "**_Implementácia_** - voľba vhodného algoritmu, dátovej štruktúry, počítača a programovacieho jazyka. \n",
    "\n",
    "<ins> Dôležité otázky: </ins> \n",
    "\n",
    "* Je metóda dobrá? \n",
    "\n",
    "* Je algoritmus robustný? \n",
    "\n",
    "* Je implementácia rýchla? \n",
    "\n",
    "**_Numerická analýza_** - štúdium numerických metód. \n",
    "\n",
    "- Ciele numerickej analýzy: \n",
    "    - **_Aproximácia_** - našlo sa približné riešenie; ako ďaleko je od skutočnosti (ako presne)? \n",
    "    - **_Eficiencia (účinnosť)_** - ako rýchlo (výpočtový čas) a lacno (pamäť) vieme nájsť riešenie? \n",
    "    - **_Stabilita_** - je riešenie citlivé na malé zmeny parametrov charakterizujúcich daný problém?\n",
    "    - **_Chyba_** - aká je úloha konečnej presnosti našich počítačov?\n",
    "\n",
    "\n",
    "- Numerické metódy zlepšujú vedecké simulácie. \n",
    "\n",
    "**Niekoľko katastrof zapríčinených zlými numerickými výpočtami** (Douglas Arnold): \n",
    "\n",
    "- Vojna v Perzskom zálive, Dharan, Saudská Arábia, 25. Februára,\n",
    "1991 - 28 mŕtvych, zlyhanie taktického mobilného raketového\n",
    "systému Patriot bolo nakoniec zapríčinené nesprávnym počítaním s\n",
    "chybou zaokrúhľovania.\n",
    "\n",
    "- Výbuch rakety Ariane 5 hneď po štarte jej prvého vzletu vo\n",
    "Francúzskej Guiane, 4. Júna, 1996, bol dôsledkom jednoduchého\n",
    "pretečenia (overflow - výsledok aritmetickej operácie sa nedá\n",
    "vyjadriť v danom číselnom formáte). \n",
    "\n",
    "- Potopenie pobrežnej plošiny Sleipner A v Gandsfjordene neďaleko\n",
    "Stavangeru v Nórsku 23. augusta 1991 spôsobilo stratu takmer\n",
    "jednej miliardy dolárov. Zistilo sa, že je výsledkom nepresnej\n",
    "analýzy konečných prvkov. \n"
   ]
  },
  {
   "cell_type": "markdown",
   "metadata": {},
   "source": [
    "--- \n",
    "\n",
    "#### <font color=blue> Príklad 4  </font> \n",
    "\n",
    "Ako **príklad \"problému zo života\"** uvažujme **predpoveď počasia**. Pohyb vzduchu v atmosfére dokážeme aspoň približne popísať pomocou sústav parciálnych diferenciálnych rovníc a vhodných doplňujúcich podmienok (t.j. matematický model). Metódami numerickej matematiky dokážeme tieto rovnice približne riešiť. Potrebné vstupné dáta sa získavajú pomocou družíc a pozemných meteorologických staníc. Výsledky numerických výpočtov spracované do animovaných meteorologických máp potom sledujeme napr. v televíznych predpovediach počasia. \n",
    "Pri riešení reálnych problémov takmer nikdy nezískame presné riešenie, musíme sa uspokojiť \"len\" s približným riešením, ktoré je zaťažené chybami (nepresnosťami). Našim cieľom je organizovať výpočet tak, aby celková chyba bola čo nejmenšia. \n",
    "Predovšetkým sa musíme vyvarovať hrubých ľudských chýb, ktoré vyplývajú z nepochopenia problému a z nepozornosti či nedbanlivosti človeka pri jeho riešení. \n",
    "\n",
    "---"
   ]
  },
  {
   "cell_type": "markdown",
   "metadata": {},
   "source": [
    "<font color=orange> Uveďte jeden konkrétny príklad, na ktorom ilustrujete tieto pojmy: metóda, algoritmus, implementácia.  </font>"
   ]
  },
  {
   "cell_type": "code",
   "execution_count": null,
   "metadata": {},
   "outputs": [],
   "source": []
  },
  {
   "cell_type": "markdown",
   "metadata": {},
   "source": [
    "***\n",
    "<a id=chyby></a>\n",
    " # <font color=brown> Chyby numerických výpočtov </font>"
   ]
  },
  {
   "attachments": {
    "chyby.PNG": {
     "image/png": "[encoded data removed]"
    }
   },
   "cell_type": "markdown",
   "metadata": {},
   "source": [
    "V skutočnosti by sme preformulovaním latinského výroku *errare humanum est* (mýliť sa je ľudské) mohli povedať, že pri numerických výpočtoch je dopúšťanie sa chýb dokonca nevyhnutné. Ako sme v úvode naznačili, používanie počítača na reprezentáciu reálnych čísel prináša chyby (nepresnosti).**Dôležité preto nie je usilovať sa o odstraňovanie chýb, ale mať možnosť kontrolovať ich účinok.** Vo všeobecnosti môžeme identifikovať niekoľko úrovní resp. druhov chýb, ktoré sa vyskytujú počas aproximácie a riešenia určitého (napr. fyzikálneho) problému (pozri nasledujúci obrázok). \n",
    "\n",
    "![chyby.PNG](attachment:chyby.PNG) \n",
    "\n",
    "Na najvyššej úrovni stojí chyba (na obrázku označené ako $e_m$), ku ktorej dochádza pri nútení fyzikálnej reality (PP znamená fyzikálny problém a $x_{ph}$ znamená jeho riešenie) riadiť sa nejakým matematickým modelom (MP, ktorého riešením je $x$). Takéto chyby obmedzia použiteľnosť matematického modelu na určité situácie a sú mimo kontroly vedeckých výpočtov. <br/> \n",
    "Matematický model (či už vyjadrený integrálom ako v príklade na obrázku, algebraickou alebo diferenciálnou rovnicou, lineárnym či nelineárnym systémom a pod.) nie je vo všeobecnosti riešiteľný v explicitnej forme (analyticky). Jeho vyriešenie  počítačovými algoritmami bude určite zahŕňať zavedenie a šírenie prinajmenšom _zaokrúhľovacích chýb_ (na obrázku označené ako $e_a$). <br/>\n",
    "Na druhej strane je často potrebné uvažovať i ďalšie chyby, pretože akúkoľvek procedúru matematického modelu zahŕňajúcu  nekonečnú postupnosť aritmetických operácií nemôže počítač v skutočnosti vykonať, iba ak približne. Napríklad výpočet súčtu nekonečného radu sa nevyhnutne vykoná približným spôsobom, t.j. \"rozumným\" zanedbaním všetkých ostatných členov počnúc konkrétnym členom. <br/> \n",
    "Preto je potrebné uvažovať tzv. numerickú úlohu NP, ktorej riešenie $x_n$ sa líši od $x$ o chybu $e_t$ (_truncation error_), pričom ide o _chybu numerickej metódy_ resp. _chybu aproximácie_ (tu konkrétne ide o chybu vzniknutú tzv. _diskretizáciou_, t.j. nahradenie integrálu (\"spojitého objektu\") konečnou sumou (\"diskrétnym objektom\" resp. aproximáciou)). Takéto chyby sa nevyskytujú iba v matematických modeloch, ktoré sú už prirodzene formulované v konečnej dimenzii  (napríklad pri riešení lineárneho systému). Súčet chýb $e_a$, a $e_t$ tvorí výpočtovú chybu $e_c$, teda veličinu, ktorá nás zaujíma. "
   ]
  },
  {
   "attachments": {
    "o9.PNG": {
     "image/png": "[encoded data removed]"
    }
   },
   "cell_type": "markdown",
   "metadata": {},
   "source": [
    "![o9.PNG](attachment:o9.PNG) \n",
    "$$\\text{Zdroj: https://zolotarev.fd.cvut.cz/static/mag/mag-2014-08-handouts.pdf}.$$"
   ]
  },
  {
   "cell_type": "markdown",
   "metadata": {},
   "source": [
    "**_Chyba matematického modelu_** - pri vytváraní matematického modelu reálneho problému uskutočnujeme vždy isté zjednodušenia. Rozdiel medzi riešením zjednodušeného problému a riešením problému reálneho nazývame chybou matematického modelu. Do tejto kategórie chýb radíme tiež **_chyby vo vstupných údajoch_** (napr. chyby meraní). "
   ]
  },
  {
   "cell_type": "markdown",
   "metadata": {},
   "source": [
    "--- \n",
    "\n",
    "#### <font color=blue> Príklad 5  </font> \n",
    "\n",
    "Máme určiť povrch zemského plášťa. Na výpočet použijeme vzorec $S=4\\pi r^2$ pre povrch gule s polomerom $r$. Chyba modelu spočíva v predpoklade, že Zem je (ideálna) guľa. \n",
    "\n",
    "---"
   ]
  },
  {
   "cell_type": "markdown",
   "metadata": {},
   "source": [
    "**_Chyba numerickej metódy_** -  pokiaľ k riešeniu (numerickej) úlohy použijeme numerickú metódu, ktorá nám neposkytne presné (teoretické/analytické) riešenie danej úlohy, tak chybu, ktorej sa dopustíme, nazývame chybou numerickej metódy resp. **_aproximačná chyba_** (_truncation error_ - napr. zanedbanie všetkých členov nekonečného radu od určitého člena). Dôležitou súčasťou návrhu numerickej metódy je **odhad chyby numerickej metódy**. "
   ]
  },
  {
   "cell_type": "markdown",
   "metadata": {},
   "source": [
    "--- \n",
    "\n",
    "#### <font color=blue> Príklad 6  </font> \n",
    "\n",
    "Máme určiť hodnotu funkcie $\\sin x$ v bode $x=1$, sčítaním konečného počtu členov Taylorovho radu \n",
    "\n",
    "$$\\sin x=x-\\dfrac{x^3}{3!}+\\dfrac{x^5}{5!}-\\dfrac{x^7}{7!}+\\dfrac{x^9}{9!}-\\ldots+(-1)^n\\dfrac{x^{2n+1}}{(2n+1)!}+\\ldots$$\n",
    "\n",
    "pre $x=1$. Je známe (premyslite si!), že sčítaním prvých troch členov radu sa dopustíme chyby veľkosti nanajvýš $\\dfrac{1}{7!}$ a vo všeobecnosti sčítaním prvých $n$ členov sa dopustíme chyby nanajvýš $\\dfrac{1}{(2n+1)!}$. Ide o tzv. diskretizačnú chybu, keďže pri aproximácii zanedbávame určitý (nekonečný) počet členov Taylorovho radu. \n"
   ]
  },
  {
   "cell_type": "code",
   "execution_count": 6,
   "metadata": {},
   "outputs": [
    {
     "data": {
      "text/latex": [
       "$\\sin(x) =x - \\frac{x^{3}}{6} + \\frac{x^{5}}{120} - \\frac{x^{7}}{5040} + \\frac{x^{9}}{362880} + O\\left(x^{11}\\right)$"
      ],
      "text/plain": [
       "<IPython.core.display.Latex object>"
      ]
     },
     "metadata": {},
     "output_type": "display_data"
    }
   ],
   "source": [
    "# zobrazenie cez Sympy \n",
    "from IPython.display import display, Latex # lepsie formatovanie matematickeho textu pri vypise\n",
    "sym.init_printing() # lepsie formatovanie matematickeho textu pri vypise \n",
    "\n",
    "x = sym.Symbol('x')\n",
    "taylor_sin = lambda N=11: sym.series(sym.sin(x),x,n=N);\n",
    "display(Latex('$\\sin(x) ={}$'.format(sym.latex(taylor_sin())))) "
   ]
  },
  {
   "cell_type": "markdown",
   "metadata": {},
   "source": [
    "--- "
   ]
  },
  {
   "cell_type": "markdown",
   "metadata": {},
   "source": [
    "**_Zaokrúhľovacie chyby_** - pri práci s počítačom môžeme k reprezentácii čísel použiť len konečný počet cifier. Pracujeme preto s približnými hodnotami čísel, ktoré dostaneme zaokrúhlením presných hodnôt. Zaokrúhľovacie chyby vznikajú už pri vkladaní dát do počítača, dalšie potom vznikajú pri číselných výpočtoch. Pri nesprávne prevedenom výpočte môže dôjsť v dôsledku nahromadenia zaokrúhľovacích chýb k úplnému znehodnoteniu výsledku (viď Príklad 22). "
   ]
  },
  {
   "cell_type": "markdown",
   "metadata": {},
   "source": [
    "--- \n",
    "\n",
    "#### <font color=blue> Príklad 7  </font> \n",
    "\n",
    "Číslo $\\pi$ nie je možné vložiť do počítača úplne presne. Taktiež výsledok operácie, pri ktorej vydelíme číslo $2$ číslom $3$, nezobrazíme v štandardnom počítači pracujúcom s binárnymi číslami presne. \n"
   ]
  },
  {
   "cell_type": "code",
   "execution_count": 6,
   "metadata": {},
   "outputs": [
    {
     "name": "stdout",
     "output_type": "stream",
     "text": [
      "3.141592653589793\n",
      "pi\n",
      "3.1416\n",
      "3.141592654\n",
      "3.1415926535897932385\n",
      "3.141592653589793238462643383279502884197\n",
      "\n",
      "*********************************************\n",
      "\n",
      "0.6666666666666666\n",
      "2/3\n",
      "0.66667\n",
      "0.6666666667\n",
      "0.66666666666666666667\n",
      "0.6666666666666666666666666666666666666667\n"
     ]
    }
   ],
   "source": [
    "print(math.pi) # cislo pi ulozene numericky \n",
    "pi = sym.pi # cislo pi ulozene symbolicky \n",
    "print(pi) # symbolicky vypis cisla pi \n",
    "print(pi.evalf(5)) # numericka reprezentacia cisla pi na 4 destinne miesta \n",
    "print(pi.evalf(10)) # numericka reprezentacia cisla pi na 9 destinnych miest  \n",
    "print(pi.evalf(20)) \n",
    "print(pi.evalf(40)) \n",
    "print('')\n",
    "print('*********************************************') \n",
    "print('') \n",
    "print(2/3) # podiel 2/3 numericky \n",
    "podiel = sym.Rational(2,3) # podiel 2/3 symbolicky (ako zlomok resp. racionalne cislo)\n",
    "print(podiel) # symbolicky vypis podielu (zlomku) \n",
    "print(podiel.evalf(5)) # numericka reprezentacia podielu 2/3 na 4 desatinne miesta \n",
    "print(podiel.evalf(10)) # numericka reprezentacia podielu 2/3 na 9 desatinnych miest \n",
    "print(podiel.evalf(20)) \n",
    "print(podiel.evalf(40)) "
   ]
  },
  {
   "cell_type": "markdown",
   "metadata": {},
   "source": [
    "--- "
   ]
  },
  {
   "cell_type": "markdown",
   "metadata": {},
   "source": [
    "---\n",
    "\n",
    "#### Poznámka 1 \n",
    "\n",
    "Je potrebné mať na pamäti, že pri riešení reálneho problému sa obvykle vyskytujú všetky chyby súčasne.  \n",
    "\n",
    "--- "
   ]
  },
  {
   "attachments": {
    "t3.PNG": {
     "image/png": "[encoded data removed]"
    }
   },
   "cell_type": "markdown",
   "metadata": {},
   "source": [
    "--- \n",
    "\n",
    "#### <font color=blue> Príklad 8  </font> \n",
    "\n",
    "Majme $f\\in C^2\\langle a,b \\rangle$. Podľa Vety o strednej hodnote pre integrály platí \n",
    "\n",
    "$$f'(x)=\\dfrac{f(x+h)-f(x)}{h}+\\dfrac{1}{h}\\displaystyle\\int_{x}^{x+h}f''(t)(x+h-t)\\,\\mathrm{d}t$$ \n",
    "\n",
    "a \n",
    "\n",
    "$$\\left|\\dfrac{1}{h}\\displaystyle\\int_{x}^{x+h}f''(t)(x+h-t)\\,\\mathrm{d}t\\right|\\le ch.$$\n",
    "\n",
    "Preto platí $f'(x)\\approx \\dfrac{f(x+h)-f(x)}{h}$ a chyba je rádu $\\mathcal{O}(h)$. Ide o chybu metódy (anglicky *method error* alebo tiež *truncation error*). \n",
    "\n",
    "Ďalej položme $f(x)=\\ln x$ a budeme počítať približné hodnoty (aproximácie) $f'(3)\\approx\\dfrac{f(3+h)-f(3)}{h}$ pre malé $h$ (pomocou kalkulačky s 11 číslicami). Dostaneme tieto výsledky: \n",
    "\n",
    "![t3.PNG](attachment:t3.PNG) \n",
    "$$\\text{Zdroj: Ackleh (2009).}$$\n",
    "\n",
    "Môžeme si všimnúť, že v prvých štyroch krokoch chyba klesá s faktorom $10$ (desaťnásobne) pričom $h$ sa zmenšuje tiež desaťnásobne - tzn., že chyba metódy dominuje. Avšak od $h=0.00001$ chyba rastie - tzn., že dominuje zaokrúhľovacia chyba (kvôli konečnému počtu číslic). \n",
    "\n",
    "---"
   ]
  },
  {
   "attachments": {
    "t4.PNG": {
     "image/png": "[encoded data removed]"
    }
   },
   "cell_type": "markdown",
   "metadata": {},
   "source": [
    "---\n",
    "\n",
    "#### Poznámka 2 \n",
    "\n",
    "Existujú **dve možnosti ako zredukovať zaokrúhľovacie chyby**: \n",
    "\n",
    "1. Chyba metódy sa dá zredukovať voľbou presnejšej metódy. Uvažujme pre Príklad 8 vzťah \n",
    "<br/>\n",
    "<br/>\n",
    "$$f'(x)=\\dfrac{f(x+h)-f(x-h)}{2h}+\\text{ {chyba} }, \\qquad \\text{ kde } \\text{ {chyba} je } \\mathcal{O}(h^2).$$\n",
    "<br/>\n",
    "\n",
    "![t4.PNG](attachment:t4.PNG)  \n",
    "$$\\text{Zdroj: Ackleh (2009).}$$\n",
    "<br/>\n",
    "Chyba klesá stonásobne, pričom $h$ sa zmenšuje desaťnásobne. \n",
    "\n",
    "2. Chybu zaokrúhľovania možno znížiť použitím viacerých číslic presnosti, ako je napríklad aritmetika s dvojitou presnosťou (alebo s viacnásobnou presnosťou).\n",
    "\n",
    "--- "
   ]
  },
  {
   "cell_type": "markdown",
   "metadata": {},
   "source": [
    "## Absolútna a relatívna chyba"
   ]
  },
  {
   "cell_type": "markdown",
   "metadata": {},
   "source": [
    "Vo výpočtoch sme často nútení nahradiť presné číslo $x$ približným číslom $\\tilde{x}$. Číslo $\\tilde{x}$ potom nazývame **_aproximáciou_** čísla $x$. Rozdiel $\\Delta x=\\tilde{x}-x$ nazývame **_absolútnou chybou_** aproximácie $\\tilde{x}$ a číslo $\\dfrac{\\Delta x}{x}=\\dfrac{\\tilde{x}-x}{x}$, $x\\neq0$ nazývame **_relatívnou chybou_** aproximácie $\\tilde{x}$. Pre $|\\Delta x|\\le\\varepsilon$ sa používa tiež symbolický zápis $\\tilde{x}=x\\pm\\varepsilon$ a myslí sa tým $x-\\varepsilon\\le\\tilde{x}\\le x+\\varepsilon$. Podobne sa pre $|\\Delta x/x|\\le\\delta$ používa zápis $\\tilde{x}=x(1\\pm\\delta)$. **Absolútna hodnota relatívnej chyby sa často uvádza v percentách.** \n",
    "\n",
    "Teraz **odhadneme chybu, ktorej sa dopustíme pri výpočte hodnoty $f(x_1,x_2,\\ldots,x_n)$ funkcie $f$, keď presné hodnoty $x_i$ nahradíme približnými hodnotami $\\tilde{x}_i=x_i+\\Delta x_i$**. Pomocou Taylorovho rozvoja $f\\left(\\tilde{\\mathbf{x}}\\right)$ v okolí bodu $\\mathbf{x}=(x_1,x_2,\\ldots x_n)'$, pričom $\\tilde{\\mathbf{x}}=\\left(\\tilde{x}_1,\\tilde{x}_2,\\ldots,\\tilde{x}_n\\right)'$, dostaneme \n",
    "\n",
    "$$f\\left(\\tilde{\\mathbf{x}}\\right)=f(\\mathbf{x})+\\displaystyle\\sum\\limits_{i=1}^{n}\\Delta x_i\\dfrac{\\partial f(\\mathbf{x})}{\\partial x_i}+\\dfrac{1}{2}\\displaystyle\\sum\\limits_{i,j=1}^{n}\\Delta x_i\\Delta x_j\\dfrac{\\partial^2f(\\mathbf{x})}{\\partial x_i\\partial x_j}+\\ldots$$ \n",
    "\n",
    "Ak považujeme súčiny chýb $\\Delta x_i\\Delta x_j$ za malé (zanedbateľné), potom pre absolútnu chybu máme \n",
    "\n",
    "\\begin{equation*} \\label{eq:aproxFuncAbsErr} \\tag{1}\n",
    "\\left|\\Delta f(\\mathbf{x})\\right|:=\\left|f\\left(\\tilde{\\mathbf{x}}\\right)-f(\\mathbf{x})\\right|\\doteq\\left|\\displaystyle\\sum\\limits_{i=1}^{n}\\dfrac{\\partial f(\\mathbf{x})}{\\partial x_i}\\Delta x_i\\right|\\le\\displaystyle\\sum\\limits_{i=1}^{n}\\left|\\dfrac{\\partial f(\\mathbf{x})}{\\partial x_i}\\right|\\cdot\\left|\\Delta x_i\\right|\n",
    "\\end{equation*}\n",
    "\n",
    "a pre chybu relatívnu \n",
    "\n",
    "\\begin{equation*} \\label{eq:aproxFuncRelErr} \\tag{2}\n",
    "\\left|\\dfrac{\\Delta f(\\mathbf{x})}{f(\\mathbf{x})}\\right|\\doteq\\left|\\displaystyle\\sum\\limits_{i=1}^{n}\\dfrac{x_i}{f(\\mathbf{x})}\\dfrac{\\partial f(\\mathbf{x})}{\\partial x_i}\\dfrac{\\Delta x_i}{x_i}\\right|\\le\\displaystyle\\sum\\limits_{i=1}^{n}\\left|\\dfrac{x_i}{f(\\mathbf{x})}\\dfrac{\\partial f(\\mathbf{x})}{\\partial x_i}\\right|\\cdot\\left|\\dfrac{\\Delta x_i}{x_i}\\right|\n",
    "\\end{equation*}\n",
    "\n",
    "Pri odhadoch v praxi sa hodnota funkcie $f$ a hodnoty jej derivácií $\\dfrac{\\partial f}{\\partial x_i}$ na pravých stranách približných nerovností \\eqref{eq:aproxFuncAbsErr} a \\eqref{eq:aproxFuncRelErr} počítajú v bode $\\tilde{\\mathbf{x}}$. "
   ]
  },
  {
   "cell_type": "markdown",
   "metadata": {},
   "source": [
    "## Chyby základných aritmetických operácií "
   ]
  },
  {
   "cell_type": "markdown",
   "metadata": {},
   "source": [
    "Ak zvolíme $f(x,y)=x\\pm y$, tak dostanenme pre absolútnu a relatívnu chybu súčtu i rozdielu nasledovné: \n",
    "\n",
    "\\begin{equation*} \\label{eq:addSubAbsRelErr} \\tag{3}\n",
    "\\Delta(x\\pm y)\\doteq\\Delta x \\pm \\Delta y, \\qquad\\qquad \\dfrac{\\Delta(x\\pm y)}{x\\pm y}\\doteq\\dfrac{x}{x\\pm y}\\dfrac{\\Delta x}{x}\\pm\\dfrac{y}{x\\pm y}\\dfrac{\\Delta y}{y}.\n",
    "\\end{equation*}\n",
    "\n",
    "Pre vyjadrenie chyby súčinu volíme $f(x,y)=xy$ a získame \n",
    "\n",
    "\\begin{equation*} \\label{eq:prodAbsRelErr} \\tag{4} \n",
    "\\Delta(xy)\\doteq y\\Delta x + x\\Delta y, \\qquad\\qquad \\dfrac{\\Delta(xy)}{xy}\\doteq\\dfrac{\\Delta x}{x}+\\dfrac{\\Delta y}{y}. \n",
    "\\end{equation*} \n",
    "\n",
    "Nakoniec pre chybu podielu dostaneme voľbou $f(x,y)=x/y$ \n",
    "\n",
    "\\begin{equation*} \\label{eq:divAbsRelErr} \\tag{5} \n",
    "\\Delta\\left(\\dfrac{x}{y}\\right)\\doteq\\dfrac{1}{y}\\Delta x - \\dfrac{x}{y^2}\\Delta y, \\qquad\\qquad \\dfrac{\\Delta(x/y)}{x/y}\\doteq\\dfrac{\\Delta x}{x}-\\dfrac{\\Delta y}{y}.  \n",
    "\\end{equation*} \n",
    "\n",
    "Všimnime si, že relatívna chyba súčtu resp. rozdielu môže byť výrazne väčšia ako relatívna chyba operandov násobenia/delenia v prípade, keď je $|x\\pm y|$ podstatne menšie než $|x|$ alebo $|y|$. Pri delení malým číslom je (vďaka druhej mocnine $y$ v menovateli) významná chyba absolútna. "
   ]
  },
  {
   "cell_type": "markdown",
   "metadata": {},
   "source": [
    "--- \n",
    "\n",
    "#### <font color=blue> Príklad 9 </font> \n",
    " \n",
    "Predpokladajme, že $x=1.5$, $y=3.4$, pričom $x$ vieme určiť s absolútnou chybou $0.05$ a $y$ s absolútnou chybou $0.04$, tzn. $\\left|\\Delta x\\right| \\le 0.05$ a $\\left|\\Delta y\\right|\\le0.04$. Inými slovami, ak $\\tilde{x}$ je aproximácia čísla $x$, tak $x-0.05\\le\\tilde{x}\\le x+0.05$. Podobne $y-0.04\\le\\tilde{y}\\le y+0.04$. \n",
    "Pokúsime sa nájsť hranice pre šírenie chyby pri sčítaní dvoch čísel $x+y$. \n",
    "\n",
    "Zrejme maximálne možné hodnoty sú $x=1.5+0.05=1.55$ a $y=3.4+0.04=3.44$ (berieme $\\Delta x = 0.05$ a $\\Delta y = 0.04$). Preto maximálna možná hodnota pre súčet je $x+y=1.55+3.44=4.99$. \n",
    "\n",
    "Podobne minimálne možné hodnoty sú $x=1.5-0.05=1.45$ a $y=3.4-0.04=3.36$ (berieme $\\Delta x = 0.05$ a $\\Delta y = 0.04$). Preto minimálna možná hodnota pre súčet je $x+y=1.45+3.36=4.81$. \n",
    "\n",
    "Spolu teda dostávame \n",
    "\n",
    "$$4.81\\le x+y \\le 4.99.$$\n",
    "\n",
    "Podľa vzťahu (3) je absolútna chyba súčtu rovná hodnote $0.05+0.04=0.09$. Vzhľadom k (4) je relatívna chyba súčtu rovná hodnote $\\dfrac{0.05+0.04}{1.5+3.4}\\doteq0.0184$ t. j. zhruba $1.84\\%$.  \n",
    "\n",
    "---"
   ]
  },
  {
   "cell_type": "markdown",
   "metadata": {},
   "source": [
    "## Platné dekadické cifry "
   ]
  },
  {
   "cell_type": "markdown",
   "metadata": {},
   "source": [
    "Nech $\\tilde{x}$ je aproximácia čísla $x$, ktorú zapíšeme v mocninovom dekadickom rozvoji nasledovne ($e$ je celočíselný exponent)\n",
    "\n",
    "$$\\tilde{x}=\\pm\\left[d_1\\cdot10^e+d_2\\cdot10^{e-1}+\\ldots+d_k\\cdot10^{e+1-k}+d_{k+1}\\cdot10^{e-k}+\\ldots\\right],\\qquad d_1\\neq0.$$ \n",
    "\n",
    "Hovoríme, že $k$-tá **_dekadická cifra_** $d_k$ aproximácie $\\tilde{x}$ je **_platná_**, ak \n",
    "\n",
    "\\begin{equation*} \\label{eq:decadSigDig} \\tag{6} \n",
    "\\left|\\tilde{x}-x\\right|\\le5\\cdot10^{e-k}\n",
    "\\end{equation*} \n",
    "\n",
    "t. j. keď sa $\\tilde{x}$ líši od $x$ nanajvýš o 5 jednotiek rádu prislúchajúcemu k nasledujúcej cifre. Pokiaľ \\eqref{eq:decadSigDig} platí pre $k\\le p$ ale pre $k=p+1$ už neplatí, vtedy hovoríme, že $\\tilde{x}$ má $p$ **_platných cifier_**. Číslo $\\tilde{x}=\\pm d_1d_2d_3\\ldots d_p\\cdot10^e$, ktoré má všetkých $p$ cifier platných, je **_správne zaokrúhlenou hodnotou_** čísla $x$. "
   ]
  },
  {
   "cell_type": "markdown",
   "metadata": {},
   "source": [
    "## Platné desatinné miesta "
   ]
  },
  {
   "attachments": {
    "t2.PNG": {
     "image/png": "[encoded data removed]"
    }
   },
   "cell_type": "markdown",
   "metadata": {},
   "source": [
    "Hovoríme, že aproximácia $\\tilde{x}$ čísla $x$ má $k$-te **_desatinné miesto platné_**, ak \n",
    "\n",
    "\\begin{equation*} \\label{eq:decimSigDig} \\tag{7} \n",
    "\\left|\\tilde{x}-x\\right|\\le5\\cdot10^{-k-1}\n",
    "\\end{equation*} \n",
    "\n",
    "t. j. keď sa $\\tilde{x}$ líši od $x$ nanajvýš o 5 jednotiek rádu prislúchajúcemu k nasledujúcemu desatinnému miestu. Pokiaľ \\eqref{eq:decimSigDig} platí pre $k\\le p$ ale pre $k=p+1$ už neplatí, vtedy hovoríme, že $\\tilde{x}$ má $p$ **_platných desatinných miest_**. V správne zaokrúhlenom čísle je teda každé desatinné miesto platné. \n",
    "\n",
    "Niekoľko príkladov je uvedených v nasledujúcej tabuľke: \n",
    "\n",
    "![t2.PNG](attachment:t2.PNG) \n"
   ]
  },
  {
   "cell_type": "markdown",
   "metadata": {},
   "source": [
    "<font color=orange> Závery z predchádzajúcej tabuľky overte v Python-e.  </font> "
   ]
  },
  {
   "cell_type": "code",
   "execution_count": null,
   "metadata": {},
   "outputs": [],
   "source": []
  },
  {
   "cell_type": "markdown",
   "metadata": {},
   "source": [
    "**Pri odčítavaní dvoch blízkych čísel dochádza k strate platných cifier** - ilustruje to ďalší príklad. "
   ]
  },
  {
   "cell_type": "markdown",
   "metadata": {},
   "source": [
    "--- \n",
    "\n",
    "#### <font color=blue> Príklad 10 </font> \n",
    " \n",
    "Majme \n",
    "\n",
    "$$x=4.998949 \\times 10^1, \\quad \\tilde{x}=4.999 \\times 10^1, \\quad |\\Delta x|=5.10 \\times 10^{-4}, \\quad \\left|\\dfrac{\\Delta x}{x}\\right|\\doteq 1.020 \\times 10^{-5},$$\n",
    "\n",
    "$$y=5.001848 \\times 10^1, \\quad \\tilde{y}=5.002 \\times 10^1, \\quad |\\Delta y|=1.52 \\times 10^{-3}, \\quad \\left|\\dfrac{\\Delta y}{y}\\right|\\doteq 3.039 \\times 10^{-5},$$\n",
    "\n",
    "potom pre rozdiely $z=y-x$, $\\tilde{z}=\\tilde{y}-\\tilde{x}$ dostávame \n",
    "\n",
    "$$z=2.899 \\times 10^{-2}, \\quad \\tilde{z}=3 \\times 10^{-2}, \\quad |\\Delta z|=1.01 \\times 10^{-3}, \\quad \\left|\\dfrac{\\Delta z}{y}\\right|\\doteq 3.484 \\times 10^{-2},$$\n",
    "\n",
    "takže $\\tilde{z}$ má len jednu platnú cifru, zatiaľ čo $\\tilde{x}$, $\\tilde{y}$ majú štyri platné cifry. \n",
    "\n",
    "---"
   ]
  },
  {
   "cell_type": "markdown",
   "metadata": {},
   "source": [
    "--- \n",
    "\n",
    "#### <font color=blue> Príklad 11 </font> \n",
    " \n",
    "Nech $x=1.3262\\pm 5 \\times 10^{-5}$, $y=-6.5347 \\pm 5 \\times 10^{-5}$, $z=13.235 \\pm 5 \\times 10^{−4}$. \n",
    "\n",
    "Máme určiť aproximáciu funkčnej hodnoty $f=xy/z$, absolútnu i relatívnu chybu a počet platných cifier výsledku. \n",
    "\n",
    "Vypočítame $\\tilde{f}=\\tilde{x}\\tilde{y}/\\tilde{z}=-6.548031\\ldots \\times 10^{−1}$. Podľa (1) potom približne platí \n",
    "\n",
    "$$\\left|\\dfrac{\\Delta f}{\\tilde{f}}\\right|\\le\\left[\\left|\\dfrac{\\tilde{y}}{\\tilde{z}}\\Delta x\\right|+\\left|\\dfrac{\\tilde{x}}{\\tilde{z}}\\Delta y\\right|+\\left|\\dfrac{\\tilde{x}\\tilde{y}}{\\tilde{z}^2}\\Delta z\\right|\\right]\\left|\\dfrac{\\tilde{x}\\tilde{y}}{\\tilde{z}}\\right|^{-1}=\\left|\\dfrac{\\Delta x}{\\tilde{x}}\\right|+\\left|\\dfrac{\\Delta y}{\\tilde{y}}\\right|+\\left|\\dfrac{\\Delta z}{\\tilde{z}}\\right|\\doteq8.31\\times10^{-5}.$$\n",
    "\n",
    "Odtiaľ $|\\Delta f|\\doteq8.31\\times10^{-5}$, $|\\tilde{f}|\\doteq5.44\\times10^{-5}<5\\times10^{-1-3}$, takže (s troma platnými ciframi) $f=-0.6548\\pm0.0001$. \n",
    "\n",
    "---"
   ]
  },
  {
   "cell_type": "markdown",
   "metadata": {},
   "source": [
    "***\n",
    "<a id=repre></a>\n",
    " # <font color=brown> Reprezentácia čísel v počítači </font>"
   ]
  },
  {
   "cell_type": "markdown",
   "metadata": {},
   "source": [
    "Reálne čísla sú v počitačoch reprezentované v tzv. **_systéme čísel s pohyblivou rádovou čiarkou_** (v angličtine *floating point numbers*). Základná myšlienka je podobná *semilogaritmickému zápisu* (v angličtine *scientific notation*), v ktorom napr. číslo $245700$ píšeme ako $2.457 \\times 10^5$ a číslo $0.0005768$ ako $5.768 \\times 10^{−4}$. V tomto formáte sa desatinná čiarka \"pohybuje\" (v doslovnom preklade \"pláva\") v závislosti na dekadickom exponente. Formálne je možné systém $\\mathbb{F}$ **_normalizovaných čísel pohyblivej rádovej čiarky_** charakterizovať štyrmi celými číslami: \n",
    "\n",
    "* $\\beta$ - základ číselnej sústavy ($\\beta\\ge2$); \n",
    "\n",
    "* $p$ - presnosť ($p>1$); \n",
    "\n",
    "* $[L,U]$ - rozsah exponentu ($L<0<U$). \n",
    "\n",
    "Každé číslo $x\\in\\mathbb{F}$ má tvar \n",
    "\n",
    "$$x=\\pm m\\cdot\\beta^e,\\quad \\text{ kde } \\quad m=d_1+\\dfrac{d_2}{\\beta}+\\dfrac{d_3}{\\beta^2}+\\ldots+\\dfrac{d_p}{\\beta^{p-1}}$$ \n",
    "\n",
    "je **_normalizovaná mantisa_**, a $d_i\\in\\{0,1,\\ldots,\\beta-1\\}$, $i\\in\\{1,2,\\ldots,p\\}$ sú cifry mantisy, $p$ je počet cifier mantisy a $e\\in\\left[L,U\\right]$ je celočíselný exponent. Normalizácia mantisy znamená, že pre $x\\neq0$ je prvá cifra mantisy nenulová, t. j. platí $d_1\\ge1$, takže $1\\le m <\\beta$. Pre $x=0$ je nulová mantisa aj exponent, tzn. $m=e=0$. \n",
    "\n",
    "Väčšina počítačov používa **_binárnu aritmetiku_**, kde $\\beta=2$ (ide vlastne o prácu v pozičnej číselnej sústave so základom $2$, tzv. dvojková sústava). Pre stručnejší zápis binárnych čísel sa bežne používa _hexadecimálna sústava_ (šestnástková), kde $\\beta=16$ (cifry $10$ až $15$ sa zapisujú pomocou písem $A,B,C,D,E,F$). Niekedy sa využíva tiež *oktálna (osmičková) sústava*, kde $\\beta=8$. Výsledky výpočtov sa však zvyčajne zapisujú v bežnej - *dekadickej (desiatkovej) sústave*, t. j. pre $\\beta=10$. \n",
    "Viac o najpoužívanejších pozičných číselných sústavách v informačných technológiách a o práci v nich sa môžete dočítať napr. [tu](https://nbviewer.org/github/gajdosandrej/MTIa/blob/main/MTIa/Tema4/MTIaTema4CiselneSustavy.ipynb?flush_cache=true) alebo tiež [tu](https://homel.vsb.cz/~hom50/INFORM/HWDDATA/HWDDATA.HTM). "
   ]
  },
  {
   "cell_type": "code",
   "execution_count": 37,
   "metadata": {},
   "outputs": [
    {
     "name": "stdout",
     "output_type": "stream",
     "text": [
      "Hodnota binarneho cisla 1011 v desiatkovej sustave :  11\n",
      "(1011)_2 = (1*2^0 + 1*2^1 + 0*2^2 + 1*2^3)_{10} = (11)_{10} = 11\n",
      "\n",
      "Hodnota oktalneho cisla 123 v desiatkovej sustave :  83\n",
      "(123)_8 = (3*8^0 + 2*8^1 + 1*8^2)_{10} = (83)_{10} = 83\n",
      "\n",
      "Hodnota decimalneho cisla 4321 v desiatkovej sustave :  4321\n",
      "(4321)_{10} = (1*10^0 + 2*10^1 + 3*10^2 + 4*10^3)_{10} = (4321)_{10} = 4321\n",
      "\n",
      "Hodnota hexadecimalneho cisla 2B5 v desiatkovej sustave :  693\n",
      "(2B5)_{16} = (5*16^0 + 11*16^1 + 2*16^2)_{10} = (693)_{10}=693\n"
     ]
    }
   ],
   "source": [
    "x = 0b1011 # '0b' znaci, ze cislo je zadavane v dvojkovej sustave\n",
    "print('Hodnota binarneho cisla ' + str(1011) + ' v desiatkovej sustave : ',x) \n",
    "print('(1011)_2 = (1*2^0 + 1*2^1 + 0*2^2 + 1*2^3)_{10} = (11)_{10} = 11') \n",
    "print('')\n",
    "x = 0o123 # '0o' znaci, ze cislo je zadavane v osmickovej sustave\n",
    "print('Hodnota oktalneho cisla 123 v desiatkovej sustave : ',x) \n",
    "print('(123)_8 = (3*8^0 + 2*8^1 + 1*8^2)_{10} = (83)_{10} = 83') \n",
    "print('')\n",
    "x = 4321 # standardne je cislo zadavane v desiatkovej sustave\n",
    "print('Hodnota decimalneho cisla 4321 v desiatkovej sustave : ',x) \n",
    "print('(4321)_{10} = (1*10^0 + 2*10^1 + 3*10^2 + 4*10^3)_{10} = (4321)_{10} = 4321') \n",
    "print('')\n",
    "x = 0x2B5 # '0x' znaci, ze cislo je zadavane v sestnastkovej sustave\n",
    "print('Hodnota hexadecimalneho cisla 2B5 v desiatkovej sustave : ',x) \n",
    "print('(2B5)_{16} = (5*16^0 + 11*16^1 + 2*16^2)_{10} = (693)_{10}=693') "
   ]
  },
  {
   "cell_type": "code",
   "execution_count": 40,
   "metadata": {},
   "outputs": [
    {
     "name": "stdout",
     "output_type": "stream",
     "text": [
      "Hodnota cisla 344 v sustave\n",
      "binarnej: 0b101011000;\n",
      "oktalnej: 0o530;\n",
      "hexadecimalnej: 0x158.\n"
     ]
    }
   ],
   "source": [
    "# prevody z desiatkovej sustavy do inych sustav \n",
    "dec = 344\n",
    "print('Hodnota cisla', dec, \"v sustave\")\n",
    "print('binarnej: ' + bin(dec) + ';')\n",
    "print('oktalnej: ' + oct(dec) + ';')\n",
    "print('hexadecimalnej: ' + hex(dec) + '.')"
   ]
  },
  {
   "cell_type": "markdown",
   "metadata": {},
   "source": [
    "<font color=orange> Pomocou Python-u vykonajte nasledovné konverzie: $(1001)_{2}=(?)_8$, $(100101)_{2}=(?)_{16}$, $(123)_8=(?)_2$, $(456)_8=(?)_{16}$, $(FACE)_{16}=(?)_2$, $(94AB)_{16}=(?)_{8}$.  </font> "
   ]
  },
  {
   "cell_type": "code",
   "execution_count": null,
   "metadata": {},
   "outputs": [],
   "source": []
  },
  {
   "cell_type": "markdown",
   "metadata": {},
   "source": [
    "Množina $\\mathbb{F}$ čísel pohyblivej rádovej čiarky je konečná, počet čísel v nej je $2(\\beta - 1)\\beta^{p-1}(U - L + 1) + 1$, lebo môžeme voliť dve znamienka (plus/mínus), $\\beta-1$ možností je pre prvú cifru mantisy, $U-L+1$ je možných hodnôt exponentu a posledná jednotka odpovedá číslu nula. \n",
    "\n",
    "Najmenšie kladné číslo v $\\mathbb{F}$ je číslo $UFL=\\beta^L$ (z anglického *Under Flow Level*), ktoré má prvú cifru mantisy rovnú jednotke, zvyšné cifry sú nulové a exponent je najmenší možný. Najväčšie číslo v $\\mathbb{F}$ je číslo $OFL=\\left(\\beta-\\beta^{1-p}\\right)\\beta^U$ (z anglického *Over Flow Level*), ktoré má všetky cifry mantisy rovné $\\beta-1$ a exponent najväčší možný. "
   ]
  },
  {
   "cell_type": "markdown",
   "metadata": {},
   "source": [
    "## Zaokrúľovanie "
   ]
  },
  {
   "cell_type": "markdown",
   "metadata": {},
   "source": [
    "Reálne čísla, ktoré sú presne zobraziteľné (reprezentovateľné) v systéme $\\mathbb{F}$, sa nazývajú **_strojové čísla_**. Pokiaľ dané reálne číslo  $x\\notin\\mathbb{F}$, musíme ho aproximovať \"blízkym\" strojovým číslom, ktoré označíme $fl(x)$ (z anglického *floating*). Štandardný spôsob je **_zaokrúhľovanie_**: $fl(x)$ je strojové číslo (s konečnou presnosťou) najbližšie k $x$ (keď máme na výber z dvoch možností, potom vyberieme strojové číslo, ktoré má poslednú cifru párnu). Existujú i [ďalšie prístupy k zaokrúhľovaniu](https://sk.alegsaonline.com/art/84346), napr. v angličtine označované ako **_chopping_** - **_(s)krátenie_** (v binárnej reprezentácii strojového čísla \"zahodíme\" bity nasledujúce za 52. bitom reprezentujúcim mantisu) a **_rounding_** - **_zaokrúhlenie_** (v desiatkovej sústave sa čísla zvyčajne zaokrúhľujú nahor, ak je nasledujúca číslica 5 alebo vyššia, a inak sa zaokrúhľujú nadol. V binárnom systéme to zodpovedá zaokrúhleniu nahor, ak je bit 1.).  "
   ]
  },
  {
   "cell_type": "markdown",
   "metadata": {},
   "source": [
    "---\n",
    "\n",
    "#### Poznámka 3 \n",
    "\n",
    "Vo všeobecnosti, ak sa počíta numerická aproximácia $\\tilde{z}$ k veličine $z$, **relatívna chyba súvisí s počtom správnych (platných) číslic za desatinnou čiarkou** (resp. bodkou). Napríklad, ak $z = 0.0000123453$ a $\\tilde{z} = 0.00001234543$, hovoríme, že $\\tilde{z}$ je správne na $5$ *platných číslic*. Vyjadrením $z$ v tvare $0.123453 \\times 10^{-4}$ a $\\tilde{z}$ v tvare $0.123454 \\times 10^{-4}$ vidíme, že ak zaokrúhlime $\\tilde{z}$ na najbližšie číslo s piatimi číslicami v mantise, všetky tieto číslice sú správne, zatiaľ čo ak urobíme to isté so šiestimi číslicami, šiesta číslica nie je správna. Platné číslice sú logickejším spôsobom, ako hovoriť o presnosti pri výpočte s pohyblivou rádovou čiarkou, kde nás zaujíma relatívna chyba, a nie „počet číslic za desatinnou čiarkou“, ktorý môže mať iný význam. (Tu by sa dalo povedať, že $\\tilde{z}$ je správne na 9 číslic za desatinnou čiarkou.) \n",
    "\n",
    "--- "
   ]
  },
  {
   "cell_type": "markdown",
   "metadata": {},
   "source": [
    "--- "
   ]
  },
  {
   "cell_type": "markdown",
   "metadata": {},
   "source": [
    "## Strojová presnosť "
   ]
  },
  {
   "cell_type": "markdown",
   "metadata": {},
   "source": [
    "Číslo $\\varepsilon_m=\\beta^{1-p}$ sa nazýva **_strojové epsilon_** alebo tiež **_strojová presnosť_** (anglicky _machine epsilon_ ozn. $\\varepsilon_{mach}$). Význam čísla $\\varepsilon_{mach}$ dokladuje niekoľko jeho charakteristických vlastností: \n",
    "\n",
    "a) v intervale $\\left\\langle\\beta^e,\\beta^{e+1}\\right\\rangle$ sú strojové čísla rozmiestnené rovnomerne s krokom $\\varepsilon_{m}\\beta^e$; \n",
    "\n",
    "b) najväčšia možná relatívna chyba, ktorá vznikne pri aproximácii reálneho čísla v systéme $\\mathbb{F}$ pohyblivej rádovej čiarky, nepresiahne $\\frac{1}{2}\\varepsilon_m$, t.j. platí $\\left|fl(x)-x\\right|\\le\\frac{1}{2}\\varepsilon_m|x|$; \n",
    "\n",
    "c) $\\varepsilon_m$ je najväčšie z kladných čísel $\\varepsilon$, pre ktoré platí $fl\\left(1+\\frac{1}{2}\\varepsilon\\right)=1$. \n",
    "\n",
    "\n",
    "Je vhodné uvedomiť si, že $\\varepsilon_m\\in\\mathbb{F}$, len ak $1-p\\ge L$. "
   ]
  },
  {
   "attachments": {
    "strojove_cisla.PNG": {
     "image/png": "[encoded data removed]"
    }
   },
   "cell_type": "markdown",
   "metadata": {},
   "source": [
    "--- \n",
    "\n",
    "#### <font color=blue> Príklad 12 </font> \n",
    " \n",
    "Preskúmajme, aké čísla môžeme zobraziť v modelovom binárnom systéme $\\mathbb{F}$, v ktorom mantisa má $p=4$ cifry, exponent $e$ je ohraničený zdola číslom $L=-3$ a zhora ohraničený číslom $U=2$, tzn. $-3\\le e \\le 2$. Umiestnenie kladných strojových čísel na číselnej osi je znázornené na obrázku nižšie: najmenšie z nich je $UFL=2^{-3}=1/8$; najväčšie je $OFL=\\left(2-2^{-3}\\right)\\times2^2=8-1/2$. Všimnime si, že v každom binárnom intervale $2^e\\le x\\le2^{e+1}$, sú čísla rozložené rovnomerne s krokom $\\varepsilon_m2^e$. Napr. medzi $1$ a $2$ t.j. pre $e=0$, je vzdialenosť dvoch susedných čísel rovná $\\varepsilon_m=1/8$. Zadaný systém $\\mathbb{F}$ obsahuje $48$ kladných čísel, $48$ záporných čísel a nulu, t. j. celkovo $97$ čísel. \n",
    "\n",
    "![strojove_cisla.PNG](attachment:strojove_cisla.PNG) \n",
    "$$\\text{Zdroj: Čermák (2020).}$$\n",
    "\n",
    "---"
   ]
  },
  {
   "cell_type": "markdown",
   "metadata": {},
   "source": [
    "## Štandard IEEE"
   ]
  },
  {
   "attachments": {
    "IEEE_754_Double_Floating_Point_Format.png": {
     "image/png": "[encoded data removed]"
    },
    "dp1.PNG": {
     "image/png": "[encoded data removed]"
    },
    "dp2.PNG": {
     "image/png": "[encoded data removed]"
    }
   },
   "cell_type": "markdown",
   "metadata": {},
   "source": [
    "V počítačoch vyvinutých po roku 1985 sa reálne čísla zobrazujú prakticky výhradne podľa tzv. štandardu IEEE (*The Institute of Electrical and Electronics Engineers*; *Standard for Binary Floating Point Arithmetic*) a to spravidla v týchto presnostiach: \n",
    "\n",
    "a) **_Jednoduchá presnosť_** (anglicky *single precision*). Použijú sa $4$ bajty, t. j. $32$ bitov (viac napr. [tu](https://homel.vsb.cz/~hom50/INFORM/HWDDATA/HWDDATA.HTM)), z toho $23$ bitov pre mantisu, $8$ bitov pre exponent a $1$ bit pre znamienko mantisy. Keďže mantisa je normalizovaná, pre $x\\neq0$ je $d_1=0$. Táto cifra sa neukladá, preto je počet cifier mantisy $p=24$. Rozsah exponentu je $-126\\le e \\le 127$. Zobraziť je možné dekadické čísla s absolútnou hodnotou v rozsahu \n",
    "\n",
    "$$UFL=2^{-126}\\doteq1.2\\times10^{-38} \\qquad \\text{ až } OFL=\\left(2-2^{-23}\\right)\\times2^{127}\\doteq3.4\\times10^{38}$$ \n",
    "\n",
    "a nulu (má všetky bity nulové). Strojová presnosť $\\varepsilon_m=2^{-23}\\doteq1.2\\times10^{-7}$. Hovoríme, že mantisa má zhruba $7$ dekadických cifier presnosti. \n",
    "\n",
    "b) **_Dvojnásobná presnosť_** (anglicky *double precision*). Použije sa $8$ bajtov, t. j. $64$ bitov, z toho $52$ bitov pre mantisu, $11$ bitov pre exponent a $1$ bit pre znamienko mantisy. Prvý bit mantisy sa neukladá (pre $x\\neq0$ je $d_1=1$), takže mantisa má $p=53$ cifier. Rozsah exponentu je $-1022\\le e \\le 1023$. Zobraziť je možné dekadické čísla s absolútnou hodnotou  v rozsahu \n",
    "\n",
    "$$UFL=2^{-1022}\\doteq2.2\\times10^{-308} \\qquad \\text{ až } OFL=\\left(2-2^{-52}\\right)\\times2^{1023}\\doteq1.8\\times10^{308}$$ \n",
    "\n",
    "a nulu (má všetky bity nulové). Strojová presnosť $\\varepsilon_m=2^{-52}\\doteq2.2\\times10^{-16}$. Hovoríme, že mantisa má zhruba $16$ dekadických cifier presnosti. \n",
    "\n",
    "![IEEE_754_Double_Floating_Point_Format.png](attachment:IEEE_754_Double_Floating_Point_Format.png) \n",
    "$$\\text{Zdroj: https://en.wikipedia.org/wiki/Double-precision_floating-point_format}.$$\n",
    "\n",
    "Reprezentácia čísla $1$ v dvojnásobnej presnosti \n",
    "\n",
    "![dp1.PNG](attachment:dp1.PNG)\n",
    "\n",
    "Najbližšie číslo s pohyblivou rádovou čiarkou väčšie ako je $1$ je číslo $1+2^{-52}$ \n",
    "\n",
    "![dp2.PNG](attachment:dp2.PNG) \n",
    "\n",
    "Podľa IEEE štandardu existuje tiež binárna reprezentácia $INF$ pre výrazy typu $+\\infty$ (napr. výsledok operácie $1/0$), $-INF$ pre výrazy typu $-\\infty$ (napr. výsledok operácie $-1/0$) a $NAN$ (not a number) pre výrazy typu $0/0$, $\\infty-\\infty$, $0\\times\\pm(\\infty)$ (napr. výsledok operácie $1/0-2/0$). Systém $\\mathbb{F}$ je na väčšine počítačov rozšírený o tzv. **_subnormálne čísla_** - ide o nenulové nenormalizované čísla s najmenším možným exponentom $e=L$. Najmenšie kladné subnormálne číslo $UFL_s=\\varepsilon_m\\times UFL$, t. j. v jednoduchej presnosti $UFL_s\\doteq1.4\\times10^{-45}$ a v dvojnásobnej presnosti $UFL_s\\doteq4.9\\times10^{-324}$. "
   ]
  },
  {
   "cell_type": "code",
   "execution_count": 3,
   "metadata": {},
   "outputs": [
    {
     "name": "stdout",
     "output_type": "stream",
     "text": [
      "double precision 64 bit pi = 3.141592653589793115997963469\n",
      "single precision 32 bit pi = 3.141592741012573242187500000\n",
      "first 27 digits of pi      = 3.141592653589793238462643383\n"
     ]
    }
   ],
   "source": [
    "# https://www.piday.org/million/ \n",
    "# uvazujme cislo pi \n",
    "# kolko cislic moze cislo s pohyblivou radovou ciarkou v pocitaci presne reprezentovat? \n",
    "\n",
    "pi=np.pi\n",
    "\n",
    "double=np.array([pi],dtype='float64')\n",
    "single=np.array([pi],dtype='float32')\n",
    "print('double precision 64 bit pi = {:1.27f}'.format(double[0])) # 64-bit\n",
    "print('single precision 32 bit pi = {:1.27f}'.format(single[0])) # 32-bit\n",
    "print('first 27 digits of pi      = 3.141592653589793238462643383')"
   ]
  },
  {
   "cell_type": "code",
   "execution_count": 2,
   "metadata": {},
   "outputs": [
    {
     "name": "stdout",
     "output_type": "stream",
     "text": [
      "2.220446049250313e-16\n",
      "1.1920929e-07\n"
     ]
    }
   ],
   "source": [
    "# jednoducha (strojova) presnost \n",
    "print(np.finfo(float).eps) \n",
    "# dvojnasobna (strojova) presnost \n",
    "print(np.finfo(np.float32).eps)"
   ]
  },
  {
   "attachments": {
    "overflow_underflow.PNG": {
     "image/png": "[encoded data removed]"
    }
   },
   "cell_type": "markdown",
   "metadata": {},
   "source": [
    "![overflow_underflow.PNG](attachment:overflow_underflow.PNG) \n",
    "$$\\text{Zdroj: Gezerlis (2020).}$$"
   ]
  },
  {
   "cell_type": "code",
   "execution_count": 13,
   "metadata": {},
   "outputs": [
    {
     "name": "stdout",
     "output_type": "stream",
     "text": [
      "Machine parameters for float16\n",
      "---------------------------------------------------------------\n",
      "precision =   3   resolution = 1.00040e-03\n",
      "machep =    -10   eps =        9.76562e-04\n",
      "negep =     -11   epsneg =     4.88281e-04\n",
      "minexp =    -14   tiny =       6.10352e-05\n",
      "maxexp =     16   max =        6.55040e+04\n",
      "nexp =        5   min =        -max\n",
      "---------------------------------------------------------------\n",
      "\n",
      "Machine parameters for float32\n",
      "---------------------------------------------------------------\n",
      "precision =   6   resolution = 1.0000000e-06\n",
      "machep =    -23   eps =        1.1920929e-07\n",
      "negep =     -24   epsneg =     5.9604645e-08\n",
      "minexp =   -126   tiny =       1.1754944e-38\n",
      "maxexp =    128   max =        3.4028235e+38\n",
      "nexp =        8   min =        -max\n",
      "---------------------------------------------------------------\n",
      "\n",
      "Machine parameters for float64\n",
      "---------------------------------------------------------------\n",
      "precision =  15   resolution = 1.0000000000000001e-15\n",
      "machep =    -52   eps =        2.2204460492503131e-16\n",
      "negep =     -53   epsneg =     1.1102230246251565e-16\n",
      "minexp =  -1022   tiny =       2.2250738585072014e-308\n",
      "maxexp =   1024   max =        1.7976931348623157e+308\n",
      "nexp =       11   min =        -max\n",
      "---------------------------------------------------------------\n",
      "\n",
      "Machine parameters for float64\n",
      "---------------------------------------------------------------\n",
      "precision =  15   resolution = 1.0000000000000001e-15\n",
      "machep =    -52   eps =        2.2204460492503131e-16\n",
      "negep =     -53   epsneg =     1.1102230246251565e-16\n",
      "minexp =  -1022   tiny =       2.2250738585072014e-308\n",
      "maxexp =   1024   max =        1.7976931348623157e+308\n",
      "nexp =       11   min =        -max\n",
      "---------------------------------------------------------------\n",
      "\n"
     ]
    }
   ],
   "source": [
    "# Python a IEEE reprezentacia cisel \n",
    "print(np.finfo(np.float16))\n",
    "print(np.finfo(np.float32))\n",
    "print(np.finfo(float)) \n",
    "print(np.finfo(np.float64))"
   ]
  },
  {
   "attachments": {
    "machine_number.PNG": {
     "image/png": "[encoded data removed]"
    }
   },
   "cell_type": "markdown",
   "metadata": {},
   "source": [
    "--- \n",
    "\n",
    "#### <font color=blue> Príklad 13 </font> \n",
    "\n",
    "Uvažujme (reálne) strojové číslo (v binárnom tvare - t. j. v dvokovej sústave, kde $\\beta=2$) \n",
    "\n",
    "![machine_number.PNG](attachment:machine_number.PNG) \n",
    "\n",
    "Pre reálne číslo sa používa 64-bitová reprezentácia. Prvý bit je indikátor znamienka (kladné/záporné), označený $s$. Potom nasleduje 11-bitový exponent, označený $c$, nazývaný charakteristika, a postupnosť zvyšných 52 bitov reprezentuje mantisu $m$. Základ pre exponent je $\\beta=2$. \n",
    "\n",
    "Pri dvojnásobnej presnosti máme $\\varepsilon_m=2^{-52}\\approx2.2\\times10^{-16}$, čomu zodpovedá približne 16 platných desatinných miest. Exponent 11 binárnych číslic dáva rozsah $0$ až $2^{11}−1 = 2047$. Použitie iba kladných celých čísel pre exponent by však neumožnilo adekvátnu reprezentáciu čísel s malou absolútnou hodnotou. Aby sa zabezpečilo, že čísla s malou absolútnou hodnotou budú rovnako reprezentovateľné, $1023$ sa odpočíta od charakteristiky, takže rozsah exponentu $e=c-1023$ je v skutočnosti od $-1022$ do $1023$ tzn. $-1022\\le e \\le 1023$ (lebo $0<c<(11111111111)_2=2^{11}-1=2047$). \n",
    "\n",
    "Aby sa ušetril ukladací priestor a bola zabezpečená jedinečná reprezentácia každého čísla s pohyblivou rádovou čiarkou, je zavedená normalizácia (pozri vyššie). Pomocou tohto systému získame číslo s pohyblivou rádovou čiarkou v tvare \n",
    "\n",
    "$$(-1)^s2^{c-1023}m=(-1)^s2^{e}m,$$ \n",
    "\n",
    "čo je v podstate to isté ako \n",
    "\n",
    "$$\\pm m\\cdot\\beta^e \\text{ (viď začiatok tejto podkapitoly) pre } \\beta=2$$ \n",
    "\n",
    "alebo tiež \n",
    "\n",
    "$$(-1)^s\\left(1+\\displaystyle\\sum\\limits_{i=1}^{52}d_i2^{-i+1}\\right)\\times2^e \\quad \\text{resp.} \\quad (-1)^s(1.d_1d_2\\ldots d_{52})_2\\times2^e.$$\n",
    "\n",
    "V zadanom čísle na začiatku príkladu, je bit najviac vľavo $0$, čo indikuje, že ide o kladné číslo lebo $(-1)^0=1>0$. Ďalších 11 bitov, konkrétne $10000000011$, je tzv. charakteristika čísla (resp. exponentu) a zodpovedá nasledujúcemu číslu v desiatkovej sústave: \n",
    "\n",
    "$$c=1 \\times 2^{10} + 0 \\times 2^9 + \\ldots + 0 \\times 2^2 + 1 \\times 2^1 + 1 \\times 2^0 = 1024 + 2 + 1 = 1027.$$\n",
    "\n",
    "Preto exponenciálna časť uvažovaného čísla je $2^{1027-1023}=2^4$, tzn. exponent $e=4$. Ostávajúcich 52 bitov špecifikuje, ako vyzerá mantisa (pričom pre nenulové číslo $d_1=1$ sa neukladá), t. j. \n",
    "\n",
    "$$m=1\\times\\left(\\frac{1}{2}\\right)^1+1\\times\\left(\\frac{1}{2}\\right)^3+1\\times\\left(\\frac{1}{2}\\right)^4+1\\times\\left(\\frac{1}{2}\\right)^5+1\\times\\left(\\frac{1}{2}\\right)^8+1\\times\\left(\\frac{1}{2}\\right)^{12}.$$\n",
    "\n",
    "Ako dôsledok predchádzajúcich úvah vieme povedať, že zadanému strojovému číslu vlastne odpovedá nasledovné číslo v desiatkovej sústave: \n",
    "\n",
    "$$(-1)^s2^{c-1023}m=(-1)^0\\times2^{1027-1023}\\left(1+\\frac{1}{2}+\\frac{1}{8}+\\frac{1}{16}+\\frac{1}{32}+\\frac{1}{256}+\\frac{1}{4096}\\right)=27.56640625$$\n",
    "\n",
    "---"
   ]
  },
  {
   "attachments": {
    "obr2.PNG": {
     "image/png": "[encoded data removed]"
    },
    "obr3.PNG": {
     "image/png": "[encoded data removed]"
    }
   },
   "cell_type": "markdown",
   "metadata": {},
   "source": [
    "--- \n",
    "\n",
    "#### <font color=blue> Príklad 14 </font>  \n",
    "\n",
    "Číslo $9.4=(1001.\\overline{0110})_2$ je reprezentované v tvare \n",
    "\n",
    "![obr2.PNG](attachment:obr2.PNG) \n",
    "\n",
    "pričom v rámčeku je vyznačených prvých $52$ bitov mantisy. Otázka znie, ako toto číslo, ktoré nemá konečný počet číslic (nepatrí do $\\mathbb{F}$) reprezentovať pomocou konečnej postupnosti 52 bitov? Odpoveďou je zaokrúhľovanie uvedené vyššie resp. aproximácia najbližším číslom z $\\mathbb{F}$ (napr. v dvojnásobnej presnosti). \n",
    "\n",
    "Podľa **_pravidla zaokrúhľovania k najbližšiemu_** (anglicky *rounding to nearest rule*), pri dvojnásobnej presnosti, ak je 53. bit napravo (od desatinnej čiarky) $0$, zaokrúhlime nadol (a všetko za 52. bitom vynecháme resp. \"zahodíme\"). Ak je 53. bit $1$, zaokrúhlime nahor (pridáme $1$ k 52. bitu), pokiaľ všetky známe bity napravo od $1$ nie sú 0 (nachádza sa tam aspoň jedna jednotka), v takom prípade sa $1$ pridá (pripočíta) k 52. bitu vtedy a len vtedy, ak je 52. bit rovný $1$. \n",
    "\n",
    "Pre číslo $9.4$ diskutované vyššie je 53. bit napravo (od desatinnej čiarky) rovný $1$ a za ním nasledujú ďalšie nenulové bity. Pravidlo zaokrúhľovania (k najbližšiemu) hovorí, že je potrebné zaokrúhliť nahor alebo pridať $1$ k 52. bitu. Preto je číslo s pohyblivou rádovou čiarkou, ktoré predstavuje $9.4$ nasledovné \n",
    "\n",
    "![obr3.PNG](attachment:obr3.PNG) \n",
    "\n",
    "V počítačovej aritmetike je reálne číslo nahradené postupnosťou bitov, ktoré zodpovedajú $fl(x)$ t. j. číslu s pohyblivou rádovou čiarkou (v dvojnásobnej presnosti) podľa IEEE so zaokrúhlením k najbližšiemu. Tzn., že $fl(9.4)$ je v binárnej reprezentácii práve \n",
    "\n",
    "![obr3.PNG](attachment:obr3.PNG) \n",
    "\n",
    "K tejto reprezentácii sme dospeli tak, že sme sprava vynechali časť $\\overline{.1100}\\times2^{-52}\\times2^3=\\overline{.0110}\\times2^{-51}\\times2^3=.4\\times2^{-48}$, obsahujúcu nekonečne veľa cifier a následne sme pridali (pripočítali) $2^{-52}\\times2^3=2^{-49}$ v zaokrúhľovacom kroku. Tým pádom máme \n",
    "\n",
    "$$fl(9.4)=9.4+2^{-49}-0.4\\times2^{-48}=9.4+(1-0.8)2^{-49}=9.4+0.2\\times2^{-49}.$$\n",
    "\n",
    "Inými slovami, počítač využívajúci dvojnásobnú presnosť a zaokrúhľovanie k najbližšiemu sa pri ukladaní čísla $9.4$ dopúšťa chyby rádovo $0.2\\times2^{-49}$. Táto chyba $0.2\\times2^{-49}$ sa nazýva ***zaokrúhľovacia chyba*** (*round-off error* - zapríčinená limitovanou strojovou presnosťou t. j. rozdiel medzi aproximáciou čísla použitého pri výpočte a jeho presnou (správnou) hodnotou). \n",
    "\n",
    "**Je dôležité uvedomiť si, že číslo s pohyblivou rádovou čiarkou predstavujúce $9.4$ sa nerovná $9.4$, hoci je k nemu veľmi blízko.** \n",
    "\n",
    "--- "
   ]
  },
  {
   "attachments": {
    "obr1.PNG": {
     "image/png": "[encoded data removed]"
    }
   },
   "cell_type": "markdown",
   "metadata": {},
   "source": [
    "--- \n",
    "\n",
    "#### <font color=blue> Príklad 15 </font>  \n",
    "\n",
    "Strojové sčítanie pozostáva zo zarovnania desatinných čiarok dvoch sčítavaných čísel, ich sčítania a následného uloženia výsledku opäť ako čísla s pohyblivou rádovou čiarkou. Samotné sčítanie možno vykonať s vyššou presnosťou (s viac ako 52 bitmi), pretože prebieha v registri určenom práve na tento účel. Po vykonaní sčítania musí byť výsledok zaokrúhlený späť na 52 bitov kvôli uloženiu vo formáte strojového čísla. \n",
    "\n",
    "Napr. pripočítanie čísla $1$ k číslu $2^{-53}$ sa realizuje nasledovne: \n",
    "\n",
    "![obr1.PNG](attachment:obr1.PNG) \n",
    "\n",
    "Vzhľadom k zaokrúhľovaniu sa výsledok uloží ako $1.\\times2^0=1$. Preto $1+2^{-53}$ je rovné $1$ v dvojnásobnej presnosti v rámci IEEE aritmetiky. Všimnime si, že $2^{-53}$ je najväčšie číslo s pohyblivou rádovou čiarkou s touto vlastnosťou: čokoľvek väčšie pripočítané k $1$ by viedlo k súčtu väčšiemu ako $1$ podľa počítačovej aritmetiky.\n",
    "\n",
    "--- "
   ]
  },
  {
   "attachments": {
    "obr4.PNG": {
     "image/png": "[encoded data removed]"
    },
    "obr5.PNG": {
     "image/png": "[encoded data removed]"
    },
    "obr6.PNG": {
     "image/png": "[encoded data removed]"
    }
   },
   "cell_type": "markdown",
   "metadata": {},
   "source": [
    "--- \n",
    "\n",
    "#### <font color=blue> Príklad 16 </font>  \n",
    "\n",
    "Nájdite binárnu strojovú reprezentáciu $fl(x)$ v dvojnásobnej presnosti a tiež zaokrúhľovaciu chybu pre $x=0.4$. \n",
    "\n",
    "<ins> Riešenie: </ins>\n",
    "\n",
    "Keďže $(0.4)_{10}=(.\\overline{0110})_2$, tak máme \n",
    "\n",
    "![obr4.PNG](attachment:obr4.PNG) \n",
    "\n",
    "Podľa zaokrúhľovacieho pravidla teda dostávame pre $fl(0.4)$ nasledujúce vyjadrenie \n",
    "\n",
    "![obr5.PNG](attachment:obr5.PNG) \n",
    "\n",
    "Tu bola k 52. bitu pridaná $1$, čo spôsobilo zmenu aj 51. bitu v dôsledku binárneho sčítania. \n",
    "\n",
    "Môžeme si všimnúť, že sme vynechali $2^{-53}\\times2^{-2}+.\\overline{0110}\\times2^{-54}\\times2^{-2}$ a pridali (pripočítali) sme $2^{-52}\\times2^{-2}$ v rámci zaokrúhľovania. Takto dostávame \n",
    "\n",
    "![obr6.PNG](attachment:obr6.PNG) \n",
    "\n",
    "Relatívna chyba zaokrúhľovania pre číslo $0.4$ je $0.1/0.4\\times\\varepsilon_m=1/4\\times\\varepsilon_m$ (v súlade s b) pri strojovej presnosti). \n",
    "\n",
    "--- "
   ]
  },
  {
   "cell_type": "markdown",
   "metadata": {},
   "source": [
    "--- \n",
    "\n",
    "#### <font color=blue> Príklad 17 </font> \n",
    "\n",
    "Skutočnosť, že $\\varepsilon_{m} = 2^{−52}$ neznamená, že čísla menšie ako $\\varepsilon_{m}$ sú v modeli IEEE zanedbateľné. Pokiaľ sú v modeli reprezentovateľné, výpočty s číslami tejto veľkosti sú rovnako presné, za predpokladu, že nie sú pripočítané alebo odčítané k číslam jednotkovej veľkosti. \n",
    "\n",
    "Je dôležité si uvedomiť, že **počítačová aritmetika môže v dôsledku skrátenia a zaokrúhľovania, ktoré vykonáva, niekedy poskytnúť prekvapivé výsledky**. Napríklad, ak počítač s dvojnásobnou presnosťou so zaokrúhľovaním IEEE k najbližšiemu (strojovému) číslu má uložiť číslo $9.4$, potom od neho odčítať číslo $9$ a následne ešte odčítať $0.4,$ výsledkom bude niečo iné ako nula! Udeje sa  nasledovné: Najprv sa $9.4$ uloží ako $9.4 + 0.2 \\times 2^{−49}$ (viď Príklad 14). Keď sa odpočíta $9$ (všimnite si, že $9$ môže byť vyjadrená bez chyby), výsledok je $0.4 + 0.2 \\times 2^{−49}$ . Teraz, keď požiadame počítač, aby odčítal $0.4$, výsledkom bude odčítanie (ako sme zistili v Príklade 16) strojového čísla $fl(0.4) = 0.4 + 0.1 \\times 2^{−52}$ , čím dostaneme \n",
    "\n",
    "$$0.2 \\times 2^{−49} − 0.1 \\times 2^{−52} = 0.1 \\times 2^{−52}\\left(2^4 − 1\\right) = 3 \\times 2^{−53}$$ \n",
    "\n",
    "miesto nuly. Je to malé číslo, rádovo niečo ako $\\varepsilon_m$, ale nie je to nula. Nasleduje ilustrácia výpočtu v Pythone. "
   ]
  },
  {
   "cell_type": "code",
   "execution_count": 8,
   "metadata": {},
   "outputs": [
    {
     "name": "stdout",
     "output_type": "stream",
     "text": [
      "9.4\n",
      "0.40000000000000036\n",
      "3.3306690738754696e-16\n",
      "3.3306690738754696e-16\n"
     ]
    }
   ],
   "source": [
    "x = 9.4 \n",
    "print(x) \n",
    "y = x - 9 \n",
    "print(y) \n",
    "z = y - 0.4 \n",
    "print(z) \n",
    "print(3*2**(-53))"
   ]
  },
  {
   "cell_type": "markdown",
   "metadata": {},
   "source": [
    "--- "
   ]
  },
  {
   "cell_type": "markdown",
   "metadata": {},
   "source": [
    "## Počítačová aritmetika "
   ]
  },
  {
   "cell_type": "markdown",
   "metadata": {},
   "source": [
    "Nech $x,y\\in\\mathbb{F}$ sú strojové čísla, ďalej nech $\\odot$ označuje niektorú zo základných aritmetických operácií $+,-,\\times,/$ a $flop$ je odpovedajúca operácia vykonaná počítačom v režime pohyblivej rádovej čiarky podľa IEEE štandardu. Potom $x\\,flop\\,y=fl(x\\odot y)$. To znamená, že **výsledok aritmetickej operácie vykonanej v počítači je rovnaký, ako keď operáciu vykonáme presne a následne získaný výsledok vložíme do počítača**. "
   ]
  },
  {
   "cell_type": "markdown",
   "metadata": {},
   "source": [
    "---\n",
    "\n",
    "#### Poznámka 4 \n",
    "\n",
    "**Strojová aritmetika (resp. aritmetika s pohyblivou rádovou čiarkou) nie je vo všeobecnosti komutatívna!** (viď Príklad 0). Je to rozdiel oproti tomu, na čo sme zvyknutí pri \"klasickom\" násobení alebo sčítaní reálnych čísel.  \n",
    "\n",
    "--- "
   ]
  },
  {
   "cell_type": "markdown",
   "metadata": {},
   "source": [
    "## Pretečenie, podtečenie"
   ]
  },
  {
   "cell_type": "markdown",
   "metadata": {},
   "source": [
    "Pokiaľ je absolútna hodnota výsledku aritmetickej operácie väčšia \n",
    "než $OFL$, dochádza k tzv. **_pretečeniu_**. Na druhej strane, ak je absolútna hodnota nenulového výsledku \n",
    "menšia než $UFL$ (resp. $UFLs$ v počítačoch so subnormálnymi číslami), dochádza k tzv. **_podtečeniu_**. \n",
    "Keď dôjde počas behu programu k pretečeniu, systém vydá varovanie a výpočet preruší. V prípade \n",
    "podtečenia nie je situácia taká vážna: výsledok sa nahradí nulou a výpočet pokračuje bez \n",
    "prerušenia. Skúsený programátor však môže reakciu programu na pretečenie riadiť sám. "
   ]
  },
  {
   "cell_type": "code",
   "execution_count": 5,
   "metadata": {},
   "outputs": [
    {
     "name": "stdout",
     "output_type": "stream",
     "text": [
      "0 4.49423283715579e+307\n",
      "1 8.98846567431158e+307\n",
      "2 inf\n",
      "3 inf\n"
     ]
    }
   ],
   "source": [
    "# ilustracia tzv. pretecenia \n",
    "large = 2.**1021 \n",
    "for i in range(4): \n",
    "    large *= 2 \n",
    "    print(i, large)"
   ]
  },
  {
   "cell_type": "markdown",
   "metadata": {},
   "source": [
    "Podľa očakávania sme dospeli k hodnote `inf`, keďže od hodnoty $2^{1024}\\approx1.7976\\times10^{308}$ vyššie, už nedokáže počítač ukladať výsledky v dvojnásobnej presnosti. Pre overenie slúži nasledujúci výpočet v Python-e. "
   ]
  },
  {
   "cell_type": "code",
   "execution_count": 9,
   "metadata": {},
   "outputs": [
    {
     "name": "stdout",
     "output_type": "stream",
     "text": [
      "1.797693134862315e+308\n",
      "inf\n"
     ]
    }
   ],
   "source": [
    "# overenie \n",
    "print(8.98846567431158e+307*1.999999999999999) \n",
    "print(8.98846567431158e+308*1.999999999999999) "
   ]
  },
  {
   "cell_type": "markdown",
   "metadata": {},
   "source": [
    "<font color=orange> Naprogramujte v Python-e výpočet, ktorý povedie k tzv. podtečeniu. </font> "
   ]
  },
  {
   "cell_type": "code",
   "execution_count": null,
   "metadata": {},
   "outputs": [],
   "source": []
  },
  {
   "cell_type": "markdown",
   "metadata": {},
   "source": [
    "---\n",
    "\n",
    "#### Poznámka 5 \n",
    "\n",
    "* I jednoduché algoritmy, ako je Gaussova eliminácia alebo metódy na riešenie diferenciálnych rovníc, môžu zväčšiť mikroskopické chyby na makroskopickú veľkosť. Je dôležité uvedomovovať si tieto skutočnosti, vedieť ich rozpoznať, tzn. kedy hrozí, že výpočet bude nespoľahlivý v dôsledku zväčšovania malých chýb, ktoré spôsobujú počítače a vedieť, ako sa tomuto riziku vyhnúť alebo ho minimalizovať. \n",
    "\n",
    "\n",
    "* Pekný **interaktívny applet** určený na reprezentáciu decimálne zapísaných čísel podľa IEEE 754 štandardu je možné nájsť na [tejto stránke](https://babbage.cs.qc.cuny.edu/IEEE-754/). Ďalší interaktívny nástroj vhodný na experimentovanie je k dispozícii [tu](https://www.h-schmidt.net/FloatConverter/IEEE754.html). \n",
    "\n",
    "--- "
   ]
  },
  {
   "attachments": {
    "obr7.PNG": {
     "image/png": "[encoded data removed]"
    },
    "obr8.PNG": {
     "image/png": "[encoded data removed]"
    }
   },
   "cell_type": "markdown",
   "metadata": {},
   "source": [
    "--- \n",
    "\n",
    "#### <font color=blue> Príklad 18 </font>  \n",
    "\n",
    "Nájdite (binárnu) reprezentáciu výpočtu $\\left(1+3\\times2^{-53}\\right)-1$ v dvojnásobnej presnosti v systéme s pohyblivou rádovou čiarkou. \n",
    "\n",
    "<ins> Riešenie: </ins> \n",
    "\n",
    "Samozrejme, v skutočnej (resp. teoretickej/symbolickej) aritmetike je výsledok výpočtu rovný $3\\times2^{-53}$. Avšak aritmetika v systéme s pohyblivou rádovou čiarkou sa môže líšiť. Všimnime si, že $3\\times2^{-53}=2^{-52}+2^{-53}$. Prvé sčítanie je \n",
    "\n",
    "![obr7.PNG](attachment:obr7.PNG) \n",
    "\n",
    "Toto je už spomínaná výnimka pri zaokrúľovaní, keďže 52. bit v súčte je $1$, zaokrúhľujeme nahor, tzn. pripočítame $1$ k 52. bitu. Následne dostaneme \n",
    "\n",
    "![obr8.PNG](attachment:obr8.PNG) \n",
    "\n",
    "čo je vlastne reprezentácia $1+2^{-51}$. Preto po odčítaní $1$, bude výsledok $2^{-51}$, čo je rovné $2\\varepsilon_m=4\\times2^{-53}$. Uvedomme si ešte raz rozdiel medzi počítačovou (strojovou) aritmetikou a exaktnou aritmetikou. "
   ]
  },
  {
   "cell_type": "code",
   "execution_count": 12,
   "metadata": {},
   "outputs": [
    {
     "name": "stdout",
     "output_type": "stream",
     "text": [
      "4.440892098500626e-16\n",
      "4.440892098500626e-16\n",
      "4.440892098500626e-16\n"
     ]
    }
   ],
   "source": [
    "# overenie v Pythone \n",
    "print((1+3*2**(-53))-1) \n",
    "print(2*np.finfo(float).eps) \n",
    "print(4*2**(-53))"
   ]
  },
  {
   "cell_type": "markdown",
   "metadata": {},
   "source": [
    "--- "
   ]
  },
  {
   "cell_type": "markdown",
   "metadata": {},
   "source": [
    "***\n",
    "<a id=podm_stab></a>\n",
    " # <font color=brown> Podmienenosť úloh a stabilita algoritmov </font>"
   ]
  },
  {
   "cell_type": "markdown",
   "metadata": {},
   "source": [
    "## Korektnosť úloh "
   ]
  },
  {
   "cell_type": "markdown",
   "metadata": {},
   "source": [
    "Matematickú úlohu je možné chápať ako zobrazenie $y=f(x)$, ktoré každému vstupnému údaju $x$ z množiny $D$ vstupných dát priradí výsledok z množiny $R$ výstupných dát. Hovoríme, že matematická úloha \n",
    "\n",
    "$$y=f(x), \\qquad x\\in D, \\qquad y\\in R,$$\n",
    "\n",
    "je **_korektná_**, ak \n",
    "\n",
    "1. ku každému vstupu $x\\in D$ existuje jediné riešenie $y\\in R$, \n",
    "\n",
    "2. toto riešenie závisí spojite na vstupných dátach, tzn. keď $x\\to a$, potom $f(x)\\to f(a)$. \n",
    "\n",
    "Veľkou triedou nekorektných úloh sú nejednoznačne riešiteľné úlohy. Nekorektné úlohy sa nedajú rozumne riešiť, a preto sa nimi nebudeme zaoberať :-) "
   ]
  },
  {
   "cell_type": "markdown",
   "metadata": {},
   "source": [
    "## Podmienenosť úloh "
   ]
  },
  {
   "cell_type": "markdown",
   "metadata": {},
   "source": [
    "Úlohu budeme nazývať  **_dobre podmienenou_**, ak malá zmena vo vstupných dátach vyvolá malú zmenu v riešení (vo výstupných dátach). Nech $y+\\Delta y$ resp. $y$ je riešenie úlohy odpovedajúce vstupným dátam $x+\\Delta x$ resp. $x$, potom číslo \n",
    "\n",
    "\\begin{equation*} \\label{eq:condNumb} \\tag{8} \n",
    "C_p=\\dfrac{|\\Delta y|/|y|}{|\\Delta x|/|x|}=\\dfrac{\\text{relatívna chyba výstupu}}{\\text{relatívna chyba vstupu}},\n",
    "\\end{equation*}\n",
    "\n",
    "(kde miesto absolútnych hodnôt môžu byť vo všeobecnosti normy - pokiaľ sa jedná o vektory, matice či funkcie ...) nazývame **_číslo podmienenosti_** úlohy $y=f(x)$. Pokiaľ je $C_p$ malé číslo, tak úloha je dobre podmienená. Naopak, pre veľké $C_p$ je úloha zle podmienená. Miesto dobrej/zlej podmienenosti, hovoríme niekedy o malej/veľkej **_citlivosti vzhľadom k vstupným údajom_**. "
   ]
  },
  {
   "cell_type": "markdown",
   "metadata": {},
   "source": [
    "--- \n",
    "\n",
    "#### <font color=blue> Príklad 19 </font> \n",
    " \n",
    "Odhadnite číslo podmienenosti úlohy: stanoviť funkčnú hodnotu (diferencovateľnej) funkcie $y=f(x)$. \n",
    "\n",
    "<ins> Riešenie: </ins>\n",
    "\n",
    "Zo vzťahu (2) plynie \n",
    "\n",
    "\\begin{equation*} \\label{eq:condNumbFuncVal} \\tag{9} \n",
    "C_p\\doteq\\left|\\dfrac{xf'(x)}{f(x)}\\right|.\n",
    "\\end{equation*}\n",
    "\n",
    "Konkrétne pre funkciu $f(x)=\\mathrm{tg}\\,x$ dostaneme $C_p\\doteq |2x/\\sin2x|$. Výpočet $\\mathrm{tg}\\,x$ je veľmi citlivý pre $x$ blízke celočíselnému násobku $\\pi/2$. Napr. pre $x=1.57079$ je $C_p\\doteq2.48\\times10^5$. Výsledok je možné overiť aj priamym výpočtom podľa vzorca (8), pre $\\Delta x=10^{-9}$ dostaneme opäť $C_p\\doteq2.48\\times10^5$. \n"
   ]
  },
  {
   "cell_type": "code",
   "execution_count": 12,
   "metadata": {},
   "outputs": [
    {
     "name": "stdout",
     "output_type": "stream",
     "text": [
      "248275.789825047\n",
      "248275.78982504655\n",
      "248315.05853073203\n"
     ]
    }
   ],
   "source": [
    "# x1 = np.pi/2\n",
    "x0 = 1.57079\n",
    "\n",
    "# vypocet C_p podla vzorca (9)\n",
    "x = sym.Symbol('x')\n",
    "tan_deriv = sym.diff(sym.tan(x), x) \n",
    "tan_derivative = sym.lambdify(x, tan_deriv) \n",
    "print(np.abs(x0*tan_derivative(x0)/sym.tan(x0)))\n",
    "\n",
    "print(np.abs(2*x0/np.sin(2*x0)))\n",
    "\n",
    "# vypocet C_p podla vztahu (8) \n",
    "# print(x1-x0)\n",
    "dx = 10**(-9) \n",
    "print((np.abs(np.tan(x0+dx)-np.tan(x0))/np.abs(np.tan(x0))) / (np.abs(dx)/np.abs(x0)))"
   ]
  },
  {
   "cell_type": "markdown",
   "metadata": {},
   "source": [
    "--- "
   ]
  },
  {
   "cell_type": "markdown",
   "metadata": {},
   "source": [
    "Číslo podmienenosti definované podľa vzťahu (8) sa niekedy označuje ako **_relatívne číslo podmienenosti_**. Väčšinou je to vhodná miera citlivosti, no keď je $x$ alebo $y$ rovné nule, nedá sa použiť. V takých prípadoch je možné vyskúšať tzv. **_absolútne číslo podmienenosti_** definované vzťahom $\\bar{C}_p=\\dfrac{|\\Delta y|}{|\\Delta x|}$. "
   ]
  },
  {
   "cell_type": "markdown",
   "metadata": {},
   "source": [
    "--- \n",
    "\n",
    "#### <font color=blue> Príklad 20 </font> \n",
    " \n",
    "Posúdime citlivosť výpočtu funkčnej hodnoty $f(x)=x^2-1$. Pre korene $x_{1,2}=\\pm1$ nie je relatívne číslo podmienenosti definované. K rovnakému záveru prídeme aj podľa vzťahu (9) t. j. $C_p\\doteq\\left|2x^2/(x^2-1)\\right|$\n",
    "\n",
    "Absolútne číslo podmienenosti je\n",
    "\n",
    "$$\\bar{C}_p=\\left|\\dfrac{f(x+\\Delta x)-f(x)}{\\Delta x}\\right|\\doteq |f'(x)|,$$ \n",
    "\n",
    "a teda pre $f(x)=x^2-1$ máme $\\bar{C}_p\\doteq|2x|$, špeciálne pre $x=\\pm1$ dostaneme $\\bar{C}_p\\doteq2$. \n",
    "\n",
    "---  \n"
   ]
  },
  {
   "cell_type": "markdown",
   "metadata": {},
   "source": [
    "## Stabilita algoritmu "
   ]
  },
  {
   "cell_type": "markdown",
   "metadata": {},
   "source": [
    "Pri realizácii numerickej metody na počítači vznikajú zaokrúhľovacie \n",
    "chyby, najprv vo vstupných dátach a potom v priebehu výpočtu pri vykonávaní aritmetických \n",
    "operácií. Ak sa chceme pri výpčtoch vyvarovať nezmyselných výsledkov, musíme si vyberať tzv. \n",
    "**_stabilné algoritmy_**, ktoré sú málo citlivé vzhľadom na šírenie zaokrúhľovacích chýb. Aby bol \n",
    "algoritmus stabilný, musí byť \n",
    "\n",
    "1. **_dobre podmienený_** - málo citlivý na poruchy vo vstupných dátach, \n",
    "\n",
    "2. **_numericky stabilný_** - málo citlivý na vplyv zaokrúhľovacích chýb vznikajúcich v priebehu výpočtu. "
   ]
  },
  {
   "cell_type": "markdown",
   "metadata": {},
   "source": [
    "--- \n",
    "\n",
    "#### <font color=blue> Príklad 21 </font> \n",
    " \n",
    "Kvadratická rovnica $x^2-2bx+c=0$ má pre $b^2>c$ dva rôzne reálne korene \n",
    "\n",
    "\\begin{equation*} \\label{alg:korenKvadRov} \\tag{$A_1$} \n",
    "x_{1,2}=b\\pm d,\n",
    "\\end{equation*}\n",
    "\n",
    "kde $d=\\sqrt{b^2-c}$. Ak $|b|\\doteq |d|$, tak sa pri výpočte jedného z koreňov budú odčítavať dve približne rovnako veľké čísla s rovnakým znamienkom, čo vedie, ako už vieme, k vzniku veľkej relatívnej chyby (vzťah (3) a Príklad 9). Výpočet podľa algoritmu \\eqref{alg:korenKvadRov} teda nie je vo všeobecnosti stabilný. Existuje však jednoduchá pomoc: keďže $x_1x_2=c$, môžeme postupovať nasledovne: \n",
    "\n",
    "\\begin{equation*} \\label{alg:korenKvadRov2} \\tag{$A_2$} \n",
    "x_1=\n",
    "\\begin{cases} \n",
    "      b+d, & \\text{ ak } b\\ge0, \\\\\n",
    "      b-d, & \\text{ ak } b < 0,\n",
    "   \\end{cases}\n",
    "\\qquad \n",
    "x_2=\\dfrac{c}{x_1}\n",
    "\\end{equation*}\n",
    "\n",
    "Algoritmus \\eqref{alg:korenKvadRov2} odstraňuje nedostatok algoritmu \\eqref{alg:korenKvadRov}, teda je stabilný. \n",
    "\n",
    "---  "
   ]
  },
  {
   "cell_type": "markdown",
   "metadata": {},
   "source": [
    "--- \n",
    "\n",
    "#### <font color=blue> Príklad 22 </font> \n",
    " \n",
    "Počítajme integrál \n",
    "\n",
    "$$I_n=\\displaystyle\\int_{0}^{1}x^ne^{x-1}\\,\\mathrm{d}x, \\qquad \\text{ pre } n\\in\\{1,2,\\ldots\\}$$\n",
    "\n",
    "Integráciou per partes dostaneme \n",
    "\n",
    "$$I_n=\\displaystyle\\int_{0}^{1}x^ne^{x-1}\\,\\mathrm{d}x=\\left[x^ne^{x-1}\\right]_{0}^1-\\displaystyle\\int_{0}^{1}nx^{n-1}e^{x-1}\\,\\mathrm{d}x,$$ \n",
    "\n",
    "čo môžeme vyjadriť v tvare \n",
    "\n",
    "\\begin{equation*} \\label{eq:intPerParRek} \\tag{$F$} \n",
    "I_n=1-nI_{n-1}.\n",
    "\\end{equation*}\n",
    "\n",
    "Keďže $I_1=1/e$, tak môžeme pri výpočte $I_n$ postupovať podľa algoritmu \n",
    "\n",
    "\\begin{equation*} \\label{alg:intPerPar} \\tag{$A_3$} \n",
    "I_1=1/e, \\qquad I_n=1-nI_{n-1}, \\qquad n=2,3,\\ldots\n",
    "\\end{equation*}\n",
    "\n",
    "Výpočet realizovaný na počítači v jednoduchej presnosti (t. j. cca $7$ platných cifier) a pre $n=12$ dá výsledok $I_{12}\\doteq-4.31$. To je ale neprijateľný výsledok lebo pre kladný integrand nemôžeme dostať zápornú hodnotu integrálu! Tento jav je spôsobený tým, že pri výpočte $I_n$ sa chyba obsiahnutá v $I_{n-1}$ násobí $n$-krát, takže celková chyba rastie podobne ako $n!$. \n",
    "\n",
    "Algoritmus \\eqref{alg:intPerPar} je teda nestabilný. Vzniká otázka, či je možné vypočítať $I_{12}$ aplikovaním rekurentnej formuly \\eqref{eq:intPerParRek} tak, aby výsledok mal všetkých sedem cifier platných. Možné to je ale musíme použiť iný algoritmus. Ak prepíšeme \\eqref{eq:intPerParRek} na tvar \n",
    "\n",
    "$$I_{n-1}=\\dfrac{1-I_n}{n},$$\n",
    "\n",
    "tak sa bude chyba vstupujúca do každého kroku deliť $n$. Z odhadu \n",
    "\n",
    "$$0\\le I_n=\\displaystyle\\int_{0}^{1}x^ne^{x-1}\\,\\mathrm{d}x\\le\\displaystyle\\int_{0}^{1}x^n\\,\\mathrm{d}x=\\dfrac{1}{n+1}$$\n",
    "\n",
    "vyplýva, že $I_n\\to0$ pre $n\\to\\infty$. Pri výpočte budeme preto postupovať podľa nasledujúceho algoritmu \n",
    "\n",
    "\\begin{equation*} \\label{alg:intPerPar2} \\tag{$A_4$} \n",
    "I_n=0, \\qquad I_{n-1}=\\dfrac{1-I_n}{n}, \\qquad n=N,N-1,\\ldots,\n",
    "\\end{equation*}\n",
    "\n",
    "kde $N$ je dostatočne veľké (prirodzené) číslo. Ak zvolíme napr. $N=20$, tak dostaneme $I_{12}\\doteq7.735223\\times10^{-2}$, čo je hodnota, ktorá má sedem platných cifier. \n",
    "\n",
    "Ak výpočet realizujeme v dvojnásobnej presnosti (cca $16$ platných cifier), dostaneme obdobné výsledky. Rozdiel je však v tom, že výpočet algoritmom \\eqref{alg:intPerPar} sa \"pokazí\" až pre väčšie hodnoty $n$; pre $n=20$ už výjde nezmyselná hodnota $I_{20}\\doteq-30.19$. Stabilným algoritmom \\eqref{alg:intPerPar2} pre $N=35$ dostaneme $I_{20}\\doteq4.772275579620910\\times10^{-2}$ s $16$ platnými ciframi. \n"
   ]
  },
  {
   "cell_type": "code",
   "execution_count": 12,
   "metadata": {},
   "outputs": [
    {
     "name": "stdout",
     "output_type": "stream",
     "text": [
      "0.07177324769463667\n",
      "-30.19239488558378\n"
     ]
    }
   ],
   "source": [
    "# double precision - A_3\n",
    "def unstable_integral_calculation(n): \n",
    "    if n==1: \n",
    "        return 1/np.exp(1) \n",
    "    result = 1-n*unstable_integral_calculation(n-1) \n",
    "    return result\n",
    "\n",
    "print(unstable_integral_calculation(12))\n",
    "print(unstable_integral_calculation(20))"
   ]
  },
  {
   "cell_type": "code",
   "execution_count": 13,
   "metadata": {},
   "outputs": [
    {
     "name": "stdout",
     "output_type": "stream",
     "text": [
      "0.07735222884700439\n",
      "0.0477227557962091\n"
     ]
    }
   ],
   "source": [
    "# double precision - A_4\n",
    "def stable_integral_calculation(n, N): \n",
    "    if n==N: \n",
    "        return 0\n",
    "    result = (1-stable_integral_calculation(n+1, N))/n \n",
    "    return result\n",
    "    \n",
    "print(stable_integral_calculation(12, 20))\n",
    "print(stable_integral_calculation(20, 35))"
   ]
  },
  {
   "cell_type": "markdown",
   "metadata": {},
   "source": [
    "---  "
   ]
  },
  {
   "cell_type": "markdown",
   "metadata": {},
   "source": [
    "***\n",
    "<a id=zlozitost></a>\n",
    " # <font color=brown> Algoritmická (výpočtová/časová) zložitosť </font> "
   ]
  },
  {
   "attachments": {
    "graf1.PNG": {
     "image/png": "[encoded data removed]"
    },
    "t5.PNG": {
     "image/png": "[encoded data removed]"
    }
   },
   "cell_type": "markdown",
   "metadata": {},
   "source": [
    "**Analýza výpočtovej zložitosti algoritmu poskytuje mieru efektívnosti algoritmu a používa sa na porovnanie a hodnotenie výkonnosti algoritmov.** Rozoberieme len niekoľko prvkov dôležitých pre charakterizáciu vlastností algoritmov prezentovaných v tomto kurze (v praxi je samozrejme dôležitá aj špecifická implementácia algoritmu). \n",
    "\n",
    "Definícia veľkosti (riešeného) problému resp. úlohy je kľúčová, pretože výpočtové úsilie algoritmu by malo byť jej funkciou. Vo všeobecnosti sa veľkosť vyjadruje ako približne počet prvkov, ktoré musí algoritmus spracovať (množstvo údajov). V prípade výpočtu riešenia sústavy lineárnych rovníc $\\mathbf{A}\\mathbf{x} = \\mathbf{b}$ je veľkosť úlohy daná rádom $n$ matice $\\mathbf{A}$. Pri násobení dvoch matíc je veľkosť úlohy definovaná rozmerom týchto dvoch matíc. \n",
    "\n",
    "Detailné porovnanie algoritmov je vo všeobecnosti náročné na realizáciu a väčšinou nie je príliš užitočné. **Najdôležitejším kritériom na porovnanie algoritmov je čas vykonania algoritmu.** Aby bola miera praktická, musí sa dať ľahko vypočítať a musí byť nezávislá od výpočtovej platformy. Preto sa čas vykonávania meria počtom základných operácií (napr. sčítanie, odčítanie, násobenie, delenie, porovnanie, ...). **_Zložitosť algoritmu_** je teda definovaná ako počet elementárnych operácií na vyriešenie problému veľkosti $n$. \n",
    "\n",
    "Uvažujme o algoritme, ktorý postupne hľadá konkrétnu položku v zozname dĺžky $n$. Jeho výpočtový čas je potom $C(n)\\le k_1n + k_2$, kde $k_1 \\ge 0$ a $k_2 \\ge 0$ sú dve konštanty nezávislé od $n$, charakterizujúce konkrétnu implementáciu. Vo všeobecnosti sa uvažuje najhorší (krajný) prípad $C(n) = k_1n + k_2$. Zápis $k_1n + k_2$ v zhruba vyjadruje, že algoritmus musí prejsť približne celý zoznam dĺžky $n$ (alebo nejakú jeho časť resp. násobok, čo vyjadruje koeficient $k_1$) plus nejaké prípadné kroky naviac, čo je zase vyjadrené konštantou $k_2$ a porovnať hodnoty uložené v poli s hľadanou hodnotou, teda v najhoršom prípade vykoná algoritmus $k_1n + k_2$ porovnaní. **Ďalším spôsobom je uvažovať o priemernom počte operácií, ktorý sa vo všeobecnosti musí vyhodnotiť simuláciou.** Niektoré algoritmy, ktoré sa v najhoršom prípade správajú veľmi zle, fungujú v priemere efektívne. Príkladom je simplexný algoritmus na riešenie úloh lineárneho programovania. \n",
    "\n",
    "Ako už bolo spomenuté, nechceme podrobne merať zložitosť. Vo všeobecnosti, a najmä pri maticových výpočtoch, počítame len počet elementárnych operácií pozostávajúcich zo sčítania, odčítania, násobenia a delenia. Tieto operácie sa nazývajú **_flop_**  (operácia s pohyblivou rádovou/desatinnou čiarkou). Do úvahy sa berie iba poradie počítacej funkcie. Pre ilustráciu uvažujme dva algoritmy $A_1$ a $A_2$, v ktorých funkcia počítajúca elementárne operácie je $C_{A_1}(n) = \\frac{1}{2}n^2$ pre prvý algoritmus a $C_{A_2}(n) = 5n$ pre druhý algoritmus. \n",
    "\n",
    "Na nasledujúcom obrázku zodpovedajú trojuholníky algoritmu $A_1$ a krúžky algoritmu $A_2$. \n",
    "\n",
    "![graf1.PNG](attachment:graf1.PNG) \n",
    "$$\\text{Zdroj: Gilli et al. (2019).}$$\n",
    "\n",
    "Všimnime si, že pre $n>10$, je algoritmus $A_2$ rýchlejší ako $A_1$. Keďže výpočtový čas sa stáva kritickým pre rastúce hodnoty $n$, je to práve _rád_ počítacej funkcie, ktorý určuje zložitosť algoritmu. ***Rád*** funkcie je formalizovaný pomocou značenia $O(.)$, pričom **definujeme: funkcia $g(n)$ je rádu $O\\left(f(n)\\right)$, ak existujú konštanty $c_0$, $n_0$ také, že $g(n)<c_0f(n)$ pre všetky $n>n_0$**. Teda (výpočtová) zložitosť algoritmu $A_1$ je $O\\left(n^2\\right)$, naproti tomu algoritmus $A_2$ má zložitosť $O(n)$. Ďalej napr. zložitosť algoritmu s počítacou funkciou $C(n)=\\frac{1}{3}n^3+n^2+\\frac{2}{3}n$, vyjadrujúcou počet elementárny operácií, je $O(n^3)$. \n",
    "\n",
    "Z hľadiska rádu funkcie, vyjadrujúcej počet elementárnych operácií, delíme algoritmy do dvoch základných skupín: \n",
    "\n",
    "* **Polynomiálne algoritmy** - počet elementárnych operácií algoritmu je možné vyjadriť polynomickou funkciou veľkosti vstupu resp. veľkosti úlohy; \n",
    "\n",
    "* **Nepolynomiálne algoritmy**. \n",
    "\n",
    "Algoritmy z polynomiálnej triedy sa považujú za efektívne. \n",
    "\n",
    "**Výkon počítačov sa meria vo flopoch za sekundu.** Osobné počítače sa vyvinuli z niekoľkých kflops ($10^3$ flopov) na začiatku 80. rokov na niekoľko Gflop ($10^9$ flopov) na konci prvej dekády roku 2000. Veľkosť dostupnej rýchlej pamäte vzrástla rovnakým faktorom (rádovo podobne). \n",
    "\n",
    "Uvedomme si však, že rýchlejšie počítače neodstránia nepolynomické algoritmy z triedy neefektívnych algoritmov. Aby sme to ilustrovali, uvažujme napríklad o algoritme so zložitosťou $2^n$ a predpokladajme, že $N$ je veľkosť najväčšej inštancie problému, ktorú je možné vyriešiť za prijateľný čas. Zvýšenie rýchlosti výpočtu o faktor $1024$ zväčší veľkosť problému vypočítaného v rovnakom čase na $N+10$. \n",
    "\n",
    "Každá elementárna operácia (sčítanie, odčítanie, násobenie, delenie) sa ráta ako jeden flop. Majme dané vektory $\\mathbf{x},\\mathbf{y}\\in\\mathbf{R}^n,z\\in\\mathbf{R}^m$ a matice $\\mathbf{A}\\in\\mathbb{R}^{m\\times r},\\mathbf{B}\\in\\mathbb{R}^{r\\times n}$, potom platí: \n",
    "\n",
    "![t5.PNG](attachment:t5.PNG) \n"
   ]
  },
  {
   "cell_type": "markdown",
   "metadata": {},
   "source": [
    "V neposlednom rade je dôležitá tiež **_pamäťová zložitosť_** algoritmov alebo počítačových programov. Vyjadrujeme ju ako počet premenných, resp. pamäťových miest, ktoré algoritmus pri výpočte so zvolenými vstupnými údajmi potrebuje. Pamäťová zložitosť algoritmu $A$ je teda opäť istou funkciou $m_A$, ktorá vstupným údajom veľkosti $n$ priradzuje potrebný počet pamäťových miest $m_A(n)$, ktoré bude algoritmus $A$ pri výpočte s týmito údajmi využívať. "
   ]
  },
  {
   "cell_type": "markdown",
   "metadata": {},
   "source": [
    "<font color=purple> EXTRA: Využitím vhodných poznatkov z témy 1 spolu s Python-om, vysvetlite otázky položené v závere úvodného Príkladu 0 - o nekomutatívnom sčítaní. Po dôkladnom zdôvodnení (vrátane výpočtov/ukážok v Python-e) môžete získať jeden bonusový bod. </font> "
   ]
  },
  {
   "cell_type": "code",
   "execution_count": null,
   "metadata": {},
   "outputs": [],
   "source": []
  },
  {
   "cell_type": "markdown",
   "metadata": {},
   "source": [
    "***\n",
    "<a id=zdroje></a>\n",
    " # <font color=brown> Použité zdroje</font> "
   ]
  },
  {
   "cell_type": "markdown",
   "metadata": {},
   "source": [
    "* Ackleh, A.S., Allen, E.J., Kearfott, R.B., & Seshaiyer, P. (2009). Classical and Modern Numerical Analysis: Theory, Methods and Practice. Chapman and Hall/CRC. \n",
    "\n",
    "\n",
    "* Burden, R. L., & Faires, J. D. (2011). Numerical analysis. Brooks/Cole, Cengage Learning. \n",
    "\n",
    "\n",
    "* Čermák, L. (2020). Numerické metody. Ústav matematiky FSI VUT v Brně. \n",
    "\n",
    "\n",
    "* Fajmon, B., Hlavičková, I., Novák, M., Vítovec, J. (2014). Numerická matematika a pravděpodobnost. Ústav matematiky FEKT VUT v Brně. \n",
    "\n",
    "\n",
    "* Gezerlis, A. (2020). Numerical methods in physics with Python. Cambridge University Press. \n",
    "\n",
    "\n",
    "* Gilli, M., Maringer, D., Schumann, E. (2019). Numerical Methods and Optimization in Finance. Elsevier/Academic Press. \n",
    "\n",
    "\n",
    "* Kiusalaas, J. (2013). Numerical Methods in Engineering with Python 3. Cambridge University Press, USA.\n",
    "\n",
    "\n",
    "* Kincaid, D., & Cheney, E. W. (2002). Numerical analysis: Mathematics of scientific computing. Pacific Grove, CA: Brooks/Cole.\n",
    "\n",
    "\n",
    "* Kiseľák, J. (2020). Základy numerických metód. ÚMV PF UPJŠ. \n",
    "\n",
    "\n",
    "* Kong, Q., Siauw, T., Bayen, A. (2020). [Python Programming and Numerical Methods: A Guide for Engineers and Scientists](https://pythonnumericalmethods.berkeley.edu/notebooks/Index.html). Academic Press. \n",
    "\n",
    "\n",
    "* Oršanský, P., Ftorek B. (2021). Štatistické a numerické metódy. EDIS - UNIZA.\n",
    "\n",
    "\n",
    "* Růžičková, I. & Hlavička, R. (2020). Numerické metody. Ústav matematiky FSI VUT v Brně. \n",
    "\n",
    "\n",
    "* Sauer, T. (2011). Numerical Analysis. Addison-Wesley Publishing Company, USA. \n",
    "\n",
    "\n",
    "* Sullivan, E. (2020). Numerical Methods: An Inquiry-Based Approach With Python. Faculty Publications. "
   ]
  }
 ],
 "metadata": {
  "kernelspec": {
   "display_name": "Python 3",
   "language": "python",
   "name": "python3"
  },
  "language_info": {
   "codemirror_mode": {
    "name": "ipython",
    "version": 3
   },
   "file_extension": ".py",
   "mimetype": "text/x-python",
   "name": "python",
   "nbconvert_exporter": "python",
   "pygments_lexer": "ipython3",
   "version": "3.7.3"
  },
  "varInspector": {
   "cols": {
    "lenName": 16,
    "lenType": 16,
    "lenVar": 40
   },
   "kernels_config": {
    "python": {
     "delete_cmd_postfix": "",
     "delete_cmd_prefix": "del ",
     "library": "var_list.py",
     "varRefreshCmd": "print(var_dic_list())"
    },
    "r": {
     "delete_cmd_postfix": ") ",
     "delete_cmd_prefix": "rm(",
     "library": "var_list.r",
     "varRefreshCmd": "cat(var_dic_list()) "
    }
   },
   "types_to_exclude": [
    "module",
    "function",
    "builtin_function_or_method",
    "instance",
    "_Feature"
   ],
   "window_display": false
  }
 },
 "nbformat": 4,
 "nbformat_minor": 2
}
