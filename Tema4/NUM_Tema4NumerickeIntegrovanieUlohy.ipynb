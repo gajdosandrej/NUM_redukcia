{
 "cells": [
  {
   "cell_type": "markdown",
   "metadata": {},
   "source": [
    "**Autor:** Andrej Gajdoš  <br> \n",
    "_[Ústav matematických vied](https://www.upjs.sk/prirodovedecka-fakulta/ustav/umv/), [Prírodovedecká fakulta](https://www.upjs.sk/prirodovedecka-fakulta/), Univerzita Pavla Jozefa Šafárika v Košiciach,_ <br> \n",
    "email: [andrej.gajdos@upjs.sk](mailto:andrej.gajdos@upjs.sk)\n",
    "*** \n",
    "\n",
    "**_Tento materiál vznikol za podpory grantu VVGS-2022-2412._**\n",
    "\n",
    "***\n",
    "\n",
    "**<font size=6 color=gold> NUM: Téma 4 - Numerické integrovanie: úlohy </font>** "
   ]
  },
  {
   "cell_type": "code",
   "execution_count": 2,
   "metadata": {},
   "outputs": [],
   "source": [
    "# nacitanie potrebnych balikov v Python-e \n",
    "import math \n",
    "import numpy as np \n",
    "import sympy as sym \n",
    "import scipy as sci \n",
    "from decimal import Decimal\n",
    "from matplotlib import pyplot as plt"
   ]
  },
  {
   "cell_type": "markdown",
   "metadata": {},
   "source": [
    "**1. Naprogramujte: funkciu `midpoint(f,a,b)` pre obdĺžnikové pravidlo; funkciu `trapez(f,a,b)` pre lichobežníkové pravidlo; funkciu `simpson(f,a,b)` pre Simpsonove pravidlo, pričom `f` je integrand, `a,b` sú integračné hranice a výstupom je približná hodnota $\\displaystyle\\int_{a}^{b}f(x)\\,\\mathrm{d}x$. Aplikujte tieto tri funkcie na výpočet $\\displaystyle\\int_{1}^{3}\\ln(x)\\,\\mathrm{d}x$ a porovnajte ich so skutočnou hodnotou integrálu (určte relatívnu i absolútnu  chybu aproximácie integrálu).** \n",
    "\n",
    "**Ďalej naprogramujte:  funkciu `comp_midpoint(f,a,b,n)` pre zloženú obdĺžnikovú formulu;  funkciu `comp_trapz(f,a,b,n)` pre zloženú lichobežníkovú formulu; funkciu `comp_simpson(f,a,b,n)` pre zloženú Simpsonovu formulu, kde `f` je integrand, `a,b` sú integračné hranice, `n` je počet podintervalov intervalu $\\langle a,b \\rangle$ a výstupom je približná hodnota $\\displaystyle\\int_{a}^{b}f(x)\\,\\mathrm{d}x$. Aplikujte tieto tri funkcie na výpočet $\\displaystyle\\int_{1}^{3}\\ln(x)\\,\\mathrm{d}x$ a porovnajte ich so skutočnou hodnotou integrálu (určte relatívnu i absolútnu chybu aproximácie integrálu). Pre počet uzlov voľte postupne hodnoty parametra `n` z množiny $\\{3,4,5,6\\}$ a výsledky porovnajte.** \n",
    "\n",
    "**Ako poslednú naprogramujte funkciu `gauss_legend(f,a,b,n)` pre Gaussovu-Legendrovu formulu, kde `f` je integrand, `a,b` sú integračné hranice, `n` je počet interpolačných uzlov a výstupom je približná hodnota $\\displaystyle\\int_{a}^{b}f(x)\\,\\mathrm{d}x$. Aplikujte túto funkciu na výpočet $\\displaystyle\\int_{1}^{3}\\ln(x)\\,\\mathrm{d}x$, pričom voľte počet uzlov postupne z množiny $\\{1,2,3,4\\}$ a výsledky porovnajte jednak z predchádzajúcimi výpočtami ako aj s exaktnou hodnotou integrálu.** "
   ]
  },
  {
   "cell_type": "code",
   "execution_count": null,
   "metadata": {},
   "outputs": [],
   "source": []
  },
  {
   "cell_type": "markdown",
   "metadata": {},
   "source": [
    "--- \n",
    "\n",
    "**2. Aproximujte integrál z Rungeho funkcie $y=\\dfrac{1}{1+25x^2}$ na intervale $\\langle -1,1 \\rangle$ použitím viacerých numerických kvadratúr a výsledky porovnajte navzájom i s exaktným riešením (určte relatívnu i absolútnu chybu aproximácie). Experimentujte s počtom uzlov. Znázornite integrand (vykreslite graf integrovanej funkcie).** \n"
   ]
  },
  {
   "cell_type": "code",
   "execution_count": null,
   "metadata": {},
   "outputs": [],
   "source": []
  },
  {
   "cell_type": "markdown",
   "metadata": {},
   "source": [
    "---\n",
    "\n",
    "**3. Nech $Q_n(f)$ je $n$-bodová Gaussova kvadratúra na intervale $\\langle a,b \\rangle$ so spojitou váhovou funkciou $w$, t.j.** \n",
    "\n",
    "$$Q_n(f)=\\displaystyle\\sum\\limits_{i=1}^{n}\\alpha_if(x_i)\\approx I(f)=\\displaystyle\\int_{a}^{b}w(x)f(x)\\,\\mathrm{d}x.$$ \n",
    "\n",
    "**Dokážte, že ak $a,b$ sú konečné a $f$ je spojitá, tak $Q_n(f)\\to I(f)$ pre $n\\to\\infty$.** \n",
    "\n",
    "Pomôcka: Použite Weierstrassovu vetu o aproximácii a Tvrdenie 2 z témy 4. "
   ]
  },
  {
   "cell_type": "code",
   "execution_count": null,
   "metadata": {},
   "outputs": [],
   "source": []
  },
  {
   "cell_type": "markdown",
   "metadata": {},
   "source": [
    "---\n",
    "\n",
    "**4. Uvažujte nasledujúcu kvadratúrnu formulu** \n",
    "\n",
    "$$\\displaystyle\\int_{0}^{1}f(x)\\left[x\\ln(1/x)\\right]\\,\\mathrm{d}x=\\alpha_0f(0)+\\alpha_1f(1).$$ \n",
    "\n",
    "**a) Nájdite koeficienty (váhy) $\\alpha_0$, $\\alpha_1$ tak, aby uvedená formula presne integrovala lineárne polynómy.**  \n",
    "\n",
    "**b) Popíšte, ako by bolo možné použiť vyššie uvedenú formulu na aproximáciu $\\displaystyle\\int_{0}^{1}g(t)t\\ln(h/t)\\,\\mathrm{d}t$, kde $h>0$.**\n"
   ]
  },
  {
   "cell_type": "code",
   "execution_count": null,
   "metadata": {},
   "outputs": [],
   "source": []
  },
  {
   "cell_type": "markdown",
   "metadata": {},
   "source": [
    "--- \n",
    "\n",
    "**5. Predpokladajte, že $J(h)$ je aproximáciou $\\displaystyle\\int_{a}^{b}f(x)\\,\\mathrm{d}x$, pričom $h$ je dĺžka kroku resp. vzdialenosť medzi každými dvoma susednými bodmi ekvidištantného delenia intervalu $\\langle a,b \\rangle$. Ďalej predpokladajte, že chyba aproximácie spĺňa vzťah** \n",
    "\n",
    "$$J(h)-\\displaystyle\\int_{a}^{b}f(x)\\,\\mathrm{d}x=c_1h+c_2h^2+\\mathcal{O}\\left(h^3\\right),$$\n",
    "\n",
    "**kde $c_1$, $c_2$ sú konštanty nezávislé od $h$. Majme k dispozícii hodnoty $J(h)$, $J(h/2)$, $J(h/3)$. Nájdite aproximáciu $J(h)$ integrálu $\\displaystyle\\int_{a}^{b}f(x)\\,\\mathrm{d}x$, ktorej chyba je uvedená vyššie a je rádu $\\mathcal{O}\\left(h^3\\right)$.**"
   ]
  },
  {
   "cell_type": "code",
   "execution_count": null,
   "metadata": {},
   "outputs": [],
   "source": []
  },
  {
   "cell_type": "markdown",
   "metadata": {},
   "source": [
    "--- \n",
    "\n",
    "**6. Aplikujte dvojbodovú Gaussovu kvadratúru na aproximáciu integrálu $I=\\displaystyle\\int\\limits_{-\\infty}^{1}\\dfrac{1}{\\sqrt{2\\pi}}e^{\\frac{-x^2}{2}}\\,\\mathrm{d}x$.** \n"
   ]
  },
  {
   "cell_type": "code",
   "execution_count": null,
   "metadata": {},
   "outputs": [],
   "source": []
  },
  {
   "cell_type": "markdown",
   "metadata": {},
   "source": [
    "--- \n",
    "\n",
    "**7. Nájdite uzly $x_i$ a zodpovedajúce váhy $A_i$, $i=0,1,2$ také, aby formula** \n",
    "\n",
    "$$\\displaystyle\\int\\limits_{-1}^{1}\\dfrac{1}{\\sqrt{1-x^2}}f(x)\\,\\mathrm{d}x\\approx\\displaystyle\\sum\\limits_{i=0}^{2}A_if(x_i)$$ \n",
    "\n",
    "**bola exaktná, keď $f(x)$ je ľubovoľný polynóm stupňa 5. Porovnajte svoje riešenie s koreňmi Chebysevovho polynómu prvého druhu $T_3(x)=\\cos\\left(3\\cos^{-1}(x)\\right)$.**\n"
   ]
  },
  {
   "cell_type": "code",
   "execution_count": null,
   "metadata": {},
   "outputs": [],
   "source": []
  },
  {
   "cell_type": "markdown",
   "metadata": {},
   "source": [
    "---\n",
    "\n",
    "**8.Nech $\\Phi(x)$ je po častiach lineárny interpolant funkcie $f(x)$ s príslušným delením $a=x_0<x_1<\\ldots<x_n=b$ intervalu $\\langle a,b \\rangle$, kde $x_j=a+jh$, $j=0,1,\\ldots,n$, $h=\\dfrac{b-a}{n}$. Ukážte, že $\\displaystyle\\int_{a}^{b}\\Phi(x)\\,\\mathrm{d}x$ je ekvivalentný zloženému lichobežníkovému pravidlu pre aproximáciu $\\displaystyle\\int_{a}^{b}f(x)\\,\\mathrm{d}x$.** "
   ]
  },
  {
   "cell_type": "code",
   "execution_count": null,
   "metadata": {},
   "outputs": [],
   "source": []
  },
  {
   "cell_type": "markdown",
   "metadata": {},
   "source": [
    "--- \n",
    "\n",
    "**9. Porovnajte lichobežníkové pravidlo a Gaussovu-Laguerrovu kvadratúru s presným výpočtom integrálu $\\displaystyle\\int_{0}^{\\infty}x^2e^{-x}\\,\\mathrm{d}x$. Určte relatívnu i absolútnu chybu aproximácií a vykreslite integrand. Experimentujte s počtom uzlov a tiež s rôznymi aproximáciami nekonečna.**  \n",
    "\n",
    "Pomôcka: Je možné využiť Laguerrove polynómy, ktoré sú implementované v balíku *NumPy*. "
   ]
  },
  {
   "cell_type": "code",
   "execution_count": null,
   "metadata": {},
   "outputs": [],
   "source": []
  },
  {
   "attachments": {
    "o10.PNG": {
     "image/png": "[encoded data removed]"
    }
   },
   "cell_type": "markdown",
   "metadata": {},
   "source": [
    "---\n",
    "\n",
    "**10. Jeden z Newtonovych-Cotesovych vzorcov - tzv. Booleova formula má tvar**\n",
    "\n",
    "![o10.PNG](attachment:o10.PNG) \n",
    "\n",
    "**kde $h$ je vzdialenosť dvoch susedných bodov delenia intervalu. Dokážte, že chyba tejto formuly na podintervale je $\\mathcal{O}\\left(h^7\\right)$.**"
   ]
  },
  {
   "cell_type": "code",
   "execution_count": null,
   "metadata": {},
   "outputs": [],
   "source": []
  },
  {
   "cell_type": "markdown",
   "metadata": {},
   "source": [
    "--- \n",
    "\n",
    "**11. Vypočítajte presnú hodnotu $\\displaystyle\\int_{-1}^{1}\\cos(x)\\,\\mathrm{d}x$ a určte relatívnu i absolútnu chybu aproximácie, keď sa použije Gaussova-Legendrova kvadratúrna formula s jedným, dvoma, troma a štyrmi bodmi. Taktiež určte počet obdĺžnikov potrebných pri obdĺžnikovom pravidle, aby chyba bola blízka chybe pri použitý trojbodovej Gaussovej-Legendrovej formule. Následne aplikujte  obdĺžnikovu formulu s nájdený počtom obdĺžnikov pre aproximáciu $\\displaystyle\\int_{-1}^{1}\\cos(x)\\,\\mathrm{d}x$.** \n"
   ]
  },
  {
   "cell_type": "code",
   "execution_count": null,
   "metadata": {},
   "outputs": [],
   "source": []
  },
  {
   "cell_type": "markdown",
   "metadata": {},
   "source": [
    "--- \n",
    "\n",
    "**12. Vypočítajte $\\displaystyle\\int_{0}^{3}xe^x\\,\\mathrm{d}x$ presne a nájdite relatívnu i absolútnu chybu pri použití Gaussovej-Legendrovej kvadratúry s jedným, dvoma, troma aj štyrmi bodmi.** "
   ]
  },
  {
   "cell_type": "code",
   "execution_count": null,
   "metadata": {},
   "outputs": [],
   "source": []
  },
  {
   "cell_type": "markdown",
   "metadata": {},
   "source": [
    "--- \n",
    "\n",
    "**13. Vypočítajte približnú hodnotu integrálu $\\displaystyle\\int_{0}^{2}e^{-x^2}\\,\\mathrm{d}x$ pomocou zloženej lichobežníkovej metódy so štyrmi podintervalmi. Odhadnite maximálnu chybu akej sa možno dopustiť pri tomto výpočte. Taktiež zistite, akú dĺžku kroku $h$ je potrebné zvoliť, aby chyba aproximácie uvedeného integrálu zloženou lichobežníkovou metódou nebola väčšia ako $0.001$.** \n"
   ]
  },
  {
   "cell_type": "code",
   "execution_count": null,
   "metadata": {},
   "outputs": [],
   "source": []
  },
  {
   "cell_type": "markdown",
   "metadata": {},
   "source": [
    "--- \n",
    "\n",
    "**14. Využitím Gaussovej-Chebysevovej kvadratúrnej formule pre $n=2$ odhadnite $\\displaystyle\\int\\limits_{-1}^{1}\\dfrac{\\mathrm{arccos}(x)}{\\sqrt{1-x^2}}\\,\\mathrm{d}x$.**"
   ]
  },
  {
   "cell_type": "code",
   "execution_count": null,
   "metadata": {},
   "outputs": [],
   "source": []
  },
  {
   "attachments": {
    "t1.PNG": {
     "image/png": "[encoded data removed]"
    }
   },
   "cell_type": "markdown",
   "metadata": {},
   "source": [
    "--- \n",
    "\n",
    "**15. Nasledujúca tabuľka udáva výkon $P$ dodávaný na hnacie kolesá automobilu v závislosti od rýchlosti $v$. Ak je hmotnosť automobilu $m = 2000$ kg, určte čas $\\Delta t$, ktorý potrebuje vozidlo na zrýchlenie z $1$ m/s na $6$ m/s. Na integráciu použite lichobežníkové pravidlo.** \n",
    "\n",
    "Pomôcka: $\\Delta t = m\\displaystyle\\int_{1}^{6}\\dfrac{v}{p}\\,\\mathrm{d}v$, čo je možné odvodiť z Newtonovho zákona $F=m(\\mathrm{d}v/\\mathrm{d}t)$ a zo vzťahu pre výkon $P=Fv$. \n",
    "\n",
    "![t1.PNG](attachment:t1.PNG) \n"
   ]
  },
  {
   "cell_type": "code",
   "execution_count": null,
   "metadata": {},
   "outputs": [],
   "source": []
  },
  {
   "attachments": {
    "o11.PNG": {
     "image/png": "[encoded data removed]"
    },
    "t2.PNG": {
     "image/png": "[encoded data removed]"
    }
   },
   "cell_type": "markdown",
   "metadata": {},
   "source": [
    "---\n",
    "\n",
    "**16. Nasledujúca tabuľka udáva silu $F$ luku ako funkciu natiahnutia $x$. Ak je luk natiahnutý $0.5$ m, určte rýchlosť $0.075$ kg šípu, keď opúšťa luk.** \n",
    "\n",
    "![o11.PNG](attachment:o11.PNG) \n",
    "\n",
    "Pomôcka: Kinetická energia šípu je rovná práci vykonanej pri naťahovaní luku, t. j. $mv^2=\\displaystyle\\int_{0}^{0.5}F\\,\\mathrm{d}x$. \n",
    "\n",
    "![t2.PNG](attachment:t2.PNG) \n"
   ]
  },
  {
   "cell_type": "code",
   "execution_count": null,
   "metadata": {},
   "outputs": [],
   "source": []
  },
  {
   "cell_type": "markdown",
   "metadata": {},
   "source": [
    "--- \n",
    "\n",
    "**17. Newtonove-Cotesove vzorce pre približný výpočet $\\displaystyle\\int\\limits_{a}^{b}f(x)\\,\\mathrm{d}x$ sú založené na aproximácii funkcie $f$ polynómami. Pre zmenu predpokladajte, že funkcia $y=f(x)$ by bola aproximovaná prirodzeným kubickým splajnom s ekvidištantnými uzlami $x_0,x_1,\\ldots,x_n$. Ukážte, že v takom prípade by kvadratúrna formula bola v tvare** \n",
    "\n",
    "$$Q(f)=\\dfrac{h}{2}\\left(y_0+2y_1+2y_2+\\ldots+2y_{n-1}+y_n\\right)-\\dfrac{h^3}{24}\\left(k_0+2k_1+k_2+\\ldots+2k_{n-1}+k_n\\right),$$ \n",
    "\n",
    "**kde $h$ je vzdialenosť susedných uzlov, $y_i=f(x_i)$, $k_i=f''(x_i)$.** \n",
    "\n",
    "Všimnite si, že prvá čast horeuvedenej formuly $Q(f)$ je vlastne zložené lichobežníkové pravidlo a druhá časť môže byť vnímaná ako určitá \"korekcia\" zakrivenia.  \n"
   ]
  },
  {
   "cell_type": "code",
   "execution_count": null,
   "metadata": {},
   "outputs": [],
   "source": []
  },
  {
   "cell_type": "markdown",
   "metadata": {},
   "source": [
    "--- \n",
    "\n",
    "**18. Odvoďte Simpsonovo 1/3 pravidlo z Newtonovych-Cotesovych vzorcov.** \n"
   ]
  },
  {
   "cell_type": "code",
   "execution_count": null,
   "metadata": {},
   "outputs": [],
   "source": []
  },
  {
   "cell_type": "markdown",
   "metadata": {},
   "source": [
    "--- \n",
    "\n",
    "**19. Určte hranice pre skutočnú hodnotu integrálu $\\displaystyle\\int_{0}^{\\pi}\\sin(x)\\,\\mathrm{d}x$ pomocou zloženého lichobežníkoveho pravidla a jeho chyby. Pri výpočte uvažujte najprv 8 a potom 16 podintervalov.** "
   ]
  },
  {
   "cell_type": "code",
   "execution_count": null,
   "metadata": {},
   "outputs": [],
   "source": []
  },
  {
   "cell_type": "markdown",
   "metadata": {},
   "source": [
    "--- \n",
    "\n",
    "**20. Pomocou vhodnej Gaussovej kvadratúry vypočítajte čo najpresnejšie $\\displaystyle\\int_{-1}^{1}\\left(1-x^2\\right)^{3/2}\\,\\mathrm{d}x$.**"
   ]
  },
  {
   "cell_type": "code",
   "execution_count": null,
   "metadata": {},
   "outputs": [],
   "source": []
  },
  {
   "cell_type": "markdown",
   "metadata": {},
   "source": [
    "--- \n",
    "\n",
    "**21. Aplikujte vhodnú Gaussovu kvadratúru na približný výpočet $\\displaystyle\\int_{0}^{1/2}\\cos(\\pi x)\\ln(x)\\,\\mathrm{d}x$.**"
   ]
  },
  {
   "cell_type": "code",
   "execution_count": null,
   "metadata": {},
   "outputs": [],
   "source": []
  },
  {
   "cell_type": "markdown",
   "metadata": {},
   "source": [
    "--- \n",
    "\n",
    "**22. Vhodnou Gaussovou kvadratúrou vypočítajte $\\displaystyle\\int_{0}^{\\infty}\\dfrac{x+3}{\\sqrt{x}}e^{-x}\\,\\mathrm{d}x$ čo najpresnejšie.** \n",
    "\n",
    "Pomôcka: Zvážte použitie vhodnej transformácie kvôli singularite v bode $x=0$. "
   ]
  },
  {
   "cell_type": "code",
   "execution_count": null,
   "metadata": {},
   "outputs": [],
   "source": []
  },
  {
   "cell_type": "markdown",
   "metadata": {},
   "source": [
    "--- \n",
    "\n",
    "**23. Určte, koľko uzlov je potrebných na výpočet $\\displaystyle\\int\\limits_{0}^{\\pi}\\dfrac{\\sin(x)}{x}\\,\\mathrm{d}x$ pomocou Gaussovej-Legendrovej kvadratúry s presnosťou na 6 desatinných miest. Urobte porovnanie s presnou hodnotou uvedeného integrálu.**"
   ]
  },
  {
   "cell_type": "code",
   "execution_count": null,
   "metadata": {},
   "outputs": [],
   "source": []
  },
  {
   "attachments": {
    "t3.PNG": {
     "image/png": "[encoded data removed]"
    }
   },
   "cell_type": "markdown",
   "metadata": {},
   "source": [
    "--- \n",
    "\n",
    "**24. Numericky integrujte $\\displaystyle\\int\\limits_{3/2}^{3}f(x)\\,\\mathrm{d}x$, kde $f(x)$ je reprezentovaná tabuľkou:** \n",
    "\n",
    "![t3.PNG](attachment:t3.PNG) \n",
    "\n",
    "**Za predpokladu, že body ležia na krivke $y=-\\cos(x)$, určte presnosť riešenia.**\n"
   ]
  },
  {
   "cell_type": "code",
   "execution_count": null,
   "metadata": {},
   "outputs": [],
   "source": []
  },
  {
   "cell_type": "markdown",
   "metadata": {},
   "source": [
    "--- \n",
    "\n",
    "**25. Koľko podintervalov je potrebných na aproximáciu $\\displaystyle\\int\\limits_{0}^{1}\\dfrac{\\sin(x)}{x}\\,\\mathrm{d}x$ pomocou zloženého lichobežníkového pravidla tak, aby chyba aproximácie neprevýšila hodnotu $\\dfrac{1}{2}\\times10^{-5}$. V bode $x=0$ definujeme hodonotu integrandu $f(x)=\\dfrac{\\sin(x)}{x}$ ako $1$.**"
   ]
  },
  {
   "cell_type": "code",
   "execution_count": null,
   "metadata": {},
   "outputs": [],
   "source": []
  },
  {
   "attachments": {
    "o12.PNG": {
     "image/png": "[encoded data removed]"
    }
   },
   "cell_type": "markdown",
   "metadata": {},
   "source": [
    "--- \n",
    "\n",
    "**26. Menej známe pravidlo numerickej integrácie s názvom 3/8 Simpsonova formula vyzerá nasledovne:** \n",
    "\n",
    "![o12.PNG](attachment:o12.PNG) \n",
    "\n",
    "**Odvoďte vzťah pre chybu tejto formuly a vysvetlite, prečo je toto pravidlo zatienené 1/3 Simpsonovym pravidlom.**"
   ]
  },
  {
   "cell_type": "code",
   "execution_count": null,
   "metadata": {},
   "outputs": [],
   "source": []
  },
  {
   "cell_type": "markdown",
   "metadata": {},
   "source": [
    "--- \n",
    "\n",
    "**27. Nájdite (algebraický) rád presnosti nasledujúcej kvadratúrnej formule:** \n",
    "\n",
    "$$\\displaystyle\\int_{-1}^{1}f(x)\\,\\mathrm{d}x\\approx f\\left(-\\dfrac{\\sqrt{3}}{3}\\right)+f\\left(\\dfrac{\\sqrt{3}}{3}\\right).$$"
   ]
  },
  {
   "cell_type": "code",
   "execution_count": null,
   "metadata": {},
   "outputs": [],
   "source": []
  },
  {
   "cell_type": "markdown",
   "metadata": {},
   "source": [
    "--- \n",
    "\n",
    "**28. Kvadratúrna formula** \n",
    "\n",
    "$$\\displaystyle\\int_{-1}^{1}f(x)\\,\\mathrm{d}x\\approx c_0f(-1)+c_1f(0)+c_2f(1)$$ \n",
    "\n",
    "**je exaktná pre všetky polynómy stupňa nanajvýš 2. Určte $c_0,c_1,c_2$.**"
   ]
  },
  {
   "cell_type": "code",
   "execution_count": null,
   "metadata": {},
   "outputs": [],
   "source": []
  },
  {
   "cell_type": "markdown",
   "metadata": {},
   "source": [
    "--- \n",
    "\n",
    "**29.**\n",
    "\n",
    "**a) Ukážte, že chyba zloženého Simpsonovho pravidla sa dá aproximovať vzťahom $-\\dfrac{h^4}{180}\\left[f'''(b)-f'''(a)\\right]$, kde $h=(b-a)/n$.** \n",
    "\n",
    "Pomôcka: $\\displaystyle\\sum\\limits_{j=1}^{n/2}f^{(4)}(\\xi_j)(2h)$ je Riemannov súčet pre $\\displaystyle\\int\\limits_{a}^{b}f^{(4)}(x)\\mathrm{d}x$. \n",
    "\n",
    "**b) Analogicky ako v časti a), odvoďte chybu zloženej lichobežníkovej formuly.** \n",
    "\n",
    "**c) Analogicky ako v časti a), odvoďte chybu zloženej obdĺžnikovej formuly.**"
   ]
  },
  {
   "cell_type": "code",
   "execution_count": null,
   "metadata": {},
   "outputs": [],
   "source": []
  },
  {
   "attachments": {
    "t6.PNG": {
     "image/png": "[encoded data removed]"
    }
   },
   "cell_type": "markdown",
   "metadata": {},
   "source": [
    "--- \n",
    "\n",
    "**30. Auto prejde pretekársku dráhu za 84 sekúnd. Rýchlosť auta v každom 6-sekundovom intervale sa určuje pomocou radarovej pištole a je daná od začiatku kola v stopách za sekundu podľa údajov v nasledujúcej tabuľke:** \n",
    "\n",
    "![t6.PNG](attachment:t6.PNG) \n",
    "\n",
    "**Aká dlhá je trať?** "
   ]
  },
  {
   "cell_type": "code",
   "execution_count": null,
   "metadata": {},
   "outputs": [],
   "source": []
  },
  {
   "attachments": {
    "o15.PNG": {
     "image/png": "[encoded data removed]"
    }
   },
   "cell_type": "markdown",
   "metadata": {},
   "source": [
    "--- \n",
    "\n",
    "**31. Uvažujte ľudskú populáciu pozostávajúcu z veľmi veľkého počtu $M$ jedincov. Rozdelenie $n(s)$ ich výšok je možné reprezentovať \"zvonovitou\" krivkou resp. funkciou, ktorá je charakterizovaná strednou hodnotou (priemernou výškou) $\\bar{h}$ a smerodajnou odchýlkou (variabilitou výšok) $\\sigma$** \n",
    "\n",
    "$$n(s)=\\dfrac{M}{\\sigma\\sqrt{2\\pi}}e^{-(s-\\bar{h})^2/(2\\sigma^2)}.$$ \n",
    "\n",
    "![o15.PNG](attachment:o15.PNG) \n",
    "\n",
    "**Potom** \n",
    "\n",
    "$$N_{[h,h+\\Delta h]}=\\displaystyle\\int\\limits_{h}^{h+\\Delta h}n(s)\\,\\mathrm{d}s$$ \n",
    "\n",
    "**reprezentuje počet ľudí, ktorých výška je medzi $h$ a $h+\\Delta h$ (pre $\\Delta h$ kladné). Konkrétna situácia je znázornená na obrázku vyššie a zodpovedá parametrom $M=200$, $\\bar{h}=1.7$ m, $\\sigma=0.1$ a obsah vyznačenej plochy vyjadruje počet ľudí, ktorých výška je v intervale $\\langle 1.8, 1,9 \\rangle$ metra. Vypočítajte túto plochu čo najpresnejšie vhodnou numerickou kvadratúrou.**"
   ]
  },
  {
   "cell_type": "code",
   "execution_count": null,
   "metadata": {},
   "outputs": [],
   "source": []
  },
  {
   "cell_type": "markdown",
   "metadata": {},
   "source": [
    "--- \n",
    "\n",
    "**32.** \n",
    "\n",
    "**a) Dokážte, že kvadratický Legendreov polynóm $P_2(x)$ na intervale $\\langle -1,1 \\rangle$ je ortogonálny na všetky lineárne polynómy.** \n",
    "\n",
    "**b) Dokážte, že kubický Legendreov polynóm $P_3(x)$ na intervale $\\langle -1,1 \\rangle$ je ortogonálny na všetky polynómy stupňa nanajvýš 2.** \n",
    "\n",
    "**c) Dokážte, že Legendreov polynóm štvrtého stupňa $P_4(x)$ na intervale $\\langle -1,1 \\rangle$ je ortogonálny na všetky polynómy stupňa nanajvýš 3.**"
   ]
  },
  {
   "cell_type": "code",
   "execution_count": null,
   "metadata": {},
   "outputs": [],
   "source": []
  },
  {
   "cell_type": "markdown",
   "metadata": {},
   "source": [
    "--- \n",
    "\n",
    "**33. Uvažujte funkciu $f(x) = \\sin \\pi x$ a preskúmajte (vizualizujte) relatívnu presnosť (v závislosti od kroku $h$ resp. $\\Delta x$) obdĺžnikového, lichobežníkového a Simpsonovho pravidla na intervale $\\langle0,1\\rangle$.** "
   ]
  },
  {
   "cell_type": "code",
   "execution_count": null,
   "metadata": {},
   "outputs": [],
   "source": []
  },
  {
   "cell_type": "markdown",
   "metadata": {},
   "source": [
    "--- \n",
    "\n",
    "**34. Uvažujte funkciu $f(x) = e^x$ a preskúmajte (vizualizujte) relatívnu presnosť (v závislosti od kroku $h$ resp. $\\Delta x$) obdĺžnikového, lichobežníkového i Simpsonovho pravidla a tiež dvojbodovej Gaussove-Legendrovej kvadratúry na intervale $\\langle-1,1\\rangle$.** \n"
   ]
  },
  {
   "cell_type": "code",
   "execution_count": null,
   "metadata": {},
   "outputs": [],
   "source": []
  },
  {
   "attachments": {
    "t4.PNG": {
     "image/png": "[encoded data removed]"
    },
    "t5.PNG": {
     "image/png": "[encoded data removed]"
    }
   },
   "cell_type": "markdown",
   "metadata": {},
   "source": [
    "--- \n",
    "\n",
    "<font color=purple> <b> EXTRA: </b> Naprogramujte funkciu pre výpočet $\\displaystyle\\int_{x_1}^{x_n}y(x)\\,\\mathrm{d}x$ na základe dátovej tabuľky </font>  \n",
    "\n",
    "![t4.PNG](attachment:t4.PNG) \n",
    "\n",
    "<font color=purple> Funkcia musí byť schopná numericky integrovať aj v prípade neekvidištantných bodov $x_i$. Funkciu otestujte napr. s nasledujúcou tabuľkou, no vytvorte/nájdite minimálne jeden ďalší testovací dataset: </font>\n",
    "\n",
    "![t5.PNG](attachment:t5.PNG) \n",
    "\n",
    "<font color=purple> Za správne riešenie s komentovaným kódom a testovacími príkladmi je možné získať 2 bonusové body. </font>\n",
    "\n",
    "<font color=purple> Pomôcka: Nafitujte kubický splajn na dáta a aplikujte Gaussovu-Legendrovu kvadratúru na každý segment splajnu. </font>"
   ]
  },
  {
   "cell_type": "code",
   "execution_count": null,
   "metadata": {},
   "outputs": [],
   "source": []
  },
  {
   "cell_type": "markdown",
   "metadata": {},
   "source": [
    "--- \n",
    "\n",
    "<font color=purple> <b>  EXTRA: </b> Za efektívnejšiu implementáciu funkcií z Úlohy 1 môžete získať 2 bonusové body. Porovnajte výpočtové časy a preukážte tak urýchlenie výpočtov pomocou Vašej implementácie. </font> "
   ]
  },
  {
   "cell_type": "code",
   "execution_count": null,
   "metadata": {},
   "outputs": [],
   "source": []
  }
 ],
 "metadata": {
  "kernelspec": {
   "display_name": "Python 3 (ipykernel)",
   "language": "python",
   "name": "python3"
  },
  "language_info": {
   "codemirror_mode": {
    "name": "ipython",
    "version": 3
   },
   "file_extension": ".py",
   "mimetype": "text/x-python",
   "name": "python",
   "nbconvert_exporter": "python",
   "pygments_lexer": "ipython3",
   "version": "3.9.13"
  },
  "varInspector": {
   "cols": {
    "lenName": 16,
    "lenType": 16,
    "lenVar": 40
   },
   "kernels_config": {
    "python": {
     "delete_cmd_postfix": "",
     "delete_cmd_prefix": "del ",
     "library": "var_list.py",
     "varRefreshCmd": "print(var_dic_list())"
    },
    "r": {
     "delete_cmd_postfix": ") ",
     "delete_cmd_prefix": "rm(",
     "library": "var_list.r",
     "varRefreshCmd": "cat(var_dic_list()) "
    }
   },
   "types_to_exclude": [
    "module",
    "function",
    "builtin_function_or_method",
    "instance",
    "_Feature"
   ],
   "window_display": false
  }
 },
 "nbformat": 4,
 "nbformat_minor": 2
}
