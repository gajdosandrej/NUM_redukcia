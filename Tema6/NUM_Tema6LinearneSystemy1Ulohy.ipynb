{
 "cells": [
  {
   "cell_type": "markdown",
   "metadata": {},
   "source": [
    "**Autor:** Andrej Gajdoš  <br> \n",
    "_[Ústav matematických vied](https://www.upjs.sk/prirodovedecka-fakulta/ustav/umv/), [Prírodovedecká fakulta](https://www.upjs.sk/prirodovedecka-fakulta/), Univerzita Pavla Jozefa Šafárika v Košiciach,_ <br> \n",
    "email: [andrej.gajdos@upjs.sk](mailto:andrej.gajdos@upjs.sk)\n",
    "*** \n",
    "\n",
    "**_Tento materiál vznikol za podpory grantu VVGS-2022-2412._**\n",
    "\n",
    "***\n",
    "\n",
    "**<font size=6 color=gold> NUM: Téma 6 - Lineárne systémy I.: úlohy </font>** "
   ]
  },
  {
   "cell_type": "code",
   "execution_count": 1,
   "metadata": {},
   "outputs": [],
   "source": [
    "# nacitanie potrebnych balikov v Python-e \n",
    "import math \n",
    "import numpy as np \n",
    "import sympy as sym \n",
    "import scipy as sci \n",
    "from decimal import Decimal\n",
    "from matplotlib import pyplot as plt"
   ]
  },
  {
   "cell_type": "markdown",
   "metadata": {},
   "source": [
    "---\n",
    "\n",
    "**1. Dokážte, že inverzia p.d. matice je p.d.** \n"
   ]
  },
  {
   "cell_type": "code",
   "execution_count": null,
   "metadata": {},
   "outputs": [],
   "source": []
  },
  {
   "cell_type": "markdown",
   "metadata": {},
   "source": [
    "--- \n",
    "\n",
    "**2. Dokážte, že prvky hlavnej diagonály symetrickej p.d. matice typu $n\\times n$ sú kladné.** \n"
   ]
  },
  {
   "cell_type": "code",
   "execution_count": null,
   "metadata": {},
   "outputs": [],
   "source": []
  },
  {
   "cell_type": "markdown",
   "metadata": {},
   "source": [
    "---\n",
    "\n",
    "**3. Zdôvodnite vzťahy pre $\\lVert\\mathbf{A}\\rVert_{1}$, $\\lVert\\mathbf{A}\\rVert_{\\infty}$. v učebnom texte.** \n"
   ]
  },
  {
   "cell_type": "code",
   "execution_count": null,
   "metadata": {},
   "outputs": [],
   "source": []
  },
  {
   "cell_type": "markdown",
   "metadata": {},
   "source": [
    "---\n",
    "\n",
    "**4. Dokážte, že $\\lVert\\mathbf{A}\\rVert_{2}=\\sqrt{\\lambda_{max}(\\mathbf{A}'\\mathbf{A})}$.** \n"
   ]
  },
  {
   "cell_type": "code",
   "execution_count": null,
   "metadata": {},
   "outputs": [],
   "source": []
  },
  {
   "cell_type": "markdown",
   "metadata": {},
   "source": [
    "--- \n",
    "\n",
    "**5. Nech $\\lVert\\cdot\\rVert$ je ľubovoľná maticová norma spĺňajúca podmienku submultiplikativity. Dokážte, že pre spektrálny polomer $\\varrho$ matice $\\mathbf{A}$ platí $\\varrho(\\mathbf{A})\\le\\lVert\\mathbf{A}\\rVert$.** \n"
   ]
  },
  {
   "cell_type": "code",
   "execution_count": null,
   "metadata": {},
   "outputs": [],
   "source": []
  },
  {
   "cell_type": "markdown",
   "metadata": {},
   "source": [
    "--- \n",
    "\n",
    "**6. Nech $\\mathbf{A}$ je regulárna $n\\times n$ matica a nech $\\left\\lVert\\mathbf{A}^{-1}\\mathbf{B}\\right\\rVert=r<1$, kde $\\lVert\\cdot\\rVert$ je maticová norma indukovaná nejakou vektorovou normou.** \n",
    "\n",
    "**a) Dokážte, že matica $\\mathbf{A}+\\mathbf{B}$ je regulárna a platí $\\left\\lVert(\\mathbf{A}+\\mathbf{B})^{-1}\\right\\rVert\\le\\dfrac{\\left\\lVert\\mathbf{A}^{-1}\\right\\rVert}{1-r}$.** \n",
    "\n",
    "**b) Dokážte, že $\\left\\lVert(\\mathbf{A}+\\mathbf{B})^{-1}-\\mathbf{A}^{-1}\\right\\rVert\\le\\dfrac{\\lVert\\mathbf{B}\\rVert\\left\\lVert\\mathbf{A}^{-1}\\right\\rVert^2}{1-r}$.**"
   ]
  },
  {
   "cell_type": "code",
   "execution_count": null,
   "metadata": {},
   "outputs": [],
   "source": []
  },
  {
   "cell_type": "markdown",
   "metadata": {},
   "source": [
    "--- \n",
    "\n",
    "**7. Predpokladajte, že matica $\\mathbf{A}$ je regulárna a $\\mathbf{x}$ je riešenie sústavy $\\mathbf{A}\\mathbf{x}=\\mathbf{b}$. Ďalej nech $\\left\\lVert\\mathbf{A}^{-1}\\right\\rVert_2=10^3$ a $\\left\\lVert\\mathbf{A}\\right\\rVert_2=10^2$. Cieľom je vyriešiť sústavu $\\mathbf{B}\\mathbf{z}=\\mathbf{b}$, kde $\\mathbf{B}=\\mathbf{A}-\\mathbf{C}$ a $\\left\\lVert\\mathbf{C}\\right\\rVert_2=10^{-4}$.**\n",
    "\n",
    "**a) Ukážte, že matica $\\mathbf{B}$ je regulárna.**\n",
    "\n",
    "**b) Nájdite hornú hranicu pre $\\left\\lVert\\mathbf{x}-\\mathbf{z}\\right\\rVert_2$ vzhľadom na $\\left\\lVert\\mathbf{x}\\right\\rVert_2$, tzn. nájdite konštantu $c>0$ takú, aby platilo $\\left\\lVert\\mathbf{x}-\\mathbf{z}\\right\\rVert_2<c\\left\\lVert\\mathbf{x}\\right\\rVert_2$.**"
   ]
  },
  {
   "cell_type": "code",
   "execution_count": null,
   "metadata": {},
   "outputs": [],
   "source": []
  },
  {
   "cell_type": "markdown",
   "metadata": {},
   "source": [
    "---\n",
    "\n",
    "**8. Uvažujte tridiagonálnu maticu $\\mathbf{A}=\\left\\{a_{ij}\\right\\}_{i,j=1}^{n}$ dimenzie $n\\times n$ takú, že** \n",
    "\n",
    "$$a_{ij}=\\begin{cases}5, \\quad \\text{ ak } i=j,\\\\ 1, \\quad \\text{ ak } i=j+1 \\text{ alebo } i=j-1,\\\\ 0, \\quad \\text{ inak }.\\end{cases}$$ \n",
    "\n",
    "**a) Dokážte, že $\\mathbf{A}$ je regulárna.** \n",
    "\n",
    "**b) Dokážte, že $\\dfrac{1}{7}\\le\\left\\lVert\\mathbf{A}^{-1}\\right\\rVert_{\\infty}\\le\\dfrac{1}{3}$.**"
   ]
  },
  {
   "cell_type": "code",
   "execution_count": null,
   "metadata": {},
   "outputs": [],
   "source": []
  },
  {
   "cell_type": "markdown",
   "metadata": {},
   "source": [
    "--- \n",
    "\n",
    "**9. Predpokladajte, že $\\left\\lVert\\mathbf{I}-\\mathbf{A}\\mathbf{B}_0\\right\\rVert=c<1$ a $\\mathbf{B}_k=\\mathbf{B}_{k-1}+\\mathbf{B}_{k-1}(\\mathbf{I}-\\mathbf{A}\\mathbf{B}_{k-1})$, $k=1,2,\\ldots$.** \n",
    "\n",
    "**a) Ukážte, že $\\left\\lVert\\mathbf{I}-\\mathbf{A}\\mathbf{B}_k\\right\\rVert\\le c^{2^k}$.** \n",
    "\n",
    "**b) Ukážte, že $\\left\\lVert\\mathbf{A}^{-1}-\\mathbf{B}_k\\right\\rVert\\le\\left\\lVert\\mathbf{B}_0\\right\\rVert\\dfrac{c^{2^k}}{1-c}$.**\n"
   ]
  },
  {
   "cell_type": "code",
   "execution_count": null,
   "metadata": {},
   "outputs": [],
   "source": []
  },
  {
   "cell_type": "markdown",
   "metadata": {},
   "source": [
    "---\n",
    "\n",
    "**10. Dokážte, že ak $\\lambda$ je vlastné číslo matice $\\mathbf{A}$ a $c$ je reálna konštanta, potom $1-\\lambda c$ je vlastné číslo matice $\\mathbf{I}-c\\mathbf{A}$.** \n"
   ]
  },
  {
   "cell_type": "code",
   "execution_count": null,
   "metadata": {},
   "outputs": [],
   "source": []
  },
  {
   "cell_type": "markdown",
   "metadata": {},
   "source": [
    "--- \n",
    "\n",
    "**11. S využitím Úlohy 10. dokážte, že ak $\\varrho(\\mathbf{A})<1$, potom je matica $\\mathbf{I}-\\mathbf{A}$ regulárna. Taktiež dokážte, že platí $(\\mathbf{I}-\\mathbf{A})^{-1}\\left(\\mathbf{I}-\\mathbf{A}^{N+1}\\right)=\\displaystyle\\sum\\limits_{i=0}^{N}A^i=\\mathbf{I}+\\mathbf{A}+\\mathbf{A}^2+\\ldots+\\mathbf{A}^N$.** \n"
   ]
  },
  {
   "cell_type": "code",
   "execution_count": null,
   "metadata": {},
   "outputs": [],
   "source": []
  },
  {
   "cell_type": "markdown",
   "metadata": {},
   "source": [
    "--- \n",
    "\n",
    "**12. Overte, či je matica $\\mathbf{A}=\\begin{pmatrix}2.1&-0.6&1.1\\\\3.2&4.7&-0.8\\\\3.1&-6.5&4.1\\end{pmatrix}$ singulárna.** "
   ]
  },
  {
   "cell_type": "code",
   "execution_count": null,
   "metadata": {},
   "outputs": [],
   "source": []
  },
  {
   "cell_type": "markdown",
   "metadata": {},
   "source": [
    "--- \n",
    "\n",
    "**13. Vyriešte SLR $\\mathbf{A}\\mathbf{x}=\\mathbf{b}$, kde $\\mathbf{A}=\\begin{pmatrix}8&-6&2\\\\-4&11&-7\\\\4&-7&6\\end{pmatrix}, \\quad \\mathbf{b}=\\begin{pmatrix}28\\\\-40\\\\33\\end{pmatrix}$ tak, že najprv nájdete LU rozklad matice $\\mathbf{A}$. Implementujte túto procedúru aj v Pythone a overte jej správnosť pomocou zabudovaných funkcií v Python-e.** \n",
    "\n",
    "\n"
   ]
  },
  {
   "cell_type": "code",
   "execution_count": null,
   "metadata": {},
   "outputs": [],
   "source": []
  },
  {
   "cell_type": "markdown",
   "metadata": {},
   "source": [
    "--- \n",
    "\n",
    "**14. Aplikujte GEM na riešenie sústavy $\\mathbf{A}\\mathbf{X}=\\mathbf{B}$ s dvoma pravými stranami, kde $\\mathbf{A}=\\begin{pmatrix}6&-4&1\\\\-4&6&-4\\\\1&-4&6\\end{pmatrix}, \\quad  \\mathbf{B}=\\begin{pmatrix}-14&22\\\\36&-18\\\\6&7\\end{pmatrix}$. Všetky podstatné kroky riešenia rozpíšte a overte svoje riešenie v Python-e. Naprogramujte i vlastnú funkciu využívajúcu GEM na riešenie SLR s viacerými pravými stranami.**"
   ]
  },
  {
   "cell_type": "code",
   "execution_count": null,
   "metadata": {},
   "outputs": [],
   "source": []
  },
  {
   "cell_type": "markdown",
   "metadata": {},
   "source": [
    "--- \n",
    "\n",
    "**15. *Vandermondova matica* $\\mathbf{A}=\\left\\{a_{ij}\\right\\}_{i,j=1}^{n}$ rozmerov $n\\times n$ je definovaná vzťahom** \n",
    "\n",
    "$$a_{ij}=v_i^{n-j}, \\quad i=1,2,\\ldots,n; \\quad j=1,2,\\ldots,n,$$\n",
    "\n",
    "**kde $\\mathbf{v}=(v_1,v_2,\\ldots,v_n)'$ je vektor. Pomocou GEM (Vašej implementovanej funkcie v Python-e) nájdite riešenie sústavy $\\mathbf{A}\\mathbf{x}=\\mathbf{b}$, kde $\\mathbf{A}$ je $6\\times6$ Vandermondova matica generovaná vektorom $\\mathbf{v}=(1.0,1.2,1.4,1.6,1.8,2.0)'$ a $\\mathbf{b}=(0,1,0,1,0,1)'$. Taktiež určte/posúďte presnosť získaného riešenia (Vandermondove matice majú sklony k zlej podmienenosti). Naprogramujte i jednoduchú funkciu pre generovanie Vandermondovej matice na základe vektora.**\n"
   ]
  },
  {
   "cell_type": "code",
   "execution_count": null,
   "metadata": {},
   "outputs": [],
   "source": []
  },
  {
   "cell_type": "markdown",
   "metadata": {},
   "source": [
    "---\n",
    "\n",
    "**16. Nájdite Choleskeho rozklad matice $\\mathbf{A}=\\begin{pmatrix}4&-2&2\\\\-2&2&-4\\\\2&-4&11\\end{pmatrix}$ pomocou vlastnej procedúry implementovanej v Python-e a následne riešenie porovnajte so vstavanou Python-ovskou funkciou.** \n"
   ]
  },
  {
   "cell_type": "code",
   "execution_count": null,
   "metadata": {},
   "outputs": [],
   "source": []
  },
  {
   "cell_type": "markdown",
   "metadata": {},
   "source": [
    "--- \n",
    "\n",
    "**17. Napíšte v Python-e funkciu na riešenie SLR $\\mathbf{A}\\mathbf{x}=\\mathbf{b}$ pomocou Choleskeho dekompozície. Následne túto funkciu aplikujte na riešenie SLR, kde $\\mathbf{A}=\\begin{pmatrix}1.44&-0.36&5.52&0.00\\\\-0.36&10.33&-7.78&0.00\\\\5.52&-7.78&28.40&9.00\\\\0.00&0.00&9.00&61.00\\end{pmatrix}$, $\\mathbf{b}=\\begin{pmatrix}0.04\\\\-2.15\\\\0\\\\0.88\\end{pmatrix}$** \n",
    "\n"
   ]
  },
  {
   "cell_type": "code",
   "execution_count": null,
   "metadata": {},
   "outputs": [],
   "source": []
  },
  {
   "cell_type": "markdown",
   "metadata": {},
   "source": [
    "--- \n",
    "\n",
    "**18. Implementujte Choleskeho dekompozíciu v Python-e a následne ju aplikujte na nájdenie Choleskeho rozkladu matice $\\mathbf{A}=\\begin{pmatrix}3&-3&3\\\\-3&5&1\\\\3&1&10\\end{pmatrix}$.** \n",
    "\n"
   ]
  },
  {
   "cell_type": "code",
   "execution_count": null,
   "metadata": {},
   "outputs": [],
   "source": []
  },
  {
   "cell_type": "markdown",
   "metadata": {},
   "source": [
    "--- \n",
    "\n",
    "**19. Navrhnite spôsob ako porovnať rýchlosť LU rozkladu s rýchlosťou Chleskeho rozkladu matice. Výsledky znázornite v závislosti od veľkosti matice.** \n"
   ]
  },
  {
   "cell_type": "code",
   "execution_count": null,
   "metadata": {},
   "outputs": [],
   "source": [
    "# generate random symmetric matrix \n",
    "\n",
    "import numpy as np\n",
    "\n",
    "N = 100\n",
    "b = np.random.random_integers(-2000,2000,size=(N,N))\n",
    "b_symm = (b + b.T)/2"
   ]
  },
  {
   "cell_type": "code",
   "execution_count": null,
   "metadata": {},
   "outputs": [],
   "source": []
  },
  {
   "cell_type": "markdown",
   "metadata": {},
   "source": [
    "--- \n",
    "\n",
    "**20. Implementujte vlastné funkcie pre nasledujúce metódy riešenia SLR (bez výberu pivota): naivná GEM, GEM + LU rozklad, riešenie SLR pomocou Choleskeho rozkladu. Následne porovnajte rýchlosť a prenosť uvedených metód pre rôzne veľké sústavy, výsledky vizualizujte.** \n",
    "\n",
    "Pomôcka: Pre porovnanie je možné využiť rôzne sústavy rovníc $\\mathbf{A}\\mathbf{x}=\\mathbf{b}$, kde $\\mathbf{A}$ je náhodne vygenerovaná matica veľkosti $n\\times n$ napr. pomocou príkazu uvedeného nižšie a $i$-tá zložka vektora pravých strán má tvar  $b_i=\\displaystyle\\sum\\limits_{j=1}^{n}a_{ij}$. Zrejme riešenie takejto sústavy je $\\mathbf{x}=(1,1,\\ldots,1)'$ (vysvetlite!). "
   ]
  },
  {
   "cell_type": "code",
   "execution_count": null,
   "metadata": {},
   "outputs": [],
   "source": [
    "from numpy.random import rand\n",
    "\n",
    "A = rand(n, n)"
   ]
  },
  {
   "cell_type": "code",
   "execution_count": null,
   "metadata": {},
   "outputs": [],
   "source": []
  },
  {
   "cell_type": "markdown",
   "metadata": {},
   "source": [
    "--- \n",
    "\n",
    "**21. Implementujte algoritmus LUp v Python-e a následne pomocou neho vyriešte SLR $\\mathbf{A}\\mathbf{x}=\\mathbf{b}$, kde $\\mathbf{A}=\\begin{pmatrix}2&-2&6\\\\-2&4&3\\\\-1&8&4\\end{pmatrix}, \\quad \\mathbf{b}=\\begin{pmatrix}16\\\\0\\\\-1\\end{pmatrix}$**"
   ]
  },
  {
   "cell_type": "code",
   "execution_count": null,
   "metadata": {},
   "outputs": [],
   "source": []
  },
  {
   "attachments": {
    "o6.PNG": {
     "image/png": "[encoded data removed]"
    },
    "o7.PNG": {
     "image/png": "[encoded data removed]"
    }
   },
   "cell_type": "markdown",
   "metadata": {},
   "source": [
    "--- \n",
    "\n",
    "**22. Pomocou GEM s čiastočným výberom hlavných prvkov vyriešte nasledovné SLR:**  \n",
    "\n",
    "**a)** \n",
    "\n",
    "![o6.PNG](attachment:o6.PNG) \n",
    "\n",
    "**b)**\n",
    "\n",
    "![o7.PNG](attachment:o7.PNG) \n"
   ]
  },
  {
   "cell_type": "code",
   "execution_count": null,
   "metadata": {},
   "outputs": [],
   "source": []
  },
  {
   "cell_type": "markdown",
   "metadata": {},
   "source": [
    "--- \n",
    "\n",
    "**23. Podobne ako v úlohe 20 vyskúšajte rýchlosť a presnosť Vami implementovaného algoritmu LUp. Výsledky vizualizujte v závislosti od veľkosti matice sústavy.** \n",
    "\n"
   ]
  },
  {
   "cell_type": "code",
   "execution_count": null,
   "metadata": {},
   "outputs": [],
   "source": []
  },
  {
   "cell_type": "markdown",
   "metadata": {},
   "source": [
    "--- \n",
    "\n",
    "**24. Napíšte program na invertovanie matíc s využitím LU dekompozície a čiastočného výberu pivotov. Aplikujte Vami implementovanú funkciu na nájdenie inverznej matice k matici $\\mathbf{A}=\\begin{pmatrix}0.6&-0.4&1.0\\\\-0.3&0.2&0.5\\\\0.6&-1.0&0.5\\end{pmatrix}$.**"
   ]
  },
  {
   "cell_type": "code",
   "execution_count": null,
   "metadata": {},
   "outputs": [],
   "source": []
  },
  {
   "cell_type": "markdown",
   "metadata": {},
   "source": [
    "--- \n",
    "\n",
    "**25. Bez toho, aby ste vyriešili SLR $\\mathbf{A}\\mathbf{x}=\\mathbf{b}$, kde $\\mathbf{A}=\\begin{pmatrix}1&2&3\\\\4&5&6\\\\7&8&9\\end{pmatrix}, \\quad \\mathbf{b}=\\begin{pmatrix}1\\\\1\\\\1\\end{pmatrix}$, určte počet jej riešení.** "
   ]
  },
  {
   "cell_type": "code",
   "execution_count": null,
   "metadata": {},
   "outputs": [],
   "source": []
  },
  {
   "cell_type": "markdown",
   "metadata": {},
   "source": [
    "--- \n",
    "\n",
    "**26. Pre ktoré hodnoty parametra $\\alpha$ zlyháva naivná GEM pri riešení uvedenej sústavy? (poskytuje nepresné riešenie). Vysvetlite, čo sa deje v počítači** \n",
    "\n",
    "$$\\begin{align*}x_1&+x_2=2\\\\\\alpha x_1&+x_2=2+\\alpha\\end{align*}.$$ \n"
   ]
  },
  {
   "cell_type": "code",
   "execution_count": null,
   "metadata": {},
   "outputs": [],
   "source": []
  },
  {
   "cell_type": "markdown",
   "metadata": {},
   "source": [
    "---\n",
    "\n",
    "**27. Navrhnite efektívnejší (z hľadiska pamäte počítača) spôsob ukladania symetrických matíc a implmenetujte ho v rámci algoritmu GEMz, LUp prípadne v ďalších algoritmoch na riešenie SLR.**"
   ]
  },
  {
   "cell_type": "code",
   "execution_count": null,
   "metadata": {},
   "outputs": [],
   "source": []
  },
  {
   "cell_type": "markdown",
   "metadata": {},
   "source": [
    "--- \n",
    "\n",
    "**28. Prvky *Hilbertovej matice* rádu $n$ sú definované vzťahom $a_{ij}=(i+j-1)^{-1}$, $1\\le i,j \\le n$. Tieto matice sa častokrát využívajú na testovacie účely kvôli zlej podmienenosti. Položme $b_i=\\displaystyle\\sum\\limits_{j=1}^{n}a_{ij}$. Potom riešenie systému rovníc $\\displaystyle\\sum\\limits_{j=1}^{n}a_{ij}x_j=b_i$ pre $1\\le i \\le n$ je $\\mathbf{x}=(1,1,\\ldots,1)'$. Overte túto skutočnosť. Zvoľte $n\\in\\{2,3,\\ldots,15\\}$, vyriešte príslušnú sústavu pomocou algoritmu LUp (určte tiež číslo podmienenosti matice sústavy) a porovnajte získané riešenia s presným riešením. Prípad pre $n=2$ vyriešte aj \"ručne\" aby ste videli aké ťažkosti môžu v priebehu riešenia nastať.**"
   ]
  },
  {
   "cell_type": "code",
   "execution_count": null,
   "metadata": {},
   "outputs": [],
   "source": []
  },
  {
   "cell_type": "markdown",
   "metadata": {},
   "source": [
    "--- \n",
    "\n",
    "**29. Využite GEM a prípadne čiastočný výber hlavných prvkov na vytvorenie procedúry na výpočet determinantov štvorcových matíc. Následne otestujte vytvorenú procedúru na výpočet determinantov týchto matíc (voľte rôzne hodnoty pre $n$):** \n",
    "\n",
    "**a) $a_{ij}=|i-j|, \\qquad \\det(\\mathbf{A})=(-1)^{n-1}(n-1)2^{n-2}$;**\n",
    "\n",
    "**b) $a_{ij}=\\begin{cases}1, \\quad j\\ge i\\\\-j, \\quad j<i\\end{cases}, \\quad \\det(\\mathbf{A})=n!$;** \n",
    "\n",
    "**c) $\\begin{cases}a_{ij}=a_{j1}=n^{-1}, \\quad j\\ge i\\\\a_{ij}=a_{i-1,j}+a_{i,j-1}, \\quad i,j\\ge2\\end{cases}, \\quad \\det(\\mathbf{A})=n^{-n}$.** "
   ]
  },
  {
   "cell_type": "code",
   "execution_count": null,
   "metadata": {},
   "outputs": [],
   "source": []
  },
  {
   "attachments": {
    "o8.PNG": {
     "image/png": "[encoded data removed]"
    }
   },
   "cell_type": "markdown",
   "metadata": {},
   "source": [
    "--- \n",
    "\n",
    "**30. Nájdite $\\mathbf{P}\\mathbf{A}=\\mathbf{L}\\mathbf{U}$ rozklad matice** \n",
    "\n",
    "![o8.PNG](attachment:o8.PNG) \n"
   ]
  },
  {
   "cell_type": "code",
   "execution_count": null,
   "metadata": {},
   "outputs": [],
   "source": []
  },
  {
   "cell_type": "markdown",
   "metadata": {},
   "source": [
    "--- \n",
    "\n",
    "**31. Gaussova-Jordanova metóda je modifikáciou GEM s tým, že sa nulujú prvky nie len pod hlavnou diagonálou ale súčasne aj nad hlavnou diagonálou. Tým pádom je výsledná matica sústavy po eliminácii diagonálna matica. Implementujte túto metódu v Python-e a otestujte na relevantných príkladoch SLR. Porovnajte výpočtový čas s naivnou GEM. Výsledky porovnania vizualizujte.**"
   ]
  },
  {
   "cell_type": "code",
   "execution_count": null,
   "metadata": {},
   "outputs": [],
   "source": []
  },
  {
   "attachments": {
    "o21.PNG": {
     "image/png": "[encoded data removed]"
    }
   },
   "cell_type": "markdown",
   "metadata": {},
   "source": [
    "--- \n",
    "\n",
    "**32. Predpokladajme, že v biologickom systéme existuje $n$ druhov zvierat a $m$ zdrojov potravy. Nech $x_j$ predstavuje populáciu $j$-tého druhu, pre každé $j = 1,...,n$; $b_i$ predstavuje dostupnú dennú zásobu $i$-tého jedla; $a_ij$ predstavujú množstvo $i$-tej potravy skonzumovanej v priemere príslušníkom $i$-tého druhu. Lineárny systém** \n",
    "\n",
    "![o21.PNG](attachment:o21.PNG) \n",
    "\n",
    "**predstavuje rovnováhu, pri ktorej existuje denná zásoba potravy presne zodpovedajúca priemernej dennej spotrebe každého druhu.** \n",
    "\n",
    "**a) Nech $\\mathbf{A}=\\left\\{a_{ij}\\right\\}=\\begin{pmatrix}1&2&0&3\\\\1&0&2&2\\\\0&0&1&1\\end{pmatrix}$, $\\mathbf{x}=\\left\\{x_{j}\\right\\}=(1000,500,350,400)'$ a $\\mathbf{b}={b_i}=(3500,2700,900)'$. Existuje dostatok potravy na uspokojenie priemernej dennej spotreby?**\n",
    "\n",
    "**b) Aký je maximálny počet zvierat každého druhu, ktoré možno jednotlivo pridať do systému, pričom zásoba potravy stále zodpovedá spotrebe?.** \n",
    "\n",
    "**c) Ak by druh 1 vyhynul, do akej miery by sa mohol podporiť individuálny nárast každého zo zostávajúcich druhov?.** \n",
    "\n",
    "**d) Ak by druh 2 vyhynul, koľko z jednotlivých prírastkov každého zo zostávajúcich druhov by sa dalo podporiť?.** \n"
   ]
  },
  {
   "cell_type": "code",
   "execution_count": null,
   "metadata": {},
   "outputs": [],
   "source": []
  },
  {
   "cell_type": "markdown",
   "metadata": {},
   "source": [
    "--- \n",
    "\n",
    "**33. Uvažujte $m$ lineárnych systémov $\\mathbf{A}\\mathbf{x}_{p}=\\mathbf{b}_{p}, \\quad p=1,2,\\ldots,m$, ktoré je potrebné vyriešiť so spoločnou maticou koeficientov $\\mathbf{A}$.** \n",
    "\n",
    "**a) Ukážte, že GEM (dopredná eliminácia + spätná substitúcia) aplikovaná na rozšírenú matiu sústavy $(\\mathbf{A}|\\mathbf{b}_1\\mathbf{b}_2\\ldots\\mathbf{b}_m)$ vyžaduje $\\dfrac{1}{3}n^3+mn^2-\\dfrac{1}{3}n$ násobiacich operacií a $\\dfrac{1}{3}n^3+mn^2-\\dfrac{1}{2}n^2-mn+\\dfrac{1}{6}n$ sčítacích operácií.** \n",
    "\n",
    "**b) Ukážte, že Gaussova-Jordanova metóda (Úloha 31) aplikovaná na rozšírenú matiu sústavy $(\\mathbf{A}|\\mathbf{b}_1\\mathbf{b}_2\\ldots\\mathbf{b}_m)$ vyžaduje $\\dfrac{1}{2}n^3+mn^2-\\dfrac{1}{2}n$ násobiacich operacií a $\\dfrac{1}{2}n^3+(m-1)n^2+\\left(\\dfrac{1}{2}-m\\right)n$ sčítacích operácií.** \n",
    "\n",
    "**c) Zdôvodnite, že riešenie SLR $\\mathbf{A}\\mathbf{x}=\\mathbf{b}$, keď je známa matica $\\mathbf{A}^{-1}$, vyžaduje $n^2$ násobiacich a $n^2-n$ sčítacích operácií.** \n",
    "\n",
    "**d) Zdôvodnite, že riešenie $m$ SLR $\\mathbf{A}\\mathbf{x}_{p}=\\mathbf{b}_{p}, \\quad p=1,2,\\ldots,m$ metódou inverznej matice, t.j. $\\mathbf{x}_{p}=\\mathbf{A}^{-1}\\mathbf{b}_p$, vyžaduje $mn^2$ násobiacich a $m(n^2-n)$ sčítacích operácií, ak je $\\mathbf{A}^{-1}$ známa.**\n"
   ]
  },
  {
   "cell_type": "code",
   "execution_count": null,
   "metadata": {},
   "outputs": [],
   "source": []
  },
  {
   "cell_type": "markdown",
   "metadata": {},
   "source": [
    "--- \n",
    "\n",
    "**34. Zostrojte maticu $\\mathbf{A}$ tak, aby nebola symetrická, no aby bola súčasne p.d. Využite Python na experimentovanie.** "
   ]
  },
  {
   "cell_type": "code",
   "execution_count": null,
   "metadata": {},
   "outputs": [],
   "source": []
  },
  {
   "cell_type": "markdown",
   "metadata": {},
   "source": [
    "--- \n",
    "\n",
    "**35. Predpokladajte, že p.d. matica $\\mathbf{A}$ má Choleskeho rozklad $\\mathbf{A}=\\mathbf{L}\\mathbf{L}'$ a tiež rozklad v tvare $\\mathbf{A}=\\hat{\\mathbf{L}}\\mathbf{D}\\hat{\\mathbf{L}}'$, kde $\\mathbf{D}$ je diagonálna matica s kladnými diagonálnymi  prvkami $d_{11},d_{22},\\ldots,d_{nn}$. Ďalej nech $\\mathbf{D}^{1/2}$ je diagonálna matica s diagonálnymi prvkami $\\sqrt{d_{11}},\\sqrt{d_{22}},\\ldots,\\sqrt{d_{nn}}$.** \n",
    "\n",
    "**a) Ukážte, že $\\mathbf{D}=\\mathbf{D}^{1/2}\\mathbf{D}^{1/2}$.** \n",
    "\n",
    "**b) Ukážte, že $\\mathbf{L}=\\hat{\\mathbf{L}}\\mathbf{D}^{1/2}$.**\n"
   ]
  },
  {
   "cell_type": "code",
   "execution_count": null,
   "metadata": {},
   "outputs": [],
   "source": []
  },
  {
   "cell_type": "markdown",
   "metadata": {},
   "source": [
    "--- \n",
    "\n",
    "**36. Určte a zdôvodnite počet operácií potrebných pri riešení SLR (s dolnou trojuholníkovou maticou sústavy) doprednou substitúciou.** "
   ]
  },
  {
   "cell_type": "code",
   "execution_count": null,
   "metadata": {},
   "outputs": [],
   "source": []
  },
  {
   "cell_type": "markdown",
   "metadata": {},
   "source": [
    "--- \n",
    "\n",
    "**37. Určte a zdôvodnite počet operácií potrebných pri riešení SLR  pomocou GEM (dopredný + spätný chod).** "
   ]
  },
  {
   "cell_type": "code",
   "execution_count": null,
   "metadata": {},
   "outputs": [],
   "source": []
  }
 ],
 "metadata": {
  "kernelspec": {
   "display_name": "Python 3 (ipykernel)",
   "language": "python",
   "name": "python3"
  },
  "language_info": {
   "codemirror_mode": {
    "name": "ipython",
    "version": 3
   },
   "file_extension": ".py",
   "mimetype": "text/x-python",
   "name": "python",
   "nbconvert_exporter": "python",
   "pygments_lexer": "ipython3",
   "version": "3.9.13"
  },
  "varInspector": {
   "cols": {
    "lenName": 16,
    "lenType": 16,
    "lenVar": 40
   },
   "kernels_config": {
    "python": {
     "delete_cmd_postfix": "",
     "delete_cmd_prefix": "del ",
     "library": "var_list.py",
     "varRefreshCmd": "print(var_dic_list())"
    },
    "r": {
     "delete_cmd_postfix": ") ",
     "delete_cmd_prefix": "rm(",
     "library": "var_list.r",
     "varRefreshCmd": "cat(var_dic_list()) "
    }
   },
   "types_to_exclude": [
    "module",
    "function",
    "builtin_function_or_method",
    "instance",
    "_Feature"
   ],
   "window_display": false
  }
 },
 "nbformat": 4,
 "nbformat_minor": 2
}
