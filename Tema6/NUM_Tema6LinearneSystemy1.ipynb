{
 "cells": [
  {
   "cell_type": "markdown",
   "metadata": {},
   "source": [
    "**Autor:** Andrej Gajdoš  <br> \n",
    "_[Ústav matematických vied](https://www.upjs.sk/prirodovedecka-fakulta/ustav/umv/), [Prírodovedecká fakulta](https://www.upjs.sk/prirodovedecka-fakulta/), Univerzita Pavla Jozefa Šafárika v Košiciach,_ <br> \n",
    "email: [andrej.gajdos@upjs.sk](mailto:andrej.gajdos@upjs.sk)\n",
    "*** \n",
    "\n",
    "**_Tento materiál vznikol za podpory grantu VVGS-2022-2412._**\n",
    "\n",
    "***\n",
    "\n",
    "**<font size=6 color=gold> NUM: Téma 6 - Lineárne systémy I. </font>** "
   ]
  },
  {
   "cell_type": "markdown",
   "metadata": {},
   "source": [
    "Nazývané tiež ako numerická kvadratúra. "
   ]
  },
  {
   "cell_type": "markdown",
   "metadata": {},
   "source": [
    "<a id=table_of_contents></a>\n",
    "##  Obsah\n",
    "* [Úvod](#uvod) \n",
    "\n",
    "\n",
    "* [Gaussova eliminačná metóda](#gemz) \n",
    "\n",
    "\n",
    "* [Výber hlavného prvku](#vyber_hlavneho_prvku) \n",
    "\n",
    "\n",
    "* [Vplyv zaokrúhľovacích chýb](#zaokruhlovacie_chyby) \n",
    "\n",
    "\n",
    "* [Podmienenosť](#podmienenost) \n",
    "\n",
    "\n",
    "* [Použité zdroje](#zdroje) \n",
    "\n",
    "\n",
    "**Pre návrat na obsah stlačte klávesu <font color=brown>Home</font>.**"
   ]
  },
  {
   "cell_type": "code",
   "execution_count": 1,
   "metadata": {},
   "outputs": [],
   "source": [
    "# nacitanie potrebnych balikov v Python-e \n",
    "import math \n",
    "import numpy as np \n",
    "import sympy as sym \n",
    "import scipy as sci \n",
    "from decimal import Decimal\n",
    "from matplotlib import pyplot as plt"
   ]
  },
  {
   "cell_type": "markdown",
   "metadata": {},
   "source": [
    "***\n",
    "<a id=uvod></a>\n",
    " # <font color=brown> Úvod</font> "
   ]
  },
  {
   "cell_type": "markdown",
   "metadata": {},
   "source": [
    "Jedna z najčastejšie sa vyskytujúcich úloh vo výpočtovej praxi je úloha vyriešiť sústavu resp. systém lineárnych rovníc (SLR) - rôzne typy modelovania vedú práve na riešenie SLR. Takéto SLR bývajú veľakrát veľmi rozsiahle (veľa rovníc, veľa premenných), no súčasná výpočtová technika a matematické metódy umožňujú v prijateľnom čase vyriešiť sústavu s niekoľkými miliónmi premenných (neznámych). Metódy riešenia SLR sa delia na **_priame_** a **_iteračné_**. \n",
    "\n",
    "**Priame metódy** - v konečnom počte krokov nájdu presné riešenie za predpokladu, že výpočet prebieha bez zaokrúhľovacích chýb. \n",
    "\n",
    "**Iteračné metódy** - po konečnom počte krokov poskytnú približné riešenie, čo je v poriadku, pokiaľ je dostatočne dobrou aproximáciou presného riešenia. Počet krokov iteračnej metódy závisí od požadovanej presnosti. \n",
    "\n",
    "Budeme sa teda zaoberať riešením SLR \n",
    "\n",
    "\\begin{align*}\\label{eq:Form1SLE} \\tag{1}\n",
    "a_{11}x_1+a_{12}x_2+\\ldots+a_{1n}x_n=b_1 \\\\ \n",
    "a_{21}x_1+a_{22}x_2+\\ldots+a_{2n}x_n=b_2 \\\\ \n",
    "\\vdots \\qquad \\qquad \\qquad \\qquad \\qquad \\vdots \\\\ \n",
    "a_{n1}x_1+a_{n2}x_2+\\ldots+a_{nn}x_n=b_n.\n",
    "\\end{align*} \n",
    "\n",
    "Sústavu \\eqref{eq:Form1SLE} je možné zapísať aj v tvare \n",
    "\n",
    "\\begin{align*}\\label{eq:Form2SLE} \\tag{2}\n",
    "\\displaystyle\\sum\\limits_{j=1}^{n}a_{ij}x_j=b_i, \\quad i=1,2,\\ldots,n,\n",
    "\\end{align*} \n",
    "\n",
    "alebo tiež v maticovom tvare \n",
    "\n",
    "\\begin{align*}\\label{eq:Form3SLE} \\tag{3}\n",
    "\\mathbf{A}\\mathbf{x}=\\mathbf{b},\n",
    "\\end{align*}\n",
    "\n",
    "kde \n",
    "\n",
    "\\begin{equation*}\n",
    "\\mathbf{A}=\\begin{pmatrix}a_{11}&a_{12}&\\ldots&a_{1n}\\\\a_{21}&a_{22}&\\ldots&a_{2n}\\\\\\vdots&\\vdots&\\vdots&\\vdots\\\\a_{n1}&a_{n2}&\\ldots&a_{nn}\\end{pmatrix}, \\quad \\mathbf{x}=\\begin{pmatrix}x_1\\\\x_2\\\\\\vdots\\\\x_n\\end{pmatrix}, \\quad \\mathbf{b}=\\begin{pmatrix}b_1\\\\b_2\\\\\\vdots\\\\b_n\\end{pmatrix}.\n",
    "\\end{equation*} \n",
    "\n",
    "Matica $\\mathbf{A}$ sa nazýva **_matica sústavy_**, niekedy tiež **_matica koeficientov sústavy_**, $\\mathbf{b}$ je  **_vektor pravých strán_** a $\\mathbf{x}$ je **_vektor neznámych_** resp. **_premenných_**. \n",
    "\n",
    "**V tejto téme sa budeme venovať priamym metódam na riešenie SLR.** \n",
    "\n",
    "Štandardne budeme predpokladať, že prvky matíc a vektorov sú reálne čísla, t. j. $\\mathbf{A}\\in\\mathbb{R}^{n\\times n}$ (vektorový priestor reálnych matíc rozmerov $n\\times n$), $\\mathbf{b}\\in\\mathbb{R}^n$ (vektorový priestor usporiadaných $n$-tíc reálnych čísel). Podobne by sme mohli uvažovať aj matice a vektory nad poľom komplexných čísel, tzn. $\\mathbf{A}\\in\\mathbb{C}^{n\\times n}$ a $\\mathbf{b}\\in\\mathbb{C}^n$. "
   ]
  },
  {
   "cell_type": "markdown",
   "metadata": {},
   "source": [
    "***\n",
    "<a id=gemz></a>\n",
    " # <font color=brown> Gaussova eliminačná metóda </font> "
   ]
  },
  {
   "cell_type": "markdown",
   "metadata": {},
   "source": [
    "## Základný algoritmus "
   ]
  },
  {
   "cell_type": "markdown",
   "metadata": {},
   "source": [
    "Základnou priamou metódou na riešenie SLR je dobre známa **_Gaussova eliminačná metóda_** (GEM), ktorá ma niekedy prívlastok \"naivná\". Skladá sa z dvoch častí. V tzv. **_priamom chode_** resp. **_doprednom móde_** sa sústava $(1)$ prevedie (elementárnymi  riadkovými úpravami) na ekvivalentnú sústavu \n",
    "\n",
    "\\begin{align*}\\label{eq:GaussFwd1} \\tag{4}\n",
    "\\mathbf{U}\\mathbf{x}=\\mathbf{c},\n",
    "\\end{align*} \n",
    "\n",
    "kde $\\mathbf{U}$ je tzv. **_horná trojuholníková matica_**, čo je vlastne matica, ktorá má pod hlavnou diagonálou všetky prvky nulové, tzn. $\\mathbf{U}=\\left\\{u_{ij}\\right\\}_{i,j=1}^{n}$ a $u_{ij}=0$ pre $i>j$, \n",
    "\n",
    "$$\\mathbf{U}=\\begin{pmatrix}u_{11}&u_{12}&u_{13}&\\ldots&u_{1,n-1}&u_{1n}\\\\\n",
    "0&u_{22}&u_{23}&\\ldots&u_{2,n-1}&u_{2n}\\\\ \n",
    "0&0&u_{33}&\\ldots&u_{3,n-1}&u_{3n}\\\\ \n",
    "\\vdots&\\vdots&\\vdots&\\vdots&\\vdots&\\vdots\\\\ \n",
    "0&0&\\ldots&0&u_{n-1,n-1}&u_{n-1,n}\\\\ \n",
    "0&0&0&\\ldots&0&u_{nn} \n",
    "\\end{pmatrix}.$$ \n",
    "\n",
    "V **_spätnom chode_** resp. **_spätnom móde_** sa potom rieší sústava \\eqref{eq:GaussFwd1}. Keďže $\\mathbf{A}$ je podľa predpokladu regulárna, tak $U$ je tiež regulárna, čo znamená, že diagonálne prvky $u_{ii}\\neq0$, $i=1,2,\\ldots,n$. Vďaka tomu sa vyjadrí z poslednej rovnice $x_n$, z predposlednej rovnice sa vyjadrí $x_{n-1}$ atď., až na záver sa z prvej rovnice vypočíta $x_1$. \n",
    "\n",
    "**_Dolná trojuholníková matica_** - má všetky prvky nad hlavnou diagonálou nulové. "
   ]
  },
  {
   "cell_type": "markdown",
   "metadata": {},
   "source": [
    "**Priamy chod GEM.** Pre uľahčenie popisu priameho chodu GEM položíme $\\mathbf{A}^{(0)}=\\mathbf{A}$, $\\mathbf{b}^{(0)}=\\mathbf{b}$, prvok matice $\\mathbf{A}^{(0)}$ označíme $a_{ij}^{(0)}\\equiv a_{ij}$ a prvky vektora $\\mathbf{b}^{(0)}$ označíme $b_{i}^{(0)}\\equiv b_i$. **Priamy chod GEM (základná/naivná, bez výberu hlavného prvku - pivota) popisuje nasledujúci pseudokód:**"
   ]
  },
  {
   "cell_type": "code",
   "execution_count": null,
   "metadata": {},
   "outputs": [],
   "source": [
    "# algoritmus GEMz (zakladny/naivny - bez vyberu pivota, priamy chod) \n",
    "# vstup: A, b \n",
    "for k := 1 to n-1: \n",
    "    A^{(k)} := A^{(k-1)}; b^{(k)} := b^{(k-1)}; \n",
    "        for i := k+1 to n: \n",
    "            m_{ik} := a_{ik}^{(k)} / a_{kk}^{(k)}; \n",
    "                for j := k+1 to n: \n",
    "                    a_{ij}^{(k)} := a_{ij}^{(k)} - m_{ik}a_{kj}^{(k)}; \n",
    "            b_{i}^{(k)} := b_{i}^{(k)} - m_{ik}b_{k}^{(k)}; \n",
    "# vystup: A^{(n-1)}, b^{(n-1)} "
   ]
  },
  {
   "cell_type": "code",
   "execution_count": null,
   "metadata": {},
   "outputs": [],
   "source": [
    "# algoritmus GEMz (zakladny/naivny - bez vyberu pivota, spatny chod)\n",
    "# vstup: A^{(n-1)}, b^{(n-1)} - t. j. vystupy z predosleho algoritmu (vystupy z doprednej fazy) \n",
    "x_n := b_n / a_{nn} \n",
    "for k := n-1 to 1: \n",
    "    x_k := (b_k - sum(j=k+1, n, a_{kj} * x_j)) / a_{kk}\n",
    "# vystup: x, riesenie SLR Ax=b"
   ]
  },
  {
   "cell_type": "markdown",
   "metadata": {},
   "source": [
    "<ins> Poznámka ku pseudokódu</ins>: výraz `A^{(k)}` v pseudokóde reprezentuje vlastne $\\mathbf{A}^{(k)}$ a podobne výraz `m_{ik}` znamená v podstate $m_{ik}$. Analogicky teda výraz `a_{ik}^{(k)}` čítame ako $a_{ik}^{(k)}$. Ďalej napr. `x_n` značí $x_n$ a `sum(j=k+1, n, a_{kj} * x_j)` znamená $\\displaystyle\\sum\\limits_{j=k+1}^{n}a_{kj}x_j$. "
   ]
  },
  {
   "cell_type": "markdown",
   "metadata": {},
   "source": [
    "Priamy chod má $n-1$ krokov. V $k$-tom kroku sa sústava rovníc $\\mathbf{A}^{(k-1)}\\mathbf{x}=\\mathbf{b}^{(k-1)}$ transformuje na sústavu $\\mathbf{A}^{(k)}\\mathbf{x}=\\mathbf{b}^{(k)}$. Prvých $k$ rovníc sa už nemení. Táto skutočnosť je v algoritme vyjadrená príkazom $\\mathbf{A}^{(k)} := \\mathbf{A}^{(k-1)}$ a $\\mathbf{b}^{(k)} := \\mathbf{b}^{(k-1)}$. Zmyslom transformácie je vylúčiť neznámu $x_k$ z rovníc $i>k$, t. j. \"vynulovať\" poddiagonálne koeficienty v $k$-tom stĺpci matice $\\mathbf{A}^{(k)}$. To sa dosiahne tak, že od $i$-tej rovnice sa odčíta $m_{ik}$ násobok $k$-tej rovnice. Multiplikátory $m_{ik}$ musia zaistiť, aby na pozícii $[i,k]$ v matici $\\mathbf{A}^{(k)}$ vznikla nula: \n",
    "\n",
    "$$a_{ik}^{(k)}-m_{ik}a_{kk}^{(k)}=0 \\Longrightarrow m_{ik}=a_{ik}^{(k)}/a_{kk}^{(k)}.$$ \n",
    "\n",
    "Číslo $a_{kk}^{(k)}$ sa nazýva **_hlavný prvok_** alebo tiež **_pivot_**. Pri výpočte multiplikátora $m_{ik}$ **môže algoritmus GEMz zlyhať** v prípade $a_{kk}^{(k)}=0$. Tomuto problému by sa dalo vyhnúť, keby sa vymenila $k$-ta rovnica s niektorou ďalšou rovnicou, ktorá má pri premennej $x_k$ nenulový koeficient. Postup založený na tejto myšlienke sa nazýva _GEM s výberom hlavného prvku_ a podrobnejšie sa mu budeme venovať v ďalšej časti tohto učebného textu. **GEMz je teda algoritmus bez výberu hlavného pvku.** "
   ]
  },
  {
   "cell_type": "markdown",
   "metadata": {},
   "source": [
    "Ďalej budeme v tomto odstavci predpokladať, že $\\mathbf{A}$ je taká matica sústavy, ktorá má všetky hlavné prvky $a_{kk}^{(k)}$ nenulové. "
   ]
  },
  {
   "cell_type": "markdown",
   "metadata": {},
   "source": [
    "---\n",
    "\n",
    "#### Poznámka 1 (K programovaniu GEMz)\n",
    "\n",
    "Prvky matíc $\\mathbf{A}^{(k)}$ sa uchovávajú v dvojrozmernom poli povedzme `A` a prvky vektorov $\\mathbf{b}^{(k)}$ v jednorozmernom poli povedzme `b`. Príkazy `A^{(k)} := A^{(k-1)}; b^{(k)} := b^{(k-1)}` sa preto v skutočnosti nevykonávajú. Keďže na pozícii `[i,j]` poľa `A` vznikne nula, tak je možné prvok `A[i,k]` využiť pre uloženie multiplikátora $m_{ik}$. \n",
    "\n",
    "--- "
   ]
  },
  {
   "cell_type": "markdown",
   "metadata": {},
   "source": [
    "--- \n",
    "\n",
    "#### <font color=blue> Príklad 1 </font> \n",
    "\n",
    "V tomto príklade budeme ilustrovať rôzne možnosti riešenia SLR (zabudované) v Python-e. Využijeme k tomu postupne knižnice *NumPy*, *SciPy* a *SymPy*. \n",
    "\n",
    "Budeme riešiť nasledujúce tri rôzne SLR, pričom prvý bude mať práve jedno riešenie (**_konzistentný SLR_**), druhý bude mať prázdnu množinu riešení (**_nekonzistentný SLR_**) a tretí systém bude mať nekonečne veľa riešení (**_závislý SLR_**): \n",
    "\n",
    "$$\\mathbf{A}_1\\mathbf{x}=\\mathbf{b}_1,$$\n",
    "\n",
    "kde \n",
    "\n",
    "$$\\mathbf{A}_1=\\begin{pmatrix}2&-3&1\\\\1&-1&2\\\\3&1&-1\\end{pmatrix}, \\quad \\mathbf{x}=\\begin{pmatrix}x_1\\\\x_2\\\\x_3\\end{pmatrix}, \\quad \\mathbf{b}_1=\\begin{pmatrix}-1\\\\-3\\\\9\\end{pmatrix};$$\n"
   ]
  },
  {
   "cell_type": "code",
   "execution_count": 17,
   "metadata": {},
   "outputs": [
    {
     "name": "stdout",
     "output_type": "stream",
     "text": [
      "A1 = \n",
      "[[ 2 -3  1]\n",
      " [ 1 -1  2]\n",
      " [ 3  1 -1]]\n",
      "\n",
      "b1 = \n",
      "[-1 -3  9]\n",
      "\n",
      "x = \n",
      "[ 2.  1. -2.]\n"
     ]
    }
   ],
   "source": [
    "# NumPy\n",
    "\n",
    "# zavedie sa matica sustavy a vektor pravych stran \n",
    "A1 = np.array([[2, -3, 1],\n",
    "              [1, -1, 2],\n",
    "              [3, 1, -1]])\n",
    "print('A1 = ')\n",
    "print(A1)\n",
    "print('')\n",
    "b1 = np.array([-1, -3, 9])\n",
    "print('b1 = ')\n",
    "print(b1) \n",
    "print('')\n",
    "\n",
    "# vyriesi sa SLR \n",
    "res1a = np.linalg.solve(A1, b1) \n",
    "print('x = ')\n",
    "print(res1a)"
   ]
  },
  {
   "cell_type": "code",
   "execution_count": 18,
   "metadata": {},
   "outputs": [
    {
     "name": "stdout",
     "output_type": "stream",
     "text": [
      "A1_inv = \n",
      "[[ 0.05263158  0.10526316  0.26315789]\n",
      " [-0.36842105  0.26315789  0.15789474]\n",
      " [-0.21052632  0.57894737 -0.05263158]]\n",
      "\n",
      "x = \n",
      "[ 2.  1. -2.]\n"
     ]
    }
   ],
   "source": [
    "# NumPy riesi SLR Ax=b pomocou inverznej matice \n",
    "# tzn. najde sa inverzna matica A^{-1} k matici A sustavy, ak existuje (ak nie vypise sa chybova hlaska \"Singular matrix\") \n",
    "# ak existuje inverzna matica, tak riesenie x sa vyjadri v tvare x=A^{-1}b \n",
    "\n",
    "A1_inv = np.linalg.inv(A1) \n",
    "print('A1_inv = ')\n",
    "print(A1_inv)\n",
    "print('')\n",
    "res1a_inv =  np.dot(A1_inv,b1) \n",
    "print('x = ')\n",
    "print(res1a_inv)"
   ]
  },
  {
   "cell_type": "code",
   "execution_count": 19,
   "metadata": {},
   "outputs": [
    {
     "name": "stdout",
     "output_type": "stream",
     "text": [
      "[ 2.  1. -2.]\n"
     ]
    }
   ],
   "source": [
    "# SciPy \n",
    "# from scipy.linalg import solve \n",
    "res1b = sci.linalg.solve(A1, b1) \n",
    "print(res1b)"
   ]
  },
  {
   "cell_type": "code",
   "execution_count": 20,
   "metadata": {},
   "outputs": [
    {
     "name": "stdout",
     "output_type": "stream",
     "text": [
      "(x1, x2, x3)\n",
      "Matrix([[2, -3, 1, -1], [1, -1, 2, -3], [3, 1, -1, 9]])\n",
      "{x1: 2, x2: 1, x3: -2}\n"
     ]
    },
    {
     "data": {
      "text/plain": [
       "Matrix([\n",
       "[1, 0, 0,  2],\n",
       "[0, 1, 0,  1],\n",
       "[0, 0, 1, -2]])"
      ]
     },
     "execution_count": 20,
     "metadata": {},
     "output_type": "execute_result"
    }
   ],
   "source": [
    "# SymPy \n",
    "\n",
    "x1, x2, x3 = x = sym.symbols('x1:4') \n",
    "print(x)\n",
    "# definuje sa rozsirena matica sustavy (A1,b1) tzn. matica A1 a k nej \"prilepeny\" sprava stlpcovy vektor pravych stran b1 \n",
    "A1 = sym.Matrix(( (2, -3, 1, -1), (1, -1, 2, -3), (3, 1, -1, 9) )) \n",
    "print(A1)\n",
    "res1c = sym.solve_linear_system(A1, *x) \n",
    "print(res1c)\n",
    "\n",
    "# schodovity tvar matice (ang. reduced row-echelon form) \n",
    "A1.rref()[0] \n",
    "\n",
    "# The algorithm used here is fraction-free Gaussian elimination, which results, after elimination, \n",
    "# in an upper-triangular matrix. Then solutions are found using back-substitution. \n",
    "# This approach is more efficient and compact than the Gauss-Jordan method"
   ]
  },
  {
   "cell_type": "markdown",
   "metadata": {},
   "source": [
    "$$\\mathbf{A}_2\\mathbf{x}=\\mathbf{b}_2,$$ \n",
    "\n",
    "kde \n",
    "\n",
    "$$\\mathbf{A}_2=\\begin{pmatrix}1&-1&4\\\\3&&1\\\\-1&1&-4\\end{pmatrix}, \\quad \\mathbf{x}=\\begin{pmatrix}x_1\\\\x_2\\\\x_3\\end{pmatrix}, \\quad \\mathbf{b}_2=\\begin{pmatrix}-5\\\\0\\\\20\\end{pmatrix};$$\n"
   ]
  },
  {
   "cell_type": "code",
   "execution_count": 21,
   "metadata": {},
   "outputs": [
    {
     "name": "stdout",
     "output_type": "stream",
     "text": [
      "[[ 1 -1  4]\n",
      " [ 3  0  1]\n",
      " [-1  1 -4]]\n",
      "\n",
      "[-5  0 20]\n",
      "\n"
     ]
    },
    {
     "ename": "LinAlgError",
     "evalue": "Singular matrix",
     "output_type": "error",
     "traceback": [
      "\u001b[1;31m---------------------------------------------------------------------------\u001b[0m",
      "\u001b[1;31mLinAlgError\u001b[0m                               Traceback (most recent call last)",
      "\u001b[1;32m<ipython-input-21-71f8f4fe5ba7>\u001b[0m in \u001b[0;36m<module>\u001b[1;34m\u001b[0m\n\u001b[0;32m     12\u001b[0m \u001b[1;33m\u001b[0m\u001b[0m\n\u001b[0;32m     13\u001b[0m \u001b[1;31m# vyriesi sa SLR\u001b[0m\u001b[1;33m\u001b[0m\u001b[1;33m\u001b[0m\u001b[1;33m\u001b[0m\u001b[0m\n\u001b[1;32m---> 14\u001b[1;33m \u001b[0mres2a\u001b[0m \u001b[1;33m=\u001b[0m \u001b[0mnp\u001b[0m\u001b[1;33m.\u001b[0m\u001b[0mlinalg\u001b[0m\u001b[1;33m.\u001b[0m\u001b[0msolve\u001b[0m\u001b[1;33m(\u001b[0m\u001b[0mA2\u001b[0m\u001b[1;33m,\u001b[0m \u001b[0mb2\u001b[0m\u001b[1;33m)\u001b[0m\u001b[1;33m\u001b[0m\u001b[1;33m\u001b[0m\u001b[0m\n\u001b[0m\u001b[0;32m     15\u001b[0m \u001b[0mprint\u001b[0m\u001b[1;33m(\u001b[0m\u001b[0mres2a\u001b[0m\u001b[1;33m)\u001b[0m\u001b[1;33m\u001b[0m\u001b[1;33m\u001b[0m\u001b[0m\n",
      "\u001b[1;32m~\\Anaconda3\\lib\\site-packages\\numpy\\linalg\\linalg.py\u001b[0m in \u001b[0;36msolve\u001b[1;34m(a, b)\u001b[0m\n\u001b[0;32m    401\u001b[0m     \u001b[0msignature\u001b[0m \u001b[1;33m=\u001b[0m \u001b[1;34m'DD->D'\u001b[0m \u001b[1;32mif\u001b[0m \u001b[0misComplexType\u001b[0m\u001b[1;33m(\u001b[0m\u001b[0mt\u001b[0m\u001b[1;33m)\u001b[0m \u001b[1;32melse\u001b[0m \u001b[1;34m'dd->d'\u001b[0m\u001b[1;33m\u001b[0m\u001b[1;33m\u001b[0m\u001b[0m\n\u001b[0;32m    402\u001b[0m     \u001b[0mextobj\u001b[0m \u001b[1;33m=\u001b[0m \u001b[0mget_linalg_error_extobj\u001b[0m\u001b[1;33m(\u001b[0m\u001b[0m_raise_linalgerror_singular\u001b[0m\u001b[1;33m)\u001b[0m\u001b[1;33m\u001b[0m\u001b[1;33m\u001b[0m\u001b[0m\n\u001b[1;32m--> 403\u001b[1;33m     \u001b[0mr\u001b[0m \u001b[1;33m=\u001b[0m \u001b[0mgufunc\u001b[0m\u001b[1;33m(\u001b[0m\u001b[0ma\u001b[0m\u001b[1;33m,\u001b[0m \u001b[0mb\u001b[0m\u001b[1;33m,\u001b[0m \u001b[0msignature\u001b[0m\u001b[1;33m=\u001b[0m\u001b[0msignature\u001b[0m\u001b[1;33m,\u001b[0m \u001b[0mextobj\u001b[0m\u001b[1;33m=\u001b[0m\u001b[0mextobj\u001b[0m\u001b[1;33m)\u001b[0m\u001b[1;33m\u001b[0m\u001b[1;33m\u001b[0m\u001b[0m\n\u001b[0m\u001b[0;32m    404\u001b[0m \u001b[1;33m\u001b[0m\u001b[0m\n\u001b[0;32m    405\u001b[0m     \u001b[1;32mreturn\u001b[0m \u001b[0mwrap\u001b[0m\u001b[1;33m(\u001b[0m\u001b[0mr\u001b[0m\u001b[1;33m.\u001b[0m\u001b[0mastype\u001b[0m\u001b[1;33m(\u001b[0m\u001b[0mresult_t\u001b[0m\u001b[1;33m,\u001b[0m \u001b[0mcopy\u001b[0m\u001b[1;33m=\u001b[0m\u001b[1;32mFalse\u001b[0m\u001b[1;33m)\u001b[0m\u001b[1;33m)\u001b[0m\u001b[1;33m\u001b[0m\u001b[1;33m\u001b[0m\u001b[0m\n",
      "\u001b[1;32m~\\Anaconda3\\lib\\site-packages\\numpy\\linalg\\linalg.py\u001b[0m in \u001b[0;36m_raise_linalgerror_singular\u001b[1;34m(err, flag)\u001b[0m\n\u001b[0;32m     95\u001b[0m \u001b[1;33m\u001b[0m\u001b[0m\n\u001b[0;32m     96\u001b[0m \u001b[1;32mdef\u001b[0m \u001b[0m_raise_linalgerror_singular\u001b[0m\u001b[1;33m(\u001b[0m\u001b[0merr\u001b[0m\u001b[1;33m,\u001b[0m \u001b[0mflag\u001b[0m\u001b[1;33m)\u001b[0m\u001b[1;33m:\u001b[0m\u001b[1;33m\u001b[0m\u001b[1;33m\u001b[0m\u001b[0m\n\u001b[1;32m---> 97\u001b[1;33m     \u001b[1;32mraise\u001b[0m \u001b[0mLinAlgError\u001b[0m\u001b[1;33m(\u001b[0m\u001b[1;34m\"Singular matrix\"\u001b[0m\u001b[1;33m)\u001b[0m\u001b[1;33m\u001b[0m\u001b[1;33m\u001b[0m\u001b[0m\n\u001b[0m\u001b[0;32m     98\u001b[0m \u001b[1;33m\u001b[0m\u001b[0m\n\u001b[0;32m     99\u001b[0m \u001b[1;32mdef\u001b[0m \u001b[0m_raise_linalgerror_nonposdef\u001b[0m\u001b[1;33m(\u001b[0m\u001b[0merr\u001b[0m\u001b[1;33m,\u001b[0m \u001b[0mflag\u001b[0m\u001b[1;33m)\u001b[0m\u001b[1;33m:\u001b[0m\u001b[1;33m\u001b[0m\u001b[1;33m\u001b[0m\u001b[0m\n",
      "\u001b[1;31mLinAlgError\u001b[0m: Singular matrix"
     ]
    }
   ],
   "source": [
    "# NumPy\n",
    "\n",
    "# zavedie sa matica sustavy a vektor pravych stran \n",
    "A2 = np.array([[1, -1, 4],\n",
    "              [3, 0, 1],\n",
    "              [-1, 1, -4]])\n",
    "print(A2)\n",
    "print('')\n",
    "b2 = np.array([-5, 0, 20])\n",
    "print(b2) \n",
    "print('')\n",
    "\n",
    "# vyriesi sa SLR \n",
    "res2a = np.linalg.solve(A2, b2) \n",
    "print(res2a)"
   ]
  },
  {
   "cell_type": "code",
   "execution_count": 22,
   "metadata": {},
   "outputs": [
    {
     "ename": "LinAlgError",
     "evalue": "Matrix is singular.",
     "output_type": "error",
     "traceback": [
      "\u001b[1;31m---------------------------------------------------------------------------\u001b[0m",
      "\u001b[1;31mLinAlgError\u001b[0m                               Traceback (most recent call last)",
      "\u001b[1;32m<ipython-input-22-fbb21237e71f>\u001b[0m in \u001b[0;36m<module>\u001b[1;34m\u001b[0m\n\u001b[0;32m      1\u001b[0m \u001b[1;31m# SciPy\u001b[0m\u001b[1;33m\u001b[0m\u001b[1;33m\u001b[0m\u001b[1;33m\u001b[0m\u001b[0m\n\u001b[0;32m      2\u001b[0m \u001b[1;33m\u001b[0m\u001b[0m\n\u001b[1;32m----> 3\u001b[1;33m \u001b[0mres2b\u001b[0m \u001b[1;33m=\u001b[0m \u001b[0msci\u001b[0m\u001b[1;33m.\u001b[0m\u001b[0mlinalg\u001b[0m\u001b[1;33m.\u001b[0m\u001b[0msolve\u001b[0m\u001b[1;33m(\u001b[0m\u001b[0mA2\u001b[0m\u001b[1;33m,\u001b[0m \u001b[0mb2\u001b[0m\u001b[1;33m)\u001b[0m\u001b[1;33m\u001b[0m\u001b[1;33m\u001b[0m\u001b[0m\n\u001b[0m\u001b[0;32m      4\u001b[0m \u001b[0mprint\u001b[0m\u001b[1;33m(\u001b[0m\u001b[0mres2b\u001b[0m\u001b[1;33m)\u001b[0m\u001b[1;33m\u001b[0m\u001b[1;33m\u001b[0m\u001b[0m\n",
      "\u001b[1;32m~\\Anaconda3\\lib\\site-packages\\scipy\\linalg\\basic.py\u001b[0m in \u001b[0;36msolve\u001b[1;34m(a, b, sym_pos, lower, overwrite_a, overwrite_b, debug, check_finite, assume_a, transposed)\u001b[0m\n\u001b[0;32m    214\u001b[0m                                                (a1, b1))\n\u001b[0;32m    215\u001b[0m         \u001b[0mlu\u001b[0m\u001b[1;33m,\u001b[0m \u001b[0mipvt\u001b[0m\u001b[1;33m,\u001b[0m \u001b[0minfo\u001b[0m \u001b[1;33m=\u001b[0m \u001b[0mgetrf\u001b[0m\u001b[1;33m(\u001b[0m\u001b[0ma1\u001b[0m\u001b[1;33m,\u001b[0m \u001b[0moverwrite_a\u001b[0m\u001b[1;33m=\u001b[0m\u001b[0moverwrite_a\u001b[0m\u001b[1;33m)\u001b[0m\u001b[1;33m\u001b[0m\u001b[1;33m\u001b[0m\u001b[0m\n\u001b[1;32m--> 216\u001b[1;33m         \u001b[0m_solve_check\u001b[0m\u001b[1;33m(\u001b[0m\u001b[0mn\u001b[0m\u001b[1;33m,\u001b[0m \u001b[0minfo\u001b[0m\u001b[1;33m)\u001b[0m\u001b[1;33m\u001b[0m\u001b[1;33m\u001b[0m\u001b[0m\n\u001b[0m\u001b[0;32m    217\u001b[0m         x, info = getrs(lu, ipvt, b1,\n\u001b[0;32m    218\u001b[0m                         trans=trans, overwrite_b=overwrite_b)\n",
      "\u001b[1;32m~\\Anaconda3\\lib\\site-packages\\scipy\\linalg\\basic.py\u001b[0m in \u001b[0;36m_solve_check\u001b[1;34m(n, info, lamch, rcond)\u001b[0m\n\u001b[0;32m     29\u001b[0m                          '.'.format(-info))\n\u001b[0;32m     30\u001b[0m     \u001b[1;32melif\u001b[0m \u001b[1;36m0\u001b[0m \u001b[1;33m<\u001b[0m \u001b[0minfo\u001b[0m\u001b[1;33m:\u001b[0m\u001b[1;33m\u001b[0m\u001b[1;33m\u001b[0m\u001b[0m\n\u001b[1;32m---> 31\u001b[1;33m         \u001b[1;32mraise\u001b[0m \u001b[0mLinAlgError\u001b[0m\u001b[1;33m(\u001b[0m\u001b[1;34m'Matrix is singular.'\u001b[0m\u001b[1;33m)\u001b[0m\u001b[1;33m\u001b[0m\u001b[1;33m\u001b[0m\u001b[0m\n\u001b[0m\u001b[0;32m     32\u001b[0m \u001b[1;33m\u001b[0m\u001b[0m\n\u001b[0;32m     33\u001b[0m     \u001b[1;32mif\u001b[0m \u001b[0mlamch\u001b[0m \u001b[1;32mis\u001b[0m \u001b[1;32mNone\u001b[0m\u001b[1;33m:\u001b[0m\u001b[1;33m\u001b[0m\u001b[1;33m\u001b[0m\u001b[0m\n",
      "\u001b[1;31mLinAlgError\u001b[0m: Matrix is singular."
     ]
    }
   ],
   "source": [
    "# SciPy \n",
    "# from scipy.linalg import solve \n",
    "res2b = sci.linalg.solve(A2, b2) \n",
    "print(res2b)"
   ]
  },
  {
   "cell_type": "code",
   "execution_count": 23,
   "metadata": {},
   "outputs": [
    {
     "name": "stdout",
     "output_type": "stream",
     "text": [
      "(x1, x2, x3)\n",
      "Matrix([[1, -1, 4, -5], [3, 0, 1, 0], [-1, 1, -4, 20]])\n",
      "None\n"
     ]
    },
    {
     "data": {
      "text/plain": [
       "Matrix([\n",
       "[1, 0,   1/3, 0],\n",
       "[0, 1, -11/3, 0],\n",
       "[0, 0,     0, 1]])"
      ]
     },
     "execution_count": 23,
     "metadata": {},
     "output_type": "execute_result"
    }
   ],
   "source": [
    "# SymPy \n",
    "\n",
    "x1, x2, x3 = x = sym.symbols('x1:4') \n",
    "print(x)\n",
    "# definuje sa rozsirena matica sustavy (A1,b1) tzn. matica A1 a k nej \"prilepeny\" sprava stlpcovy vektor pravych stran b1 \n",
    "A2 = sym.Matrix(( (1, -1, 4, -5), (3, 0, 1, 0), (-1, 1, -4, 20) )) \n",
    "print(A2)\n",
    "res2c = sym.solve_linear_system(A2, *x) \n",
    "print(res2c) \n",
    "\n",
    "# schodovity tvar matice (ang. reduced row-echelon form) \n",
    "A2.rref()[0]"
   ]
  },
  {
   "cell_type": "markdown",
   "metadata": {},
   "source": [
    "$$\\mathbf{A}_3\\mathbf{x}=\\mathbf{b}_3,$$ \n",
    "\n",
    "kde \n",
    "\n",
    "$$\\mathbf{A}_3=\\begin{pmatrix}-1&1&2\\\\1&2&1\\\\-2&-1&1\\end{pmatrix}, \\quad \\mathbf{x}=\\begin{pmatrix}x_1\\\\x_2\\\\x_3\\end{pmatrix}, \\quad \\mathbf{b}_3=\\begin{pmatrix}0\\\\6\\\\-6\\end{pmatrix}.$$"
   ]
  },
  {
   "cell_type": "code",
   "execution_count": 24,
   "metadata": {},
   "outputs": [
    {
     "name": "stdout",
     "output_type": "stream",
     "text": [
      "[[-1  1  2]\n",
      " [ 1  2  1]\n",
      " [-2 -1  1]]\n",
      "\n",
      "[ 0  6 -6]\n",
      "\n"
     ]
    },
    {
     "ename": "LinAlgError",
     "evalue": "Singular matrix",
     "output_type": "error",
     "traceback": [
      "\u001b[1;31m---------------------------------------------------------------------------\u001b[0m",
      "\u001b[1;31mLinAlgError\u001b[0m                               Traceback (most recent call last)",
      "\u001b[1;32m<ipython-input-24-dbabc69c397a>\u001b[0m in \u001b[0;36m<module>\u001b[1;34m\u001b[0m\n\u001b[0;32m     12\u001b[0m \u001b[1;33m\u001b[0m\u001b[0m\n\u001b[0;32m     13\u001b[0m \u001b[1;31m# vyriesi sa SLR\u001b[0m\u001b[1;33m\u001b[0m\u001b[1;33m\u001b[0m\u001b[1;33m\u001b[0m\u001b[0m\n\u001b[1;32m---> 14\u001b[1;33m \u001b[0mres3a\u001b[0m \u001b[1;33m=\u001b[0m \u001b[0mnp\u001b[0m\u001b[1;33m.\u001b[0m\u001b[0mlinalg\u001b[0m\u001b[1;33m.\u001b[0m\u001b[0msolve\u001b[0m\u001b[1;33m(\u001b[0m\u001b[0mA3\u001b[0m\u001b[1;33m,\u001b[0m \u001b[0mb3\u001b[0m\u001b[1;33m)\u001b[0m\u001b[1;33m\u001b[0m\u001b[1;33m\u001b[0m\u001b[0m\n\u001b[0m\u001b[0;32m     15\u001b[0m \u001b[0mprint\u001b[0m\u001b[1;33m(\u001b[0m\u001b[0mres3a\u001b[0m\u001b[1;33m)\u001b[0m\u001b[1;33m\u001b[0m\u001b[1;33m\u001b[0m\u001b[0m\n",
      "\u001b[1;32m~\\Anaconda3\\lib\\site-packages\\numpy\\linalg\\linalg.py\u001b[0m in \u001b[0;36msolve\u001b[1;34m(a, b)\u001b[0m\n\u001b[0;32m    401\u001b[0m     \u001b[0msignature\u001b[0m \u001b[1;33m=\u001b[0m \u001b[1;34m'DD->D'\u001b[0m \u001b[1;32mif\u001b[0m \u001b[0misComplexType\u001b[0m\u001b[1;33m(\u001b[0m\u001b[0mt\u001b[0m\u001b[1;33m)\u001b[0m \u001b[1;32melse\u001b[0m \u001b[1;34m'dd->d'\u001b[0m\u001b[1;33m\u001b[0m\u001b[1;33m\u001b[0m\u001b[0m\n\u001b[0;32m    402\u001b[0m     \u001b[0mextobj\u001b[0m \u001b[1;33m=\u001b[0m \u001b[0mget_linalg_error_extobj\u001b[0m\u001b[1;33m(\u001b[0m\u001b[0m_raise_linalgerror_singular\u001b[0m\u001b[1;33m)\u001b[0m\u001b[1;33m\u001b[0m\u001b[1;33m\u001b[0m\u001b[0m\n\u001b[1;32m--> 403\u001b[1;33m     \u001b[0mr\u001b[0m \u001b[1;33m=\u001b[0m \u001b[0mgufunc\u001b[0m\u001b[1;33m(\u001b[0m\u001b[0ma\u001b[0m\u001b[1;33m,\u001b[0m \u001b[0mb\u001b[0m\u001b[1;33m,\u001b[0m \u001b[0msignature\u001b[0m\u001b[1;33m=\u001b[0m\u001b[0msignature\u001b[0m\u001b[1;33m,\u001b[0m \u001b[0mextobj\u001b[0m\u001b[1;33m=\u001b[0m\u001b[0mextobj\u001b[0m\u001b[1;33m)\u001b[0m\u001b[1;33m\u001b[0m\u001b[1;33m\u001b[0m\u001b[0m\n\u001b[0m\u001b[0;32m    404\u001b[0m \u001b[1;33m\u001b[0m\u001b[0m\n\u001b[0;32m    405\u001b[0m     \u001b[1;32mreturn\u001b[0m \u001b[0mwrap\u001b[0m\u001b[1;33m(\u001b[0m\u001b[0mr\u001b[0m\u001b[1;33m.\u001b[0m\u001b[0mastype\u001b[0m\u001b[1;33m(\u001b[0m\u001b[0mresult_t\u001b[0m\u001b[1;33m,\u001b[0m \u001b[0mcopy\u001b[0m\u001b[1;33m=\u001b[0m\u001b[1;32mFalse\u001b[0m\u001b[1;33m)\u001b[0m\u001b[1;33m)\u001b[0m\u001b[1;33m\u001b[0m\u001b[1;33m\u001b[0m\u001b[0m\n",
      "\u001b[1;32m~\\Anaconda3\\lib\\site-packages\\numpy\\linalg\\linalg.py\u001b[0m in \u001b[0;36m_raise_linalgerror_singular\u001b[1;34m(err, flag)\u001b[0m\n\u001b[0;32m     95\u001b[0m \u001b[1;33m\u001b[0m\u001b[0m\n\u001b[0;32m     96\u001b[0m \u001b[1;32mdef\u001b[0m \u001b[0m_raise_linalgerror_singular\u001b[0m\u001b[1;33m(\u001b[0m\u001b[0merr\u001b[0m\u001b[1;33m,\u001b[0m \u001b[0mflag\u001b[0m\u001b[1;33m)\u001b[0m\u001b[1;33m:\u001b[0m\u001b[1;33m\u001b[0m\u001b[1;33m\u001b[0m\u001b[0m\n\u001b[1;32m---> 97\u001b[1;33m     \u001b[1;32mraise\u001b[0m \u001b[0mLinAlgError\u001b[0m\u001b[1;33m(\u001b[0m\u001b[1;34m\"Singular matrix\"\u001b[0m\u001b[1;33m)\u001b[0m\u001b[1;33m\u001b[0m\u001b[1;33m\u001b[0m\u001b[0m\n\u001b[0m\u001b[0;32m     98\u001b[0m \u001b[1;33m\u001b[0m\u001b[0m\n\u001b[0;32m     99\u001b[0m \u001b[1;32mdef\u001b[0m \u001b[0m_raise_linalgerror_nonposdef\u001b[0m\u001b[1;33m(\u001b[0m\u001b[0merr\u001b[0m\u001b[1;33m,\u001b[0m \u001b[0mflag\u001b[0m\u001b[1;33m)\u001b[0m\u001b[1;33m:\u001b[0m\u001b[1;33m\u001b[0m\u001b[1;33m\u001b[0m\u001b[0m\n",
      "\u001b[1;31mLinAlgError\u001b[0m: Singular matrix"
     ]
    }
   ],
   "source": [
    "# NumPy\n",
    "\n",
    "# zavedie sa matica sustavy a vektor pravych stran \n",
    "A3 = np.array([[-1, 1, 2],\n",
    "              [1, 2, 1],\n",
    "              [-2, -1, 1]])\n",
    "print(A3)\n",
    "print('')\n",
    "b3 = np.array([0, 6, -6])\n",
    "print(b3) \n",
    "print('')\n",
    "\n",
    "# vyriesi sa SLR \n",
    "res3a = np.linalg.solve(A3, b3) \n",
    "print(res3a)"
   ]
  },
  {
   "cell_type": "code",
   "execution_count": 25,
   "metadata": {},
   "outputs": [
    {
     "ename": "LinAlgError",
     "evalue": "Matrix is singular.",
     "output_type": "error",
     "traceback": [
      "\u001b[1;31m---------------------------------------------------------------------------\u001b[0m",
      "\u001b[1;31mLinAlgError\u001b[0m                               Traceback (most recent call last)",
      "\u001b[1;32m<ipython-input-25-9dabffa064b8>\u001b[0m in \u001b[0;36m<module>\u001b[1;34m\u001b[0m\n\u001b[0;32m      1\u001b[0m \u001b[1;31m# SciPy\u001b[0m\u001b[1;33m\u001b[0m\u001b[1;33m\u001b[0m\u001b[1;33m\u001b[0m\u001b[0m\n\u001b[0;32m      2\u001b[0m \u001b[1;33m\u001b[0m\u001b[0m\n\u001b[1;32m----> 3\u001b[1;33m \u001b[0mres3b\u001b[0m \u001b[1;33m=\u001b[0m \u001b[0msci\u001b[0m\u001b[1;33m.\u001b[0m\u001b[0mlinalg\u001b[0m\u001b[1;33m.\u001b[0m\u001b[0msolve\u001b[0m\u001b[1;33m(\u001b[0m\u001b[0mA3\u001b[0m\u001b[1;33m,\u001b[0m \u001b[0mb3\u001b[0m\u001b[1;33m)\u001b[0m\u001b[1;33m\u001b[0m\u001b[1;33m\u001b[0m\u001b[0m\n\u001b[0m\u001b[0;32m      4\u001b[0m \u001b[0mprint\u001b[0m\u001b[1;33m(\u001b[0m\u001b[0mres3b\u001b[0m\u001b[1;33m)\u001b[0m\u001b[1;33m\u001b[0m\u001b[1;33m\u001b[0m\u001b[0m\n",
      "\u001b[1;32m~\\Anaconda3\\lib\\site-packages\\scipy\\linalg\\basic.py\u001b[0m in \u001b[0;36msolve\u001b[1;34m(a, b, sym_pos, lower, overwrite_a, overwrite_b, debug, check_finite, assume_a, transposed)\u001b[0m\n\u001b[0;32m    214\u001b[0m                                                (a1, b1))\n\u001b[0;32m    215\u001b[0m         \u001b[0mlu\u001b[0m\u001b[1;33m,\u001b[0m \u001b[0mipvt\u001b[0m\u001b[1;33m,\u001b[0m \u001b[0minfo\u001b[0m \u001b[1;33m=\u001b[0m \u001b[0mgetrf\u001b[0m\u001b[1;33m(\u001b[0m\u001b[0ma1\u001b[0m\u001b[1;33m,\u001b[0m \u001b[0moverwrite_a\u001b[0m\u001b[1;33m=\u001b[0m\u001b[0moverwrite_a\u001b[0m\u001b[1;33m)\u001b[0m\u001b[1;33m\u001b[0m\u001b[1;33m\u001b[0m\u001b[0m\n\u001b[1;32m--> 216\u001b[1;33m         \u001b[0m_solve_check\u001b[0m\u001b[1;33m(\u001b[0m\u001b[0mn\u001b[0m\u001b[1;33m,\u001b[0m \u001b[0minfo\u001b[0m\u001b[1;33m)\u001b[0m\u001b[1;33m\u001b[0m\u001b[1;33m\u001b[0m\u001b[0m\n\u001b[0m\u001b[0;32m    217\u001b[0m         x, info = getrs(lu, ipvt, b1,\n\u001b[0;32m    218\u001b[0m                         trans=trans, overwrite_b=overwrite_b)\n",
      "\u001b[1;32m~\\Anaconda3\\lib\\site-packages\\scipy\\linalg\\basic.py\u001b[0m in \u001b[0;36m_solve_check\u001b[1;34m(n, info, lamch, rcond)\u001b[0m\n\u001b[0;32m     29\u001b[0m                          '.'.format(-info))\n\u001b[0;32m     30\u001b[0m     \u001b[1;32melif\u001b[0m \u001b[1;36m0\u001b[0m \u001b[1;33m<\u001b[0m \u001b[0minfo\u001b[0m\u001b[1;33m:\u001b[0m\u001b[1;33m\u001b[0m\u001b[1;33m\u001b[0m\u001b[0m\n\u001b[1;32m---> 31\u001b[1;33m         \u001b[1;32mraise\u001b[0m \u001b[0mLinAlgError\u001b[0m\u001b[1;33m(\u001b[0m\u001b[1;34m'Matrix is singular.'\u001b[0m\u001b[1;33m)\u001b[0m\u001b[1;33m\u001b[0m\u001b[1;33m\u001b[0m\u001b[0m\n\u001b[0m\u001b[0;32m     32\u001b[0m \u001b[1;33m\u001b[0m\u001b[0m\n\u001b[0;32m     33\u001b[0m     \u001b[1;32mif\u001b[0m \u001b[0mlamch\u001b[0m \u001b[1;32mis\u001b[0m \u001b[1;32mNone\u001b[0m\u001b[1;33m:\u001b[0m\u001b[1;33m\u001b[0m\u001b[1;33m\u001b[0m\u001b[0m\n",
      "\u001b[1;31mLinAlgError\u001b[0m: Matrix is singular."
     ]
    }
   ],
   "source": [
    "# SciPy \n",
    "# from scipy.linalg import solve \n",
    "res3b = sci.linalg.solve(A3, b3) \n",
    "print(res3b)"
   ]
  },
  {
   "cell_type": "code",
   "execution_count": 26,
   "metadata": {},
   "outputs": [
    {
     "name": "stdout",
     "output_type": "stream",
     "text": [
      "(x1, x2, x3)\n",
      "Matrix([[-1, 1, 2, 0], [1, 2, 1, 6], [-2, -1, 1, -6]])\n",
      "{x2: -x3 + 2, x1: x3 + 2}\n"
     ]
    },
    {
     "data": {
      "text/plain": [
       "Matrix([\n",
       "[1, 0, -1, 2],\n",
       "[0, 1,  1, 2],\n",
       "[0, 0,  0, 0]])"
      ]
     },
     "execution_count": 26,
     "metadata": {},
     "output_type": "execute_result"
    }
   ],
   "source": [
    "# SymPy \n",
    "\n",
    "x1, x2, x3 = x = sym.symbols('x1:4') \n",
    "print(x)\n",
    "# definuje sa rozsirena matica sustavy (A1,b1) tzn. matica A1 a k nej \"prilepeny\" sprava stlpcovy vektor pravych stran b1 \n",
    "A3 = sym.Matrix(( (-1, 1, 2, 0), (1, 2, 1, 6), (-2, -1, 1, -6) )) \n",
    "print(A3)\n",
    "res3c = sym.solve_linear_system(A3, *x) \n",
    "print(res3c) # x3 volime ako parameter \n",
    "\n",
    "# schodovity tvar matice (ang. reduced row-echelon form) \n",
    "A3.rref()[0]"
   ]
  },
  {
   "cell_type": "markdown",
   "metadata": {},
   "source": [
    "Z predchádzajúcich výpočtov v Python-e vyplýva nasledujúca **stratégia riešenia SLR**: Najprv je možné použiť na riešenie zadanej SLR balík *NumPy*. Ak dostaneme jediné riešenie, vec je vybavená. Ak dostaneme chybovú hlášku \"Singular matrix\", môže to znamenať, že buď SLR nemá riešenie alebo má nekonečne veľa riešení. V tom prípade je vhodné nájsť schodovitý tvar SLR pomocou balíka *SymPy* a pozrieť sa, ako vyzerá posledný riadok v tomto tvare. Z toho už bude jasné, či má SLR prázdnu množinu riešení alebo má nekonečne veľa riešení. "
   ]
  },
  {
   "cell_type": "markdown",
   "metadata": {},
   "source": [
    "--- "
   ]
  },
  {
   "cell_type": "markdown",
   "metadata": {},
   "source": [
    "## LU rozklad matice"
   ]
  },
  {
   "cell_type": "markdown",
   "metadata": {},
   "source": [
    "**Po ukončení priameho chodu** je horná trojuholníková matica $\\mathbf{U}$ v rovnici $(4)$ určená diagonálnymi a naddiagonálnymi prvkami matice $\\mathbf{A}^{(n-1)}$, t. j. \n",
    "\n",
    "\\begin{align*}\\label{eq:GaussFwd2} \\tag{5}\n",
    "u_{ij} = \\begin{cases}\n",
    "0, \\quad \\text{ pre } j=1,2,\\ldots,i-1 \\\\ \n",
    "\\qquad\\qquad\\qquad\\qquad\\qquad\\qquad i=1,2,\\ldots,n\\\\ \n",
    "a_{ij}^{(n-1)} \\text{ pre } j=i,i+1,\\ldots,n. \n",
    "\\end{cases}\n",
    "\\end{align*} \n",
    "\n",
    "Ďalej vektor $\\mathbf{c}$ v rovnici $(4)$ je transformovaný pravou stranou $\\mathbf{b}^{(n-1)}$, t. j. \n",
    "\n",
    "\\begin{align*}\\label{eq:GaussFwd3} \\tag{6}\n",
    "c_i = b_i^{(n-1)}, \\quad i=1,2,\\ldots,n.\n",
    "\\end{align*} \n",
    "\n",
    "Multiplikátory $m_{ij}$ z priameho chodu sú umiestnené do dolnej trojuholníkovej matice \n",
    "\n",
    "\\begin{align*}\\label{eq:GaussFwd4} \\tag{7}\n",
    "\\mathbf{L}=\\begin{pmatrix}1&0&0&\\ldots&0&0\\\\\n",
    "m_{21}&1&0&\\ldots&0&0\\\\ \n",
    "m_{31}&m_{32}&1&\\ldots&0&0\\\\\n",
    "\\vdots&\\vdots&\\vdots&\\vdots&\\vdots&\\vdots\\\\ \n",
    "m_{n-1,1}&m_{n-1,2}&m_{n-1,3}&\\ldots&1&0\\\\ \n",
    "m_{n1}&m_{n2}&m_{n3}&\\ldots&m_{n,n-1}&1\n",
    "\\end{pmatrix}.\n",
    "\\end{align*}"
   ]
  },
  {
   "cell_type": "markdown",
   "metadata": {},
   "source": [
    "--- \n",
    "\n",
    "#### <font color=green> Tvrdenie 1 (LU rozklad) </font> \n",
    "\n",
    "Ak sú splnené podmienky $(5)$, $(6)$, $(7)$, tak po ukončení priameho chodu GEM platí $\\mathbf{A}=\\mathbf{L}\\mathbf{U}$.  \n",
    "\n",
    "--- "
   ]
  },
  {
   "cell_type": "markdown",
   "metadata": {},
   "source": [
    "---\n",
    "\n",
    "#### Poznámka 2 \n",
    "\n",
    "* Vyjadrenie matice $\\mathbf{A}$ ako súčinu dolnej trojuholníkovej matice $\\mathbf{L}$ a hornej trojuholníkovej matice $\\mathbf{U}$, t. j. \n",
    "\\begin{align*}\\label{eq:LUDecomp1} \\tag{8}\n",
    "\\mathbf{A}=\\mathbf{L}\\mathbf{U}\n",
    "\\end{align*}\n",
    "sa nazýva **_LU rozklad matice_** $\\mathbf{A}$. \n",
    "\n",
    "\n",
    "* Tento rozklad je možné použiť k neskoršiemu riešeniu sústavy rovníc s rovnakou maticou sústavy $\\mathbf{A}$, avšak s inou pravou stranou. To je užitočné najmä vtedy, keď je potrebné riešiť postupnosť úloh $\\mathbf{A}\\mathbf{x}_i=\\mathbf{b}_i$, pričom nová pravá strana $\\mathbf{b}_i$ sa môže zostaviť až potom, ako boli vyriešené predchádzajúce sústavy $\\mathbf{A}\\mathbf{x}_k=\\mathbf{b}_k$, $k<i$. \n",
    "\n",
    "--- "
   ]
  },
  {
   "attachments": {},
   "cell_type": "markdown",
   "metadata": {},
   "source": [
    "--- \n",
    "\n",
    "### <font color=green> Veta 1 (Existencia LU rozkladu) </font> \n",
    "\n",
    "Nech $\\mathbf{A}$ je regulárna $n\\times n$ matica. Potom $\\mathbf{A}=\\mathbf{L}\\mathbf{U}$, kde $\\mathbf{L}$ je dolná trojuholníkova matica a $\\mathbf{U}$ je horná trojuholníková matica, práve vtedy, keď sú všetky vedúce hlavné minory matice $\\mathbf{A}$ nenulové. Naviac LU rozklad je určený jednoznačne, pričom matica $\\mathbf{L}$ má na hlavnej diagonále jednotky. \n",
    "\n",
    "---"
   ]
  },
  {
   "cell_type": "markdown",
   "metadata": {},
   "source": [
    "Teraz si vysvetlíme, **ako je možné efektívne vyriešiť sústavu v tvare $\\mathbf{L}\\mathbf{U}\\mathbf{x}=\\mathbf{b}$**. Keď označíme $\\mathbf{U}\\mathbf{x}=\\mathbf{y}$, tak vidíme, že $\\mathbf{y}$ je riešenie sústavy $\\mathbf{L}\\mathbf{y}=\\mathbf{b}$. Určíme teda najprv $\\mathbf{y}$ ako riešenie sústavy $\\mathbf{L}\\mathbf{y}=\\mathbf{b}$ a potom určíme $\\mathbf{x}$ ako riešenie sústavy $\\mathbf{U}\\mathbf{x}=\\mathbf{y}$, t. j. \n",
    "\n",
    "\\begin{align*}\\label{eq:LUDecomp2} \\tag{9}\n",
    "\\mathbf{L}\\mathbf{y}=\\mathbf{b}, \\quad \\mathbf{U}\\mathbf{x}=\\mathbf{y}. \n",
    "\\end{align*} \n",
    "\n",
    "Zrejme $\\mathbf{y}=\\mathbf{b}^{(n-1)}$ je transformovaná pravá strana získaná algoritmom GEMz. \n",
    "\n",
    "Sústava $\\mathbf{L}\\mathbf{y}=\\mathbf{b}$ je ľahko riešiteľná, keďže stačí z prvej rovnice vyjadriť $y_1$, z druhej rovnice vyjadriť $y_2$ atď. až na koniec z poslednej rovnice sa vypočíta $y_n$. Sústava $\\mathbf{U}\\mathbf{x}=\\mathbf{y}$ sa vyrieši tzv. spätným vyjadrovaním resp. od konca, tzn., že z poslednej rovnice sa vyjadrí $x_n$, z predposlednej rovnice sa vyjadrí $x_{n-1}$  a pod. až nakoniec sa z prvej rovnice vypočíta $x_1$. "
   ]
  },
  {
   "attachments": {
    "o11.PNG": {
     "image/png": "[encoded data removed]"
    },
    "o12.PNG": {
     "image/png": "[encoded data removed]"
    },
    "o13.PNG": {
     "image/png": "[encoded data removed]"
    }
   },
   "cell_type": "markdown",
   "metadata": {},
   "source": [
    "---\n",
    "\n",
    "#### Poznámka 3 \n",
    "\n",
    "* Pri riešení SLR býva niekedy LU rozklad označovaný ako **eliminácia** alebo **priamy (dopredný) chod** resp. **dopredná eliminácia** a výpočet riešenia podľa vzťahu $(9)$ sa zvykne označovať ako **spätný chod** resp. **spätná substitúcia**. \n",
    "\n",
    "\n",
    "* SLR $\\mathbf{L}\\mathbf{x}=\\mathbf{b}$ s dolnou trojuholníkovou maticou sústavy $\\mathbf{L}$ je možné riešiť tzv. **doprednou substitúciou** (vyžadujúcou $n^2+3n-4$ operácií) \n",
    "\n",
    "![o11.PNG](attachment:o11.PNG) \n",
    "$$\\text{Zdroj: Gilli et al. (2019).}$$\n",
    "\n",
    "\n",
    "* SLR $\\mathbf{U}\\mathbf{x}=\\mathbf{b}$ s hornou trojuholníkovou maticou sústavy $\\mathbf{U}$ je možné riešiť tzv. **spätnou  substitúciou** (vyžadujúcou $n^2+3n-4$ operácií)\n",
    "\n",
    "![o12.PNG](attachment:o12.PNG)\n",
    "$$\\text{Zdroj: Gilli et al. (2019).}$$\n",
    "\n",
    "\n",
    "* Riešenie (popísané vyššie v texte) SLR $\\mathbf{A}\\mathbf{x}=\\mathbf{b}$, kde $\\mathbf{A}=\\mathbf{L}\\mathbf{U}$ je LU rozklad matice $\\mathbf{A}$ schématicky znázorňuje nasledovný obrázok. \n",
    "\n",
    "![o13.PNG](attachment:o13.PNG) \n",
    "$$\\text{Zdroj: Gilli et al. (2019).}$$\n",
    "\n",
    "--- "
   ]
  },
  {
   "cell_type": "markdown",
   "metadata": {},
   "source": [
    "--- \n",
    "\n",
    "#### <font color=blue> Príklad 2 </font> \n",
    "\n",
    "Teraz si ukážeme ako nájsť LU rozklad matice $\\mathbf{A}$ pomocou Python-u a ako pomocou neho vyriešiť SLR. Budeme uvažovať SLR $\\mathbf{A}\\mathbf{x}=\\mathbf{b}$, kde $\\mathbf{A}=\\begin{pmatrix}2&-3&1\\\\1&-1&2\\\\3&1&-1\\end{pmatrix}, \\quad \\mathbf{x}=\\begin{pmatrix}x_1\\\\x_2\\\\x_3\\end{pmatrix}, \\quad \\mathbf{b}=\\begin{pmatrix}-1\\\\-3\\\\9\\end{pmatrix}$. \n"
   ]
  },
  {
   "cell_type": "code",
   "execution_count": 29,
   "metadata": {},
   "outputs": [
    {
     "name": "stdout",
     "output_type": "stream",
     "text": [
      "A = \n",
      "[[ 2 -3  1]\n",
      " [ 1 -1  2]\n",
      " [ 3  1 -1]]\n",
      "\n",
      "LU = \n",
      "[[ 2. -3.  1.]\n",
      " [ 1. -1.  2.]\n",
      " [ 3.  1. -1.]]\n",
      "\n",
      "LU = \n",
      "[[ 2. -3.  1.]\n",
      " [ 1. -1.  2.]\n",
      " [ 3.  1. -1.]]\n"
     ]
    }
   ],
   "source": [
    "# NumPy\n",
    "\n",
    "A = np.array([[2, -3, 1],\n",
    "              [1, -1, 2],\n",
    "              [3, 1, -1]])\n",
    "print('A = ')\n",
    "print(A)\n",
    "print('')\n",
    "\n",
    "# LU dekompozicia - SciPy \n",
    "# from scipy.linalg import lu\n",
    "L, U = sci.linalg.lu(A, permute_l=True) \n",
    "print('LU = ')\n",
    "print(L @  U) # kontrola \n",
    "print('') \n",
    "print('LU = ')\n",
    "print(np.dot(L,U)) # kontrola "
   ]
  },
  {
   "cell_type": "code",
   "execution_count": 30,
   "metadata": {},
   "outputs": [
    {
     "name": "stdout",
     "output_type": "stream",
     "text": [
      "(x1, x2, x3)\n",
      "Matrix([[2, -3, 1, -1], [1, -1, 2, -3], [3, 1, -1, 9]])\n",
      "{x1: 2, x2: 1, x3: -2}\n"
     ]
    }
   ],
   "source": [
    "# SymPy \n",
    "\n",
    "x1, x2, x3 = x = sym.symbols('x1:4') \n",
    "print(x)\n",
    "# definuje sa rozsirena matica sustavy (A,b) tzn. matica A a k nej \"prilepeny\" sprava stlpcovy vektor pravych stran b \n",
    "A = sym.Matrix(( (2, -3, 1, -1), (1, -1, 2, -3), (3, 1, -1, 9) )) \n",
    "print(A)\n",
    "# riesenie SLR pomocou LU rozkladu \n",
    "res = sym.solve_linear_system_LU(A, x) \n",
    "print(res)"
   ]
  },
  {
   "cell_type": "markdown",
   "metadata": {},
   "source": [
    "--- "
   ]
  },
  {
   "cell_type": "markdown",
   "metadata": {},
   "source": [
    "## Kedy je možné aplikovať algoritmus GEMz?"
   ]
  },
  {
   "cell_type": "markdown",
   "metadata": {},
   "source": [
    "Ako už bolo naznačené skôr, slabinou algoritmu GEMz môže byť výpočet multiplikátora $m_{ik}$, lebo vo všeobecnosti nemožno vylúčiť, že v priebehu eliminácie vznikne $a_{kk}^{(k)}=0$. V aplikáciách sa pomerne často riešeia SLR, kde nulový pivot v algoritme GEMz vzniknúť nemôže. Aby sme takéto sústavy mohli popísať, zavedieme/pripomenieme niekoľko pojmov. "
   ]
  },
  {
   "cell_type": "markdown",
   "metadata": {},
   "source": [
    "---\n",
    "\n",
    "### <font color=red> Definícia 1 </font> \n",
    "\n",
    "Hovoríme, že matica $\\mathbf{A}=\\left\\{a_{ij}\\right\\}_{i,j=1}^{n}$ je **_riadkovo_** resp. **_stĺpcovo_** **_rýdzo (striktne) diagonálne dominantná_**, ak platí \n",
    "\n",
    "\\begin{align*}\\label{eq:RowStrictDiagDomin} \\tag{10a}\n",
    "|a_{ii}| > \\displaystyle\\sum\\limits_{j=1\\\\j\\neq i}^{n}|a_{ij}|, \\quad i=1,2,\\ldots,n.  \n",
    "\\end{align*} \n",
    "\n",
    "resp.\n",
    "\n",
    "\\begin{align*}\\label{eq:ColStrictDiagDomin} \\tag{10b}\n",
    "|a_{ii}| > \\displaystyle\\sum\\limits_{i=1\\\\i\\neq j}^{n}|a_{ij}|, \\quad i=1,2,\\ldots,n.  \n",
    "\\end{align*} \n",
    "\n",
    "--- "
   ]
  },
  {
   "cell_type": "markdown",
   "metadata": {},
   "source": [
    "---\n",
    "\n",
    "#### Poznámka 4 \n",
    "\n",
    "* Definícia 1 vlastne hovorí, že v každom riadku resp. stĺpci je absolútna hodnota diagonálneho prvku väčšia než súčet absolútnych hodnôt zvyšných prvkov v danom riadku resp. stĺpci.  \n",
    "\n",
    "\n",
    "* Aj keď matica $\\mathbf{A}$ sústavy rovníc $\\mathbf{A}\\mathbf{x}=\\mathbf{b}$ nie je diagonálne dominantná, niekedy je možné vhodným \"preskladaním\" rovníc docieliť to, že nová matica $\\hat{\\mathbf{A}}$ takto vzniknutej ekvivalentnej sústavy rovníc $\\hat{\\mathbf{A}}\\mathbf{x}=\\hat{\\mathbf{b}}$ už diagonálne dominantná bude. \n",
    "\n",
    "--- "
   ]
  },
  {
   "cell_type": "markdown",
   "metadata": {},
   "source": [
    "---\n",
    "\n",
    "####  <font color=blue> Príklad 3 </font> \n",
    "\n",
    "Určte, či sú matice $\\mathbf{A}$, $\\mathbf{B}$ stĺpcovo striktne diagonálne dominantné. \n",
    "\n",
    "$$\\mathbf{A}=\\begin{pmatrix}3&1&-1\\\\2&-5&2\\\\1&6&8\\end{pmatrix}, \\qquad \\mathbf{B}=\\begin{pmatrix}3&2&6\\\\1&8&1\\\\9&2&-2\\end{pmatrix}.$$\n",
    "\n",
    "<ins> Riešenie: </ins>\n",
    "\n",
    "Matica $\\mathbf{A}$ je stĺpcovo striktne diagonálne dominantná, lebo platí $|3|>|1|+|-1|$, $|-5|>|2|+|2|$ a $|8|>|1|+|6|$. \n",
    "\n",
    "Matica $\\mathbf{B}$ nie je stĺpcovo striktne diagonálne dominantná, lebo napr. neplatí $|3|>|2|+|6|$. Keď ale vymeníme prvý a tretí riadok matice $\\mathbf{B}$, tak potom bude matica $\\mathbf{B}$ stĺpcovo striktne diagonálne dominantná. \n",
    "\n",
    "--- "
   ]
  },
  {
   "cell_type": "markdown",
   "metadata": {},
   "source": [
    "---\n",
    "\n",
    "### <font color=red> Definícia 2 </font> \n",
    "\n",
    "Matica $\\mathbf{A}=\\left\\{a_{ij}\\right\\}_{i,j=1}^{n}$ sa nazýva **_pozitívne definitná_**, ak pre každý nenulový vektor $\\mathbf{x}=(x_1,\\ldots,x_n)'$ platí \n",
    "\n",
    "\\begin{align*}\\label{eq:PositiveDefinitMatrix} \\tag{11}\n",
    "\\mathbf{x}'\\mathbf{A}\\mathbf{x} = \\displaystyle\\sum\\limits_{i,j=1}^{n}x_ia_{ij}x_j>0.  \n",
    "\\end{align*}\n",
    "\n",
    "--- "
   ]
  },
  {
   "cell_type": "markdown",
   "metadata": {},
   "source": [
    "---\n",
    "\n",
    "#### Poznámka 5 \n",
    "\n",
    "* Overiť podmienku $(11)$ nie je vôbec jednoduché. Pokiaľ je ale matica $\\mathbf{A}$ regulárna, tak z $(11)$ hneď vyplýva, že matica $\\mathbf{A}'\\mathbf{A}$ je pozitívne definitná (p.d.). \n",
    "\n",
    "\n",
    "* Po vynásobení sústavy $\\mathbf{A}\\mathbf{x}=\\mathbf{b}$ maticou $\\mathbf{A}'$ zľava, vznikne ekvivalentná sústava $\\mathbf{A}'\\mathbf{A}\\mathbf{x}=\\mathbf{A}'\\mathbf{b}$ s p.d. maticou sústavy . Tento postup sa však pre praktické účely príliš nehodí, lebo operácia $\\mathbf{A}'\\mathbf{A}$ si vyžaduje veľa výpočtov a pri iteračných metódach výrazne klesá rýchlosť konvergencie. \n",
    "\n",
    "\n",
    "* Ak to nebude uvedené ináč, tak pri riešení SLR **budeme o p.d. matici predpokladať navyše to, že je symetrická**.\n",
    "\n",
    "\n",
    "* Existuje niekoľko ekvivalentných charakterizácií pozitívnej definitnosti matice (pozri napr. [tu](https://cs.wikipedia.org/wiki/Pozitivn%C4%9B_definitn%C3%AD_matice)). \n",
    "\n",
    "\n",
    "* Na **generovanie symetrických p.d. matíc** v Python-e, je možné využiť nasledujúcu funkciu: "
   ]
  },
  {
   "cell_type": "code",
   "execution_count": 8,
   "metadata": {},
   "outputs": [],
   "source": [
    "from sklearn.datasets import make_spd_matrix "
   ]
  },
  {
   "cell_type": "code",
   "execution_count": 9,
   "metadata": {},
   "outputs": [
    {
     "data": {
      "text/plain": [
       "array([[ 0.97367821,  1.01009372, -0.56417325,  0.27029141],\n",
       "       [ 1.01009372,  2.667387  , -1.29103899,  1.35077973],\n",
       "       [-0.56417325, -1.29103899,  1.55615535, -0.70077084],\n",
       "       [ 0.27029141,  1.35077973, -0.70077084,  1.33506506]])"
      ]
     },
     "execution_count": 9,
     "metadata": {},
     "output_type": "execute_result"
    }
   ],
   "source": [
    "make_spd_matrix(4)"
   ]
  },
  {
   "cell_type": "markdown",
   "metadata": {},
   "source": [
    "--- "
   ]
  },
  {
   "cell_type": "markdown",
   "metadata": {},
   "source": [
    "<font color=orange> Zdôvodnite tvrdenie v prvom bode Poznámky 5. </font> "
   ]
  },
  {
   "cell_type": "code",
   "execution_count": null,
   "metadata": {},
   "outputs": [],
   "source": []
  },
  {
   "cell_type": "markdown",
   "metadata": {},
   "source": [
    "Pri riešení konkrétnych úloh v praxi býva obvykle už vopred známe (z povahy riešeného problému a zo spôsobu jeho diskretizácie), či matice vznikajúcich SLR sú alebo nie sú p.d. Napriek tomu uvedieme aspoň jednu užitočnú charakterizáciu (nutnú a postačujúcu podmienku) pozitívnej definitnosti známu ako *Sylvestrovo kritérium*."
   ]
  },
  {
   "cell_type": "markdown",
   "metadata": {},
   "source": [
    "--- \n",
    "\n",
    "### <font color=green> Veta 2 (Sylvestrovo kritérium) </font> \n",
    "\n",
    "Štvorcová symetrická matica $\\mathbf{A}=\\left\\{a_{ij}\\right\\}_{i,j=1}^{n}$ je pozitívne definitná práve vtedy, keď sú kladné determinanty všetkých hlavných rohových submatíc, t. j. keď platí \n",
    "\n",
    "$$a_{11}>0, \\quad \\begin{vmatrix}a_{11}&a_{12}\\\\a_{21}&a_{22}\\end{vmatrix}>0, \\quad \\begin{vmatrix}a_{11}&a_{12}&a_{13}\\\\a_{21}&a_{22}&a_{23}\\\\a_{31}&a_{32}&a_{33}\\end{vmatrix}>0, \\quad \\ldots \\quad ,\\det(\\mathbf{A})=\\begin{vmatrix}a_{11}&\\ldots&a_{1n}\\\\\\vdots&&\\vdots\\\\a_{n1}&\\ldots&a_{nn}\\end{vmatrix}>0.$$\n",
    "\n",
    "---"
   ]
  },
  {
   "cell_type": "markdown",
   "metadata": {},
   "source": [
    "---\n",
    "\n",
    "#### Poznámka 6 \n",
    "\n",
    "Dá sa ukázať, že **algoritmus GEMz je možné použiť pre riešenie tých sústav, ktorých matica koeficientov je buď rýdzo diagonálne dominantná alebo pozitívne definitná**. Úspešné použitie algoritmu GEMz sa dá zaručiť aj pre ďalšie typy matíc, no nebudeme sa nimi v tomto kurze zaoberať. \n",
    "\n",
    "--- "
   ]
  },
  {
   "cell_type": "markdown",
   "metadata": {},
   "source": [
    "## Výpočtová náročnosť GEMz "
   ]
  },
  {
   "cell_type": "markdown",
   "metadata": {},
   "source": [
    "Priamy chod GEM vyžaduje $\\dfrac{1}{3}n^3+O\\left(n^2\\right)$ násobiacich operácií (t.j.násobenie alebo delenie) a tiež $\\dfrac{1}{3}n^3+O\\left(n^2\\right)$ sčítacích operácií (t.j. sčítanie alebo odčítanie). Symbolom $O\\left(n^2\\right)$ je označený rádovo menej významný počet operácii. Člen $\\dfrac{1}{3}n^2$ súvisí s transformáciou matice sústavy. Počet operácií súvisiaci s transformáciou pravej strany je o rád nižší a je teda zahrnutý do člena $O\\left(n^2\\right)$. \n",
    "\n",
    "Spätný chod GEM je výpočtovo podstatne menej naročný. Riešenie sústavy rovníc s trojuholníkovou maticou vyžaduje $\\dfrac{1}{2}n^2+O\\left(n\\right)$ násobiacich operácií a tiež $\\dfrac{1}{2}n^2+O\\left(n\\right)$ sčítacích operácií. \"GEM spätný chod\", t. j. výpočet $\\mathbf{x}$ zo sústavy $(4)$, preto vyžaduje $\\dfrac{1}{2}n^2+O\\left(n\\right)$ operácií a \"LU spätný chod\", t. j. výpočet $\\mathbf{x}$, $\\mathbf{y}$ zo sústav $(9)$, vyžaduje dvojnásobný počet operácií, čiže $n^2+O\\left(n\\right)$. \n",
    "\n",
    "Pre veľký počet rovníc, tzn. pre veľké $n$, teda môžeme tvrdiť, že eliminácia potrebuje približne $\\dfrac{1}{3}n^3$ operácií a GEM resp. LU spätný chod približne $\\dfrac{1}{2}n^2$ resp. $n^2$ operácií (násobiacich a rovnako tak sčítacích) "
   ]
  },
  {
   "cell_type": "markdown",
   "metadata": {},
   "source": [
    "## Choleskeho rozklad matice "
   ]
  },
  {
   "cell_type": "markdown",
   "metadata": {},
   "source": [
    "--- \n",
    "\n",
    "#### <font color=green> Tvrdenie 2 (Choleskeho rozklad) </font> \n",
    "\n",
    "Nech $\\mathbf{A}$ je reálna symetrická $n\\times n$ matica. Potom $\\mathbf{A}$ je pozitívne definitná vtedy a len vtedy, keď existuje invertovateľná dolná trojuholníková matica $\\mathbf{L}$ taká, že platí \n",
    "\n",
    "\\begin{align*}\\label{eq:CholeskyDecomp1} \\tag{12}\n",
    "\\mathbf{A}=\\mathbf{L}\\mathbf{L}'.  \n",
    "\\end{align*}\n",
    "\n",
    "Naviac, prvky hlavnej diagonály matice $\\mathbf{L}$ je možné zvoliť tak, aby boli všetky kladné. \n",
    "\n",
    "---"
   ]
  },
  {
   "attachments": {
    "o14b.png": {
     "image/png": "[encoded data removed]"
    }
   },
   "cell_type": "markdown",
   "metadata": {},
   "source": [
    "![o14b.png](attachment:o14b.png) "
   ]
  },
  {
   "cell_type": "markdown",
   "metadata": {},
   "source": [
    "---\n",
    "\n",
    "#### Poznámka 7 \n",
    "\n",
    "* Dekompozícia uvedená v $(12)$ sa nazýva **_Choleskeho rozklad matice_** $\\mathbf{A}$ a nenulové prvky dolnej trojuholníkovej matice $\\mathbf{L}$ z tohto rozkladu sú postupne pre $k=1,2,\\ldots,n$ dané vzťahmi <br/>\n",
    "<br/>\n",
    "\\begin{align*}\\label{eq:CholeskyDecomp2} \\tag{13}\n",
    "l_{kk}&=\\sqrt{a_{kk}-\\displaystyle\\sum\\limits_{j=1}^{k-1}l^{2}_{kj}}, \\\\\n",
    "\\\\\n",
    "l_{ik}&=\\dfrac{1}{l_{kk}}\\left(a_{ik}-\\displaystyle\\sum\\limits_{j=1}^{k-1}l_{ij}l_{kj}\\right), \\quad i=k+1,k+2,\\ldots,n,\n",
    "\\end{align*} <br/>\n",
    "pričom $l_{11}=\\sqrt{a_{11}}$ a $l_{i1}=a_{i1}/\\sqrt{a_{11}}$ pre $i=2,3,\\ldots,n$. Všimnime si, že $\\mathbf{x}'\\mathbf{A}\\mathbf{x}>0$ a voľba $\\mathbf{x}=\\mathbf{e}_j=(0,0,\\ldots,0,1,0,\\ldots,0)'$ implikuje $a_{jj}>0$, pričom vektor $\\mathbf{e}_j$ má na $j$-tej pozícii jednotku a všade inde má nuly. \n",
    "\n",
    "\n",
    "* Choleskeho dekompozíciu je možné vnímať ako špeciálny prípad LU rozkladu pre symetrickú a p.d. maticu. \n",
    "\n",
    "\n",
    "* **Choleskeho algoritmus $(13)$** sa dá použiť **k efektívnemu posúdeniu pozitívnej definitnosti matice** $\\mathbf{A}$: Totiž ak je $\\mathbf{A}$ symetrická a zároveň platí $a_{kk}-\\displaystyle\\sum\\limits_{j=1}^{k-1}l_{kj}^2>0$ pre $k=1,2,\\ldots,n$, potom $\\mathbf{A}$ je p.d. \n",
    "\n",
    "--- "
   ]
  },
  {
   "cell_type": "markdown",
   "metadata": {},
   "source": [
    "Ak máme k dispozícii Choleskeho rozklad matice $\\mathbf{A}$ sústavy $\\mathbf{A}\\mathbf{x}=\\mathbf{b}$, následne je možné SLR riešiť podľa $(9)$, pričom sa vezme $\\mathbf{U}=\\mathbf{L}'$. Choleskeho rozklad $\\mathbf{A}=\\mathbf{L}\\mathbf{L}'$ vyžaduje približne polovičné výpočtové náklady oproti všeobecnému LU rozkladu, teda približne $\\dfrac{1}{6}n^3$ násobiacich operácií a zhruba rovnaký počet sčítacích operácií (výpočet odmocnín nemá na celkový počet operácií významný vplyv). \n"
   ]
  },
  {
   "cell_type": "markdown",
   "metadata": {},
   "source": [
    "--- \n",
    "\n",
    "#### <font color=blue> Príklad 4 </font> \n",
    "\n",
    "V tomto príklade budeme ilustrovať nájdenie Choleskeho rozkladu matice $\\mathbf{A}=\\begin{pmatrix}1&3&5\\\\3&13&23\\\\5&23&42\\end{pmatrix}$ pomocou vstavanej funkcie v Python-e. "
   ]
  },
  {
   "cell_type": "code",
   "execution_count": 65,
   "metadata": {},
   "outputs": [
    {
     "name": "stdout",
     "output_type": "stream",
     "text": [
      "A = \n",
      "[[ 1  3  5]\n",
      " [ 3 13 23]\n",
      " [ 5 23 42]]\n",
      "\n",
      "L = \n",
      "[[1. 0. 0.]\n",
      " [3. 2. 0.]\n",
      " [5. 4. 1.]]\n",
      "\n",
      "L´ = \n",
      "[[1. 3. 5.]\n",
      " [0. 2. 4.]\n",
      " [0. 0. 1.]]\n",
      "\n",
      "LL´ = \n",
      "[[ 1.  3.  5.]\n",
      " [ 3. 13. 23.]\n",
      " [ 5. 23. 42.]]\n"
     ]
    }
   ],
   "source": [
    "A = np.array([[1,3,5],[3,13,23],[5,23,42]]) \n",
    "print('A = ') \n",
    "print(A)\n",
    "print('')\n",
    "\n",
    "# dolna trojuholnikova matica L z Choleskeho rozkladu matice A \n",
    "L = sci.linalg.cholesky(A, lower=True)\n",
    "print('L = ')\n",
    "print(L)\n",
    "print('')\n",
    "L_transp = L.T\n",
    "print('L´ = ')\n",
    "print(L_transp)\n",
    "print('')\n",
    "# kontrola \n",
    "print('LL´ = ')\n",
    "print(L @ L_transp) "
   ]
  },
  {
   "cell_type": "markdown",
   "metadata": {},
   "source": [
    "***\n",
    "<a id=vyber_hlavneho_prvku></a>\n",
    " # <font color=brown> Výber hlavného prvku </font> "
   ]
  },
  {
   "cell_type": "markdown",
   "metadata": {},
   "source": [
    "Túto časť začneme príkladom, ktorý bude ilustrovať možné problémy s naivnou GEM a zároveň dá opodstatnenie záležitostiam (vylepšeniam), ktoré budeme rozoberať v tomto odseku. "
   ]
  },
  {
   "cell_type": "markdown",
   "metadata": {},
   "source": [
    "--- \n",
    "\n",
    "#### <font color=blue> Príklad 5 </font>  \n",
    "\n",
    "Máme vyriešiť SLR \n",
    "\n",
    "$$\\begin{pmatrix}10&-7&0\\\\-3&2.099&6\\\\5&-1.1&4.8\\end{pmatrix}\\begin{pmatrix}x_1\\\\x_2\\\\x_3\\end{pmatrix}=\\begin{pmatrix}7\\\\3.901\\\\5.9\\end{pmatrix}$$\n",
    "\n",
    "na hypotetickom počítači, ktorý pracuje v dekadickej sústave s päťmiestnou mantisou. Presné riešenie je $\\mathbf{x}=(0,-1,1)'$. \n",
    "\n",
    "V prvom kroku sa vynulujú (eliminujú) prvky v prvom stĺpci, čím vznikne ekvivalentná sústava v tvare \n",
    "\n",
    "$$\\begin{pmatrix}10&-7&0\\\\0&-0.001&6\\\\0&2.4&4.8\\end{pmatrix}\\begin{pmatrix}x_1\\\\x_2\\\\x_3\\end{pmatrix}=\\begin{pmatrix}7\\\\6.001\\\\2.4\\end{pmatrix}.$$\n",
    "\n",
    "Prvok na pozícii $[2,2]$ je malý v porovnaní s ostatnými prvkami matice. Napriek tomu pokračujeme v eliminácii a v ďalšom kroku je potrebné k tretiemu riadku pripočítať 2400-násobok druhého riadka: $(4.8+6\\times2400)\\times x_3=2.4+6.001\\times2400.$ Na ľavej strane je koeficient $4.8+6\\times2400=14404.8$ zaokrúhlený na $14405$. Na pravej strane výsledok násobenia $6.001\\times2400=14402.4$ nie je možné zobraziť presne, musí byť zaokrúhlený na hodnotu $14402$. K tomu sa následne pripočíta $2.4$ a opäť dôjde k zaokrúhleniu. Posledná rovnica tak nadobudne tvar $14405x_3=14404$. \n",
    "\n",
    "Spätný chod teda začne výpočtom $x_3=\\dfrac{14404}{14405}\\doteq0.99993$. Presný výsledok je $x_3=1$. Zdá sa, že chyba v približnom výsledku nie je závažná. Ďalej $x_2$ je potrebné určiť z rovnice $-0.001x_2+6\\times0.99993=6.001$, čo dáva po zaokrúhlení $6\\times0.99993\\doteq5.9996$, $x_2=\\dfrac{0.0014}{-0.001}=-1.4$. Nakoniec sa vypočíta $x_1$ z prvej rovnice $10x_1-7\\times(-1.4)=7$ a dostaneme $x_1=-0.28$. \n",
    "\n",
    "Miesto presného riešenia $\\mathbf{x}$ sme získali približné riešenie \n",
    "\n",
    "$$\\tilde{\\mathbf{x}}=\\begin{pmatrix}-0.28\\\\-1.4\\\\0.99993\\end{pmatrix}.$$\n",
    "\n",
    "Otázka znie, kde vznikol problém? Nedošlo k žiadnemu hromadeniu chýb, ktoré by bolo spôsobené vykonávaním veľkého množstva  operácií (rádovo v tisícoch). Matica sústavy nie je blízka singulárnej matici. Problém je totiž inde, spôsobuje ho malý pivot v druhom kroku eliminácie. Takto vznikne multiplikátor $-2400$ a v dôsledku toho má posledná rovnica sústavy koeficienty zhruba 1000 krát väčšie než koeficienty pôvodnej rovnice. Zaokrúhľovacie chyby, ktoré sú malé vzhľadom k týmto veľkým koeficientom, sú ale neprijateľné pre koeficienty resp. z hľadiska koeficientov pôvodnej matice a taktiež neprijateľné pre samotné riešenie. \n",
    "\n",
    "Ľahko sa overí, že výmenou druhej a tretej rovnice nevzniknú žiadne veľké multiplikátory a výsledok bude presný. \n",
    "\n",
    "---"
   ]
  },
  {
   "cell_type": "markdown",
   "metadata": {},
   "source": [
    "---\n",
    "\n",
    "#### Poznámka 8 \n",
    "\n",
    "Ukazuje sa, že vo všeobecnosti platí nasledovné: **ak sú absolútne hodnoty multiplikátorov menšie alebo rovné ako $1$, potom je numerické riešenie SLR vyhovujúce**. \n",
    "\n",
    "--- "
   ]
  },
  {
   "cell_type": "markdown",
   "metadata": {},
   "source": [
    "<font color=orange> Overte, že presné riešenie z Príkladu 5 je $\\mathbf{x}=(0,-1,1)'$. Taktiež overte, že zámena druhej a tretej rovnice nespôsobí (veľké) chyby v numerickom riešení, na rozdiel od riešenia prezentovaného v Príklade 5. </font>  "
   ]
  },
  {
   "cell_type": "code",
   "execution_count": null,
   "metadata": {},
   "outputs": [],
   "source": []
  },
  {
   "cell_type": "markdown",
   "metadata": {},
   "source": [
    "## Čiastočný výber hlavného prvku "
   ]
  },
  {
   "attachments": {
    "o2.PNG": {
     "image/png": "[encoded data removed]"
    }
   },
   "cell_type": "markdown",
   "metadata": {},
   "source": [
    "Ide o modifikáciu GEM ktorá zaručí, že hodnota multiplikátora bude mešia alebo rovná ako hodnota $1$. V $k$-tom kroku eliminácie sa za pivota vyberá prvok s najväčšou absolútnou hodnotou v doteraz neeliminovanej časti $k$-teho stĺpca matice $\\mathbf{A}^{(k-1)}$, t. j. medzi prvkami $a_{ik}^{(k-1)}$, $i\\ge k$. Nech teda $r$ je taký riadkový index, pre ktorý platí \n",
    "\n",
    "\\begin{align*}\\label{eq:PartialPivot1} \\tag{14}\n",
    "\\left|a_{rk}^{(k-1)}\\right|=\\underset{k\\le i \\le n}{\\max}\\left|a_{ik}^{(k-1)}\\right|.\n",
    "\\end{align*} \n",
    "\n",
    "Potom sa vymení $k$-ta rovnica s $r$-tou rovnicou. Zo sústavy $\\mathbf{A}^{(k-1)}\\mathbf{x}=\\mathbf{b}^{(k-1)}$ tak vznikne sústava $\\mathbf{A}^{(k)}\\mathbf{x}=\\mathbf{b}^{(k)}$, pričom $\\mathbf{A}^{(k)}$ sa získa prehodením $k$-teho a $r$-teho riadka matice $\\mathbf{A}^{(k-1)}$. Podobne $\\mathbf{b}^{(k)}$ vznikne prehodením $k$-teho a $r$-teho prvku vektora $\\mathbf{b}^{(k-1)}$. Popísanú situáciu znázorňuje nasledujúci obrázok, kde v krúžku je vybraný pivot (hlavný prvok). \n",
    "\n",
    "![o2.PNG](attachment:o2.PNG) \n",
    "$$\\text{Zdroj: Čermák (2020).}$$\n"
   ]
  },
  {
   "cell_type": "markdown",
   "metadata": {},
   "source": [
    "## Úplný výber hlavného prvku "
   ]
  },
  {
   "attachments": {
    "o3.PNG": {
     "image/png": "[encoded data removed]"
    },
    "o9.PNG": {
     "image/png": "[encoded data removed]"
    }
   },
   "cell_type": "markdown",
   "metadata": {},
   "source": [
    "Tento prístup je opäť modifikáciou GEM, no môže pomôcť ešte výraznejšie zmenšiť absolútne hodnoty multiplikátorov. Docieli sa to tak, že v $k$-tom kroku eliminácie sa ako pivot vyberá prvok s najväčšou absolútnou hodnotou v doposiaľ neeliminovanej časti matice $\\mathbf{A}^{(k-1)}$, t. j. v riadkoch $i\\ge k$ a v stĺpcoch $j\\ge k$. Nech teda $r$ je taký riadkový index a $s$ taký stĺpcový index, pre ktoré platí \n",
    "\n",
    "\\begin{align*}\\label{eq:FullPivot1} \\tag{15}\n",
    "\\left|a_{rs}^{(k-1)}\\right|=\\underset{k\\le i, j\\le n}{\\max}\\left|a_{ij}^{(k-1)}\\right|.\n",
    "\\end{align*} \n",
    "\n",
    "Následne sa vymení $k$-ta a $s$-ta rovnica a tiež sa vymení $k$-ta neznáma s $s$-tou neznámou - pozri nasledovný obrázok. \n",
    "\n",
    "![o3.PNG](attachment:o3.PNG) \n",
    "$$\\text{Zdroj: Čermák (2020).}$$ \n",
    "\n",
    "Zo sústavy rovníc $\\mathbf{A}^{(k-1)}\\mathbf{x}=\\mathbf{b}^{(k-1)}$ tak vznikne sústava $\\mathbf{A}^{(k)}\\mathbf{x}=\\mathbf{b}^{(k)}$, pričom $\\mathbf{A}^{(k)}$ sa získa prehodením $k$-teho a $r$-teho riadka a prehodením $k$-teho a $s$-teho stĺpca matice $\\mathbf{A}^{(k-1)}$. Podobne $\\mathbf{b}^{(k)}$ vznikne prehodením $k$-teho a $r$-teho prvku vektora $\\mathbf{b}^{(k-1)}$. Navyše $\\mathbf{x}^{(k)}$ vznikne výmenou $k$-teho a $s$-teho prvku vektora $\\mathbf{x}^{(k-1)}$, pričom $\\mathbf{x}^{(0)}=\\mathbf{x}$ je pôvodný vektor neznámych. Prehadzovanie neznámych sa eviduje vo vektore $\\mathbf{p}=(p_1,p_2,\\ldots,p_n)'$, kde na začiatku sa položí $p_i=i$ a pri každej výmene premenných (tzn. prehodenie stĺpcov matice sústavy) sa rovnako vymenia odpovedajúce prvky vektora $\\mathbf{p}$. Po ukončení priameho chodu je $i$-ta zložka vektora $\\mathbf{x}^{(n-1)}$ rovná $p_i$-tej zložke pôvodného vektora $\\mathbf{x}^{(0)}$. Počas spätného chodu sa vypočíta $\\mathbf{x}^{(n-1)}$ a pomocou vektora $\\mathbf{p}$ sa určí riešenie $\\mathbf{x}$. \n",
    "\n",
    "![o9.PNG](attachment:o9.PNG) \n",
    "$$\\text{Zdroj: Kiseľák (2020).}$$"
   ]
  },
  {
   "cell_type": "markdown",
   "metadata": {},
   "source": [
    "---\n",
    "\n",
    "#### Poznámka 9 (Čiastočný vs úplný výber pivota)\n",
    "\n",
    "Väčšinou sa používa iba čiastočný výber hlavného prvku. Teória i prax potvrdzujú, že aj čiastočný výber pivota stačí k tomu, aby zaokrúhľovacie chyby ostali dostatočne malé a neznehodnotili výsledné riešenie. Ďalším dôvodom uprednostnenia čiastočného výberu pivota je, že jeho realizácia vyžaduje výrazne menší počet operácií než úplný výber. \n",
    "\n",
    "--- "
   ]
  },
  {
   "cell_type": "markdown",
   "metadata": {},
   "source": [
    "## LU rozklad s čiastočným výberom hlavného prvku "
   ]
  },
  {
   "attachments": {
    "image.png": {
     "image/png": "[encoded data removed]"
    }
   },
   "cell_type": "markdown",
   "metadata": {},
   "source": [
    "Ide o štandardnú rutinu implementovanú k každej knižnici (pre Python pozri Príklad 2) pre numerické riešenie úloh lineárnej algebry. Na vstupe je matica sústavy $\\mathbf{A}$. Výstupné parametre sú tri: dolná trojuholníková matica $\\mathbf{L}$ (s jednotkami na hlavnej diagonále), horná trojuholníková matica $\\mathbf{U}$ a tzv. *permutačná matica* $\\mathbf{P}$, pričom \n",
    "\n",
    "\\begin{align*}\\label{eq:LUPartialPivot1} \\tag{16}\n",
    "\\mathbf{L}\\mathbf{U}=\\mathbf{P}\\mathbf{A}.\n",
    "\\end{align*}  \n",
    "\n",
    "Pritom **_permutačná matica_** je taká matica, ktorá vznikne z jednotkovej diagonálnej matice nejakým prehádzaním resp. permutáciou jej riadkov. Všimnime si na príklade, čo spôsobuje násobenie permutačnou maticou $\\mathbf{P}$ \n",
    "\n",
    "![image.png](attachment:image.png) \n",
    "\n",
    "kde $\\mathbf{P}=\\begin{pmatrix}0&1&0\\\\0&0&1\\\\1&0&0 \\end{pmatrix}$. V podstate ide o výmenu (dvoch alebo viacerých) riadkov násobenej matice. To súvisí so zámenou riadkov napr. počas Gaussovej eliminácie ... Navyše $|\\mathbf{P}|=\\pm1$, keďže $\\mathbf{P}$ vznikne z $\\mathbf{I}$ prehodením riadkov. \n",
    "\n",
    "Teraz uvedieme popis algoritmu pre LU rozklad matice $\\mathbf{A}$ s čiastočným výberom hlavných prvkov. \n"
   ]
  },
  {
   "cell_type": "markdown",
   "metadata": {},
   "source": [
    "---\n",
    "\n",
    "<b> <ins> Algoritmus LUp </ins> </b> (s čiastočným výberom hlavného prvku)\n",
    "\n",
    "**Krok 1** \n",
    "\n",
    "Vstup: $\\mathbf{A}^{(0)}:=\\mathbf{A}$; \n",
    "\n",
    "**Krok 2** \n",
    "\n",
    "Polož $\\mathbf{P}^{(0)}:=\\mathbf{I}$; \n",
    "\n",
    "**Krok 3** \n",
    "\n",
    "Postupne pre $k=1,2,\\ldots,n-1$ opakuj: \n",
    "\n",
    "* Urč index $r$ riadka s pivotom podľa $(14)$; \n",
    "\n",
    "* Prehoď riadky $k$ a $r$ v matici $\\mathbf{A}^{(k-1)}$ a polož $\\mathbf{A}^{(k)}:=\\mathbf{A}^{(k-1)}$; rovnako prehoď riadky $k$ a $r$ v matici $\\mathbf{P}^{(k-1)}$ a polož $\\mathbf{P}^{(k)}:=\\mathbf{P}^{(k-1)}$; \n",
    "\n",
    "* Uprav maticu $\\mathbf{A}^{(k)}$ elimináciou poddiagonálnych prvkov v $k$-tom stĺpci, t. j. postupne pre $i=k+1,k+2,\\ldots,n$ počítaj \n",
    "<br/>\n",
    "$$m_{ik}:=a_{ik}^{(k)}/a_{kk}^{(k)};$$ \n",
    "<br/>\n",
    "$$a_{ij}^{(k)}:=a_{ij}^{(k)}-m_{ik}a_{kj}^{(k)} \\text{ pre } j=k+1,k+2,\\ldots,n;$$ \n",
    "<br/>\n",
    "$$a_{ik}^{(k)}:=m_{ik};$$ \n",
    "<br/>\n",
    "Do anulovaných pozícií $[i,k]$ matice $\\mathbf{A}^{(k)}$ ukladaj multiplikátory $m_{ik}$;  \n",
    "\n",
    "**Krok 4** \n",
    "\n",
    "* Dolnú trojuholníkovú maticu $\\mathbf{L}$ zostroj tak, že na hlavnú diagonálu daj samé jednotky a poddiagonálne prvky prevezmi z výslednej matice $\\mathbf{A}^{(n-1)}$; \n",
    "\n",
    "* Hornú trojuholníkovú maticu $\\mathbf{U}$ vytvor z diagonálnych a naddiagonálnych prvkov výslednej matice $\\mathbf{A}^{(n-1)}$;\n",
    "\n",
    "* $\\mathbf{P}:=\\mathbf{P}^{(n-1)}$ \n",
    "\n",
    "**Krok 5** \n",
    "\n",
    "Výstup: $\\mathbf{L}$, $\\mathbf{P}$, $\\mathbf{U}$.   \n",
    "\n",
    "---"
   ]
  },
  {
   "cell_type": "markdown",
   "metadata": {},
   "source": [
    "Po získaní matíc $\\mathbf{L}$, $\\mathbf{U}$, $\\mathbf{P}$ je riešenie sústavy $\\mathbf{A}\\mathbf{x}=\\mathbf{b}$ už jednoduché. Zrejme platí \n",
    "\n",
    "$$\\mathbf{P}\\mathbf{A}\\mathbf{x}=\\mathbf{P}\\mathbf{b} \\quad \\Longrightarrow \\quad \\mathbf{L}\\mathbf{U}\\mathbf{x}=\\mathbf{P}\\mathbf{b}.$$ \n",
    "\n",
    "Preto sa najprv určí vektor $\\mathbf{z}=\\mathbf{P}\\mathbf{b}$ - t. j. prvky vektora $\\mathbf{b}$ pravých strán sa poprehadzujú pomocou permutačnej matice $\\mathbf{P}$ rovnako, ako sa prehadzovali riadky matíc $\\mathbf{A}^{(k-1)}$, $\\mathbf{P}^{(k-1)}$ v algoritme LUp uvedenom vyššie. Ak označíme $\\mathbf{U}\\mathbf{x}=\\mathbf{y}$, vidíme, že $\\mathbf{y}$ je riešenie sústavy $\\mathbf{L}\\mathbf{y}=\\mathbf{z}$. Vyriešením tejto sústavy dostaneme $\\mathbf{y}$. Ostáva ešte vyriešiť sústavu $\\mathbf{U}\\mathbf{x}=\\mathbf{y}$ a tým pádom sa nájde požadované riešenie $\\mathbf{x}$. Ak to zhrnieme, tak počítame postupne $\\mathbf{z}$, $\\mathbf{y}$, $\\mathbf{x}$ zo sústav rovníc \n",
    "\n",
    "\\begin{align*}\\label{eq:LUPartialPivot2} \\tag{17}\n",
    "\\mathbf{z}=\\mathbf{P}\\mathbf{b}, \\quad \\mathbf{L}\\mathbf{y}=\\mathbf{z}, \\quad \\mathbf{U}\\mathbf{x}=\\mathbf{y}. \n",
    "\\end{align*} \n"
   ]
  },
  {
   "cell_type": "markdown",
   "metadata": {},
   "source": [
    "---\n",
    "\n",
    "#### Poznámka 10 \n",
    "\n",
    "* Uchovávanie histórie prehadzovaných riadkov v matici $\\mathbf{P}$ je zrejme plytvanie miestom v pamäti počítača. Totiž, z celkového počtu $n^2$ prvkov matice $\\mathbf{P}$ je iba $n$ prvkov nenulových. Preto **miesto matice $\\mathbf{P}$ stačí pracovať len s** **_vektorom riadkových permutácií $\\mathbf{p}$_**. \n",
    "\n",
    "\n",
    "* Na začiatku položíme $\\mathbf{p}^{(0)}=(1,2,\\ldots,n)'$ a v zbytku algoritmu potom prehadzujeme prvky vektora $\\mathbf{p}^{(k-1)}$. Matica $P$ bola potrebná len pre zostavenie vektora $\\mathbf{z}$. To ale dokážeme aj pomocou vektora $\\mathbf{p}$: do $i$-tej zložky vektora $\\mathbf{z}$ sa vloží $p_i$-tá zložka vektora $\\mathbf{b}$, postupne pre $i=1,2,\\ldots,n$. \n",
    "\n",
    "--- "
   ]
  },
  {
   "cell_type": "markdown",
   "metadata": {},
   "source": [
    "--- \n",
    "\n",
    "#### <font color=blue> Príklad 6 </font>  \n",
    "\n",
    "Urobíme LU rozklad matice \n",
    "\n",
    "$$\\mathbf{A}=\\begin{pmatrix}\n",
    "-0.4&-0.95&-0.4&-7.34\\\\\n",
    "0.5&-0.3&2.15&-2.45\\\\\n",
    "-2&4&1&-3\\\\\n",
    "-1&5.5&2.5&3.5\n",
    "\\end{pmatrix}.$$ \n",
    "\n",
    "V prvom stĺpci nájdeme pivota číslo $-2$ v treťom riadku. Preto sa prehodí prvý a tretí riadok. Následne sa eliminujú poddiagonálne prvky v prvom stĺpci a na ich miesta sa zapíšu použité multiplikátory. Prehodenie riadkov sa poznačí v permutačnom vektore. Takto dostaneme \n",
    "\n",
    "$$\\mathbf{A}^{(1)}=\\begin{pmatrix}\n",
    "-2&4&1&-3\\\\\n",
    "-0.25&0.7&2.4&-3.2\\\\\n",
    "0.2&-1.75&-0.6&-6.74\\\\\n",
    "0.5&3.5&2&5\n",
    "\\end{pmatrix}, \\quad \\mathbf{p}^{(1)}=\\begin{pmatrix}\n",
    "3\\\\\n",
    "2\\\\\n",
    "1\\\\\n",
    "4\n",
    "\\end{pmatrix}.$$ \n",
    "\n",
    "Prvý riadok sa už meniť nebude. V druhom kroku nájdeme pivota v druhom stĺpci. Je to číslo $3.5$ vo štvrtom riadku. Preto vymeníme druhý a štvrtý riadok v matici $\\mathbf{A}^{(1)}$ aj vo vektore $\\mathbf{p}^{(1)}$. Následne sa eliminujú prvky na pozíciach $[3,2]$ a $[4,2]$. Na ich miesta sa zapíšu použité multiplikátory. Výsledkom je \n",
    "\n",
    "$$\\mathbf{A}^{(2)}=\\begin{pmatrix}\n",
    "-2&4&1&-3\\\\\n",
    "0.5&3.5&2&5\\\\\n",
    "0.2&-0.5&0.4&-4.24\\\\\n",
    "-0.25&0.2&2&-4.2\n",
    "\\end{pmatrix}, \\quad \\mathbf{p}^{(2)}=\\begin{pmatrix}\n",
    "3\\\\\n",
    "4\\\\\n",
    "1\\\\\n",
    "2\n",
    "\\end{pmatrix}.$$  \n",
    "\n",
    "Prvé dva riadky ostanú už bez zmeny. Ďalej sa nájde pivot v treťom stĺpci - je to číslo $2$ vo štvrtom riadku. Preto sa vymení tretí a štvrtý riadok v matici $\\mathbf{A}^{(2)}$ a tiež vo vektore $\\mathbf{p}^{(2)}$. Potom sa eliminuje prvok na pozícii $[4,3]$ a na jeho miesto sa vloží použitý multiplikátor. Takto vznikne \n",
    "\n",
    "$$\\mathbf{A}^{(3)}=\\begin{pmatrix}\n",
    "-2&4&1&-3\\\\\n",
    "0.5&3.5&2&5\\\\\n",
    "-0.25&0.2&2&-4.2\\\\\n",
    "0.2&-0.5&0.2&-3.4 \n",
    "\\end{pmatrix}, \\quad \\mathbf{p}^{(3)}=\\begin{pmatrix}\n",
    "3\\\\\n",
    "4\\\\\n",
    "2\\\\\n",
    "1\n",
    "\\end{pmatrix}.$$ \n",
    "\n",
    "Dostali sme teda \n",
    "\n",
    "$$\\mathbf{L}=\\begin{pmatrix}\n",
    "1&0&0&0\\\\\n",
    "0.5&1&0&0\\\\\n",
    "-0.25&0.2&1&0\\\\\n",
    "0.2&-0.5&0.2&1 \n",
    "\\end{pmatrix} \\quad \\mathbf{U}=\\begin{pmatrix}\n",
    "-2&4&1&-3\\\\\n",
    "0&3.5&2&5\\\\\n",
    "0&0&2&-4.2\\\\\n",
    "0&0&0&-3.4 \n",
    "\\end{pmatrix}.$$\n",
    "\n",
    "Permutačný vektor $\\mathbf{p}=\\mathbf{p}^{(3)}$. Pokiaľ by sme chceli vytvoriť permutačnú maticu $\\mathbf{P}$, stačí vziať jednotkovú diagonálnu maticu $\\mathbf{I}$ a preusporiadať jej riadky tak, že pôvodne $p_i$-tý riadok sa stane riadkom $i$-tým. Po realizácii dostaneme \n",
    "\n",
    "$$\\mathbf{p}=\\begin{pmatrix}\n",
    "3\\\\\n",
    "4\\\\\n",
    "2\\\\\n",
    "1\n",
    "\\end{pmatrix} \\quad \\text{a} \\quad \\mathbf{I}=\\begin{pmatrix}\n",
    "1&0&0&0\\\\\n",
    "0&1&0&0\\\\\n",
    "0&0&1&0\\\\ \n",
    "0&0&0&1\n",
    "\\end{pmatrix} \\quad \\Longrightarrow \\quad \\mathbf{P}=\\begin{pmatrix}\n",
    "0&0&1&0\\\\\n",
    "0&0&0&1\\\\\n",
    "0&1&0&0\\\\\n",
    "1&0&0&0\n",
    "\\end{pmatrix}.$$\n",
    "\n",
    "Ľahko sa overí, že $\\mathbf{L}\\mathbf{U}=\\mathbf{P}\\mathbf{A}$. \n",
    "\n",
    "Ukážeme si ešte riešenie SLR pre zvolenú pravú stranu. Vezmime napr. \n",
    "\n",
    "$$\\mathbf{b}=\\begin{pmatrix}\n",
    "-13.14\\\\\n",
    "2.15\\\\\n",
    "9\\\\\n",
    "27.5\n",
    "\\end{pmatrix}, \\quad \\text{potom} \\quad \\mathbf{z}=\\begin{pmatrix}\n",
    "9\\\\\n",
    "27.5\\\\\n",
    "2.15\\\\\n",
    "-13.14\n",
    "\\end{pmatrix}.$$ \n",
    "\n",
    "Ďalej riešením sústav $\\mathbf{L}\\mathbf{y}=\\mathbf{z}$ a potom $\\mathbf{U}\\mathbf{x}=\\mathbf{y}$ dostaneme \n",
    "\n",
    "$$\\mathbf{y}=\\begin{pmatrix}\n",
    "9\\\\\n",
    "23\\\\\n",
    "-0.2\\\\\n",
    "-3.4\n",
    "\\end{pmatrix}, \\quad \\mathbf{x}=\\begin{pmatrix}\n",
    "3\\\\\n",
    "4\\\\\n",
    "2\\\\\n",
    "1\n",
    "\\end{pmatrix}.$$"
   ]
  },
  {
   "cell_type": "code",
   "execution_count": 40,
   "metadata": {},
   "outputs": [
    {
     "name": "stdout",
     "output_type": "stream",
     "text": [
      "A = \n",
      "[[-0.4  -0.95 -0.4  -7.34]\n",
      " [ 0.5  -0.3   2.15 -2.45]\n",
      " [-2.    4.    1.   -3.  ]\n",
      " [-1.    5.5   2.5   3.5 ]]\n",
      "\n",
      "b =\n",
      "[-13.14   2.15   9.    27.5 ]\n",
      "\n",
      "LU rozklad s ciastocnym vyberom prvku:\n",
      "\n",
      "P = \n",
      "[[0. 0. 1. 0.]\n",
      " [0. 0. 0. 1.]\n",
      " [0. 1. 0. 0.]\n",
      " [1. 0. 0. 0.]]\n",
      "\n",
      "L = \n",
      "[[ 1.    0.    0.    0.  ]\n",
      " [ 0.5   1.    0.    0.  ]\n",
      " [-0.25  0.2   1.    0.  ]\n",
      " [ 0.2  -0.5   0.2   1.  ]]\n",
      "\n",
      "U = \n",
      "[[-2.   4.   1.  -3. ]\n",
      " [ 0.   3.5  2.   5. ]\n",
      " [ 0.   0.   2.  -4.2]\n",
      " [ 0.   0.   0.  -3.4]]\n",
      "\n",
      "kontrola 1:\n",
      "\n",
      "LU = \n",
      "[[-2.    4.    1.   -3.  ]\n",
      " [-1.    5.5   2.5   3.5 ]\n",
      " [ 0.5  -0.3   2.15 -2.45]\n",
      " [-0.4  -0.95 -0.4  -7.34]]\n",
      "\n",
      "PA = \n",
      "[[-2.    4.    1.   -3.  ]\n",
      " [-1.    5.5   2.5   3.5 ]\n",
      " [ 0.5  -0.3   2.15 -2.45]\n",
      " [-0.4  -0.95 -0.4  -7.34]]\n",
      "\n",
      "kontrola 2:\n",
      "\n",
      "A = \n",
      "[[-0.4  -0.95 -0.4  -7.34]\n",
      " [ 0.5  -0.3   2.15 -2.45]\n",
      " [-2.    4.    1.   -3.  ]\n",
      " [-1.    5.5   2.5   3.5 ]]\n",
      "\n",
      "PLU = \n",
      "[[-0.4  -0.95 -0.4  -7.34]\n",
      " [ 0.5  -0.3   2.15 -2.45]\n",
      " [-2.    4.    1.   -3.  ]\n",
      " [-1.    5.5   2.5   3.5 ]]\n",
      "\n",
      "riesenie sustavy Ly=z\n",
      "\n",
      "z = \n",
      "[  9.    27.5    2.15 -13.14]\n",
      "\n",
      "y = \n",
      "[ 9.  23.  -0.2 -3.4]\n",
      "\n",
      "riesenie sustavy Ux=y\n",
      "\n",
      "x = \n",
      "[3. 4. 2. 1.]\n"
     ]
    }
   ],
   "source": [
    "# NumPy\n",
    "\n",
    "A = np.array([[-0.4, -0.95, -0.4, -7.34],\n",
    "              [0.5, -0.3, 2.15, -2.45],\n",
    "              [-2, 4, 1, -3],\n",
    "              [-1, 5.5, 2.5, 3.5]])\n",
    "print('A = ')\n",
    "print(A)\n",
    "print('')\n",
    "print('b =')\n",
    "b = np.array([-13.14, 2.15, 9, 27.5])\n",
    "print(b) \n",
    "print('') \n",
    "\n",
    "# LU rozklad s ciastocnym vyberom prvku - SciPy\n",
    "print('LU rozklad s ciastocnym vyberom prvku:')\n",
    "print('')\n",
    "P, L, U = lu(A, permute_l=False) \n",
    "P = P.T # transpozicia, lebo funkcia lu() vracia transponovanu maticu P \n",
    "print('P = ')\n",
    "print(P) \n",
    "print('')\n",
    "print('L = ')\n",
    "print(L) \n",
    "print('')\n",
    "print('U = ') \n",
    "print(U)\n",
    "print('')\n",
    "# kontrola 1 \n",
    "print('kontrola 1:') \n",
    "print('') \n",
    "print('LU = ')\n",
    "print(L @  U)  \n",
    "print('') \n",
    "print('PA = ')\n",
    "print(P @ A) \n",
    "print('') \n",
    "# kontrola 2 (matica P ma ako inverznu maticu svoju transpoziciu)\n",
    "print('kontrola 2:') \n",
    "print('') \n",
    "print('A = ')\n",
    "print(A) \n",
    "print('') \n",
    "print('PLU = ')\n",
    "print(P.T @ L @ U) \n",
    "print('')\n",
    "print('riesenie sustavy Ly=z')\n",
    "print('')\n",
    "z = P @ b\n",
    "print('z = ') \n",
    "print(z)\n",
    "print('')\n",
    "y = sci.linalg.solve(L,z)\n",
    "print('y = ')\n",
    "print(y) \n",
    "print('')\n",
    "print('riesenie sustavy Ux=y')\n",
    "print('') \n",
    "x = sci.linalg.solve(U,y)\n",
    "print('x = ')\n",
    "print(x) "
   ]
  },
  {
   "cell_type": "code",
   "execution_count": 3,
   "metadata": {},
   "outputs": [
    {
     "name": "stdout",
     "output_type": "stream",
     "text": [
      "(x1, x2, x3, x4)\n",
      "Matrix([[-0.400000000000000, -0.950000000000000, -0.400000000000000, -7.34000000000000, -13.1400000000000], [0.500000000000000, -0.300000000000000, 2.15000000000000, -2.45000000000000, 2.15000000000000], [-2, 4, 1, -3, 9], [-1, 5.50000000000000, 2.50000000000000, 3.50000000000000, 27.5000000000000]])\n",
      "{x1: 3.00000000000000, x2: 4.00000000000000, x3: 2.00000000000000, x4: 1.00000000000000}\n"
     ]
    }
   ],
   "source": [
    "# SymPy \n",
    "from sympy import init_printing\n",
    "init_printing() \n",
    "\n",
    "x1, x2, x3, x4 = x = sym.symbols('x1:5') \n",
    "print(x)\n",
    "# definuje sa rozsirena matica sustavy (A,b) tzn. matica A a k nej \"prilepeny\" sprava stlpcovy vektor pravych stran b \n",
    "A = sym.Matrix(( (-0.4, -0.95, -0.4, -7.34, -13.14), (0.5, -0.3, 2.15, -2.45, 2.15), (-2, 4, 1, -3, 9), (-1, 5.5, 2.5, 3.5, 27.5) )) \n",
    "print(A)\n",
    "# riesenie SLR pomocou LU rozkladu \n",
    "res = sym.solve_linear_system_LU(A, x) \n",
    "print(res)"
   ]
  },
  {
   "cell_type": "markdown",
   "metadata": {},
   "source": [
    "--- "
   ]
  },
  {
   "cell_type": "markdown",
   "metadata": {},
   "source": [
    "## Výpočet determinantu "
   ]
  },
  {
   "cell_type": "markdown",
   "metadata": {},
   "source": [
    "Z lineárnej algebry je známe, že determinant $\\det(\\mathbf{A})$ resp. $|\\mathbf{A}|$ matice $\\mathbf{A}$: \n",
    "\n",
    "a) sa nemení, keď k riadku matice $\\mathbf{A}$ pripočítame násobok iného riadka matice $\\mathbf{A}$; \n",
    "\n",
    "b) zmení znamienko, keď prehodíme dva jeho (rôzne) riadky alebo stĺpce. \n",
    "\n",
    "Ak teda realizujeme GEM podľa algoritmu GEMz, t. j. bez výberu hlavných prvkov, potom $\\det(\\mathbf{A})=\\det(\\mathbf{U})=u_{11}u_{22}\\ldots u_{nn}$ dostaneme ako súčin diagonálnych prvkov matice $\\mathbf{U}$ (využije sa známy fakt $\\det(\\mathbf{L}\\mathbf{U})=\\det(\\mathbf{L})\\det({\\mathbf{U}})$). Pokiaľ realizujeme čiastočný alebo úplný výber hlavných prvkov, tak stačí, keď si uložíme do nejakej premennej mapr. $q$, celkový počet výmen riadkov (pri čiastočnom výbere) alebo celkový počet výmen riadkov i stĺpcov (pri úplnom výbere). Ak je $q$ párne, potom $\\det(\\mathbf{A})=\\det(\\mathbf{U})$. Pre nepárne $q$ máme $\\det(\\mathbf{A})=-\\det(\\mathbf{U})$. Platí teda \n",
    "\n",
    "\\begin{align*}\\label{eq:LUPivotDet} \\tag{18}\n",
    "\\det(\\mathbf{A})=(-1)^qu_{11}u_{22}\\ldots u_{nn}. \n",
    "\\end{align*} \n"
   ]
  },
  {
   "cell_type": "markdown",
   "metadata": {},
   "source": [
    "## Riešenie SLR s viacerými pravými stranami "
   ]
  },
  {
   "cell_type": "markdown",
   "metadata": {},
   "source": [
    "V princípe ide o to, že miesto jedného vektora pravých strán sa pracuje s viacerými vektorymi pravých strán. Vzorce $(9)$, $(17)$ ostávajú v platnosti a jediný rozdiel je v tom, že teraz $\\mathbf{b}\\equiv\\mathbf{B}=(\\mathbf{b}_1,\\mathbf{b}_2,\\ldots,\\mathbf{b}_m)$ je matica, ktorej stĺpce sú vektory pravých strán a tým pádom tiež $\\mathbf{x}\\equiv\\mathbf{X}$, $\\mathbf{y}\\equiv\\mathbf{Y}$ prípadne $\\mathbf{z}\\equiv\\mathbf{Z}$ sú matice rovnakých rozmerov ako matica $\\mathbf{B}$. V takom prípade je $i$-tý stĺpec matice $\\mathbf{X}=(\\mathbf{x}_1,\\mathbf{x}_2,\\ldots,\\mathbf{x}_m)$ riešením SLR s $i$-tou pravou stranou $\\mathbf{b}_i$. Prípadu, ktorý zahŕňa úplný výber pivota, sa tu detailnejšie venovať nebudeme. \n",
    "\n",
    "Pokiaľ ide o počet operácií, tak pre každú pravú stranu je potrebné započítať približne $n^2$ násobiacich operácií a rovnaký počet sčítacích operácií, takže celkovo je to $mn^2+O(n)$ operácií. Ak je počet $m$ pravých strán malý (resp. rádovo menší) v porovnaní s počtom $n$ rovníc, tak náklady na realizáciu LU rozkladu výrazne prevažujú. "
   ]
  },
  {
   "cell_type": "markdown",
   "metadata": {},
   "source": [
    "## Výpočet inverznej matice "
   ]
  },
  {
   "cell_type": "markdown",
   "metadata": {},
   "source": [
    "Výpočet inverznej matice $\\mathbf{A}^{-1}$ k matici $\\mathbf{A}$ je možné urobiť tak, že sa rieši SLR $\\mathbf{A}\\mathbf{x}=\\mathbf{b}$ s $n$ pravými stranami, t. j. vlastne sústava $\\mathbf{A}\\mathbf{X}=\\mathbf{B}$ kde $\\mathbf{B}=\\mathbf{I}$, pričom $\\mathbf{I}$ je jednotková diagonálna matica. Ak túto úlohu riešime buď bez výberu pivota alebo s čiastočným výberom pivota, tak dostaneme $\\mathbf{X}=\\mathbf{A}^{-1}$. Vzhľadom k špecifickej pravej strane $\\mathbf{B}=\\mathbf{I}$ je možné priamy i spätných chod GEM realizovať pomocou $\\dfrac{1}{2}n^3+O\\left(n^2\\right)$ operácií, takže celkovo je potrebných $n^3+O\\left(n^2\\right)$ operácií. "
   ]
  },
  {
   "cell_type": "markdown",
   "metadata": {},
   "source": [
    "## Riedka matica sústavy "
   ]
  },
  {
   "cell_type": "markdown",
   "metadata": {},
   "source": [
    "Hovoríme, že **_matica_** je **_riedka_**, keď počet jej nenulových prvkov je výrazne menší ako počet všetkých jej prvkov. Tieto matice často vznikajú v rôznych aplikáciách. Bežný je prípad, keď počet nenulových koeficientov v rovnici neprevýši malé číslo $m$, ktoré vôbec nezávisí na počte $n$ rovníc, takže s rastúcim $n$ vzniká stále redšia a redšia matica sústavy. Riedke matice sú v pamäti počítača  účelovo reprezentované iba pomocou svojich nenulových koeficientov. Na riešenie sústav s riedkými maticami existujú veľmi efektívne algoritmy. Jedným z hlavných cieľov, ktoré tieto algoritmy sledujú, je realizácia eliminačných krokov v takom poradí, aby vznikalo čo najmenej nových nenulových koeficientov. "
   ]
  },
  {
   "cell_type": "markdown",
   "metadata": {},
   "source": [
    "## Pásová matica sústavy"
   ]
  },
  {
   "cell_type": "markdown",
   "metadata": {},
   "source": [
    "Špeciálnym prípadom riedkej matice je tzv. *pásová matica*, ktorá má nenulové koeficienty len v páse okolo hlavnej diagonály. Presnejšie tento pojem zavádza Definícia 3. "
   ]
  },
  {
   "cell_type": "markdown",
   "metadata": {},
   "source": [
    "---\n",
    "\n",
    "### <font color=red> Definícia 3 </font> \n",
    "\n",
    "Matica $\\mathbf{A}=\\left\\{a_{ij}\\right\\}_{i,j=1}^{n}$, pre ktorú existujú celé nezáporné čísla $p,q$ také, že platí $a_{ij}=0$, ak $i>j+p$ alebo $j>i+q$, sa nazýva **_pásová matica_** s pásom o šírke $w=p+q+1$ (matica má $p$ poddiagonál a $q$ naddiagonál).\n",
    "\n",
    "Číslo $s=\\max\\{p,q\\}$ sa nazýva **_polovičná šírka pásu_**. \n",
    "\n",
    "--- "
   ]
  },
  {
   "cell_type": "markdown",
   "metadata": {},
   "source": [
    "---\n",
    "\n",
    "#### Poznámka 11 \n",
    "\n",
    "Pre maticu s polovičnou šírkou pásu $s$ zrejme platí $a_{ij}=0$, ak $|i-j|>s$. \n",
    "\n",
    "--- "
   ]
  },
  {
   "cell_type": "markdown",
   "metadata": {},
   "source": [
    "Pri eliminácii pásových matíc môžu nenulové koeficienty vznikať len vo vnútri pásu. To sa dá využiť a docieliť tak značnú úsporu jednak v reprezentácii pásovej matice sústavy v pamäti počítača ale tiež v počte potrebných operácií. Pre maticu s polovičnou šírkou pásu $s=p=q=O(1)$ potrebuje LU rozklad bez výberu pivota $ns^2+O(1)$ operácií a spätný chod vyžaduje $ns+O(1)$ operácií. Symbol $O(1)$ pri tom reprezentuje číslo nezávislé od $n$. "
   ]
  },
  {
   "cell_type": "markdown",
   "metadata": {},
   "source": [
    "## SLR s tridiagonálnou maticou "
   ]
  },
  {
   "attachments": {
    "o4.PNG": {
     "image/png": "[encoded data removed]"
    }
   },
   "cell_type": "markdown",
   "metadata": {},
   "source": [
    "Pásová matica s polovičnou šírkou pásu $s=1$ sa nazýva **_tridiagonálna matica_**. SLR s tridiagonálnou maticou sústavy vyzerá takto: \n",
    "\n",
    "![o4.PNG](attachment:o4.PNG) \n",
    "\n",
    "**Algoritmus GEM na riešenie SLR s tridiagonálnou maticou sústavy** je veľmi jednoduchý. Bez výberu hlavných prvkov vyzerá priamy chod nasledovne: \n",
    "\n",
    "$$b_i:=b_i/a_i, \\quad a_{i+1}:=a_{i+1}-b_ic_i, \\quad d_{i+1}:=d_{i+1}-b_id_i, \\quad i=,2,\\ldots,n-1$$\n",
    "\n",
    "a spätný chod prebieha podľa týchto krokov: \n",
    "\n",
    "$$x_n:=d_n/a_n, \\quad \\text{ a ďalej } \\quad x_i:=(d_i-c_ix_{i+1})/a_i, \\quad i=n-1,n-2,\\ldots,1.$$\n",
    "\n",
    "Transformovaná matica sústavy obsahuje koeficienty LU rozkladu pôvodnej matice sústavy. \n"
   ]
  },
  {
   "cell_type": "markdown",
   "metadata": {},
   "source": [
    "***\n",
    "<a id=zaokruhlovacie_chyby></a>\n",
    " # <font color=brown> Vplyv zaokrúhľovacích chýb </font> "
   ]
  },
  {
   "cell_type": "markdown",
   "metadata": {},
   "source": [
    "Pri riešení SLR sú takmer vždy prítomné zaokrúhľovacie chyby. Ich vplyv preskúmame v nasledujúcom príklade. "
   ]
  },
  {
   "cell_type": "markdown",
   "metadata": {},
   "source": [
    "--- \n",
    "\n",
    "#### <font color=blue> Príklad 7 </font>  \n",
    "\n",
    "Predpokladajme, že na hypotetickom počítači s trojmiestnou mantisou máme vyriešiť sústavu \n",
    "\n",
    "$$\\begin{pmatrix}3.96&1.01\\\\1&0.25\\end{pmatrix}\\begin{pmatrix}x_1\\\\x_2\\end{pmatrix}=\\begin{pmatrix}5.03\\\\1.25\\end{pmatrix}.$$\n",
    "\n",
    "Približné riešenie označíme $\\tilde{\\mathbf{x}}=(\\tilde{x}_1,\\tilde{x}_2)'$. Keďže $3.96>1$, nie je potrebné vymieňať rovnice a multiplikátor je $m_{21}=1/3.96\\doteq0.253$. Od druhej rovnice odčítame $m_{21}$-násobok prvej rovnice, t.j. \n",
    "\n",
    "$$(0.25-0.253\\times1.01)\\times x_2=1.25-0.253\\times 5.03.$$\n",
    "\n",
    "Pri zaokrúhľovaní na tri platné cifry dostaneme $1.01\\times0.253\\doteq0.256$ a $5.03\\times0.253\\doteq1.27$, takže \n",
    "\n",
    "$\\tilde{x}_2=\\dfrac{-0.02}{-0.006}\\doteq3.33$. \n",
    "\n",
    "Následne z prvej rovnice vypočítame $\\tilde{x}_1=(5.03-1.01\\times3.33)/3.96\\doteq0.422$. Dostali sme teda približné riešenie \n",
    "\n",
    "$$\\tilde{\\mathbf{x}}=(0.422,3.33)'.$$\n",
    "\n",
    "Ak určíme (presne) **_reziduum_** $\\mathbf{r}=\\mathbf{b}-\\mathbf{A}\\tilde{\\mathbf{x}}$, tak dostaneme \n",
    "\n",
    "$$\\mathbf{r}=\\begin{pmatrix}5.03 - 3.96 \\times 0.422 - 1.01 \\times 3.33\\\\ 1.25 - 1 \\times 0.422 - 0.25 \\times 3.33 \\end{pmatrix}=\\begin{pmatrix}-0.00442\\\\-0.00450\\end{pmatrix}.$$\n",
    "\n",
    "To by nás mohlo navádzať k myšlienke, že získané riešenie $\\tilde{\\mathbf{x}}$ je prakticky presné. Nie je to tak, lebo presné riešenie je \n",
    "\n",
    "$$\\mathbf{x}=\\begin{pmatrix}0.25\\\\ 4\\end{pmatrix},$$ \n",
    "\n",
    "takže $\\tilde{x}_1$, $\\tilde{x}_2$ nemajú platnú ani jednu cifru! Pre zaujímavosť uvádzame, že pre $p=4,6,\\ldots$ cifier mantisy dostaneme presné riešenie a pre $p=5,7,\\ldots$ dostaneme riešenie, ktorého zložky majú $p-3$ platných cifier. \n",
    "\n",
    "---"
   ]
  },
  {
   "cell_type": "markdown",
   "metadata": {},
   "source": [
    "---\n",
    "\n",
    "#### Poznámka 12 \n",
    "\n",
    "* Napariek tomu, že Príklad 7 je značne umelý, je jednoduchou a užitočnou ilustráciou všeobecne platného tvrdenia: _Gaussova eliminácia s čiastočným výberom hlavných prvkov zaručuje vznik malých reziduí_.\n",
    "\n",
    "\n",
    "* Slovom \"zaručuje\" sa myslí to, že je možné dokázať matematickú vetu, ktorá (pri splnení určitých technických predpokladov súvisiacich s výpočtami s pohyblivou rádovou čiarkou) predstavuje nerovnosť obmedzujúcu veľkosť jednotlivých zložiek rezidua. \n",
    "\n",
    "\n",
    "* Ďalej výrazom \"malých\" sa rozumie \"rádovo veľkosť zaokrúhľovacích chýb relatívne vzhladom k trom veličinám:\" k veľkosti prvkov pôvodnej matice koeficientov $\\mathbf{A}$; k veľkosti prvkov matíc $\\mathbf{A}^{(k)}$ vznikajúcich v priebehu eliminácie; k veľkosti prvkov (približného) riešenia $\\tilde{\\mathbf{x}}$. \n",
    "\n",
    "\n",
    "* I keď je reziduum malé, vyššie spomínané tvrdenie nehovorí nič o veľkosti chyby $\\tilde{\\mathbf{x}}-\\mathbf{x}$. K posúdeniu vzťahu medzi veľkosťou rezidua a veľkosťou chyby sa používa veličina známa ako _číslo podmienenosti matice_. \n",
    "\n",
    "--- "
   ]
  },
  {
   "cell_type": "markdown",
   "metadata": {},
   "source": [
    "***\n",
    "<a id=podmienenost></a>\n",
    " # <font color=brown> Podmienenosť </font> "
   ]
  },
  {
   "cell_type": "markdown",
   "metadata": {},
   "source": [
    "K tomu, aby sme mohli určiť podmienenosť úlohy \"nájsť riešenie $\\mathbf{x}$ SLR $\\mathbf{A}\\mathbf{x}=\\mathbf{b}$\", potrebujeme posúdiť, ako veľmi sa zmení riešenie $\\mathbf{x}$, keď sa \"trochu\" zmenia (vstupné) dáta - t.j. matica sústavy $\\mathbf{A}$ a vektor pravých strán $\\mathbf{b}$. K \"meraniu veľkosti\" čísel slúži absolútna hodnota čísla a podobný (všeobecnejší) nástroj na \"meranie veľkosti\" vektorov i matíc, ktorého absolútna hodnota je špeciálny prípad, zavedieme teraz.  "
   ]
  },
  {
   "cell_type": "markdown",
   "metadata": {},
   "source": [
    "## Maticové a vektorové normy, číslo podmienenosti matice "
   ]
  },
  {
   "cell_type": "markdown",
   "metadata": {},
   "source": [
    "---\n",
    "\n",
    "### <font color=red> Definícia 4 </font> \n",
    "\n",
    "***Norma vektora*** je funkcia $\\lVert\\cdot\\rVert:\\,\\,\\mathbb{R}^n\\to\\mathbb{R}_0^+$, $n\\in\\mathbb{N}$ taká, ktorá spĺňa nasledujúce podmienky: \n",
    "\n",
    "1. $\\lVert\\mathbf{x}\\rVert=0$ práve vtedy, keď $\\mathbf{x}=\\mathbf{0}$, pričom $\\mathbf{x},\\mathbf{0}\\in\\mathbb{R}^n$ a $\\mathbf{0}=(0,0,\\ldots,0)'$; \n",
    "\n",
    "\n",
    "2. $\\lVert c\\mathbf{x} \\rVert=|c|\\cdot\\lVert\\mathbf{x}\\rVert$ pre každé $\\mathbf{x}\\in\\mathbb{R}^n$, $c\\in\\mathbb{R}$ (homogenita); \n",
    "\n",
    "\n",
    "3. $\\lVert \\mathbf{x}+\\mathbf{y} \\rVert \\le \\lVert\\mathbf{x}\\rVert + \\lVert\\mathbf{y}\\rVert$ pre každé $\\mathbf{x},\\mathbf{y}\\in\\mathbb{R}^n$ (trojuholníková nerovnosť). \n",
    "\n",
    "--- "
   ]
  },
  {
   "attachments": {
    "o15.PNG": {
     "image/png": "[encoded data removed]"
    },
    "o16.PNG": {
     "image/png": "[encoded data removed]"
    }
   },
   "cell_type": "markdown",
   "metadata": {},
   "source": [
    "* Známa a používaná trieda vektorových noriem sa označuje $\\ell_p$, závisí na parametri $p$, pričom $1\\le p \\le \\infty$ a pre vektor $\\mathbf{x}=(x_1,x_2,\\ldots,x_n)'\\in\\mathbb{R}^n$ je definovaná predpisom: \n",
    "\n",
    "$$\\lVert \\mathbf{x} \\rVert_p=\\left(\\displaystyle\\sum\\limits_{i=1}^{n}|x_i|^p\\right)^{1/p}.$$\n",
    "\n",
    "\n",
    "* Najčastejšie sa pracuje s $\\ell_p$ normami pre $p=1$, $p=2$ alebo limitný prípad $p\\to\\infty$ : \n",
    "\n",
    "$$\\lVert\\mathbf{x}\\rVert_{1}=\\displaystyle\\sum\\limits_{i=1}^{n}|x_i|, \\quad \\lVert\\mathbf{x}\\rVert_2=\\left(\\displaystyle\\sum\\limits_{i=1}^{n}x_i^2\\right)^{1/2}, \\quad \\lVert\\mathbf{x}\\rVert_{\\infty}=\\underset{i}{\\max}|x_i|.$$\n",
    "\n",
    "Nasledujúci obrázok ilustruje situáciu, keď je $\\lVert\\mathbf{x}\\rVert_2\\le1$ v 2D aj v 3D a potom tiež situáciu, keď je $\\lVert\\mathbf{x}\\rVert_\\infty\\le1$ v 2D aj v 3D. \n",
    "\n",
    "![o15.PNG](attachment:o15.PNG)\n",
    "$$\\text{Zdroj: Burden et al. (2005).}$$\n",
    "\n",
    "![o16.PNG](attachment:o16.PNG) \n",
    "$$\\text{Zdroj: Burden et al. (2005).}$$\n",
    "\n",
    "* $\\ell_1$-norma je tiež známa ako _Manhattan_ resp. **_Manhattanská norma_**, lebo zodpovedá vzdialenosti medzi dvoma miestami v pravouhlej mriežke mestkých ulíc. Ďalej $\\ell_2$-norma je bežná **_Euclidova_** vzdialenosť resp. dĺžka vektora. Napokon $\\ell_{\\infty}$-norma sa niekedy nazýva aj **_Chebysevova norma_**. \n",
    "\n",
    "\n",
    "* Keď špecifikácia normy $p$ nie je podstatná, tak sa zvykne vynechávať zo zápisu a značenie sa zjednodušuje na tvar $\\lVert\\mathbf{x}\\rVert$.  \n"
   ]
  },
  {
   "cell_type": "markdown",
   "metadata": {},
   "source": [
    "<font color=orange> Zdôvodnite/overte, že vektorové normy $\\lVert\\mathbf{x}\\rVert_{1}$, $\\lVert\\mathbf{x}\\rVert_{2}$, $\\lVert\\mathbf{x}\\rVert_{\\infty}$ spĺňajú Definíciu 4. </font> "
   ]
  },
  {
   "cell_type": "code",
   "execution_count": null,
   "metadata": {},
   "outputs": [],
   "source": []
  },
  {
   "attachments": {
    "o17.PNG": {
     "image/png": "[encoded data removed]"
    }
   },
   "cell_type": "markdown",
   "metadata": {},
   "source": [
    "**_Ekvivalenciu vektorových noriem_** ([odkaz1](https://people.math.wisc.edu/~seeger/522/equiv-norms.pdf), [odkaz2](https://kconrad.math.uconn.edu/blurbs/gradnumthy/equivnorms.pdf)) ilustruje nasledujúci obrázok: \n",
    "\n",
    "![o17.PNG](attachment:o17.PNG)\n",
    "$$\\text{Zdroj: Burden et al. (2005).}$$\n"
   ]
  },
  {
   "cell_type": "markdown",
   "metadata": {},
   "source": [
    "---\n",
    "\n",
    "### <font color=red> Definícia 5 </font> \n",
    "\n",
    "**_Norma matice_** je funkcia $\\lVert\\cdot\\rVert:\\,\\,\\mathbb{R}^{m\\times n}\\to\\mathbb{R}_0^+$, $n\\in\\mathbb{N}$ taká, ktorá spĺňa nasledujúce podmienky: \n",
    "\n",
    "1. $\\lVert\\mathbf{A}\\rVert=0$ práve vtedy, keď $\\mathbf{A}=\\mathbf{O}$, pričom $\\mathbf{A},\\mathbf{O}\\in\\mathbb{R}^{m\\times n}$ a $\\mathbf{O}$ je nulová matica; \n",
    "\n",
    "\n",
    "2. $\\lVert c\\mathbf{A} \\rVert=|c|\\cdot\\lVert\\mathbf{A}\\rVert$ pre každé $\\mathbf{A}\\in\\mathbb{R}^{m\\times n}$, $c\\in\\mathbb{R}$ (homogenita); \n",
    "\n",
    "\n",
    "3. $\\lVert \\mathbf{A}+\\mathbf{B} \\rVert \\le \\lVert\\mathbf{A}\\rVert + \\lVert\\mathbf{B}\\rVert$ pre každé $\\mathbf{A},\\mathbf{B}\\in\\mathbb{R}^{m\\times n}$ (trojuholníková nerovnosť). \n",
    "\n",
    "--- "
   ]
  },
  {
   "attachments": {
    "o20.png": {
     "image/png": "[encoded data removed]"
    }
   },
   "cell_type": "markdown",
   "metadata": {},
   "source": [
    "* **_Prirodzená_** alebo tiež **_indukovaná_** maticová norma **_pridružená_** k vektorovej norme je definovaná predpisom \n",
    "\n",
    "\\begin{align*}\\label{eq:NaturalAsocVectorNorm} \\tag{19}\n",
    "\\lVert\\mathbf{A}\\rVert=\\underset{\\mathbf{x}\\neq\\mathbf{0}}{\\max}\\dfrac{\\lVert\\mathbf{A}\\mathbf{x}\\rVert}{\\lVert\\mathbf{x}\\rVert}= \\underset{\\lVert\\mathbf{x}\\rVert=1}{\\max}\\lVert\\mathbf{A}\\mathbf{x}\\rVert. \n",
    "\\end{align*} \n",
    "\n",
    "\n",
    "* Vo vzťahu \\eqref{eq:NaturalAsocVectorNorm} sa niekedy (všeobecnejšie) uvádza supremum miesto maxima, avšak na kompaktnej množine sa supremum nadobúda a je rovné maximu. \n",
    "\n",
    "\n",
    "* Prirodzená maticová norma pridružená k vektorovej $\\ell_p$-norme je daná vzťahom \n",
    "\n",
    "$$\\lVert\\mathbf{A}\\rVert_p=\\underset{\\mathbf{x}\\neq\\mathbf{0}}{\\max}\\dfrac{\\lVert\\mathbf{A}\\mathbf{x}\\rVert_p}{\\lVert\\mathbf{x}\\rVert_p}= \\underset{\\lVert\\mathbf{x}\\rVert_p=1}{\\max}\\lVert\\mathbf{A}\\mathbf{x}\\rVert_p.$$\n",
    "\n",
    "\n",
    "* Nie je ťažké overiť, že \n",
    "\n",
    "$$\\lVert\\mathbf{A}\\rVert_1=\\underset{1\\le j\\le n}{\\max}\\displaystyle\\sum\\limits_{i=1}^{n}|a_{ij}| \\quad \\text{(maximum stĺpcových súčtov)},$$ \n",
    "\n",
    "$$\\lVert\\mathbf{A}\\rVert_{\\infty}=\\underset{1\\le i\\le n}{\\max}\\displaystyle\\sum\\limits_{j=1}^{n}|a_{ij}| \\quad \\text{(maximum riadkových súčtov)}.$$ \n",
    "\n",
    "\n",
    "* Miera daná matici podľa prirodzenej normy opisuje, ako matica naťahuje jednotkové vektory vzhľadom na túto normu. Maximálne natiahnutie je normou matice.\n",
    "\n",
    "![o20.png](attachment:o20.png) \n",
    "$$\\text{Zdroj: Burden et al. (2005).}$$\n",
    "\n",
    "* Prirodzená maticová norma pridružená k vektorovej $\\ell_2$-norme je známa ako **_spektrálna norma_**. Pritom platí  \n",
    "\n",
    "$$\\lVert\\mathbf{A}\\rVert_{2}=\\sigma_{max}(\\mathbf{A})=\\sqrt{\\lambda_{max}(\\mathbf{A}'\\mathbf{A})},$$ \n",
    "\n",
    "kde $\\sigma_{max}(\\mathbf{A})$ je najväčšie [singulárne číslo matice](https://mathworld.wolfram.com/SingularValue.html) $\\mathbf{A}$ a $\\lambda_{max}(\\mathbf{A}'\\mathbf{A})$ je najväčšie [vlastné číslo matice](https://mathworld.wolfram.com/Eigenvalue.html) $\\mathbf{A}'\\mathbf{A}$. Pre symetrickú maticu $\\mathbf{A}$ platí \n",
    "\n",
    "$$\\lVert\\mathbf{A}\\rVert_{2}=\\varrho(\\mathbf{A})=\\underset{1\\le i \\le n}{\\max}|\\lambda_i(\\mathbf{A})|,$$ \n",
    "\n",
    "kde $\\lambda_i(\\mathbf{A})$, $i=1,2,\\ldots,n$ sú vlastné čísla matice $\\mathbf{A}$ a číslo $\\varrho(\\mathbf{A})=|\\lambda_{max}(\\mathbf{A})|$ sa nazýva **_[spektrálny polomer](https://mathworld.wolfram.com/SpectralRadius.html)_** matice $\\mathbf{A}$. Pre p. d. maticu máme vzťah \n",
    " \n",
    "$$\\lVert\\mathbf{A}\\rVert_{2}=\\lambda_{max}(\\mathbf{A}).$$ \n",
    "\n",
    "\n",
    "* Ak vektorová norma $\\lVert\\cdot\\rVert_V$ a maticová norma $\\lVert\\cdot\\rVert_M$ spĺňajú vzťah \n",
    "\n",
    "\\begin{align*}\\label{eq:VectorMatrixNormCongruent} \\tag{20}\n",
    "\\lVert\\mathbf{A}\\mathbf{x}\\rVert_V\\le\\lVert\\mathbf{A}\\rVert_M\\cdot\\lVert\\mathbf{x}\\rVert_V, \n",
    "\\end{align*} \n",
    "\n",
    "hovoríme, že maticová norma $\\lVert\\cdot\\rVert_M$ je ***súhlasná*** (kompatibilná) s vektorovou normou $\\lVert\\cdot\\rVert_V$. Ľahko je možné overiť, že prirodzená maticová norma je s pridruženou vektorovou normou súhlasná. \n",
    "\n",
    "\n",
    "* Existujú aj iné prirodzené maticové normy. Jednou z nich je **_Frobeniova norma_** daná vzťahom \n",
    "\n",
    "\\begin{align*}\\label{eq:FrobeniusNorm} \\tag{21}\n",
    "\\lVert\\mathbf{A}\\rVert_F=\\left(\\displaystyle\\sum\\limits_{i,j=1}^{n}a_{ij}^2\\right)^{1/2}, \n",
    "\\end{align*} \n",
    "\n",
    "o ktorej sa dá dokázať, že je to norma súhlasná s $\\ell_2$ normou, tzn. platí \n",
    "\n",
    "$$\\lVert\\mathbf{A}\\mathbf{x}\\rVert_2\\le\\lVert\\mathbf{A}\\rVert_F\\cdot\\lVert\\mathbf{x}\\rVert_2.$$\n"
   ]
  },
  {
   "cell_type": "markdown",
   "metadata": {},
   "source": [
    "<font color=orange> Uvažujte maticu $\\mathbf{A}=\\begin{pmatrix}2&2&6\\\\1&3&9\\\\6&1&0\\end{pmatrix}$. Riadne vypočítajte (môžete využiť Python) a následne overte pomocou funckie `norm()` z balíka _NumPy_ (modul _linalg_): $\\lVert\\mathbf{A}\\rVert_{1}$, $\\lVert\\mathbf{A}\\rVert_{2}$, $\\lVert\\mathbf{A}\\rVert_{\\infty}$, $\\lVert\\mathbf{A}\\rVert_{F}$. </font> "
   ]
  },
  {
   "cell_type": "code",
   "execution_count": null,
   "metadata": {},
   "outputs": [],
   "source": []
  },
  {
   "cell_type": "markdown",
   "metadata": {},
   "source": [
    "---\n",
    "\n",
    "#### Poznámka 13 \n",
    "\n",
    "Všetky maticové normy zavedené vyššie zdieľajú jednu spoločnú užitočnú vlastnosť - tzv. **_submultiplikatívnosť_** \n",
    "\n",
    "$$\\lVert\\mathbf{A}\\mathbf{B}\\rVert\\le\\lVert\\mathbf{A}\\rVert\\cdot\\lVert\\mathbf{B}\\rVert, \\quad \\mathbf{A},\\mathbf{B}\\in\\mathbb{R}^{n\\times n}.$$\n",
    "\n",
    "Vo všeobecnosti túto vlastnosť maticová norma mať nemusí. Navyše môže byť maticová norma definovaná aj pre obdĺžnikovú (nie nutne štvorcovú) maticu. \n",
    "\n",
    "--- "
   ]
  },
  {
   "cell_type": "markdown",
   "metadata": {},
   "source": [
    "Kľúčovú úlohu pri posúdení podmienenosti úlohy \"nájsť riešenie $\\mathbf{x}$ SLR $\\mathbf{A}\\mathbf{x}=\\mathbf{b}$\" hrá tzv. *číslo podmienenosti matice* $\\mathbf{A}$. "
   ]
  },
  {
   "cell_type": "markdown",
   "metadata": {},
   "source": [
    "---\n",
    "\n",
    "### <font color=red> Definícia 6 </font> \n",
    "\n",
    "Pre reálnu (komplexnú) maticu $\\mathbf{A}$ je **_číslo podmienenosti_** $\\kappa(\\mathbf{A})$ definované vzťahom \n",
    "\n",
    "\\begin{align*}\\label{eq:MatrixCondNum} \\tag{22}\n",
    "\\kappa(\\mathbf{A})=\\lVert\\mathbf{A}\\rVert\\cdot\\lVert\\mathbf{A}^{-1}\\rVert. \n",
    "\\end{align*} \n",
    "\n",
    "--- "
   ]
  },
  {
   "cell_type": "markdown",
   "metadata": {},
   "source": [
    "---\n",
    "\n",
    "#### Poznámka 14 \n",
    "\n",
    "* Konkrétna hodnota čísla podmienenosti závisí na použitej maticovej norme. Pre maticovú $p$-normu budeme značiť $\\kappa_p(\\mathbf{A})=\\lVert\\mathbf{A}\\rVert_p\\cdot\\lVert\\mathbf{A}^{-1}\\rVert_p$ a podobne pre Frobeniovu normu budeme písať $\\kappa_F(\\mathbf{A})=\\lVert\\mathbf{A}\\rVert_F\\cdot\\lVert\\mathbf{A}^{-1}\\rVert_F$\n",
    "\n",
    "--- "
   ]
  },
  {
   "cell_type": "markdown",
   "metadata": {},
   "source": [
    "--- \n",
    "\n",
    "#### <font color=green> Tvrdenie 3 </font> \n",
    "\n",
    "Číslo podmienenosti $\\kappa_p(\\mathbf{A})$ matice $\\mathbf{A}$ má nasledovné vlastnosti: \n",
    "\n",
    "1. $\\kappa_p(\\mathbf{A})\\ge1$; \n",
    "\n",
    "\n",
    "2. Pre jednotkovú diagonálnu maticu $\\mathbf{I}$ je $\\kappa_p(\\mathbf{I})=1$; \n",
    "\n",
    "\n",
    "3. Ak je matica $\\mathbf{A}$ singulárna, tak $\\kappa_p(\\mathbf{A})=\\infty$; \n",
    "\n",
    "\n",
    "4. $\\kappa_p(c\\mathbf{A})=\\kappa_p(\\mathbf{A})$, $c\\in\\mathbb{R}$, $c\\neq0$; \n",
    "\n",
    "\n",
    "5. Pre diagonálnu maticu $\\mathbf{D}=\\mathrm{diag}\\{d_1,d_2,\\ldots,d_n\\}$ je $\\kappa_p(\\mathbf{D})=\\dfrac{\\underset{i}{\\max}|d_i|}{\\underset{i}{\\min}|d_i|}$.\n",
    "\n",
    "---"
   ]
  },
  {
   "cell_type": "markdown",
   "metadata": {},
   "source": [
    "---\n",
    "\n",
    "#### Poznámka 15 \n",
    "\n",
    "* Vlastnosti 1-4 z Tvrdenia 3 platia pre každú prirodzenú maticovú normu. \n",
    "\n",
    "\n",
    "* Z vlastnosti 4 a 5 plynie, že $\\kappa_p(\\mathbf{A})$ je lepším ukazovateľom blízkosti matice $\\mathbf{A}$ k singulárnej matici ako $\\det(\\mathbf{A})$. Ako extrémny príklad uvažujme diagonálnu maticu rádu $100$, ktorá má na diagonále čísla $0.1$. Potom $\\det(\\mathbf{A})=10^{-100}$, čo je veľmi malé číslo, avšak $\\kappa_p(\\mathbf{A})=1$. SLR s takou maticou sa chová skôr ako sústava s jednotkovou diagonálnou maticou než ako sústava s takmer singulárnou maticou. \n",
    "\n",
    "--- "
   ]
  },
  {
   "cell_type": "markdown",
   "metadata": {},
   "source": [
    "K analýze podmienenosti SLR bude potrebné nasledujúce tvrdenie. "
   ]
  },
  {
   "cell_type": "markdown",
   "metadata": {},
   "source": [
    "--- \n",
    "\n",
    "#### <font color=green> Tvrdenie 4 </font> \n",
    "\n",
    "Nech $\\mathbf{X}\\in\\mathbb{R}^{n\\times n}$ a $\\lVert\\mathbf{X}\\rVert<1$. Ďalej nech norma $\\lVert\\cdot\\rVert$ spĺňa podmienku submultiplikatívnosti. Potom $\\left\\lVert(\\mathbf{I}-\\mathbf{X})^{-1}\\right\\rVert\\le\\dfrac{1}{1-\\lVert\\mathbf{X}\\rVert}$, kde $\\mathbf{I}$ je jednotková diagonálna matica typu $n\\times n$. \n",
    "\n",
    "---"
   ]
  },
  {
   "cell_type": "markdown",
   "metadata": {},
   "source": [
    "## Analýza podmienenosti"
   ]
  },
  {
   "attachments": {
    "eq1.PNG": {
     "image/png": "[encoded data removed]"
    },
    "ineq1.PNG": {
     "image/png": "[encoded data removed]"
    }
   },
   "cell_type": "markdown",
   "metadata": {},
   "source": [
    "Nech $\\tilde{\\mathbf{A}}=\\mathbf{A}+\\Delta\\mathbf{A}$ je pozmenená resp. $\\textbf{perturbovaná}$ matica sústavy a $\\tilde{\\mathbf{b}}=\\mathbf{b}+\\Delta\\mathbf{b}$ je pozmenený vektor pravých strán. Riešenie $\\tilde{\\mathbf{x}}$ sústavy $\\tilde{\\mathbf{A}}\\tilde{\\mathbf{x}}=\\tilde{\\mathbf{b}}$ vyjadríme v tvare $\\tilde{\\mathbf{x}}=\\mathbf{x}+\\Delta\\mathbf{x}$. Z rovníc $\\mathbf{A}\\mathbf{x}=\\mathbf{b}$, $(\\mathbf{A}+\\Delta\\mathbf{A})(\\mathbf{x}+\\Delta\\mathbf{x})=\\mathbf{b}+\\Delta\\mathbf{b}$ dostaneme $(\\Delta\\mathbf{A})\\mathbf{x}+(\\mathbf{A}+\\Delta\\mathbf{A})\\Delta\\mathbf{x}=\\Delta\\mathbf{b}$. Odtiaľ máme \n",
    "\n",
    "![eq1.PNG](attachment:eq1.PNG) \n",
    "\n",
    "Predpokladajme, že zmena (porucha/narušenie/šum) $\\Delta\\mathbf{A}$ je taká malá, že platí $\\left\\lVert\\mathbf{A}^{-1}\\Delta\\mathbf{A}\\right\\rVert\\le\\left\\lVert\\mathbf{A}^{-1}\\right\\rVert\\cdot\\left\\lVert\\Delta\\mathbf{A}\\right\\rVert<1$. Aplikovaním Tvrdenia 4 postupne dostaneme \n",
    "\n",
    "![ineq1.PNG](attachment:ineq1.PNG) \n",
    "\n",
    "Celkvo teda máme \n",
    "\n",
    "\\begin{align*}\\label{ineq:CondAnalysis1} \\tag{23}\n",
    "\\dfrac{\\lVert\\Delta\\mathbf{x}\\rVert}{\\lVert\\mathbf{x}\\rVert}\\le\\dfrac{\\kappa(\\mathbf{A})}{1-\\kappa(\\mathbf{A})\\dfrac{\\lVert\\Delta\\mathbf{A}\\rVert}{\\lVert\\mathbf{A}\\rVert}}\\left(\\dfrac{\\lVert\\Delta\\mathbf{A}\\rVert}{\\lVert\\mathbf{A}\\rVert}+\\dfrac{\\lVert\\Delta\\mathbf{b}\\rVert}{\\lVert\\mathbf{b}\\rVert}\\right). \n",
    "\\end{align*} \n",
    "\n",
    "Číslo podmienenosti $\\kappa(\\mathbf{A})>1$ teda pôsobí ako \"zosilovač\" relatívnych chýb $\\dfrac{\\lVert\\Delta\\mathbf{A}\\rVert}{\\lVert\\mathbf{A}\\rVert}$ a $\\dfrac{\\lVert\\Delta\\mathbf{b}\\rVert}{\\lVert\\mathbf{b}\\rVert}$. Pre $\\Delta\\mathbf{A}=\\mathbf{O}$ dostaneme zo vzťahu \\eqref{ineq:CondAnalysis1} nasledovné \n",
    "\n",
    "\\begin{align*}\\label{ineq:CondAnalysis2} \\tag{24}\n",
    "\\dfrac{\\lVert\\Delta\\mathbf{x}\\rVert}{\\lVert\\mathbf{x}\\rVert}\\le\\kappa(\\mathbf{A})\\dfrac{\\lVert\\Delta\\mathbf{b}\\rVert}{\\lVert\\mathbf{b}\\rVert}=\\kappa(\\mathbf{A})\\dfrac{\\lVert\\mathbf{r}\\rVert}{\\lVert\\mathbf{b}\\rVert}, \n",
    "\\end{align*}\n",
    "\n",
    "kde $\\mathbf{r}=\\mathbf{b}-\\mathbf{A}(\\tilde{\\mathbf{x}})$ je reziduum ($\\Delta\\mathbf{b}=\\mathbf{A}\\tilde{\\mathbf{x}}-\\mathbf{b}=-\\mathbf{r}$, takže $\\lVert\\Delta\\mathbf{b}\\rVert=\\lVert\\mathbf{r}\\rVert$). Nerovnosť \\eqref{ineq:CondAnalysis2} potvrdzuje skúsenosť z Príkladu 7. Konkrétne ide o to, že malé reziduum nezaručuje malú chybu (v riešení). Na pravej strane nerovnosti \\eqref{ineq:CondAnalysis2} je totiž norma rezidua $\\lVert\\mathbf{r}\\rVert$ vynásobená číslom podmienenosti $\\kappa(\\mathbf{A})$ matice $\\mathbf{A}$, takže i keď je reziduum malé, napriek tomu môže byť relatívna chyba riešenia veľká, pokiaľ je $\\kappa(\\mathbf{A})$ veľké. \n"
   ]
  },
  {
   "attachments": {
    "eq2.PNG": {
     "image/png": "[encoded data removed]"
    },
    "o5.PNG": {
     "image/png": "[encoded data removed]"
    }
   },
   "cell_type": "markdown",
   "metadata": {},
   "source": [
    "--- \n",
    "\n",
    "#### <font color=blue> Príklad 8 </font>  \n",
    "\n",
    "Uvažujme SLR $\\mathbf{A}\\mathbf{x}=\\mathbf{b}$, kde \n",
    "\n",
    "$$\\mathbf{A}=\\begin{pmatrix}1&10\\\\10&101\\end{pmatrix}, \\quad \\mathbf{b}=\\begin{pmatrix}11\\\\111\\end{pmatrix}, \\quad \\text{má riešenie} \\quad \\mathbf{x}=\\begin{pmatrix}1\\\\1\\end{pmatrix}.$$\n",
    "\n",
    "Použijeme $\\ell_{\\infty}$-normu a určíme $\\lVert\\mathbf{b}\\rVert_{\\infty}=111$, $\\lVert\\mathbf{x}\\rVert_{\\infty}=1$. Keď pravú stranu zmeníme na \n",
    "\n",
    "$$\\tilde{\\mathbf{b}}=\\begin{pmatrix}11.11\\\\110.89\\end{pmatrix}, \\quad \\text{dostaneme riešenie} \\quad \\tilde{\\mathbf{x}}=\\begin{pmatrix}13.21\\\\-0.21\\end{pmatrix}.$$\n",
    "\n",
    "Označme $\\Delta\\mathbf{b}=\\tilde{\\mathbf{b}}-\\mathbf{b}$, $\\Delta\\mathbf{x}=\\tilde{\\mathbf{x}}-\\mathbf{x}$, potom $\\lVert\\Delta\\mathbf{b}\\rVert_{\\infty}=0.11$ a $\\lVert\\Delta\\mathbf{x}\\rVert_{\\infty}=12.21$. Vidíme, že pomerne malá zmena pravej strany zásadne zmenila riešenie. Relatívne zmeny sú takéto: \n",
    "\n",
    "$$\\dfrac{\\lVert\\Delta\\mathbf{b}\\rVert_{\\infty}}{\\lVert\\mathbf{b}\\rVert_{\\infty}}=9.\\overline{909}\\times10^{-4}, \\quad \\dfrac{\\lVert\\Delta\\mathbf{x}\\rVert_{\\infty}}{\\lVert\\mathbf{x}\\rVert_{\\infty}}=12.21.$$\n",
    "\n",
    "Podľa $(24)$ odhadneme \n",
    "\n",
    "$$\\kappa_{\\infty}(\\mathbf{A})\\ge\\dfrac{12.21}{9.\\overline{909}\\times10^{-4}}=12321.$$\n",
    "\n",
    "V skutočnosti sú $\\mathbf{b}$ a $\\Delta\\mathbf{b}$ zvolené tak, že $\\kappa_{\\infty}(\\mathbf{A})=12321$. To sa jednoducho overí, lebo \n",
    "\n",
    "![o5.PNG](attachment:o5.PNG) \n",
    "\n",
    "Ukážeme ešte, že vzťah $(24)$ platí ako rovnosť \n",
    "\n",
    "![eq2.PNG](attachment:eq2.PNG) \n",
    "\n",
    "---"
   ]
  },
  {
   "cell_type": "markdown",
   "metadata": {},
   "source": [
    "---\n",
    "\n",
    "#### Poznámka 16 \n",
    "\n",
    "K určeniu $\\kappa(\\mathbf{A})$ je potrebné poznať $\\left\\lVert\\mathbf{A}^{-1}\\right\\rVert$, pričom ale výpočet $\\mathbf{A}^{-1}$ vyžaduje približne trikrát toľko práce ako riešenie celej SLR. Presná hodnota $\\kappa(\\mathbf{A})$ však väčšinou nie je nevyhnutná a postačuje jej rozumná aproximácia. Takéto spoľahlivé a dostatočne presné aproximácie je možné získať pomocou rôznych výpočtových balíkov zameraných na riešenie SLR resp. lineárnu algebru. Ak program zistí, že číslo podmienenosti je príliš veľké, tak vypíše varovanie alebo dokonca preruší výpočet.  \n",
    "\n",
    "--- "
   ]
  },
  {
   "cell_type": "markdown",
   "metadata": {},
   "source": [
    "---\n",
    "\n",
    "#### Poznámka 17 \n",
    "\n",
    "* **SLR je dobre (zle) podmienená práve vtedy, keď je matica tejto sústavy dobre (zle) podmienená.** Podmienenosť matice sústavy $\\mathbf{A}$ sa meria za pomoci čísla podmienenosti $\\kappa(\\mathbf{A})$. Ak je číslo $\\kappa(\\mathbf{A})$ malé (veľké), matica $\\mathbf{A}$ je dobre (zle) podmienená. Zle podmienenú sústavu rovníc je zvyčajne veľmi obtiažne riešiť. Pomôcť môže výpočet s viacmiestnou mantisou (je vhodné použiť dvojnásobnú alebo ešte väčšiu presnosť). Existujú však aj výnimky: Ak je napr. $\\mathbf{A}$ diagonálna matica, v ktorej $a_{ii}=10^i$, potom je $\\kappa(\\mathbf{A})=10^{n-1}$, čo je pre veľké $n$ veľké číslo, no napriek tomu riešenie $x_i=10^{-i}b_i$ získame bez problémov pre ľubovoľne veľký počet rovníc. \n",
    "\n",
    "\n",
    "* Predpokladajme, že matica sústavy je dobre podmienená. Potom je GEM s čiastočným (alebo s úplným) výberom hlavných prvkov stabilný algoritmus: Keďže veľkosť multiplikátorov nepresahuje hodnotu $1$, vznikajúce zaokrúhľovacie chyby sa ďalším výpočtom \"nezosiľujú\" resp. nenarastajú. Na druhej strane, ak sa nerealizuje výber hlavných prvkov, môžu vzniknúť multiplikátory, ktorých absolútna hodnota je väčšia ako $1$, čo má za následok zväčšovanie zaokrúhľovacích chýb vzniknutých už v predošlých krokoch. GEM bez výberu hlavných prvkov je teda vo všeobecnosti nestabilný algoritmus. Výnimku tvoria prípady so špeciálnou  maticou sústavy - napr. keď je matica sústavy ostro diagonálne dominantná alebo p.d., potom je i GEM bez výberu pivotov stabilný algoritmus. \n",
    "\n",
    "--- "
   ]
  },
  {
   "cell_type": "markdown",
   "metadata": {},
   "source": [
    "--- \n",
    "\n",
    "#### <font color=blue> Príklad 9 </font>  \n",
    "\n",
    "V tomto príklade budeme ilustrovať výpočet noriem a čísla podmienenosti v Python-e. "
   ]
  },
  {
   "cell_type": "code",
   "execution_count": 49,
   "metadata": {},
   "outputs": [
    {
     "name": "stdout",
     "output_type": "stream",
     "text": [
      "a = \n",
      "[-4 -3 -2 -1  0  1  2  3  4]\n",
      "\n",
      "A = \n",
      "[[-4 -3 -2]\n",
      " [-1  0  1]\n",
      " [ 2  3  4]]\n",
      "\n",
      "20.0\n",
      "7.745966692414834\n",
      "4.0\n",
      "\n",
      "7.0\n",
      "7.3484692283495345\n",
      "9.0\n",
      "7.745966692414834\n"
     ]
    }
   ],
   "source": [
    "# definujeme vektor a\n",
    "a = np.arange(9) - 4 \n",
    "print('a = ')\n",
    "print(a)\n",
    "print('')\n",
    "# definujeme maticu A \n",
    "A = a.reshape((3, 3)) \n",
    "print('A = ')\n",
    "print(A)\n",
    "print('')\n",
    "\n",
    "# rozne vektorove normy \n",
    "print(np.linalg.norm(a, 1))\n",
    "print(np.linalg.norm(a, 2))\n",
    "print(np.linalg.norm(a, np.inf))\n",
    "print('')\n",
    "\n",
    "# rozne maticove normy \n",
    "print(np.linalg.norm(A, 1))\n",
    "print(np.linalg.norm(A, 2))\n",
    "print(np.linalg.norm(A, np.inf))\n",
    "print(np.linalg.norm(A, 'fro'))"
   ]
  },
  {
   "cell_type": "code",
   "execution_count": 61,
   "metadata": {},
   "outputs": [
    {
     "name": "stdout",
     "output_type": "stream",
     "text": [
      "C = \n",
      "[[  7  -9  -8]\n",
      " [ -2  -3   5]\n",
      " [  2 -10   7]]\n",
      "\n",
      "16.872362124881732\n",
      "16.872362124881732\n",
      "12.84744472120616\n"
     ]
    }
   ],
   "source": [
    "# vygenerujeme nahodnu maticu C s celociselnymi prvkami z intervalu <-10,10> \n",
    "C = np.random.randint(-10, 10, size=(3, 3)) \n",
    "print('C = ')\n",
    "print(C) \n",
    "print('')\n",
    "\n",
    "# cislo podmienenosti matice C \n",
    "# 1. pristup \n",
    "print(np.linalg.norm(C)*np.linalg.norm(np.linalg.inv(C))) \n",
    "# 2. pristup \n",
    "print(np.linalg.cond(C, p='fro'))\n",
    "# ina norma ako Frobeniova \n",
    "print(np.linalg.norm(C,2)*np.linalg.norm(np.linalg.inv(C),2)) "
   ]
  },
  {
   "cell_type": "markdown",
   "metadata": {},
   "source": [
    "--- "
   ]
  },
  {
   "cell_type": "markdown",
   "metadata": {},
   "source": [
    "<font color=purple> EXTRA: Za efektívny interaktívny kód implementujúci GEM s čiastočným výberom pivota je možné získať dva bonusové body. Po spustení kódu by mal mať používateľ možnosť odkrokovať riešenie SLR s tým, že sa mu jednotlivé kroky a medzivýsledky budú priebežne zobrazovať. Nezabudnite ošetriť prípadné výnimky resp. kritické situácie, ktoré by mohli počas riešenia GEM nastať. </font> "
   ]
  },
  {
   "cell_type": "markdown",
   "metadata": {},
   "source": [
    "***\n",
    "<a id=zdroje></a>\n",
    " # <font color=brown> Použité zdroje</font> "
   ]
  },
  {
   "cell_type": "markdown",
   "metadata": {},
   "source": [
    "* Ackleh, A.S., Allen, E.J., Kearfott, R.B., & Seshaiyer, P. (2009). Classical and Modern Numerical Analysis: Theory, Methods and Practice. Chapman and Hall/CRC. \n",
    "\n",
    "\n",
    "* Burden, R. L., & Faires, J. D. (2011). Numerical analysis. Brooks/Cole, Cengage Learning. \n",
    "\n",
    "\n",
    "* Čermák, L. (2020). Numerické metody. Ústav matematiky FSI VUT v Brně. \n",
    "\n",
    "\n",
    "* Fajmon, B., Hlavičková, I., Novák, M., Vítovec, J. (2014). Numerická matematika a pravděpodobnost. Ústav matematiky FEKT VUT v Brně. \n",
    "\n",
    "\n",
    "* Gezerlis, A. (2020). Numerical methods in physics with Python. Cambridge University Press. \n",
    "\n",
    "\n",
    "* Gilli, M., Maringer, D., Schumann, E. (2019). Numerical Methods and Optimization in Finance. Elsevier/Academic Press. \n",
    "\n",
    "\n",
    "* Kiusalaas, J. (2013). Numerical Methods in Engineering with Python 3. Cambridge University Press, USA.\n",
    "\n",
    "\n",
    "* Kincaid, D., & Cheney, E. W. (2002). Numerical analysis: Mathematics of scientific computing. Pacific Grove, CA: Brooks/Cole.\n",
    "\n",
    "\n",
    "* Kiseľák, J. (2020). Základy numerických metód. ÚMV PF UPJŠ. \n",
    "\n",
    "\n",
    "* Kong, Q., Siauw, T., Bayen, A. (2020). [Python Programming and Numerical Methods: A Guide for Engineers and Scientists](https://pythonnumericalmethods.berkeley.edu/notebooks/Index.html). Academic Press. \n",
    "\n",
    "\n",
    "* Oršanský, P., Ftorek B. (2021). Štatistické a numerické metódy. EDIS - UNIZA.\n",
    "\n",
    "\n",
    "* Růžičková, I. & Hlavička, R. (2020). Numerické metody. Ústav matematiky FSI VUT v Brně. \n",
    "\n",
    "\n",
    "* Sauer, T. (2011). Numerical Analysis. Addison-Wesley Publishing Company, USA. \n",
    "\n",
    "\n",
    "* Sullivan, E. (2020). Numerical Methods: An Inquiry-Based Approach With Python. Faculty Publications. "
   ]
  }
 ],
 "metadata": {
  "kernelspec": {
   "display_name": "Python 3 (ipykernel)",
   "language": "python",
   "name": "python3"
  },
  "language_info": {
   "codemirror_mode": {
    "name": "ipython",
    "version": 3
   },
   "file_extension": ".py",
   "mimetype": "text/x-python",
   "name": "python",
   "nbconvert_exporter": "python",
   "pygments_lexer": "ipython3",
   "version": "3.9.13"
  },
  "varInspector": {
   "cols": {
    "lenName": 16,
    "lenType": 16,
    "lenVar": 40
   },
   "kernels_config": {
    "python": {
     "delete_cmd_postfix": "",
     "delete_cmd_prefix": "del ",
     "library": "var_list.py",
     "varRefreshCmd": "print(var_dic_list())"
    },
    "r": {
     "delete_cmd_postfix": ") ",
     "delete_cmd_prefix": "rm(",
     "library": "var_list.r",
     "varRefreshCmd": "cat(var_dic_list()) "
    }
   },
   "types_to_exclude": [
    "module",
    "function",
    "builtin_function_or_method",
    "instance",
    "_Feature"
   ],
   "window_display": false
  }
 },
 "nbformat": 4,
 "nbformat_minor": 2
}
