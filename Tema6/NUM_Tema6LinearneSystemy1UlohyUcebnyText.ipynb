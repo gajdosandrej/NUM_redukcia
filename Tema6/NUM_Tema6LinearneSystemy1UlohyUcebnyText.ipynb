{
 "cells": [
  {
   "cell_type": "markdown",
   "metadata": {},
   "source": [
    "**Autor:** Andrej Gajdoš  <br> \n",
    "_[Ústav matematických vied](https://www.upjs.sk/prirodovedecka-fakulta/ustav/umv/), [Prírodovedecká fakulta](https://www.upjs.sk/prirodovedecka-fakulta/), Univerzita Pavla Jozefa Šafárika v Košiciach,_ <br> \n",
    "email: [andrej.gajdos@upjs.sk](mailto:andrej.gajdos@upjs.sk)\n",
    "*** \n",
    "\n",
    "**_Tento materiál vznikol za podpory grantu VVGS-2022-2412._**\n",
    "\n",
    "***\n",
    "\n",
    "**<font size=6 color=gold> NUM: Téma 6 - Lineárne systémy I.: úlohy k učebnému textu </font>** "
   ]
  },
  {
   "cell_type": "code",
   "execution_count": null,
   "metadata": {},
   "outputs": [],
   "source": [
    "# nacitanie potrebnych balikov v Python-e \n",
    "import math \n",
    "import numpy as np \n",
    "import sympy as sym \n",
    "import scipy as sci \n",
    "from decimal import Decimal\n",
    "from matplotlib import pyplot as plt"
   ]
  },
  {
   "cell_type": "markdown",
   "metadata": {},
   "source": [
    "--- \n",
    "\n",
    "**1. Zdôvodnite tvrdenie v prvom bode Poznámky 5 v učebnom texte.** "
   ]
  },
  {
   "cell_type": "code",
   "execution_count": null,
   "metadata": {},
   "outputs": [],
   "source": []
  },
  {
   "cell_type": "code",
   "execution_count": null,
   "metadata": {},
   "outputs": [],
   "source": []
  },
  {
   "cell_type": "markdown",
   "metadata": {},
   "source": [
    "---\n",
    "\n",
    "**2. Overte, že presné riešenie z Príkladu 5 je $\\mathbf{x}=(0,-1,1)'$. Taktiež overte, že zámena druhej a tretej rovnice nespôsobí (veľké) chyby v numerickom riešení, na rozdiel od riešenia prezentovaného v Príklade 5.** \n"
   ]
  },
  {
   "cell_type": "code",
   "execution_count": null,
   "metadata": {},
   "outputs": [],
   "source": []
  },
  {
   "cell_type": "markdown",
   "metadata": {},
   "source": [
    "--- \n",
    "\n",
    "**3. Zdôvodnite/overte, že vektorové normy $\\lVert\\mathbf{x}\\rVert_{1}$, $\\lVert\\mathbf{x}\\rVert_{2}$, $\\lVert\\mathbf{x}\\rVert_{\\infty}$ spĺňajú Definíciu 4.**"
   ]
  },
  {
   "cell_type": "code",
   "execution_count": null,
   "metadata": {},
   "outputs": [],
   "source": []
  },
  {
   "cell_type": "markdown",
   "metadata": {},
   "source": [
    "--- \n",
    "\n",
    "**4. Uvažujte maticu $\\mathbf{A}=\\begin{pmatrix}2&2&6\\\\1&3&9\\\\6&1&0\\end{pmatrix}$. Riadne vypočítajte (môžete využiť Python) a následne overte pomocou funckie `norm()` z balíka _NumPy_ (modul _linalg_): $\\lVert\\mathbf{A}\\rVert_{1}$, $\\lVert\\mathbf{A}\\rVert_{2}$, $\\lVert\\mathbf{A}\\rVert_{\\infty}$, $\\lVert\\mathbf{A}\\rVert_{F}$.** "
   ]
  },
  {
   "cell_type": "code",
   "execution_count": null,
   "metadata": {},
   "outputs": [],
   "source": []
  },
  {
   "cell_type": "markdown",
   "metadata": {},
   "source": [
    "--- \n",
    "\n",
    "**5. Aké <font color=red> konkrétne </font> otázky máte k náplni študijných materiálov, ktoré by ste chceli na hodine prediskutovať?**"
   ]
  },
  {
   "cell_type": "code",
   "execution_count": null,
   "metadata": {},
   "outputs": [],
   "source": []
  }
 ],
 "metadata": {
  "kernelspec": {
   "display_name": "Python 3 (ipykernel)",
   "language": "python",
   "name": "python3"
  },
  "language_info": {
   "codemirror_mode": {
    "name": "ipython",
    "version": 3
   },
   "file_extension": ".py",
   "mimetype": "text/x-python",
   "name": "python",
   "nbconvert_exporter": "python",
   "pygments_lexer": "ipython3",
   "version": "3.9.13"
  },
  "varInspector": {
   "cols": {
    "lenName": 16,
    "lenType": 16,
    "lenVar": 40
   },
   "kernels_config": {
    "python": {
     "delete_cmd_postfix": "",
     "delete_cmd_prefix": "del ",
     "library": "var_list.py",
     "varRefreshCmd": "print(var_dic_list())"
    },
    "r": {
     "delete_cmd_postfix": ") ",
     "delete_cmd_prefix": "rm(",
     "library": "var_list.r",
     "varRefreshCmd": "cat(var_dic_list()) "
    }
   },
   "types_to_exclude": [
    "module",
    "function",
    "builtin_function_or_method",
    "instance",
    "_Feature"
   ],
   "window_display": false
  }
 },
 "nbformat": 4,
 "nbformat_minor": 2
}
