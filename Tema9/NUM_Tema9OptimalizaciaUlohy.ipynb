{
 "cells": [
  {
   "cell_type": "markdown",
   "metadata": {},
   "source": [
    "**Autor:** Andrej Gajdoš  <br> \n",
    "_[Ústav matematických vied](https://www.upjs.sk/prirodovedecka-fakulta/ustav/umv/), [Prírodovedecká fakulta](https://www.upjs.sk/prirodovedecka-fakulta/), Univerzita Pavla Jozefa Šafárika v Košiciach,_ <br> \n",
    "email: [andrej.gajdos@upjs.sk](mailto:andrej.gajdos@upjs.sk)\n",
    "*** \n",
    "\n",
    "**_Tento materiál vznikol za podpory grantu VVGS-2022-2412._**\n",
    "\n",
    "***\n",
    "\n",
    "**<font size=6 color=gold> NUM: Téma 9 - Optimalizácia: úlohy </font>** "
   ]
  },
  {
   "cell_type": "code",
   "execution_count": 1,
   "metadata": {},
   "outputs": [],
   "source": [
    "# nacitanie potrebnych balikov v Python-e \n",
    "import math \n",
    "import numpy as np \n",
    "import sympy as sym \n",
    "import scipy as sci \n",
    "from decimal import Decimal\n",
    "from matplotlib import pyplot as plt"
   ]
  },
  {
   "cell_type": "markdown",
   "metadata": {},
   "source": [
    "---\n",
    "\n",
    "**$\\clubsuit$ 1. Ukážte, že matica $\\mathbf{B}_{k+1}$ definovaná vzťahom $(19)$, spĺňa kvázi-Newtonovskú rovnicu t.j. $\\mathbf{B}_{k+1}\\mathbf{d}=\\mathbf{y}$.** \n"
   ]
  },
  {
   "cell_type": "code",
   "execution_count": null,
   "metadata": {},
   "outputs": [],
   "source": []
  },
  {
   "cell_type": "markdown",
   "metadata": {},
   "source": [
    "--- \n",
    "\n",
    "**2. Uvažujte nasledovnú spádovú metódu pre hľadanie minima funkcie $f:\\mathbb{R}\\to\\mathbb{R}$, kde $f\\in C^{1}\\left(\\mathbb{R}^n\\right)$. Pre $k=0,1,2,\\ldots$**  \n",
    "\n",
    "**a) $\\varphi_k(t)=f\\left(x_k-t\\nabla f(x_k)\\right)$;** \n",
    "\n",
    "**b) $t_k\\in\\mathbb{R}$ sa vyberie tak, aby $\\varphi_k(t_k)=\\underset{t\\in\\mathbb{R}}{\\min}\\varphi_k(t)$;** \n",
    "\n",
    "**c) $x_{k+1}=x_k-t_k\\nabla f(x_k)$.**\n",
    "\n",
    "**Dokážte, že $f(x_{k+1})\\le f(x_k)$ a $f(x_{k+1})=f(x_k)$ vtedy a len vtedy, keď $\\nabla f(x_k)=0$.** "
   ]
  },
  {
   "cell_type": "code",
   "execution_count": null,
   "metadata": {},
   "outputs": [],
   "source": []
  },
  {
   "cell_type": "markdown",
   "metadata": {},
   "source": [
    "---\n",
    "\n",
    "**$\\clubsuit$ 3. Naprogramujte metódu zlatého rezu i Fibonacciho metódu a nájdite pomocou nich približnú hodnotu minima funkcie $f(x)$ s presnosťou $\\varepsilon=10^{-6}$, ak je dané:** \n",
    "\n",
    "**a) $f(x)=x^4-3x^3+6x^2-4x$ na intervale $\\langle0,1\\rangle$;** \n",
    "\n",
    "**b) $f(x)=x^4-2x^3+1.5x^2-\\sin x+2$ na intervale $\\langle0,2\\rangle$;** \n",
    "\n",
    "**c) $f(x)=x^2\\sin\\left(x^2+x-1\\right)-x$ na intervale $\\langle0,1\\rangle$;** \n",
    "\n",
    "**Uvedené metódy porovnajte (rýchlosť konvergencie a presnosť).**"
   ]
  },
  {
   "cell_type": "code",
   "execution_count": null,
   "metadata": {},
   "outputs": [],
   "source": []
  },
  {
   "cell_type": "markdown",
   "metadata": {},
   "source": [
    "---\n",
    "\n",
    "**$\\clubsuit$ 4. Naprogramujte metódu kvadratickej interpolácie a určte približnú hodnotu minima funkcie $f(x)$ s presnosťou $\\varepsilon=10^{-6}$, ak je dané:** \n",
    "\n",
    "**a) $f(x)=\\cos\\left(x^2+x\\right)\\sin x$ na intervale $\\langle1,2\\rangle$;** \n",
    "\n",
    "**b) $f(x)=x\\sin x-\\cos x+x$ na intervale $\\langle-1,1\\rangle$;** \n",
    "\n",
    "**c) $f(x)=-\\cos\\left[\\left(x^2-x+1\\right)/(x+1)\\right]$ na intervale $\\langle0,2\\rangle$.** \n",
    "\n",
    "**Porovnajte uvažovanú metódu s metódou zlatého rezu i s Fibonacciho metódou.**\n"
   ]
  },
  {
   "cell_type": "code",
   "execution_count": null,
   "metadata": {},
   "outputs": [],
   "source": []
  },
  {
   "cell_type": "markdown",
   "metadata": {},
   "source": [
    "**$\\clubsuit$ 5. Pre nižšie uvedené funkcie vykonajte nasledovné: znázornite ich gafy, nájdite ich minimá metódou bisekcie, zlatého rezu i Fibonacciho metódou. Porovnajte rýchlosť konvergencie (t.j. počty iterácií) a tiež počty vyčíslení účelovej funkcie u použitých  metód pri jednotlivých zadaných funkciách.** \n",
    "\n",
    "$$\\text{a) } f(x)=x^4+8x^3+24x^2+32x+16; \\qquad \\text{b) } g(x)=\\sin^2x; \\qquad \\text{c) } h(x)=\\cos^2x.$$"
   ]
  },
  {
   "cell_type": "code",
   "execution_count": null,
   "metadata": {},
   "outputs": [],
   "source": []
  },
  {
   "cell_type": "markdown",
   "metadata": {},
   "source": [
    "--- \n",
    "\n",
    "**$\\clubsuit$ 6. Naprogramujte Nelderovu-Meadovu metódu a približne určte minimum funkcie $f(x,y)$ s presnosťou $\\varepsilon_1=10^{-6}$, $\\varepsilon_2=10^{-8}$, ak je dané:** \n",
    "\n",
    "**a) $f(x,y)=x^2+5y^2+2xy-3x-y$, $x_0=[2.1,0.7]$;** \n",
    "\n",
    "**b) $f(x,y)=x^2+y^4+x-\\sin(xy)$, $x_0=[0,0]$;** \n",
    "\n",
    "**c) $f(x,y)=(x-y+xy)^2+x^2-xy+y^2+x$, $x_0=[0,0]$.** \n",
    "\n",
    "**Experimentujte s počiatočnými aproximáciami $x_0$ bodu minima $x^*$ funkcie $f$ a všímajte si konvergenciu uvažovanej numerickej metódy.**"
   ]
  },
  {
   "cell_type": "code",
   "execution_count": null,
   "metadata": {},
   "outputs": [],
   "source": []
  },
  {
   "cell_type": "markdown",
   "metadata": {},
   "source": [
    "--- \n",
    "\n",
    "**$\\clubsuit$ 7. Naprogramujte metódu najväčšieho spádu a určte minimum funkcie $f(x,y)$ s presnosťou $\\varepsilon=0.1$, ak je dané:** \n",
    "\n",
    "**a) $f(x,y)=x^4+y^4+x^2-2xy+y^2-x$, $x_0=[0,0]$;** \n",
    "\n",
    "**b) $f(x,y)=(x+y)^4+x^2+y^2-x$, $x_0=[1,1]$.** \n",
    " "
   ]
  },
  {
   "cell_type": "code",
   "execution_count": null,
   "metadata": {},
   "outputs": [],
   "source": []
  },
  {
   "cell_type": "markdown",
   "metadata": {},
   "source": [
    "--- \n",
    "\n",
    "**$\\clubsuit$ 8. Naprogramujte Newtonovu metódu a vypočítajte minimá funkcií z predchádzajúcej úlohy s presnosťou $\\varepsilon=10^{-6}$, pričom výsledky z predchádzajúcej úlohy použite ako počiatočné aproximácie pre Newtonovu metódu. Experimentujte s presnosťou $\\varepsilon$ a všímajte si konvergenciu uvažovanej numerickej metódy. Pre porovnanie naprogramujte i DFP a BFGS metódu.** "
   ]
  },
  {
   "cell_type": "code",
   "execution_count": null,
   "metadata": {},
   "outputs": [],
   "source": []
  },
  {
   "cell_type": "markdown",
   "metadata": {},
   "source": [
    "**9. Pre uvedené funkcie zrealizujte nasledovné: vykreslite ich grafy vrátane vrstevníc, s dostatočnou presnosťou nájdite ich minimá metódou najväčšieho spádu, pričom najprv použite analyticky vypočítaný gradient a následne pre porovnanie i numericky vypočítaný gradient. Úlohy riešte s ukončovacou podmienkou na veľkosť gradientu a tiež na dĺžku kroku. Pre porovnanie vyriešte jednotlivé úlohy aj metódou združených gradientov.** \n",
    "\n",
    "$$\\text{a) } f(x_1,x_2)=x_1^2+x_2^2; \\qquad \\text{b) } f(x_1,x_2)=x_1^4+x_1^2+x_2^2; \\qquad \\text{c) } f(x_1,x_2)=100x_1^4+x_2^2; \\qquad \\text{d) } f(x_1,x_2)=\\sin^2x_1+\\cos^2x_2;$$ \n",
    "\n",
    "$$\\text{e) } f(x_1,x_2)=\\left(x_1-x_2^2\\right)^2+(1-x_1)^2; \\qquad \\text{f) } f(x_1,x_2)=\\left(x_1-x_2^2\\right)^2+100(1-x_1)^2; \\qquad \\text{g) } f(x_1,x_2)=100\\left(x_1^3-x_2^2\\right)^2+(1-x_1)^2;$$ \n",
    "\n",
    "$$\\text{h) } f(x_1,x_2)=100\\left(x_1-x_2^2\\right)^2+(1-x_1)^2.$$"
   ]
  },
  {
   "cell_type": "code",
   "execution_count": null,
   "metadata": {},
   "outputs": [],
   "source": []
  },
  {
   "cell_type": "markdown",
   "metadata": {},
   "source": [
    "**10. Pre funkcie uvedené v úlohe 9 vykreslite grafy s vrstevnicami a nájdite minimá týchto funkcií aplikovaním Newtonovej metódy s analyticky vypočítaným gradientom i Hessiánom a následne pre porovnanie vyskúšajte i numerický výpočet gradientu a Hessiánu. Úlohy riešte s ukončovacou podmienkou na veľkosť gradientu a tiež na dĺžku kroku.**"
   ]
  },
  {
   "cell_type": "code",
   "execution_count": null,
   "metadata": {},
   "outputs": [],
   "source": []
  },
  {
   "cell_type": "markdown",
   "metadata": {},
   "source": [
    "**11. Pre funkcie uvedené v úlohe 9 vykreslite grafy s vrstevnicami a nájdite minimá týchto funkcií aplikovaním BFGS metódy. Úlohy riešte s ukončovacou podmienkou na veľkosť gradientu a tiež na dĺžku kroku.** "
   ]
  },
  {
   "cell_type": "code",
   "execution_count": null,
   "metadata": {},
   "outputs": [],
   "source": []
  },
  {
   "attachments": {
    "o24.PNG": {
     "image/png": "[encoded data removed]"
    },
    "o25.PNG": {
     "image/png": "[encoded data removed]"
    }
   },
   "cell_type": "markdown",
   "metadata": {},
   "source": [
    "---\n",
    "\n",
    "**12. Naprogramujte metódu najväčšieho spádu pre riešenie sústavy lineárnych rovníc (pozrite (20) v učebnom texte), kde položíte $\\mathbf{d}_k=\\mathbf{r}_k$. Zvoľte $\\varepsilon=10^{-5}$ a iteračný proces ukončite podmienkou $\\lVert\\mathbf{r}_k\\rVert_2<\\varepsilon\\lVert\\mathbf{b}\\rVert_2$.** \n",
    "\n",
    "**a) Koľko iterácií sa vykoná pri riešení nasledujúcej sústavy lineárnych rovníc?** \n",
    "\n",
    "![o24.PNG](attachment:o24.PNG) \n",
    "\n",
    "**b) Koľko iterácií je potrebných pri riešení sústavy $\\mathbf{K}\\mathbf{x}=\\mathbf{x}$, kde $\\mathbf{K}$ je matica rádu $n^2$ daná popisom nižšie a vektor $\\mathbf{b}$ má zložky $b_i$ v tvare $b_i=(n+1)^{-2}$, $i=1,2,\\ldots,n^2$. Voľte postupne $n=5,10,15,20,25$.** \n",
    "\n",
    "Konštrukcia riedkej matice $\\mathbf{K}$ (podobné veľké riedke matice vznikajú napr. pri numerickom riešení parciálnych diferenciálnych rovníc v inžinierskej praxi): \n",
    "\n",
    "Matica $\\mathbf{K}$ je blokovo-tridiagonálna matica zložená zo štvorcových submatíc rádu $n$ (tzv. bloky) $\\mathbf{B}$, $-\\mathbf{I}$, $\\mathbf{O}$, ktoré sú vo štvorcovej matici $\\mathbf{K}$ rádu $n^2$ rozmiestnené v troch diagonálach \n",
    "\n",
    "![o25.PNG](attachment:o25.PNG) \n",
    "\n",
    "\n"
   ]
  },
  {
   "attachments": {
    "o26.PNG": {
     "image/png": "[encoded data removed]"
    }
   },
   "cell_type": "markdown",
   "metadata": {},
   "source": [
    "Pritom $\\mathbf{I}$ je jednotková diagonálna matica, $\\mathbf{O}$ je štvorcová matica s nulovými prvkami a $\\mathbf{B}$ je tridiagonálna matica v tvare \n",
    "\n",
    "![o26.PNG](attachment:o26.PNG) \n"
   ]
  },
  {
   "attachments": {
    "o27.PNG": {
     "image/png": "[encoded data removed]"
    }
   },
   "cell_type": "markdown",
   "metadata": {},
   "source": [
    "Pre deväť rovníc vyzerá matica $\\mathbf{K}$ nasledovne: \n",
    "\n",
    "![o27.PNG](attachment:o27.PNG) \n"
   ]
  },
  {
   "cell_type": "code",
   "execution_count": null,
   "metadata": {},
   "outputs": [],
   "source": []
  },
  {
   "cell_type": "markdown",
   "metadata": {},
   "source": [
    "--- \n",
    "\n",
    "**13. Riešte predchádzajúcu úlohu s tým, že naprogramujete metódu združených gradientov pre riešenie sústav lineárnych rovníc (pozrite (20) v učebnom texte), kde položíte $\\mathbf{d}_0=\\mathbf{r}_0$ a $\\mathbf{d}_{k+1}$ pre $k\\ge0$ určíte zo vzťahu $\\mathbf{d}_{k+1}=\\mathbf{r}_{k+1}+\\beta_k\\mathbf{d}_k$, pričom $\\beta_k=\\left(\\mathbf{r}_{k+1}'\\mathbf{r}_{k+1}\\right)/\\left(\\mathbf{r}_k'\\mathbf{r}_k\\right)$.** \n"
   ]
  },
  {
   "cell_type": "code",
   "execution_count": null,
   "metadata": {},
   "outputs": [],
   "source": []
  },
  {
   "attachments": {
    "o28.PNG": {
     "image/png": "[encoded data removed]"
    }
   },
   "cell_type": "markdown",
   "metadata": {},
   "source": [
    "---\n",
    "\n",
    "**$\\clubsuit$ 14. Vhodnou numerickou metódou určte $x$ (podľa uvedeného obrázka), ktoré minimalizuje vzdialenosť $d$ - ide o vzdialenosť základne načrtnutej oblasti a jej stredu $C$ (resp. ťažiska).** \n",
    "\n",
    "![o28.PNG](attachment:o28.PNG) \n"
   ]
  },
  {
   "cell_type": "code",
   "execution_count": null,
   "metadata": {},
   "outputs": [],
   "source": []
  },
  {
   "attachments": {
    "o29.PNG": {
     "image/png": "[encoded data removed]"
    }
   },
   "cell_type": "markdown",
   "metadata": {},
   "source": [
    "--- \n",
    "\n",
    "**$\\clubsuit$ 15. Hárok kartónu je zložený pozdĺž prerušovaných čiar, aby vytvoril škatuľu s otvoreným vrchom. Ak má byť objem škatule $1\\,m^3$, určte rozmery $a$, $b$, pri ktorých by bolo spotrebované najmenšie množstvo kartónu. Výsledok overte analyticky.** \n",
    "\n",
    "![o29.PNG](attachment:o29.PNG) \n"
   ]
  },
  {
   "cell_type": "code",
   "execution_count": null,
   "metadata": {},
   "outputs": [],
   "source": []
  },
  {
   "attachments": {
    "o30.PNG": {
     "image/png": "[encoded data removed]"
    }
   },
   "cell_type": "markdown",
   "metadata": {},
   "source": [
    "--- \n",
    "\n",
    "**16. Valcová nádoba má kužeľové dno a otvorený vrch. Ak má byť objem $V$ nádoby rovný $1\\,m^3$ , nájdite s dostatočnou presnosťou približné rozmery $r$, $h$, $b$, ktoré minimalizujú povrch $S$ uvedenej nádoby. Všimnite si, že platí: $V=\\pi r^2\\left(\\dfrac{b}{3}+h\\right)$; $S=\\pi r\\left(2h+\\sqrt{b^2+r^2}\\right)$.** \n",
    "\n",
    "![o30.PNG](attachment:o30.PNG) \n"
   ]
  },
  {
   "cell_type": "code",
   "execution_count": null,
   "metadata": {},
   "outputs": [],
   "source": []
  },
  {
   "cell_type": "markdown",
   "metadata": {},
   "source": [
    "--- \n",
    "\n",
    "**$\\clubsuit$ 17. Nájdite bod hyperboly s rovnicou $y=1/x$ taký, aby bol čo najbližšie k bodu $[2,3]$.  Využite pri tom metódu zlatého rezu.** \n"
   ]
  },
  {
   "cell_type": "code",
   "execution_count": null,
   "metadata": {},
   "outputs": [],
   "source": []
  },
  {
   "cell_type": "markdown",
   "metadata": {},
   "source": [
    "--- \n",
    "\n",
    "**$\\clubsuit$ 18. Aplikujte Nelderovu-Meadovu i Newtonovu metódu na nájdenie minima funkcie $f(x,y)=e^{-x^2y^2}+(x-1)^2+(y-1)^2$. Vyskúšajte rôzne štartovacie podmienky a výsledky porovnajte. Koľko platných cifier viete dostať pomocou uvedených metód?**"
   ]
  },
  {
   "cell_type": "code",
   "execution_count": null,
   "metadata": {},
   "outputs": [],
   "source": []
  },
  {
   "cell_type": "markdown",
   "metadata": {},
   "source": [
    "--- \n",
    "\n",
    "**$\\clubsuit$ 19. Znázornite nižšie uvedené funkcie a aplikujte Newtonovu metódu na nájdenie ich miním s presnosťou na šesť desatinných miest (každá funkcia má dve minimá):** \n",
    "\n",
    "$$\\text{a) } f(x,y) = x^4+y^4+2x^2y^2+6xy-4x-4y+1 ; \\qquad \\text{b) } f(x,y) = x^6+y^6+3x^2y^2-x^2-y^2-2xy .$$\n"
   ]
  },
  {
   "cell_type": "code",
   "execution_count": null,
   "metadata": {},
   "outputs": [],
   "source": []
  },
  {
   "cell_type": "markdown",
   "metadata": {},
   "source": [
    "---\n",
    "\n",
    "**20. Aplikujte metódu najväčšieho spádu a tiež metódu združených gradientov na nájdenie miním funkcií z predošlej úlohy.** \n"
   ]
  },
  {
   "cell_type": "code",
   "execution_count": null,
   "metadata": {},
   "outputs": [],
   "source": []
  },
  {
   "cell_type": "markdown",
   "metadata": {},
   "source": [
    "--- \n",
    "\n",
    "**$\\clubsuit$ 21. Znázornite nižšie uvedené funkcie a pomocou metódy združených gradientov nájdite ich minimá s presnosťou na päť desatinných miest:** \n",
    "\n",
    "$$\\text{a) } f(x,y) = x^4+y^4+2x^2y^2+6xy-4x-4y+1 ; \\qquad \\text{b) } g(x,y) = x^6+y^6+3x^2y^2-x^2-y^2-2xy .$$"
   ]
  },
  {
   "cell_type": "code",
   "execution_count": null,
   "metadata": {},
   "outputs": [],
   "source": []
  },
  {
   "cell_type": "markdown",
   "metadata": {},
   "source": [
    "--- \n",
    "\n",
    "**22. Nájdite minimum Rosenbrockovej funkcie $f(x,y)=100\\left(y-x^2\\right)^2+(x-1)^2$ Newtonovou metódou a tiež metódou najväčšieho spádu. Štartovací bod zvoľte so súradnicami $[2,2]$. Po koľkých iteráciach sa riešenia prestanú spresňovať? Vysvetlite rozdiel v zistených presnostiach.** \n"
   ]
  },
  {
   "cell_type": "code",
   "execution_count": null,
   "metadata": {},
   "outputs": [],
   "source": []
  },
  {
   "cell_type": "markdown",
   "metadata": {},
   "source": [
    "--- \n",
    "\n",
    "**23. Pomocou dvoch vhodných metód nájdite s dostatočnou presnosťou minimum funkcie $F(x,y,z)=y^2z^2\\left(1+\\sin^2x\\right)+(y+1)^2(z+3)^2$ a tiež minimum funkcie $G(x,y,z)=z^2\\cos x +x^2y^2+x^2e^z$. Zvolené metódy porovnajte z hľadiska presnosti a rýchlosti konvergencie.** \n"
   ]
  },
  {
   "cell_type": "code",
   "execution_count": null,
   "metadata": {},
   "outputs": [],
   "source": []
  },
  {
   "cell_type": "markdown",
   "metadata": {},
   "source": [
    "--- \n",
    "\n",
    "<font color=purple> EXTRA: Naprogramujte (jednu) vybranú iteračnú optimalizačnú metódu na hľadanie extrémov funkcie tak, aby výsledkom bol interaktívny kód, kde bude možné nastaviť vstupné parametre, metódu odkrokovať a sledovať graficky, čo sa deje v jednotlivých iteráciách. V prípade korektného, okomentovaného kódu je možné získať 2 bonusové body. Za interaktívny kód pre každú ďalšiu metódu je možné získať po jednom bonusovom bode navyše. </font> "
   ]
  },
  {
   "cell_type": "code",
   "execution_count": null,
   "metadata": {},
   "outputs": [],
   "source": []
  }
 ],
 "metadata": {
  "kernelspec": {
   "display_name": "Python 3",
   "language": "python",
   "name": "python3"
  },
  "language_info": {
   "codemirror_mode": {
    "name": "ipython",
    "version": 3
   },
   "file_extension": ".py",
   "mimetype": "text/x-python",
   "name": "python",
   "nbconvert_exporter": "python",
   "pygments_lexer": "ipython3",
   "version": "3.7.4"
  },
  "varInspector": {
   "cols": {
    "lenName": 16,
    "lenType": 16,
    "lenVar": 40
   },
   "kernels_config": {
    "python": {
     "delete_cmd_postfix": "",
     "delete_cmd_prefix": "del ",
     "library": "var_list.py",
     "varRefreshCmd": "print(var_dic_list())"
    },
    "r": {
     "delete_cmd_postfix": ") ",
     "delete_cmd_prefix": "rm(",
     "library": "var_list.r",
     "varRefreshCmd": "cat(var_dic_list()) "
    }
   },
   "types_to_exclude": [
    "module",
    "function",
    "builtin_function_or_method",
    "instance",
    "_Feature"
   ],
   "window_display": false
  }
 },
 "nbformat": 4,
 "nbformat_minor": 2
}
