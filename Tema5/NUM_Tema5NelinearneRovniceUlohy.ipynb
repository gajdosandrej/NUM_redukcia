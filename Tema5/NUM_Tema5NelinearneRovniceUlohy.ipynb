{
 "cells": [
  {
   "cell_type": "markdown",
   "metadata": {},
   "source": [
    "**Autor:** Andrej Gajdoš  <br> \n",
    "_[Ústav matematických vied](https://www.upjs.sk/prirodovedecka-fakulta/ustav/umv/), [Prírodovedecká fakulta](https://www.upjs.sk/prirodovedecka-fakulta/), Univerzita Pavla Jozefa Šafárika v Košiciach,_ <br> \n",
    "email: [andrej.gajdos@upjs.sk](mailto:andrej.gajdos@upjs.sk)\n",
    "*** \n",
    "\n",
    "**_Tento materiál vznikol za podpory grantu VVGS-2022-2412._**\n",
    "\n",
    "***\n",
    "\n",
    "**<font size=6 color=gold> NUM: Téma 5 - Numerické riešenie nelineárnych rovníc: úlohy </font>** "
   ]
  },
  {
   "cell_type": "code",
   "execution_count": 1,
   "metadata": {},
   "outputs": [],
   "source": [
    "# nacitanie potrebnych balikov v Python-e \n",
    "import math \n",
    "import numpy as np \n",
    "import sympy as sym \n",
    "import scipy as sci \n",
    "from decimal import Decimal\n",
    "from matplotlib import pyplot as plt"
   ]
  },
  {
   "cell_type": "markdown",
   "metadata": {},
   "source": [
    "---\n",
    "\n",
    "**1. Naprogramujte v Python-e funkciu pre každú z preberaných iteračných metód na riešenie nelineárnej rovnice. Následne každú z funkcií aplikujte na rovnicu $x+e^x=0$, pričom hľadajte jej koreň na intervale $\\langle-1,0\\rangle$. Pri metóde prostej iterácie a tiež pri Newtonovej metóde zvoľte počiatočnú aproximáciu $x_0=-1$. Nechajte zbehnúť 20 iterácií pri každej metóde a potom metódy porovnajte. Výsledky vhodne okomentujte. Overte, či sú splnené podmienky pre konvergenciu metódy prostej iterácie.** \n",
    "\n",
    "Pomôcka: Nezabudnite na implementáciu zastavovacieho kritéria a s tým súvisiace nastavenie presnosti; myslite aj na to, že metóda môže divergovať či oscilovať; implementujte tiež možnosť výpisu výsledkov jednotlivých iterácií. "
   ]
  },
  {
   "cell_type": "code",
   "execution_count": null,
   "metadata": {},
   "outputs": [],
   "source": []
  },
  {
   "cell_type": "markdown",
   "metadata": {},
   "source": [
    "--- \n",
    "\n",
    "**2. Aplikujte metódu bisekcie na vyriešenie rovnice $\\mathrm{arctg}(x)=0$ na intervale $\\langle -4.9,5.1 \\rangle$. Pre každú iteráciu vypíšte nasledujúce hodnoty: $a_k$, $b_k$, $f(a_k)$, $f(b_k)$, $f(x_k)$. Uvedenú rovnicu vyriešte postupne pre $\\varepsilon\\in\\left\\{10^{-2},10^{-4},10^{-8},10^{-16},10^{-32},10^{-64},10^{-128}\\right\\}$. Pre každé $\\varepsilon$ z uvedenej množiny vypočítajte $k$, pri ktorom by sa mal algoritmus zastaviť. Aké správanie algoritmu pozorujete pre dané $\\varepsilon$ ? Viete to vysvetliť?**  \n"
   ]
  },
  {
   "cell_type": "code",
   "execution_count": null,
   "metadata": {},
   "outputs": [],
   "source": []
  },
  {
   "cell_type": "markdown",
   "metadata": {},
   "source": [
    "---\n",
    "\n",
    "**3. Predpokladajte, že $f\\in C\\langle a,b \\rangle$ má jediný nulový bod $x^*\\in \\langle a,b \\rangle$, $f(a)<0$ a $f(b)>0$. Definujeme dve postupnosti: $\\left\\{x_k\\right\\}_{k=0}^{\\infty}$, $\\left\\{y_k\\right\\}_{k=0}^{\\infty}$, pričom $x_0=a$, $y_0=b$, $k=1,2,3,\\ldots$, nasledovne:** \n",
    "\n",
    "* Ak $f\\left(\\dfrac{x_{k-1}+y_{k-1}}{2}\\right)<0$, tak $x_k=\\dfrac{x_{k-1}+y_{k-1}}{2}$ a $y_k=y_{k-1}$; \n",
    "\n",
    "\n",
    "* Ak $f\\left(\\dfrac{x_{k-1}+y_{k-1}}{2}\\right)\\ge0$, tak $y_k=\\dfrac{x_{k-1}+y_{k-1}}{2}$ a $x_k=x_{k-1}$. \n",
    "\n",
    "**Dokážte, že:** \n",
    "\n",
    "**a) $x^*\\in\\langle x_k,y_k\\rangle$, $f(x_k)<0$ a $f(y_k)>\\ge0$ pre $k=0,1,2,\\ldots$.**\n",
    "\n",
    "**b) $\\left|x_k-x^*\\right|\\le\\dfrac{b-a}{2^k}$ pre $k=0,1,2,\\ldots$.**"
   ]
  },
  {
   "cell_type": "code",
   "execution_count": null,
   "metadata": {},
   "outputs": [],
   "source": []
  },
  {
   "cell_type": "markdown",
   "metadata": {},
   "source": [
    "---\n",
    "\n",
    "**4. Uvažujte $g(x)=\\dfrac{1}{3}\\left[\\dfrac{x^3}{3}-x^2-\\dfrac{5}{4}x+4\\right]$ a $G=\\langle0,2\\rangle$. Aplikujte Vetu o kontraktívnom zobrazení pri dôkaze toho, že ak $x_0\\in G$, tak postupnosť definovaná vzťahom $x_{k+1}=g(x_k)$, $k=0,1,2,\\ldots$ konverguje k jedinému pevnému bodu $z\\in G$.** \n"
   ]
  },
  {
   "cell_type": "code",
   "execution_count": null,
   "metadata": {},
   "outputs": [],
   "source": []
  },
  {
   "cell_type": "markdown",
   "metadata": {},
   "source": [
    "--- \n",
    "\n",
    "**5. Nech $g(x)=e^{-x}$. Dokážte:** \n",
    "\n",
    "**a) $g(x)$ má jediný pevný bod $z\\in(-\\infty,\\infty)$;**\n",
    "\n",
    "**b) $g$ je kontraktívna funkcia na intervale $\\langle \\ln(1.1),\\ln(3)\\rangle$;** \n",
    "\n",
    "**c) $g:\\,\\langle \\ln(1.1),\\ln(3)\\rangle\\to\\langle \\ln(1.1),\\ln(3)\\rangle$;** \n",
    "\n",
    "**d) postupnosť daná vzťahom $x_{k+1}=g(x_k)$, $k=0,1,2,\\ldots$ konverguje k jedinému pevnému bodu $z\\in(-\\infty,\\infty)$ a to pre ľubovoľné $x_0\\in(-\\infty,\\infty)$.** "
   ]
  },
  {
   "cell_type": "code",
   "execution_count": null,
   "metadata": {},
   "outputs": [],
   "source": []
  },
  {
   "cell_type": "markdown",
   "metadata": {},
   "source": [
    "--- \n",
    "\n",
    "**6. Nech $f:\\,\\langle a,b \\rangle\\to\\mathbb{R}$ a $f\\in C^1\\langle a,b \\rangle$, pričom nech platí $f'(x)\\neq0$, $x\\in\\langle a,b \\rangle$. Ďalej nech $\\left\\{x_k\\right\\}_{k=0}^{\\infty}$ je postupnosť generovaná Newtonovou metódou, tzn. $x_k=x_{k-1}-\\dfrac{f(x_{k-1})}{f'(x_{k-1})}$. Za predpokladu, že $x_k\\in(a,b)$ a $\\lim\\limits_{k\\to\\infty}x_k=r$ dokážte, že $f(r)=0$, a ak $f'(x)\\neq0$ na $\\langle a,b \\rangle$, potom $|x_k-r|\\le\\underset{x\\in\\langle a,b \\rangle}{\\max}\\dfrac{|f(x_k)|}{f'(x)}$.** \n"
   ]
  },
  {
   "cell_type": "code",
   "execution_count": null,
   "metadata": {},
   "outputs": [],
   "source": []
  },
  {
   "cell_type": "markdown",
   "metadata": {},
   "source": [
    "--- \n",
    "\n",
    "**7. Popíšte, ako by sa pomocou Newtonovej metódy našla taká hodnota $x$, ktorá spĺňa rovnicu $\\displaystyle\\int\\limits_{0}^{x}e^{t^2}\\,\\mathrm{d}t=1$. Naprogramujte výpočet v Python-e.**\n",
    "\n"
   ]
  },
  {
   "cell_type": "code",
   "execution_count": null,
   "metadata": {},
   "outputs": [],
   "source": []
  },
  {
   "cell_type": "markdown",
   "metadata": {},
   "source": [
    "---\n",
    "\n",
    "**8. Metódou bisekce nájdite všetky korene rovnice $x-\\mathrm{tan}(x)=0$ na intervale $(0,20)$.**  "
   ]
  },
  {
   "cell_type": "code",
   "execution_count": null,
   "metadata": {},
   "outputs": [],
   "source": []
  },
  {
   "cell_type": "markdown",
   "metadata": {},
   "source": [
    "--- \n",
    "\n",
    "**9. Použite Newtonovu-Raphsonovu metódu na získanie postupných aproximácií pre $\\sqrt{2}$ ako pomeru dvoch celých čísel.** \n"
   ]
  },
  {
   "cell_type": "code",
   "execution_count": null,
   "metadata": {},
   "outputs": [],
   "source": []
  },
  {
   "cell_type": "markdown",
   "metadata": {},
   "source": [
    "---\n",
    "\n",
    "**10. Rýchlosť $v$ rakety Saturn V pri vertikálnom lete blízko zemského povrchu sa dá aproximovať pomocou vzťahu** \n",
    "\n",
    "$$v=u\\ln\\left(\\dfrac{M_0}{M_0-\\dot{m}t}\\right)-gt,$$ \n",
    "\n",
    "**kde** \n",
    "\n",
    "**$u=2510\\,m/s$ je rýchlosť výfukových plynov vzhľadom na raketu;** \n",
    "\n",
    "**$M_0=2.8\\times10^6\\,kg$ je hmotnosť rakety pri štarte;**\n",
    "\n",
    "**$\\dot{m}=13.3\\times10^3\\,kg/s$ je miera spotreby paliva;** \n",
    "\n",
    "**$g=9.81\\,m/s^2$ je gravitačné zrýchlenie;** \n",
    "\n",
    "**$t$ je čas meraný od vzletu (v sekundách).** \n",
    "\n",
    "**Určte čas, v ktorom raketa dosiahne rýchlosť zvuku, t.j. $335\\,m/s$.**"
   ]
  },
  {
   "cell_type": "code",
   "execution_count": null,
   "metadata": {},
   "outputs": [],
   "source": []
  },
  {
   "cell_type": "markdown",
   "metadata": {},
   "source": [
    "--- \n",
    "\n",
    "**11. Odhadnite minimálny počet iterácií potrebných na nájdenie približného riešenia rovnice $x^3+x-4=0$ na intervale $\\langle1,4\\rangle$ s presnosťou $10^{-3}$ pomocou metódy polenia intervalu. Nájdite toto riešenie s uvedenou presnosťou.** \n"
   ]
  },
  {
   "cell_type": "code",
   "execution_count": null,
   "metadata": {},
   "outputs": [],
   "source": []
  },
  {
   "attachments": {
    "o11.PNG": {
     "image/png": "[encoded data removed]"
    }
   },
   "cell_type": "markdown",
   "metadata": {},
   "source": [
    "--- \n",
    "\n",
    "**12. Žľab dĺžky $L$ má prierez v tvare polkruhu s polomerom $r$ (pozri priložený obrázok). Pri naplnení vodou do vzdialenosti $h$ od vrchu je objem $V$ vody daný vzťahom**\n",
    "\n",
    "![o11.PNG](attachment:o11.PNG) \n",
    "\n",
    "**Predpokladajte, že $L=10\\,ft$, $r=1\\,ft$ a $V=12.4ft^3$, kde $ft$ je jednotka dĺžky - v preklade stopa. Nájdite hĺbku vody v koryte s presnosťou $0.01$ stôp.**"
   ]
  },
  {
   "cell_type": "code",
   "execution_count": null,
   "metadata": {},
   "outputs": [],
   "source": []
  },
  {
   "cell_type": "markdown",
   "metadata": {},
   "source": [
    "--- \n",
    "\n",
    "**13. Rovnica $f(x)=x^3+4x^2-10=0$ má jediné riešenie v intervale $\\langle1,2\\rangle$. Nájdite 5 rôznych spôsobov ako previesť zadanú rovnicu na tvar $x=g(x)$, pričom pevný bod získaný metódou prostej iterácie z tvaru $x=g(x)$ bude riešením pôvodnej rovnice $f(x)=0$. Porovnajte rýchlosť konvergencie pre rôzne nájdené funkcie $g$.** \n",
    "\n"
   ]
  },
  {
   "cell_type": "code",
   "execution_count": null,
   "metadata": {},
   "outputs": [],
   "source": []
  },
  {
   "attachments": {
    "o12.PNG": {
     "image/png": "[encoded data removed]"
    }
   },
   "cell_type": "markdown",
   "metadata": {},
   "source": [
    "--- \n",
    "\n",
    "**14. Nasledujúce metódy postupných aproximácií sú určené na približný výpočet hodnoty $21^{1/3}$. Zvoľte $p_0=1$ a zoraďte tieto metódy podľa zdanlivej rýchlosti konvergencie.** \n",
    "\n",
    "![o12.PNG](attachment:o12.PNG) \n"
   ]
  },
  {
   "cell_type": "code",
   "execution_count": null,
   "metadata": {},
   "outputs": [],
   "source": []
  },
  {
   "cell_type": "markdown",
   "metadata": {},
   "source": [
    "--- \n",
    "\n",
    "**15. Zdôvodnite, že funkcia $g(x)=\\pi+0.5\\sin(x/2)$ má jediný pevný bod v intervale $\\langle0,2\\pi\\rangle$. Aplikujte metódu prostej iterácie na aproximáciu pevného bodu s presnosťou $10^{-2}$. Odhadnite aj teoreticky počet iterácií potrebných na aproximáciu pevného bodu s presnosťou $10^{-2}$. Teoretický výsledok porovnajte s praktickým výpočtom.**  \n"
   ]
  },
  {
   "cell_type": "code",
   "execution_count": null,
   "metadata": {},
   "outputs": [],
   "source": []
  },
  {
   "attachments": {
    "o13.PNG": {
     "image/png": "[encoded data removed]"
    }
   },
   "cell_type": "markdown",
   "metadata": {},
   "source": [
    "---\n",
    "\n",
    "**16. Pre každú z rovníc uvedených nižšie určte interval $\\langle a,b \\rangle$, na ktorom metóda prostej iterácie bude konvergovať.** \n",
    "\n",
    "**(i) Odhadnite počty iterácií potrebné na získanie aproximácií pevných bodov v jednotlivých prípadoch.** \n",
    "\n",
    "**(ii) Urobte odpovedajúce výpočty v Python-e.**\n",
    "\n",
    "![o13.PNG](attachment:o13.PNG) \n"
   ]
  },
  {
   "cell_type": "code",
   "execution_count": null,
   "metadata": {},
   "outputs": [],
   "source": []
  },
  {
   "cell_type": "markdown",
   "metadata": {},
   "source": [
    "--- \n",
    "\n",
    "**17.** \n",
    "\n",
    "**a) Dokážte, že postupnosť definovaná vzťahom $x_n=\\dfrac{1}{2}x_{n-1}+\\dfrac{1}{x_{n-1}}$, $n\\ge1$, konverguje k hodnote $\\sqrt{2}$ pre $x_0>\\sqrt{2}$.**\n",
    "\n",
    "**b) Využite fakt, že $0<\\left(x_0-\\sqrt{2}\\right)^2$ pre $x_0\\neq\\sqrt{2}$ a ukážte, že ak $0<x_0<\\sqrt{2}$, potom $x_1>\\sqrt{2}$.**\n",
    "\n",
    "**c) Využite výsledky z častí a), b) na dôkaz toho, že postupnosť definovaná v časti a), konverguje k hodnote $\\sqrt{2}$ pre $x_0>0$.** \n"
   ]
  },
  {
   "cell_type": "code",
   "execution_count": null,
   "metadata": {},
   "outputs": [],
   "source": []
  },
  {
   "cell_type": "markdown",
   "metadata": {},
   "source": [
    "--- \n",
    "\n",
    "**18. Použite dotyčnicovú metódu na numerické riešenie rovnice $0=\\dfrac{1}{2}+\\dfrac{1}{4}x^2-x\\sin{x}-\\dfrac{1}{2}\\cos{2x}$, pričom zvoľte štartovací bod $x_0=\\dfrac{\\pi}{2}$. Riešenie nájdite s presnosťou $10^{-5}$. Je na výsledku niečo nezvyčajné pre  dotyčnicovú metódu? Rovnicu vyriešte aj pre $x_0=5\\pi$ a $x_0=10\\pi$.** \n"
   ]
  },
  {
   "cell_type": "code",
   "execution_count": null,
   "metadata": {},
   "outputs": [],
   "source": []
  },
  {
   "cell_type": "markdown",
   "metadata": {},
   "source": [
    "--- \n",
    "\n",
    "**19. Rast populácie možno modelovať počas krátkych časových období za predpokladu, že populácia rastie nepretržite s časom,  rýchlosťou úmernou veľkosti populácie v tom čase. Nech $N(t)$ značí počet jedincov v čase $t$, ďalej $λ$ nech označuje konštantnú pôrodnosť obyvateľstva a nech $v$ zodpovedá konštantnej miere prisťahovalectva, potom populácia spĺňa diferenciálnu rovnicu $\\dfrac{\\mathrm{d}N(t)}{\\mathrm{d}t}=\\lambda N(t)+v$, ktorej riešením je vzťah $N(t)=N_0e^{\\lambda t}+\\dfrac{v}{\\lambda}\\left(e^{\\lambda t}-1\\right)$. Predpokladajme, že určitá populácia spočiatku obsahuje 1 000 000 jedincov, že 435 000 jedincov sa prisťahuje do komunity v prvom roku, a že na konci jedného roka je prítomných 1 564 000 jedincov. Aby sme určili pôrodnosť tejto populácie, je potrebné vyriešiť rovnicu $1564000=1000000e^\\lambda+\\dfrac{435000}{\\lambda}\\left(e^\\lambda-1\\right)$ vzhľadom na $\\lambda$, čo udáva mieru pôrodnosti v populácii. Nájdite $\\lambda$ s presnosťou $10^{-4}$ a použite nájdenú hodnotu na predikciu veľkosti populácie na konci druhého roka za predpokladu, že miera prisťahovalectva počas tohto roka ostane na úrovni 435 000 jedincov za rok.** \n",
    "\n"
   ]
  },
  {
   "cell_type": "code",
   "execution_count": null,
   "metadata": {},
   "outputs": [],
   "source": []
  },
  {
   "cell_type": "markdown",
   "metadata": {},
   "source": [
    "--- \n",
    "\n",
    "**20. Akumulovanú hodnotu sporiaceho účtu na základe pravidelných platieb je možné určiť z rovnice splatnej anuity $A=\\dfrac{P}{i}\\left[(1+i)^n-1\\right]$, kde $A$ je suma na účte, $P$ je pravidelne vkladaná suma a $i$ je úroková miera za obdobie pre $n$ vkladových období. Inžinier by chcel mať na sporiacom účte sumu 750 000 USD pri odchode do dôchodku o 20 rokov a môže si dovoliť posielať 1 500 USD mesačne na dosiahnutie tohto cieľa. Aká je minimálna úroková sadzba, pri ktorej je možné túto sumu investovať, za predpokladu, že ide o zložené mesačné úrokovanie?**"
   ]
  },
  {
   "cell_type": "code",
   "execution_count": null,
   "metadata": {},
   "outputs": [],
   "source": []
  },
  {
   "attachments": {
    "o14.PNG": {
     "image/png": "[encoded data removed]"
    }
   },
   "cell_type": "markdown",
   "metadata": {},
   "source": [
    "--- \n",
    "\n",
    "**21. V budove sa dve pretínajúce sa haly so šírkami $w_1 = 9$ stôp a $w_2 = 7$ stôp stretávajú pod uhlom $\\alpha = 125°$, ako je znázornené na obrázku:** \n",
    "\n",
    "![o14.PNG](attachment:o14.PNG) \n",
    "\n",
    "**Ak predpokladáme dvojrozmernú situáciu, aká je najdlhšia doska, ktorá dokáže prejsť s vytočením? Ignorujte hrúbku dosky. Vzťah medzi uhlami $\\alpha,\\beta,\\gamma$ a dĺžkou dosky $l = l_1 + l_2$ je  $l_1 = w_1\\mathrm{csc}(\\beta)$, $l_2 = w_2\\mathrm{csc}(\\gamma)$, $\\beta = \\pi − \\alpha − \\gamma$ a $l = w_1\\mathrm{csc}(\\pi − \\alpha − \\gamma) + w_2\\mathrm{csc}(\\gamma)$. Maximálna dĺžka dosky, ktorá sa dokáže vytočiť, sa zistí minimalizáciou $l$ ako funkcie $\\gamma$. Ak zderivujeme a položíme $\\mathrm{d}l/\\mathrm{d}\\gamma = 0$, dostaneme rovnicu** \n",
    "\n",
    "$$w_1\\mathrm{cotg}(\\pi-\\alpha-\\gamma)\\mathrm{csc}(\\pi-\\alpha-\\gamma)-w_2\\mathrm{cotg}(\\gamma)\\mathrm{csc}(\\gamma)=0.$$ \n",
    "\n",
    "**Dosaďte známe hodnoty a numericky vyriešte nelineárnu rovnicu.** "
   ]
  },
  {
   "cell_type": "code",
   "execution_count": null,
   "metadata": {},
   "outputs": [],
   "source": []
  },
  {
   "cell_type": "markdown",
   "metadata": {},
   "source": [
    "--- \n",
    "\n",
    "**22. Nájdite obdĺžnik maximálnej plochy, ak jeho vrcholy majú byť v bodoch $[0,0]$, $[x,0]$, $[x,\\cos(x)]$, $[0,\\cos(x)]$. Predpokladajte, že $0\\le x \\le \\pi/2$.** \n",
    " "
   ]
  },
  {
   "cell_type": "code",
   "execution_count": null,
   "metadata": {},
   "outputs": [],
   "source": []
  },
  {
   "cell_type": "markdown",
   "metadata": {},
   "source": [
    "--- \n",
    "\n",
    "**23. Klient banky na začiatku každého roka vloží do investičného fondu $v$ eur a na konci $n$-tého roka vyberie kapitál vo výške $M$ eur. Chceme vypočítať priemernú ročnú úrokovú sadzbu $r$ tejto investície. Keďže $M$ súvisí s $r$ nasledovne** \n",
    "\n",
    "$$M=v\\displaystyle\\sum\\limits_{k=1}^{n}(1+r)^k=v\\dfrac{1+r}{r}\\left[(1+r)^n-1\\right],$$ \n",
    "\n",
    "**tak hľadané $r$ je vlastne koreňom rovnice $f(r)=M-v\\dfrac{1+r}{r}\\left[(1+r)^n-1\\right]$.** \n",
    "\n",
    "**Pomocou Newtonovej metódy nájdite priemernú ročnú úrokovú sadzbu $r$ s toleranciou $10^{-12}$, ak $M=6000$ eur, $v=1000$ eur a $n=5$ rokov. Ako štartovací bod Newtonovej metódy vezmite výsledok získaný metódou bisekcie po piatich iteráciách s počiatočným intervalom $\\langle0.01,0.1\\rangle$.**"
   ]
  },
  {
   "cell_type": "code",
   "execution_count": null,
   "metadata": {},
   "outputs": [],
   "source": []
  },
  {
   "cell_type": "markdown",
   "metadata": {},
   "source": [
    "---\n",
    "\n",
    "<font color=purple> EXTRA: Naprogramujte (jednu) vybranú iteračnú metódu na riešenie nelineárnej rovnice tak, aby výsledkom bol interaktívny kód, kde bude možné nastaviť vstupné parametre, metódu odkrokovať a sledovať graficky, čo sa deje v jednotlivých iteráciách. V prípade korektného, okomentovaného kódu je možné získať 2 bonusové body. Za interaktívny kód pre každú ďalšiu metódu je možné získať po jednom bonusovom bode navyše. </font> "
   ]
  },
  {
   "cell_type": "code",
   "execution_count": null,
   "metadata": {},
   "outputs": [],
   "source": []
  },
  {
   "cell_type": "markdown",
   "metadata": {},
   "source": [
    "---\n",
    "\n",
    "<font color=purple> EXTRA: Naprogramujte procedúru pre tzv. kombinovanú metódu (spojenie metódy bisekcie a Newtonovej metódy). Následne porovnajte presnosť a rýchlost konvergencie tejto metódy s obyčajnou metódou bisekcie a s obyčajnou Newtonovou metódou. Za správny, komentovaný kód a ilustračné príklady ukazujúce benefity kombinovanej metódy je možné získať 2 bonusové body. </font> "
   ]
  },
  {
   "cell_type": "code",
   "execution_count": null,
   "metadata": {},
   "outputs": [],
   "source": []
  }
 ],
 "metadata": {
  "kernelspec": {
   "display_name": "Python 3 (ipykernel)",
   "language": "python",
   "name": "python3"
  },
  "language_info": {
   "codemirror_mode": {
    "name": "ipython",
    "version": 3
   },
   "file_extension": ".py",
   "mimetype": "text/x-python",
   "name": "python",
   "nbconvert_exporter": "python",
   "pygments_lexer": "ipython3",
   "version": "3.9.13"
  },
  "varInspector": {
   "cols": {
    "lenName": 16,
    "lenType": 16,
    "lenVar": 40
   },
   "kernels_config": {
    "python": {
     "delete_cmd_postfix": "",
     "delete_cmd_prefix": "del ",
     "library": "var_list.py",
     "varRefreshCmd": "print(var_dic_list())"
    },
    "r": {
     "delete_cmd_postfix": ") ",
     "delete_cmd_prefix": "rm(",
     "library": "var_list.r",
     "varRefreshCmd": "cat(var_dic_list()) "
    }
   },
   "types_to_exclude": [
    "module",
    "function",
    "builtin_function_or_method",
    "instance",
    "_Feature"
   ],
   "window_display": false
  }
 },
 "nbformat": 4,
 "nbformat_minor": 2
}
