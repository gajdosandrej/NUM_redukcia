{
 "cells": [
  {
   "cell_type": "markdown",
   "metadata": {},
   "source": [
    "**Autor:** Andrej Gajdoš  <br> \n",
    "_[Ústav matematických vied](https://www.upjs.sk/prirodovedecka-fakulta/ustav/umv/), [Prírodovedecká fakulta](https://www.upjs.sk/prirodovedecka-fakulta/), Univerzita Pavla Jozefa Šafárika v Košiciach,_ <br> \n",
    "email: [andrej.gajdos@upjs.sk](mailto:andrej.gajdos@upjs.sk)\n",
    "*** \n",
    "\n",
    "**_Tento materiál vznikol za podpory grantu VVGS-2022-2412._**\n",
    "\n",
    "***\n",
    "\n",
    "**<font size=6 color=gold> NUM: Téma 5 - Numerické riešenie nelineárnych rovníc: úlohy k učebnému textu </font>** "
   ]
  },
  {
   "cell_type": "code",
   "execution_count": null,
   "metadata": {},
   "outputs": [],
   "source": [
    "# nacitanie potrebnych balikov v Python-e \n",
    "import math \n",
    "import numpy as np \n",
    "import sympy as sym \n",
    "import scipy as sci \n",
    "from decimal import Decimal\n",
    "from matplotlib import pyplot as plt"
   ]
  },
  {
   "cell_type": "markdown",
   "metadata": {},
   "source": [
    "--- \n",
    "\n",
    "**1. Nájdite zvyšné korene rovnice z Príkladu 2. Postup odkrokujte (aspoň v Pythone - môžete využiť kód z Príkladu 2) a riešenie porovnajte s riešením pomocou balíka *SciPy*. Korene hľadajte s absolútnou chybou nepresahujúcou hodnotu $10^{-3}$.** "
   ]
  },
  {
   "cell_type": "code",
   "execution_count": null,
   "metadata": {},
   "outputs": [],
   "source": []
  },
  {
   "cell_type": "markdown",
   "metadata": {},
   "source": [
    "--- \n",
    "\n",
    "**2. Zreprodukujte výpočet (resp. tabuľku) z Príkladu 7 v Python-e.**"
   ]
  },
  {
   "cell_type": "code",
   "execution_count": null,
   "metadata": {},
   "outputs": [],
   "source": []
  },
  {
   "cell_type": "markdown",
   "metadata": {},
   "source": [
    "---\n",
    "\n",
    "**3. Odkrokujte (v Python-e) výpočet z Príkladu 14.** \n"
   ]
  },
  {
   "cell_type": "code",
   "execution_count": null,
   "metadata": {},
   "outputs": [],
   "source": []
  },
  {
   "cell_type": "markdown",
   "metadata": {},
   "source": [
    "--- \n",
    "\n",
    "**4. Odkrokujte (v Python-e) výpočet z Príkladu 15.**"
   ]
  },
  {
   "cell_type": "code",
   "execution_count": null,
   "metadata": {},
   "outputs": [],
   "source": []
  },
  {
   "cell_type": "markdown",
   "metadata": {},
   "source": [
    "--- \n",
    "\n",
    "**5. Odkrokujte (v Python-e) výpočet z Príkladu 16 a znázornite graficky absolútnu chybu v závislosti od iterácie.** "
   ]
  },
  {
   "cell_type": "code",
   "execution_count": null,
   "metadata": {},
   "outputs": [],
   "source": []
  },
  {
   "cell_type": "markdown",
   "metadata": {},
   "source": [
    "**6. Aké <font color=red> konkrétne </font> otázky máte k náplni študijných materiálov, ktoré by ste chceli na hodine prediskutovať?**"
   ]
  },
  {
   "cell_type": "code",
   "execution_count": null,
   "metadata": {},
   "outputs": [],
   "source": []
  }
 ],
 "metadata": {
  "kernelspec": {
   "display_name": "Python 3 (ipykernel)",
   "language": "python",
   "name": "python3"
  },
  "language_info": {
   "codemirror_mode": {
    "name": "ipython",
    "version": 3
   },
   "file_extension": ".py",
   "mimetype": "text/x-python",
   "name": "python",
   "nbconvert_exporter": "python",
   "pygments_lexer": "ipython3",
   "version": "3.9.13"
  },
  "varInspector": {
   "cols": {
    "lenName": 16,
    "lenType": 16,
    "lenVar": 40
   },
   "kernels_config": {
    "python": {
     "delete_cmd_postfix": "",
     "delete_cmd_prefix": "del ",
     "library": "var_list.py",
     "varRefreshCmd": "print(var_dic_list())"
    },
    "r": {
     "delete_cmd_postfix": ") ",
     "delete_cmd_prefix": "rm(",
     "library": "var_list.r",
     "varRefreshCmd": "cat(var_dic_list()) "
    }
   },
   "types_to_exclude": [
    "module",
    "function",
    "builtin_function_or_method",
    "instance",
    "_Feature"
   ],
   "window_display": false
  }
 },
 "nbformat": 4,
 "nbformat_minor": 2
}
